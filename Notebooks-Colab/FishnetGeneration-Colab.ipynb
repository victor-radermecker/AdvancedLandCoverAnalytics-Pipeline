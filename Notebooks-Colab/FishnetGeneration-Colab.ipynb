{
  "cells": [
    {
      "cell_type": "markdown",
      "metadata": {
        "id": "view-in-github",
        "colab_type": "text"
      },
      "source": [
        "<a href=\"https://colab.research.google.com/github/victor-radermecker/Capstone_JPMorgan/blob/conv-lstm/Notebooks-Colab/FishnetGeneration-Colab.ipynb\" target=\"_parent\"><img src=\"https://colab.research.google.com/assets/colab-badge.svg\" alt=\"Open In Colab\"/></a>"
      ]
    },
    {
      "cell_type": "code",
      "source": [
        "!pip install -q geopandas pillow"
      ],
      "metadata": {
        "id": "hhBrXywdtRP5"
      },
      "execution_count": 1,
      "outputs": []
    },
    {
      "cell_type": "code",
      "execution_count": 3,
      "metadata": {
        "id": "rjlfPwngrAor"
      },
      "outputs": [],
      "source": [
        "import ee\n",
        "import sys\n",
        "import warnings\n",
        "from tqdm import tqdm\n",
        "warnings.filterwarnings('ignore')"
      ]
    },
    {
      "cell_type": "code",
      "execution_count": 4,
      "metadata": {
        "id": "5b7AL8M_rAou",
        "outputId": "91ad7564-0bfd-467a-88cb-49dd1f7e8130",
        "colab": {
          "base_uri": "https://localhost:8080/"
        }
      },
      "outputs": [
        {
          "output_type": "stream",
          "name": "stdout",
          "text": [
            "To authorize access needed by Earth Engine, open the following URL in a web browser and follow the instructions. If the web browser does not start automatically, please manually browse the URL below.\n",
            "\n",
            "    https://code.earthengine.google.com/client-auth?scopes=https%3A//www.googleapis.com/auth/earthengine%20https%3A//www.googleapis.com/auth/devstorage.full_control&request_id=3Pqvg7TaCx6jXQA-uN4IK5Mk7ofHqxlWUlj3s_aQ5_A&tc=HrDS4e5RHaIxaORI3jNKFeopO-NQ0s6M94bOQ5GVK7k&cc=Nu3mX8lFSz4on210mQCMoGcKuuuHDomJRUjm6G0WRJU\n",
            "\n",
            "The authorization workflow will generate a code, which you should paste in the box below.\n",
            "Enter verification code: 4/1AZEOvhWm4dByMxa2nCAFZpmHHW23syUn5KnjSKiPKeCnel0L5cZDIZSUiNg\n",
            "\n",
            "Successfully saved authorization token.\n"
          ]
        }
      ],
      "source": [
        "ee.Authenticate()\n"
      ]
    },
    {
      "cell_type": "code",
      "source": [
        "from google.colab import drive\n",
        "drive.mount('/content/drive', force_remount = True)"
      ],
      "metadata": {
        "colab": {
          "base_uri": "https://localhost:8080/"
        },
        "id": "wY-WELGpAPcC",
        "outputId": "132241e4-6c73-46d0-b32e-c52467100ff9"
      },
      "execution_count": 5,
      "outputs": [
        {
          "output_type": "stream",
          "name": "stdout",
          "text": [
            "Mounted at /content/drive\n"
          ]
        }
      ]
    },
    {
      "cell_type": "markdown",
      "metadata": {
        "id": "gGcJdl4qrAow"
      },
      "source": [
        "\n",
        "\n",
        "# Loading packages\n",
        "\n"
      ]
    },
    {
      "cell_type": "code",
      "execution_count": 6,
      "metadata": {
        "id": "PdHxeWgArAox"
      },
      "outputs": [],
      "source": [
        "# import local modules\n",
        "import sys\n",
        "sys.path.append('/content/drive/MyDrive/src')\n",
        "\n",
        "from Fishnet import Fishnet\n",
        "from ImageExporter import ImageExporter\n",
        "from ImageCorrector import ImageCorrector\n",
        "from ImageProcessor import ImageProcessor\n",
        "\n",
        "# update files automatically\n",
        "%load_ext autoreload\n",
        "%autoreload 2\n",
        "\n",
        "# Authenticate to Earth Engine\n",
        "ee.Initialize(project=\"jpmorgancapstone\")"
      ]
    },
    {
      "cell_type": "markdown",
      "metadata": {
        "id": "ckWCabw0rAoy"
      },
      "source": [
        "# Fishnet\n",
        "\n",
        "First, we can generate the fishnet using the following code.\n",
        "\n",
        "- We instantiate a `Fishnet` object\n",
        "- We generate the fishnet\n",
        "- We aggregated the fishnet into batches corresponding to the images to extract froom the GoogleEarth Engine"
      ]
    },
    {
      "cell_type": "code",
      "source": [
        "coords = {\n",
        "    \"Train\": [-99.13, 28.91, -94.29, 31.1],\n",
        "    \"Valid\": [-87.1731, 32.769, -83.883, 34.3718],\n",
        "    \"Test\": [-80.1731, 35.269, -76.883, 36.8718]\n",
        "}"
      ],
      "metadata": {
        "id": "g4BcJpKfeJY-"
      },
      "execution_count": 7,
      "outputs": []
    },
    {
      "cell_type": "code",
      "source": [
        "dataset = \"Valid\""
      ],
      "metadata": {
        "id": "JD6CRAtMeiT0"
      },
      "execution_count": 8,
      "outputs": []
    },
    {
      "cell_type": "code",
      "execution_count": 9,
      "metadata": {
        "id": "OPBdNDZTrAoz",
        "outputId": "986b563a-ef0f-43d6-8896-fbf2895d382d",
        "colab": {
          "base_uri": "https://localhost:8080/"
        }
      },
      "outputs": [
        {
          "output_type": "stream",
          "name": "stdout",
          "text": [
            "Using Coordinates to initialize fishnet.\n"
          ]
        },
        {
          "output_type": "stream",
          "name": "stderr",
          "text": [
            "100%|██████████| 443/443 [00:11<00:00, 40.15it/s]\n"
          ]
        },
        {
          "output_type": "stream",
          "name": "stdout",
          "text": [
            "Generating polygons...\n",
            "Success. Fishnet created.\n",
            "\n",
            " Fishnet Object has the following attributes: \n",
            "\n",
            "+----------------+-----------------------+--------------------+\n",
            "|     Metric     |        Degrees        |       Miles        |\n",
            "+----------------+-----------------------+--------------------+\n",
            "| Fishnet Width  |   3.2901000000000096  | 191.14745677543343 |\n",
            "| Fishnet Height |   1.602800000000002   | 110.74274567022925 |\n",
            "|  Tiles Width   | 0.0043030794894178825 |        0.25        |\n",
            "|  Tiles Height  |  0.00361828558317967  |        0.25        |\n",
            "+----------------+-----------------------+--------------------+\n"
          ]
        }
      ],
      "source": [
        "# Generate a fishnet using a shapefile\n",
        "fishnet_creator_example = Fishnet(\n",
        "    tile_size_miles=0.25,\n",
        "    coordinates=coords[dataset],#None,\n",
        "    shapefile_path=None, #\"/content/drive/MyDrive/Code/Gis/Texas_State_Boundary/State.shp\",\n",
        "    clip=False,\n",
        "    overlay_method=None,\n",
        ")\n",
        "\n",
        "fishnet_creator_example.create_fishnet()"
      ]
    },
    {
      "cell_type": "code",
      "execution_count": 10,
      "metadata": {
        "id": "r6D5MPMurAo2",
        "outputId": "644eed96-e85b-4560-e1a0-58ce881308c0",
        "colab": {
          "base_uri": "https://localhost:8080/"
        }
      },
      "outputs": [
        {
          "output_type": "stream",
          "name": "stdout",
          "text": [
            "Batching fishnet... \n",
            "\n",
            "Success. Fishnet batched.\n",
            "\n",
            "Fishnet Batch has the following attributes: \n",
            "\n",
            "+---------+--------+---------+\n",
            "|  Metric | Tiles  | Batches |\n",
            "+---------+--------+---------+\n",
            "|   Rows  |  443   |    7    |\n",
            "| Columns |  765   |    12   |\n",
            "|  Cells  | 338895 |    84   |\n",
            "+---------+--------+---------+\n",
            "+--------------+---------------------+-------+\n",
            "|    Metric    |       Degrees       | Miles |\n",
            "+--------------+---------------------+-------+\n",
            "| Batch Width  |  0.2753970873227445 |   16  |\n",
            "| Batch Height | 0.23157027732349889 |   16  |\n",
            "+--------------+---------------------+-------+\n"
          ]
        }
      ],
      "source": [
        "# creates batches of 4miles x 4miles\n",
        "fishnet_creator_example.batch(16)"
      ]
    },
    {
      "cell_type": "code",
      "source": [
        "a = fishnet_creator_example.fishnet\n",
        "\n",
        "len(a[a['batch_id'] == 0])"
      ],
      "metadata": {
        "colab": {
          "base_uri": "https://localhost:8080/"
        },
        "id": "JGxnf-7BAwai",
        "outputId": "85f6cb49-86f5-48e4-95a9-c315f8e29fd9"
      },
      "execution_count": null,
      "outputs": [
        {
          "output_type": "execute_result",
          "data": {
            "text/plain": [
              "256"
            ]
          },
          "metadata": {},
          "execution_count": 10
        }
      ]
    },
    {
      "cell_type": "code",
      "source": [
        "fishnet_creator_example.batch_width_degrees / fishnet_creator_example.tile_width_degrees"
      ],
      "metadata": {
        "id": "6OvkOCPlcA2f",
        "outputId": "80539592-3fb3-4d40-cbd1-12ee74ceaa1c",
        "colab": {
          "base_uri": "https://localhost:8080/"
        }
      },
      "execution_count": null,
      "outputs": [
        {
          "output_type": "execute_result",
          "data": {
            "text/plain": [
              "16.0"
            ]
          },
          "metadata": {},
          "execution_count": 15
        }
      ]
    },
    {
      "cell_type": "markdown",
      "metadata": {
        "id": "79_iP8M_7CyG"
      },
      "source": [
        "# Verification\n",
        "Check if each tile is fully included within one batch"
      ]
    },
    {
      "cell_type": "code",
      "execution_count": 10,
      "metadata": {
        "id": "dNymGSl47CyH",
        "outputId": "b1161341-4e3e-4773-e745-3e8200be14a4",
        "colab": {
          "base_uri": "https://localhost:8080/"
        }
      },
      "outputs": [
        {
          "output_type": "stream",
          "name": "stderr",
          "text": [
            "100%|██████████| 338895/338895 [00:46<00:00, 7356.35it/s]\n"
          ]
        }
      ],
      "source": [
        "res = []\n",
        "from tqdm import tqdm\n",
        "\n",
        "# Check if each geometry of \"fishnet.fishnet\" is contained in the corresponding \"fishnet.batches\"\n",
        "for i in tqdm(range(len(fishnet_creator_example.fishnet))):\n",
        "    row = fishnet_creator_example.fishnet.iloc[i]\n",
        "    batch_id = row['batch_id']\n",
        "\n",
        "    if not fishnet_creator_example.batches.geometry[batch_id].contains(fishnet_creator_example.fishnet.geometry[i]):\n",
        "        raise Exception(\"Batch {} does not contain fishnet tile {}\".format(batch_id, i))\n"
      ]
    },
    {
      "cell_type": "markdown",
      "metadata": {
        "id": "2yePyp3O7CyI"
      },
      "source": [
        "This function below allows to check whether each fishnet tile is fully included within each batch."
      ]
    },
    {
      "cell_type": "code",
      "execution_count": null,
      "metadata": {
        "id": "HFPkqT4G7CyK"
      },
      "outputs": [],
      "source": [
        "fishnet_creator_example.plot_batch_tiles(batch_id=0)"
      ]
    },
    {
      "cell_type": "code",
      "execution_count": null,
      "metadata": {
        "id": "hLtogC0t7CyL",
        "outputId": "72378489-db4a-4765-a84f-d31047069db0",
        "colab": {
          "base_uri": "https://localhost:8080/",
          "height": 848
        }
      },
      "outputs": [
        {
          "output_type": "display_data",
          "data": {
            "text/plain": [
              "<Figure size 1000x1000 with 1 Axes>"
            ],
            "image/png": "[encoded data removed]"
          },
          "metadata": {}
        }
      ],
      "source": [
        "fishnet_creator_example.plot_batch_tile(batch_id=29, tile_id=46245)"
      ]
    },
    {
      "cell_type": "code",
      "source": [
        "fishnet_creator_example.batch_cols"
      ],
      "metadata": {
        "colab": {
          "base_uri": "https://localhost:8080/"
        },
        "id": "j9sjEEemTcn4",
        "outputId": "603bbe76-f30d-4be3-fb7a-68c676b76f10"
      },
      "execution_count": null,
      "outputs": [
        {
          "output_type": "execute_result",
          "data": {
            "text/plain": [
              "205"
            ]
          },
          "metadata": {},
          "execution_count": 32
        }
      ]
    },
    {
      "cell_type": "code",
      "execution_count": null,
      "metadata": {
        "id": "e2Dpg2gI7CyM",
        "outputId": "0622c9ee-edf3-4459-bcc7-4ed21e8b1e5a",
        "colab": {
          "base_uri": "https://localhost:8080/"
        }
      },
      "outputs": [
        {
          "output_type": "stream",
          "name": "stdout",
          "text": [
            "Can't plot filtered fishnet for more than 10,000 tiles. Please try with a smaller fishnet.\n"
          ]
        }
      ],
      "source": [
        "fishnet_creator_example.plot_fishnet()"
      ]
    },
    {
      "cell_type": "markdown",
      "metadata": {
        "id": "qIBHwkrYrAo-"
      },
      "source": [
        "# Save the fishnet object"
      ]
    },
    {
      "cell_type": "code",
      "execution_count": null,
      "metadata": {
        "id": "NmxoGOn0rAo_"
      },
      "outputs": [],
      "source": [
        "fishnet_creator_example.save('/content/drive/MyDrive/Code/Gis/Fishnet/fishnet_quarter_mile.pkl')"
      ]
    },
    {
      "cell_type": "markdown",
      "metadata": {
        "id": "T_qemnsoCra8"
      },
      "source": [
        "# Filter the fishnet\n",
        "\n",
        "We can filter the `Fishnet` to one specific region to avoid working on the whole area, simply to increase computational speed."
      ]
    },
    {
      "cell_type": "code",
      "execution_count": null,
      "metadata": {
        "id": "uGd1Djm87CyP"
      },
      "outputs": [],
      "source": [
        "region = [-99.13, 28.91, -94.29, 31.1]\n",
        "\n",
        "# Filter the fishnet by the larger bounding box\n",
        "fishnet_creator_example.filter_fishnet_by_bbox(region)"
      ]
    },
    {
      "cell_type": "code",
      "execution_count": null,
      "metadata": {
        "id": "varfoPqh7CyP",
        "outputId": "c5f04991-7a38-44cd-9693-33273dc311ca",
        "colab": {
          "base_uri": "https://localhost:8080/"
        }
      },
      "outputs": [
        {
          "output_type": "stream",
          "name": "stdout",
          "text": [
            "Can't plot filtered fishnet for more than 10,000 tiles. Please try with a smaller fishnet.\n"
          ]
        }
      ],
      "source": [
        "fishnet_creator_example.plot_filtered_fishnet()"
      ]
    },
    {
      "cell_type": "markdown",
      "source": [
        "# Process neighbors"
      ],
      "metadata": {
        "id": "QRW-JnHZAvb8"
      }
    },
    {
      "cell_type": "code",
      "source": [
        "fishnet_creator_example.compute_neighbors()"
      ],
      "metadata": {
        "id": "vp2yCAMXAyVQ",
        "outputId": "a7534aff-9ba4-4b0f-a6cf-77cf87aad877",
        "colab": {
          "base_uri": "https://localhost:8080/"
        }
      },
      "execution_count": 9,
      "outputs": [
        {
          "output_type": "stream",
          "name": "stderr",
          "text": [
            "Computing neighbors...: 765it [00:04, 153.71it/s]\n"
          ]
        },
        {
          "output_type": "stream",
          "name": "stdout",
          "text": [
            "All neighbors computed successfully.\n"
          ]
        }
      ]
    },
    {
      "cell_type": "code",
      "source": [
        "fishnet_creator_example.plot_neighbor(3569)"
      ],
      "metadata": {
        "id": "Rcad8c2kB9Ts",
        "colab": {
          "base_uri": "https://localhost:8080/",
          "height": 1000
        },
        "outputId": "6d82e17c-5b98-496d-8206-e248a98c14a6"
      },
      "execution_count": 10,
      "outputs": [
        {
          "output_type": "display_data",
          "data": {
            "text/plain": [
              "<folium.folium.Map at 0x79efa13b6fe0>"
            ],
            "text/html": [
              "<div style=\"width:100%;\"><div style=\"position:relative;width:100%;height:0;padding-bottom:60%;\"><span style=\"color:#565656\">Make this Notebook Trusted to load map: File -> Trust Notebook</span><iframe srcdoc=\"&lt;!DOCTYPE html&gt;\n",
              "&lt;html&gt;\n",
              "&lt;head&gt;\n",
              "    \n",
              "    &lt;meta http-equiv=&quot;content-type&quot; content=&quot;text/html; charset=UTF-8&quot; /&gt;\n",
              "    \n",
              "        &lt;script&gt;\n",
              "            L_NO_TOUCH = false;\n",
              "            L_DISABLE_3D = false;\n",
              "        &lt;/script&gt;\n",
              "    \n",
              "    &lt;style&gt;html, body {width: 100%;height: 100%;margin: 0;padding: 0;}&lt;/style&gt;\n",
              "    &lt;style&gt;#map {position:absolute;top:0;bottom:0;right:0;left:0;}&lt;/style&gt;\n",
              "    &lt;script src=&quot;https://cdn.jsdelivr.net/npm/leaflet@1.9.3/dist/leaflet.js&quot;&gt;&lt;/script&gt;\n",
              "    &lt;script src=&quot;https://code.jquery.com/jquery-1.12.4.min.js&quot;&gt;&lt;/script&gt;\n",
              "    &lt;script src=&quot;https://cdn.jsdelivr.net/npm/bootstrap@5.2.2/dist/js/bootstrap.bundle.min.js&quot;&gt;&lt;/script&gt;\n",
              "    &lt;script src=&quot;https://cdnjs.cloudflare.com/ajax/libs/Leaflet.awesome-markers/2.0.2/leaflet.awesome-markers.js&quot;&gt;&lt;/script&gt;\n",
              "    &lt;link rel=&quot;stylesheet&quot; href=&quot;https://cdn.jsdelivr.net/npm/leaflet@1.9.3/dist/leaflet.css&quot;/&gt;\n",
              "    &lt;link rel=&quot;stylesheet&quot; href=&quot;https://cdn.jsdelivr.net/npm/bootstrap@5.2.2/dist/css/bootstrap.min.css&quot;/&gt;\n",
              "    &lt;link rel=&quot;stylesheet&quot; href=&quot;https://netdna.bootstrapcdn.com/bootstrap/3.0.0/css/bootstrap.min.css&quot;/&gt;\n",
              "    &lt;link rel=&quot;stylesheet&quot; href=&quot;https://cdn.jsdelivr.net/npm/@fortawesome/fontawesome-free@6.2.0/css/all.min.css&quot;/&gt;\n",
              "    &lt;link rel=&quot;stylesheet&quot; href=&quot;https://cdnjs.cloudflare.com/ajax/libs/Leaflet.awesome-markers/2.0.2/leaflet.awesome-markers.css&quot;/&gt;\n",
              "    &lt;link rel=&quot;stylesheet&quot; href=&quot;https://cdn.jsdelivr.net/gh/python-visualization/folium/folium/templates/leaflet.awesome.rotate.min.css&quot;/&gt;\n",
              "    \n",
              "            &lt;meta name=&quot;viewport&quot; content=&quot;width=device-width,\n",
              "                initial-scale=1.0, maximum-scale=1.0, user-scalable=no&quot; /&gt;\n",
              "            &lt;style&gt;\n",
              "                #map_c167475239dec1825672c3b0cf835d88 {\n",
              "                    position: relative;\n",
              "                    width: 100.0%;\n",
              "                    height: 100.0%;\n",
              "                    left: 0.0%;\n",
              "                    top: 0.0%;\n",
              "                }\n",
              "                .leaflet-container { font-size: 1rem; }\n",
              "            &lt;/style&gt;\n",
              "        \n",
              "&lt;/head&gt;\n",
              "&lt;body&gt;\n",
              "    \n",
              "    \n",
              "            &lt;div class=&quot;folium-map&quot; id=&quot;map_c167475239dec1825672c3b0cf835d88&quot; &gt;&lt;/div&gt;\n",
              "        \n",
              "&lt;/body&gt;\n",
              "&lt;script&gt;\n",
              "    \n",
              "    \n",
              "            var map_c167475239dec1825672c3b0cf835d88 = L.map(\n",
              "                &quot;map_c167475239dec1825672c3b0cf835d88&quot;,\n",
              "                {\n",
              "                    center: [34.35551771487569, -84.9806810001416],\n",
              "                    crs: L.CRS.EPSG3857,\n",
              "                    zoom: 15,\n",
              "                    zoomControl: true,\n",
              "                    preferCanvas: false,\n",
              "                }\n",
              "            );\n",
              "\n",
              "            \n",
              "\n",
              "        \n",
              "    \n",
              "            var tile_layer_ff5c340ab86e1e415eea73e08b5c27d5 = L.tileLayer(\n",
              "                &quot;https://cartodb-basemaps-{s}.global.ssl.fastly.net/light_all/{z}/{x}/{y}.png&quot;,\n",
              "                {&quot;attribution&quot;: &quot;\\u0026copy; \\u003ca target=\\&quot;_blank\\&quot; href=\\&quot;http://www.openstreetmap.org/copyright\\&quot;\\u003eOpenStreetMap\\u003c/a\\u003e contributors \\u0026copy; \\u003ca target=\\&quot;_blank\\&quot; href=\\&quot;http://cartodb.com/attributions\\&quot;\\u003eCartoDB\\u003c/a\\u003e, CartoDB \\u003ca target=\\&quot;_blank\\&quot; href =\\&quot;http://cartodb.com/attributions\\&quot;\\u003eattributions\\u003c/a\\u003e&quot;, &quot;detectRetina&quot;: false, &quot;maxNativeZoom&quot;: 18, &quot;maxZoom&quot;: 18, &quot;minZoom&quot;: 0, &quot;noWrap&quot;: false, &quot;opacity&quot;: 1, &quot;subdomains&quot;: &quot;abc&quot;, &quot;tms&quot;: false}\n",
              "            ).addTo(map_c167475239dec1825672c3b0cf835d88);\n",
              "        \n",
              "    \n",
              "        function geo_json_d1f8a23649f8ff60859ccfb9d8c85763_styler(feature) {\n",
              "            switch(feature.id) {\n",
              "                default:\n",
              "                    return {&quot;fillColor&quot;: &quot;orange&quot;};\n",
              "            }\n",
              "        }\n",
              "\n",
              "        function geo_json_d1f8a23649f8ff60859ccfb9d8c85763_onEachFeature(feature, layer) {\n",
              "            layer.on({\n",
              "            });\n",
              "        };\n",
              "        var geo_json_d1f8a23649f8ff60859ccfb9d8c85763 = L.geoJson(null, {\n",
              "                onEachFeature: geo_json_d1f8a23649f8ff60859ccfb9d8c85763_onEachFeature,\n",
              "            \n",
              "                style: geo_json_d1f8a23649f8ff60859ccfb9d8c85763_styler,\n",
              "        });\n",
              "\n",
              "        function geo_json_d1f8a23649f8ff60859ccfb9d8c85763_add (data) {\n",
              "            geo_json_d1f8a23649f8ff60859ccfb9d8c85763\n",
              "                .addData(data)\n",
              "                .addTo(map_c167475239dec1825672c3b0cf835d88);\n",
              "        }\n",
              "            geo_json_d1f8a23649f8ff60859ccfb9d8c85763_add({&quot;bbox&quot;: [-84.9828325398863, 34.3537085720841, -84.97852946039689, 34.35732685766728], &quot;features&quot;: [{&quot;bbox&quot;: [-84.9828325398863, 34.3537085720841, -84.97852946039689, 34.35732685766728], &quot;geometry&quot;: {&quot;coordinates&quot;: [[[-84.97852946039689, 34.3537085720841], [-84.97852946039689, 34.35732685766728], [-84.9828325398863, 34.35732685766728], [-84.9828325398863, 34.3537085720841], [-84.97852946039689, 34.3537085720841]]], &quot;type&quot;: &quot;Polygon&quot;}, &quot;id&quot;: &quot;3569&quot;, &quot;properties&quot;: {}, &quot;type&quot;: &quot;Feature&quot;}], &quot;type&quot;: &quot;FeatureCollection&quot;});\n",
              "\n",
              "        \n",
              "    \n",
              "        function geo_json_3b5a22022a5f22faae0ca3d789e8794f_styler(feature) {\n",
              "            switch(feature.id) {\n",
              "                default:\n",
              "                    return {&quot;fillColor&quot;: &quot;orange&quot;};\n",
              "            }\n",
              "        }\n",
              "\n",
              "        function geo_json_3b5a22022a5f22faae0ca3d789e8794f_onEachFeature(feature, layer) {\n",
              "            layer.on({\n",
              "            });\n",
              "        };\n",
              "        var geo_json_3b5a22022a5f22faae0ca3d789e8794f = L.geoJson(null, {\n",
              "                onEachFeature: geo_json_3b5a22022a5f22faae0ca3d789e8794f_onEachFeature,\n",
              "            \n",
              "                style: geo_json_3b5a22022a5f22faae0ca3d789e8794f_styler,\n",
              "        });\n",
              "\n",
              "        function geo_json_3b5a22022a5f22faae0ca3d789e8794f_add (data) {\n",
              "            geo_json_3b5a22022a5f22faae0ca3d789e8794f\n",
              "                .addData(data)\n",
              "                .addTo(map_c167475239dec1825672c3b0cf835d88);\n",
              "        }\n",
              "            geo_json_3b5a22022a5f22faae0ca3d789e8794f_add({&quot;bbox&quot;: [-84.98713561937572, 34.35732685766728, -84.9828325398863, 34.36094514325046], &quot;features&quot;: [{&quot;bbox&quot;: [-84.98713561937572, 34.35732685766728, -84.9828325398863, 34.36094514325046], &quot;geometry&quot;: {&quot;coordinates&quot;: [[[-84.9828325398863, 34.35732685766728], [-84.9828325398863, 34.36094514325046], [-84.98713561937572, 34.36094514325046], [-84.98713561937572, 34.35732685766728], [-84.9828325398863, 34.35732685766728]]], &quot;type&quot;: &quot;Polygon&quot;}, &quot;id&quot;: &quot;0&quot;, &quot;properties&quot;: {}, &quot;type&quot;: &quot;Feature&quot;}], &quot;type&quot;: &quot;FeatureCollection&quot;});\n",
              "\n",
              "        \n",
              "    \n",
              "        function geo_json_223adaa5885fb6934b50f6e6149905e8_styler(feature) {\n",
              "            switch(feature.id) {\n",
              "                default:\n",
              "                    return {&quot;fillColor&quot;: &quot;orange&quot;};\n",
              "            }\n",
              "        }\n",
              "\n",
              "        function geo_json_223adaa5885fb6934b50f6e6149905e8_onEachFeature(feature, layer) {\n",
              "            layer.on({\n",
              "            });\n",
              "        };\n",
              "        var geo_json_223adaa5885fb6934b50f6e6149905e8 = L.geoJson(null, {\n",
              "                onEachFeature: geo_json_223adaa5885fb6934b50f6e6149905e8_onEachFeature,\n",
              "            \n",
              "                style: geo_json_223adaa5885fb6934b50f6e6149905e8_styler,\n",
              "        });\n",
              "\n",
              "        function geo_json_223adaa5885fb6934b50f6e6149905e8_add (data) {\n",
              "            geo_json_223adaa5885fb6934b50f6e6149905e8\n",
              "                .addData(data)\n",
              "                .addTo(map_c167475239dec1825672c3b0cf835d88);\n",
              "        }\n",
              "            geo_json_223adaa5885fb6934b50f6e6149905e8_add({&quot;bbox&quot;: [-84.9828325398863, 34.35732685766728, -84.97852946039689, 34.36094514325046], &quot;features&quot;: [{&quot;bbox&quot;: [-84.9828325398863, 34.35732685766728, -84.97852946039689, 34.36094514325046], &quot;geometry&quot;: {&quot;coordinates&quot;: [[[-84.97852946039689, 34.35732685766728], [-84.97852946039689, 34.36094514325046], [-84.9828325398863, 34.36094514325046], [-84.9828325398863, 34.35732685766728], [-84.97852946039689, 34.35732685766728]]], &quot;type&quot;: &quot;Polygon&quot;}, &quot;id&quot;: &quot;0&quot;, &quot;properties&quot;: {}, &quot;type&quot;: &quot;Feature&quot;}], &quot;type&quot;: &quot;FeatureCollection&quot;});\n",
              "\n",
              "        \n",
              "    \n",
              "        function geo_json_22aff7bf4e8d005e8412fea0a2115de3_styler(feature) {\n",
              "            switch(feature.id) {\n",
              "                default:\n",
              "                    return {&quot;fillColor&quot;: &quot;orange&quot;};\n",
              "            }\n",
              "        }\n",
              "\n",
              "        function geo_json_22aff7bf4e8d005e8412fea0a2115de3_onEachFeature(feature, layer) {\n",
              "            layer.on({\n",
              "            });\n",
              "        };\n",
              "        var geo_json_22aff7bf4e8d005e8412fea0a2115de3 = L.geoJson(null, {\n",
              "                onEachFeature: geo_json_22aff7bf4e8d005e8412fea0a2115de3_onEachFeature,\n",
              "            \n",
              "                style: geo_json_22aff7bf4e8d005e8412fea0a2115de3_styler,\n",
              "        });\n",
              "\n",
              "        function geo_json_22aff7bf4e8d005e8412fea0a2115de3_add (data) {\n",
              "            geo_json_22aff7bf4e8d005e8412fea0a2115de3\n",
              "                .addData(data)\n",
              "                .addTo(map_c167475239dec1825672c3b0cf835d88);\n",
              "        }\n",
              "            geo_json_22aff7bf4e8d005e8412fea0a2115de3_add({&quot;bbox&quot;: [-84.97852946039689, 34.35732685766728, -84.97422638090747, 34.36094514325046], &quot;features&quot;: [{&quot;bbox&quot;: [-84.97852946039689, 34.35732685766728, -84.97422638090747, 34.36094514325046], &quot;geometry&quot;: {&quot;coordinates&quot;: [[[-84.97422638090747, 34.35732685766728], [-84.97422638090747, 34.36094514325046], [-84.97852946039689, 34.36094514325046], [-84.97852946039689, 34.35732685766728], [-84.97422638090747, 34.35732685766728]]], &quot;type&quot;: &quot;Polygon&quot;}, &quot;id&quot;: &quot;0&quot;, &quot;properties&quot;: {}, &quot;type&quot;: &quot;Feature&quot;}], &quot;type&quot;: &quot;FeatureCollection&quot;});\n",
              "\n",
              "        \n",
              "    \n",
              "        function geo_json_f10cdcd065472861159bff8a054427b9_styler(feature) {\n",
              "            switch(feature.id) {\n",
              "                default:\n",
              "                    return {&quot;fillColor&quot;: &quot;orange&quot;};\n",
              "            }\n",
              "        }\n",
              "\n",
              "        function geo_json_f10cdcd065472861159bff8a054427b9_onEachFeature(feature, layer) {\n",
              "            layer.on({\n",
              "            });\n",
              "        };\n",
              "        var geo_json_f10cdcd065472861159bff8a054427b9 = L.geoJson(null, {\n",
              "                onEachFeature: geo_json_f10cdcd065472861159bff8a054427b9_onEachFeature,\n",
              "            \n",
              "                style: geo_json_f10cdcd065472861159bff8a054427b9_styler,\n",
              "        });\n",
              "\n",
              "        function geo_json_f10cdcd065472861159bff8a054427b9_add (data) {\n",
              "            geo_json_f10cdcd065472861159bff8a054427b9\n",
              "                .addData(data)\n",
              "                .addTo(map_c167475239dec1825672c3b0cf835d88);\n",
              "        }\n",
              "            geo_json_f10cdcd065472861159bff8a054427b9_add({&quot;bbox&quot;: [-84.98713561937572, 34.3537085720841, -84.9828325398863, 34.35732685766728], &quot;features&quot;: [{&quot;bbox&quot;: [-84.98713561937572, 34.3537085720841, -84.9828325398863, 34.35732685766728], &quot;geometry&quot;: {&quot;coordinates&quot;: [[[-84.9828325398863, 34.3537085720841], [-84.9828325398863, 34.35732685766728], [-84.98713561937572, 34.35732685766728], [-84.98713561937572, 34.3537085720841], [-84.9828325398863, 34.3537085720841]]], &quot;type&quot;: &quot;Polygon&quot;}, &quot;id&quot;: &quot;0&quot;, &quot;properties&quot;: {}, &quot;type&quot;: &quot;Feature&quot;}], &quot;type&quot;: &quot;FeatureCollection&quot;});\n",
              "\n",
              "        \n",
              "    \n",
              "        function geo_json_8ba73f4ba03a2ac66356b4ef4983a400_styler(feature) {\n",
              "            switch(feature.id) {\n",
              "                default:\n",
              "                    return {&quot;fillColor&quot;: &quot;orange&quot;};\n",
              "            }\n",
              "        }\n",
              "\n",
              "        function geo_json_8ba73f4ba03a2ac66356b4ef4983a400_onEachFeature(feature, layer) {\n",
              "            layer.on({\n",
              "            });\n",
              "        };\n",
              "        var geo_json_8ba73f4ba03a2ac66356b4ef4983a400 = L.geoJson(null, {\n",
              "                onEachFeature: geo_json_8ba73f4ba03a2ac66356b4ef4983a400_onEachFeature,\n",
              "            \n",
              "                style: geo_json_8ba73f4ba03a2ac66356b4ef4983a400_styler,\n",
              "        });\n",
              "\n",
              "        function geo_json_8ba73f4ba03a2ac66356b4ef4983a400_add (data) {\n",
              "            geo_json_8ba73f4ba03a2ac66356b4ef4983a400\n",
              "                .addData(data)\n",
              "                .addTo(map_c167475239dec1825672c3b0cf835d88);\n",
              "        }\n",
              "            geo_json_8ba73f4ba03a2ac66356b4ef4983a400_add({&quot;bbox&quot;: [-84.97852946039689, 34.3537085720841, -84.97422638090747, 34.35732685766728], &quot;features&quot;: [{&quot;bbox&quot;: [-84.97852946039689, 34.3537085720841, -84.97422638090747, 34.35732685766728], &quot;geometry&quot;: {&quot;coordinates&quot;: [[[-84.97422638090747, 34.3537085720841], [-84.97422638090747, 34.35732685766728], [-84.97852946039689, 34.35732685766728], [-84.97852946039689, 34.3537085720841], [-84.97422638090747, 34.3537085720841]]], &quot;type&quot;: &quot;Polygon&quot;}, &quot;id&quot;: &quot;0&quot;, &quot;properties&quot;: {}, &quot;type&quot;: &quot;Feature&quot;}], &quot;type&quot;: &quot;FeatureCollection&quot;});\n",
              "\n",
              "        \n",
              "    \n",
              "        function geo_json_d13d3938386fa96ddcde0f60d343391f_styler(feature) {\n",
              "            switch(feature.id) {\n",
              "                default:\n",
              "                    return {&quot;fillColor&quot;: &quot;orange&quot;};\n",
              "            }\n",
              "        }\n",
              "\n",
              "        function geo_json_d13d3938386fa96ddcde0f60d343391f_onEachFeature(feature, layer) {\n",
              "            layer.on({\n",
              "            });\n",
              "        };\n",
              "        var geo_json_d13d3938386fa96ddcde0f60d343391f = L.geoJson(null, {\n",
              "                onEachFeature: geo_json_d13d3938386fa96ddcde0f60d343391f_onEachFeature,\n",
              "            \n",
              "                style: geo_json_d13d3938386fa96ddcde0f60d343391f_styler,\n",
              "        });\n",
              "\n",
              "        function geo_json_d13d3938386fa96ddcde0f60d343391f_add (data) {\n",
              "            geo_json_d13d3938386fa96ddcde0f60d343391f\n",
              "                .addData(data)\n",
              "                .addTo(map_c167475239dec1825672c3b0cf835d88);\n",
              "        }\n",
              "            geo_json_d13d3938386fa96ddcde0f60d343391f_add({&quot;bbox&quot;: [-84.98713561937572, 34.35009028650092, -84.9828325398863, 34.3537085720841], &quot;features&quot;: [{&quot;bbox&quot;: [-84.98713561937572, 34.35009028650092, -84.9828325398863, 34.3537085720841], &quot;geometry&quot;: {&quot;coordinates&quot;: [[[-84.9828325398863, 34.35009028650092], [-84.9828325398863, 34.3537085720841], [-84.98713561937572, 34.3537085720841], [-84.98713561937572, 34.35009028650092], [-84.9828325398863, 34.35009028650092]]], &quot;type&quot;: &quot;Polygon&quot;}, &quot;id&quot;: &quot;0&quot;, &quot;properties&quot;: {}, &quot;type&quot;: &quot;Feature&quot;}], &quot;type&quot;: &quot;FeatureCollection&quot;});\n",
              "\n",
              "        \n",
              "    \n",
              "        function geo_json_8b3d8ca5c2a580df79b9a15005756a3e_styler(feature) {\n",
              "            switch(feature.id) {\n",
              "                default:\n",
              "                    return {&quot;fillColor&quot;: &quot;orange&quot;};\n",
              "            }\n",
              "        }\n",
              "\n",
              "        function geo_json_8b3d8ca5c2a580df79b9a15005756a3e_onEachFeature(feature, layer) {\n",
              "            layer.on({\n",
              "            });\n",
              "        };\n",
              "        var geo_json_8b3d8ca5c2a580df79b9a15005756a3e = L.geoJson(null, {\n",
              "                onEachFeature: geo_json_8b3d8ca5c2a580df79b9a15005756a3e_onEachFeature,\n",
              "            \n",
              "                style: geo_json_8b3d8ca5c2a580df79b9a15005756a3e_styler,\n",
              "        });\n",
              "\n",
              "        function geo_json_8b3d8ca5c2a580df79b9a15005756a3e_add (data) {\n",
              "            geo_json_8b3d8ca5c2a580df79b9a15005756a3e\n",
              "                .addData(data)\n",
              "                .addTo(map_c167475239dec1825672c3b0cf835d88);\n",
              "        }\n",
              "            geo_json_8b3d8ca5c2a580df79b9a15005756a3e_add({&quot;bbox&quot;: [-84.9828325398863, 34.35009028650092, -84.97852946039689, 34.3537085720841], &quot;features&quot;: [{&quot;bbox&quot;: [-84.9828325398863, 34.35009028650092, -84.97852946039689, 34.3537085720841], &quot;geometry&quot;: {&quot;coordinates&quot;: [[[-84.97852946039689, 34.35009028650092], [-84.97852946039689, 34.3537085720841], [-84.9828325398863, 34.3537085720841], [-84.9828325398863, 34.35009028650092], [-84.97852946039689, 34.35009028650092]]], &quot;type&quot;: &quot;Polygon&quot;}, &quot;id&quot;: &quot;0&quot;, &quot;properties&quot;: {}, &quot;type&quot;: &quot;Feature&quot;}], &quot;type&quot;: &quot;FeatureCollection&quot;});\n",
              "\n",
              "        \n",
              "    \n",
              "        function geo_json_0927e7397329a7df93a5a00a94ec6d41_styler(feature) {\n",
              "            switch(feature.id) {\n",
              "                default:\n",
              "                    return {&quot;fillColor&quot;: &quot;orange&quot;};\n",
              "            }\n",
              "        }\n",
              "\n",
              "        function geo_json_0927e7397329a7df93a5a00a94ec6d41_onEachFeature(feature, layer) {\n",
              "            layer.on({\n",
              "            });\n",
              "        };\n",
              "        var geo_json_0927e7397329a7df93a5a00a94ec6d41 = L.geoJson(null, {\n",
              "                onEachFeature: geo_json_0927e7397329a7df93a5a00a94ec6d41_onEachFeature,\n",
              "            \n",
              "                style: geo_json_0927e7397329a7df93a5a00a94ec6d41_styler,\n",
              "        });\n",
              "\n",
              "        function geo_json_0927e7397329a7df93a5a00a94ec6d41_add (data) {\n",
              "            geo_json_0927e7397329a7df93a5a00a94ec6d41\n",
              "                .addData(data)\n",
              "                .addTo(map_c167475239dec1825672c3b0cf835d88);\n",
              "        }\n",
              "            geo_json_0927e7397329a7df93a5a00a94ec6d41_add({&quot;bbox&quot;: [-84.97852946039689, 34.35009028650092, -84.97422638090747, 34.3537085720841], &quot;features&quot;: [{&quot;bbox&quot;: [-84.97852946039689, 34.35009028650092, -84.97422638090747, 34.3537085720841], &quot;geometry&quot;: {&quot;coordinates&quot;: [[[-84.97422638090747, 34.35009028650092], [-84.97422638090747, 34.3537085720841], [-84.97852946039689, 34.3537085720841], [-84.97852946039689, 34.35009028650092], [-84.97422638090747, 34.35009028650092]]], &quot;type&quot;: &quot;Polygon&quot;}, &quot;id&quot;: &quot;0&quot;, &quot;properties&quot;: {}, &quot;type&quot;: &quot;Feature&quot;}], &quot;type&quot;: &quot;FeatureCollection&quot;});\n",
              "\n",
              "        \n",
              "&lt;/script&gt;\n",
              "&lt;/html&gt;\" style=\"position:absolute;width:100%;height:100%;left:0;top:0;border:none !important;\" allowfullscreen webkitallowfullscreen mozallowfullscreen></iframe></div></div>"
            ]
          },
          "metadata": {}
        }
      ]
    },
    {
      "cell_type": "code",
      "source": [
        "# save the final version as well\n",
        "fishnet_creator_example.save('/content/drive/MyDrive/Code/Gis/Fishnet/fishnet_quarter_mile_filtered&neighbors.pkl')"
      ],
      "metadata": {
        "id": "9t9mTf_6w7Wk"
      },
      "execution_count": null,
      "outputs": []
    },
    {
      "cell_type": "markdown",
      "source": [
        "# Load the fishnet"
      ],
      "metadata": {
        "id": "REpIATQ6DTT7"
      }
    },
    {
      "cell_type": "code",
      "source": [
        "# load the object\n",
        "fishnet_creator_example = Fishnet.load('/content/drive/MyDrive/Code/Gis/Fishnet/fishnet_quarter_mile_filtered&neighbors.pkl')"
      ],
      "metadata": {
        "id": "sHiX6fwFDU1j"
      },
      "execution_count": null,
      "outputs": []
    },
    {
      "cell_type": "code",
      "source": [
        "fishnet_creator_example.filtered_fishnet.head()"
      ],
      "metadata": {
        "id": "mxyLFL1Ertui",
        "outputId": "47312ded-aeae-43ac-e34e-47a678b8eb5d",
        "colab": {
          "base_uri": "https://localhost:8080/",
          "height": 204
        }
      },
      "execution_count": null,
      "outputs": [
        {
          "output_type": "execute_result",
          "data": {
            "text/plain": [
              "              id                                           geometry  batch_id  \\\n",
              "6060154  6060154  POLYGON ((-95.79985 29.79208, -95.79985 29.795...     23743   \n",
              "6060155  6060155  POLYGON ((-95.79583 29.79208, -95.79583 29.795...     23743   \n",
              "6060156  6060156  POLYGON ((-95.79181 29.79208, -95.79181 29.795...     23743   \n",
              "6060157  6060157  POLYGON ((-95.78778 29.79208, -95.78778 29.795...     23743   \n",
              "6060158  6060158  POLYGON ((-95.78376 29.79208, -95.78376 29.795...     23743   \n",
              "\n",
              "                                                 neighbors  \n",
              "6060154  [6056884, 6056885, 6056886, 6060153, 6060155, ...  \n",
              "6060155  [6056885, 6056886, 6056887, 6060154, 6060156, ...  \n",
              "6060156  [6056886, 6056887, 6056888, 6060155, 6060157, ...  \n",
              "6060157  [6056887, 6056888, 6056889, 6060156, 6060158, ...  \n",
              "6060158  [6056888, 6056889, 6056890, 6060157, 6060159, ...  "
            ],
            "text/html": [
              "\n",
              "  <div id=\"df-330cbbc3-145e-485c-802b-36fcbe4457ce\">\n",
              "    <div class=\"colab-df-container\">\n",
              "      <div>\n",
              "<style scoped>\n",
              "    .dataframe tbody tr th:only-of-type {\n",
              "        vertical-align: middle;\n",
              "    }\n",
              "\n",
              "    .dataframe tbody tr th {\n",
              "        vertical-align: top;\n",
              "    }\n",
              "\n",
              "    .dataframe thead th {\n",
              "        text-align: right;\n",
              "    }\n",
              "</style>\n",
              "<table border=\"1\" class=\"dataframe\">\n",
              "  <thead>\n",
              "    <tr style=\"text-align: right;\">\n",
              "      <th></th>\n",
              "      <th>id</th>\n",
              "      <th>geometry</th>\n",
              "      <th>batch_id</th>\n",
              "      <th>neighbors</th>\n",
              "    </tr>\n",
              "  </thead>\n",
              "  <tbody>\n",
              "    <tr>\n",
              "      <th>6060154</th>\n",
              "      <td>6060154</td>\n",
              "      <td>POLYGON ((-95.79985 29.79208, -95.79985 29.795...</td>\n",
              "      <td>23743</td>\n",
              "      <td>[6056884, 6056885, 6056886, 6060153, 6060155, ...</td>\n",
              "    </tr>\n",
              "    <tr>\n",
              "      <th>6060155</th>\n",
              "      <td>6060155</td>\n",
              "      <td>POLYGON ((-95.79583 29.79208, -95.79583 29.795...</td>\n",
              "      <td>23743</td>\n",
              "      <td>[6056885, 6056886, 6056887, 6060154, 6060156, ...</td>\n",
              "    </tr>\n",
              "    <tr>\n",
              "      <th>6060156</th>\n",
              "      <td>6060156</td>\n",
              "      <td>POLYGON ((-95.79181 29.79208, -95.79181 29.795...</td>\n",
              "      <td>23743</td>\n",
              "      <td>[6056886, 6056887, 6056888, 6060155, 6060157, ...</td>\n",
              "    </tr>\n",
              "    <tr>\n",
              "      <th>6060157</th>\n",
              "      <td>6060157</td>\n",
              "      <td>POLYGON ((-95.78778 29.79208, -95.78778 29.795...</td>\n",
              "      <td>23743</td>\n",
              "      <td>[6056887, 6056888, 6056889, 6060156, 6060158, ...</td>\n",
              "    </tr>\n",
              "    <tr>\n",
              "      <th>6060158</th>\n",
              "      <td>6060158</td>\n",
              "      <td>POLYGON ((-95.78376 29.79208, -95.78376 29.795...</td>\n",
              "      <td>23743</td>\n",
              "      <td>[6056888, 6056889, 6056890, 6060157, 6060159, ...</td>\n",
              "    </tr>\n",
              "  </tbody>\n",
              "</table>\n",
              "</div>\n",
              "      <button class=\"colab-df-convert\" onclick=\"convertToInteractive('df-330cbbc3-145e-485c-802b-36fcbe4457ce')\"\n",
              "              title=\"Convert this dataframe to an interactive table.\"\n",
              "              style=\"display:none;\">\n",
              "        \n",
              "  <svg xmlns=\"http://www.w3.org/2000/svg\" height=\"24px\"viewBox=\"0 0 24 24\"\n",
              "       width=\"24px\">\n",
              "    <path d=\"M0 0h24v24H0V0z\" fill=\"none\"/>\n",
              "    <path d=\"M18.56 5.44l.94 2.06.94-2.06 2.06-.94-2.06-.94-.94-2.06-.94 2.06-2.06.94zm-11 1L8.5 8.5l.94-2.06 2.06-.94-2.06-.94L8.5 2.5l-.94 2.06-2.06.94zm10 10l.94 2.06.94-2.06 2.06-.94-2.06-.94-.94-2.06-.94 2.06-2.06.94z\"/><path d=\"M17.41 7.96l-1.37-1.37c-.4-.4-.92-.59-1.43-.59-.52 0-1.04.2-1.43.59L10.3 9.45l-7.72 7.72c-.78.78-.78 2.05 0 2.83L4 21.41c.39.39.9.59 1.41.59.51 0 1.02-.2 1.41-.59l7.78-7.78 2.81-2.81c.8-.78.8-2.07 0-2.86zM5.41 20L4 18.59l7.72-7.72 1.47 1.35L5.41 20z\"/>\n",
              "  </svg>\n",
              "      </button>\n",
              "      \n",
              "  <style>\n",
              "    .colab-df-container {\n",
              "      display:flex;\n",
              "      flex-wrap:wrap;\n",
              "      gap: 12px;\n",
              "    }\n",
              "\n",
              "    .colab-df-convert {\n",
              "      background-color: #E8F0FE;\n",
              "      border: none;\n",
              "      border-radius: 50%;\n",
              "      cursor: pointer;\n",
              "      display: none;\n",
              "      fill: #1967D2;\n",
              "      height: 32px;\n",
              "      padding: 0 0 0 0;\n",
              "      width: 32px;\n",
              "    }\n",
              "\n",
              "    .colab-df-convert:hover {\n",
              "      background-color: #E2EBFA;\n",
              "      box-shadow: 0px 1px 2px rgba(60, 64, 67, 0.3), 0px 1px 3px 1px rgba(60, 64, 67, 0.15);\n",
              "      fill: #174EA6;\n",
              "    }\n",
              "\n",
              "    [theme=dark] .colab-df-convert {\n",
              "      background-color: #3B4455;\n",
              "      fill: #D2E3FC;\n",
              "    }\n",
              "\n",
              "    [theme=dark] .colab-df-convert:hover {\n",
              "      background-color: #434B5C;\n",
              "      box-shadow: 0px 1px 3px 1px rgba(0, 0, 0, 0.15);\n",
              "      filter: drop-shadow(0px 1px 2px rgba(0, 0, 0, 0.3));\n",
              "      fill: #FFFFFF;\n",
              "    }\n",
              "  </style>\n",
              "\n",
              "      <script>\n",
              "        const buttonEl =\n",
              "          document.querySelector('#df-330cbbc3-145e-485c-802b-36fcbe4457ce button.colab-df-convert');\n",
              "        buttonEl.style.display =\n",
              "          google.colab.kernel.accessAllowed ? 'block' : 'none';\n",
              "\n",
              "        async function convertToInteractive(key) {\n",
              "          const element = document.querySelector('#df-330cbbc3-145e-485c-802b-36fcbe4457ce');\n",
              "          const dataTable =\n",
              "            await google.colab.kernel.invokeFunction('convertToInteractive',\n",
              "                                                     [key], {});\n",
              "          if (!dataTable) return;\n",
              "\n",
              "          const docLinkHtml = 'Like what you see? Visit the ' +\n",
              "            '<a target=\"_blank\" href=https://colab.research.google.com/notebooks/data_table.ipynb>data table notebook</a>'\n",
              "            + ' to learn more about interactive tables.';\n",
              "          element.innerHTML = '';\n",
              "          dataTable['output_type'] = 'display_data';\n",
              "          await google.colab.output.renderOutput(dataTable, element);\n",
              "          const docLink = document.createElement('div');\n",
              "          docLink.innerHTML = docLinkHtml;\n",
              "          element.appendChild(docLink);\n",
              "        }\n",
              "      </script>\n",
              "    </div>\n",
              "  </div>\n",
              "  "
            ]
          },
          "metadata": {},
          "execution_count": 7
        }
      ]
    },
    {
      "cell_type": "markdown",
      "metadata": {
        "id": "esu-cyTArApf"
      },
      "source": [
        "# Export Images from the Google Earth Engine"
      ]
    },
    {
      "cell_type": "code",
      "execution_count": null,
      "metadata": {
        "id": "z-vdBjYnrAph",
        "outputId": "7e7db0a6-2c30-4f36-ff2b-ee45f120ff18",
        "colab": {
          "base_uri": "https://localhost:8080/"
        }
      },
      "outputs": [
        {
          "output_type": "stream",
          "name": "stderr",
          "text": [
            "100%|██████████| 84/84 [00:30<00:00,  2.79it/s]\n",
            "100%|██████████| 84/84 [00:27<00:00,  3.09it/s]\n",
            "100%|██████████| 84/84 [00:25<00:00,  3.24it/s]\n",
            "100%|██████████| 84/84 [00:26<00:00,  3.15it/s]\n",
            "100%|██████████| 84/84 [00:30<00:00,  2.76it/s]\n",
            "100%|██████████| 84/84 [00:24<00:00,  3.49it/s]\n",
            "100%|██████████| 84/84 [00:22<00:00,  3.66it/s]\n"
          ]
        }
      ],
      "source": [
        "image_exporter = ImageExporter(fishnet_creator_example, filtered=False)\n",
        "\n",
        "for period in [\"year\"]: #, \"summer\"]\n",
        "    for year in [2016, 2017, 2018, 2019, 2020, 2021, 2022]:\n",
        "\n",
        "        if period == \"summer\":\n",
        "            image_exporter.set_date_range(year, year, '05', '10')\n",
        "        else:\n",
        "            image_exporter.set_date_range(year, year, '01', '12')\n",
        "\n",
        "        image_exporter.set_folder(f'{period}_export_{year}')\n",
        "        image_exporter.export_images()"
      ]
    },
    {
      "cell_type": "markdown",
      "metadata": {
        "id": "bKIteHpu7CyX"
      },
      "source": [
        "# Correct Images"
      ]
    },
    {
      "cell_type": "code",
      "source": [
        "# list files in certain path\n",
        "!ls /content/drive/MyDrive/Google\\ Earth\\ Exports/Valid/2016/Summer/\n"
      ],
      "metadata": {
        "id": "awGld7cpnu2r",
        "outputId": "83adc699-0448-4df0-a6af-415911dc19c2",
        "colab": {
          "base_uri": "https://localhost:8080/"
        }
      },
      "execution_count": 11,
      "outputs": [
        {
          "output_type": "stream",
          "name": "stdout",
          "text": [
            "landcover_batchID_0.tif   landcover_batchID_35.tif  landcover_batchID_60.tif\n",
            "landcover_batchID_10.tif  landcover_batchID_36.tif  landcover_batchID_61.tif\n",
            "landcover_batchID_11.tif  landcover_batchID_37.tif  landcover_batchID_62.tif\n",
            "landcover_batchID_12.tif  landcover_batchID_38.tif  landcover_batchID_63.tif\n",
            "landcover_batchID_13.tif  landcover_batchID_39.tif  landcover_batchID_64.tif\n",
            "landcover_batchID_14.tif  landcover_batchID_3.tif   landcover_batchID_65.tif\n",
            "landcover_batchID_15.tif  landcover_batchID_40.tif  landcover_batchID_66.tif\n",
            "landcover_batchID_16.tif  landcover_batchID_41.tif  landcover_batchID_67.tif\n",
            "landcover_batchID_17.tif  landcover_batchID_42.tif  landcover_batchID_68.tif\n",
            "landcover_batchID_18.tif  landcover_batchID_43.tif  landcover_batchID_69.tif\n",
            "landcover_batchID_19.tif  landcover_batchID_44.tif  landcover_batchID_6.tif\n",
            "landcover_batchID_1.tif   landcover_batchID_45.tif  landcover_batchID_70.tif\n",
            "landcover_batchID_20.tif  landcover_batchID_46.tif  landcover_batchID_71.tif\n",
            "landcover_batchID_21.tif  landcover_batchID_47.tif  landcover_batchID_72.tif\n",
            "landcover_batchID_22.tif  landcover_batchID_48.tif  landcover_batchID_73.tif\n",
            "landcover_batchID_23.tif  landcover_batchID_49.tif  landcover_batchID_74.tif\n",
            "landcover_batchID_24.tif  landcover_batchID_4.tif   landcover_batchID_75.tif\n",
            "landcover_batchID_25.tif  landcover_batchID_50.tif  landcover_batchID_76.tif\n",
            "landcover_batchID_26.tif  landcover_batchID_51.tif  landcover_batchID_77.tif\n",
            "landcover_batchID_27.tif  landcover_batchID_52.tif  landcover_batchID_78.tif\n",
            "landcover_batchID_28.tif  landcover_batchID_53.tif  landcover_batchID_79.tif\n",
            "landcover_batchID_29.tif  landcover_batchID_54.tif  landcover_batchID_7.tif\n",
            "landcover_batchID_2.tif   landcover_batchID_55.tif  landcover_batchID_80.tif\n",
            "landcover_batchID_30.tif  landcover_batchID_56.tif  landcover_batchID_81.tif\n",
            "landcover_batchID_31.tif  landcover_batchID_57.tif  landcover_batchID_82.tif\n",
            "landcover_batchID_32.tif  landcover_batchID_58.tif  landcover_batchID_83.tif\n",
            "landcover_batchID_33.tif  landcover_batchID_59.tif  landcover_batchID_8.tif\n",
            "landcover_batchID_34.tif  landcover_batchID_5.tif   landcover_batchID_9.tif\n"
          ]
        }
      ]
    },
    {
      "cell_type": "code",
      "execution_count": 14,
      "metadata": {
        "id": "I_fKhTMo7CyY",
        "outputId": "17689135-2d82-40ca-e5b0-7f37f744e1f7",
        "colab": {
          "base_uri": "https://localhost:8080/",
          "height": 329
        }
      },
      "outputs": [
        {
          "output_type": "stream",
          "name": "stdout",
          "text": [
            "Loading images...:   0%|          | 0/7 [01:59<?, ?it/s]\n"
          ]
        },
        {
          "output_type": "error",
          "ename": "KeyboardInterrupt",
          "evalue": "ignored",
          "traceback": [
            "\u001b[0;31m---------------------------------------------------------------------------\u001b[0m",
            "\u001b[0;31mKeyboardInterrupt\u001b[0m                         Traceback (most recent call last)",
            "\u001b[0;32m<ipython-input-14-6789c8d3bffa>\u001b[0m in \u001b[0;36m<cell line: 1>\u001b[0;34m()\u001b[0m\n\u001b[0;32m----> 1\u001b[0;31m \u001b[0mcorrector\u001b[0m \u001b[0;34m=\u001b[0m \u001b[0mImageCorrector\u001b[0m\u001b[0;34m(\u001b[0m\u001b[0;34mf'/content/drive/MyDrive/Google Earth Exports/{dataset}/'\u001b[0m\u001b[0;34m)\u001b[0m\u001b[0;34m\u001b[0m\u001b[0;34m\u001b[0m\u001b[0m\n\u001b[0m",
            "\u001b[0;32m/content/drive/MyDrive/src/ImageCorrector.py\u001b[0m in \u001b[0;36m__init__\u001b[0;34m(self, base_path, verbose)\u001b[0m\n\u001b[1;32m     15\u001b[0m         \u001b[0mself\u001b[0m\u001b[0;34m.\u001b[0m\u001b[0mverbose\u001b[0m \u001b[0;34m=\u001b[0m \u001b[0mverbose\u001b[0m\u001b[0;34m\u001b[0m\u001b[0;34m\u001b[0m\u001b[0m\n\u001b[1;32m     16\u001b[0m         \u001b[0;32mif\u001b[0m \u001b[0mself\u001b[0m\u001b[0;34m.\u001b[0m\u001b[0mverbose\u001b[0m\u001b[0;34m:\u001b[0m\u001b[0;34m\u001b[0m\u001b[0;34m\u001b[0m\u001b[0m\n\u001b[0;32m---> 17\u001b[0;31m           \u001b[0mself\u001b[0m\u001b[0;34m.\u001b[0m\u001b[0msummary\u001b[0m\u001b[0;34m(\u001b[0m\u001b[0;34m)\u001b[0m\u001b[0;34m\u001b[0m\u001b[0;34m\u001b[0m\u001b[0m\n\u001b[0m\u001b[1;32m     18\u001b[0m \u001b[0;34m\u001b[0m\u001b[0m\n\u001b[1;32m     19\u001b[0m     \u001b[0;32mdef\u001b[0m \u001b[0msummary\u001b[0m\u001b[0;34m(\u001b[0m\u001b[0mself\u001b[0m\u001b[0;34m)\u001b[0m\u001b[0;34m:\u001b[0m\u001b[0;34m\u001b[0m\u001b[0;34m\u001b[0m\u001b[0m\n",
            "\u001b[0;32m/content/drive/MyDrive/src/ImageCorrector.py\u001b[0m in \u001b[0;36msummary\u001b[0;34m(self)\u001b[0m\n\u001b[1;32m     45\u001b[0m                 \u001b[0msummer_path\u001b[0m\u001b[0;34m,\u001b[0m \u001b[0mcolor\u001b[0m\u001b[0;34m=\u001b[0m\u001b[0;34m[\u001b[0m\u001b[0;36m179\u001b[0m\u001b[0;34m,\u001b[0m \u001b[0;36m159\u001b[0m\u001b[0;34m,\u001b[0m \u001b[0;36m225\u001b[0m\u001b[0;34m]\u001b[0m\u001b[0;34m\u001b[0m\u001b[0;34m\u001b[0m\u001b[0m\n\u001b[1;32m     46\u001b[0m             )\n\u001b[0;32m---> 47\u001b[0;31m             year_snow_pixel_proportion = self.compute_color_pixels_proportion(\n\u001b[0m\u001b[1;32m     48\u001b[0m                 \u001b[0myear_path\u001b[0m\u001b[0;34m,\u001b[0m \u001b[0mcolor\u001b[0m\u001b[0;34m=\u001b[0m\u001b[0;34m[\u001b[0m\u001b[0;36m179\u001b[0m\u001b[0;34m,\u001b[0m \u001b[0;36m159\u001b[0m\u001b[0;34m,\u001b[0m \u001b[0;36m225\u001b[0m\u001b[0;34m]\u001b[0m\u001b[0;34m\u001b[0m\u001b[0;34m\u001b[0m\u001b[0m\n\u001b[1;32m     49\u001b[0m             )\n",
            "\u001b[0;32m/content/drive/MyDrive/src/ImageCorrector.py\u001b[0m in \u001b[0;36mcompute_color_pixels_proportion\u001b[0;34m(self, path, color)\u001b[0m\n\u001b[1;32m    223\u001b[0m \u001b[0;34m\u001b[0m\u001b[0m\n\u001b[1;32m    224\u001b[0m             \u001b[0mtotal_pixels\u001b[0m \u001b[0;34m+=\u001b[0m \u001b[0mnp\u001b[0m\u001b[0;34m.\u001b[0m\u001b[0msize\u001b[0m\u001b[0;34m(\u001b[0m\u001b[0mimg\u001b[0m\u001b[0;34m)\u001b[0m\u001b[0;34m\u001b[0m\u001b[0;34m\u001b[0m\u001b[0m\n\u001b[0;32m--> 225\u001b[0;31m             \u001b[0mcolor_pixels\u001b[0m \u001b[0;34m+=\u001b[0m \u001b[0mnp\u001b[0m\u001b[0;34m.\u001b[0m\u001b[0msum\u001b[0m\u001b[0;34m(\u001b[0m\u001b[0mimg\u001b[0m \u001b[0;34m==\u001b[0m \u001b[0mcolor\u001b[0m\u001b[0;34m)\u001b[0m\u001b[0;34m\u001b[0m\u001b[0;34m\u001b[0m\u001b[0m\n\u001b[0m\u001b[1;32m    226\u001b[0m \u001b[0;34m\u001b[0m\u001b[0m\n\u001b[1;32m    227\u001b[0m         \u001b[0mproportion\u001b[0m \u001b[0;34m=\u001b[0m \u001b[0mcolor_pixels\u001b[0m \u001b[0;34m/\u001b[0m \u001b[0mtotal_pixels\u001b[0m \u001b[0;32mif\u001b[0m \u001b[0mtotal_pixels\u001b[0m \u001b[0;34m>\u001b[0m \u001b[0;36m0\u001b[0m \u001b[0;32melse\u001b[0m \u001b[0;36m0\u001b[0m\u001b[0;34m\u001b[0m\u001b[0;34m\u001b[0m\u001b[0m\n",
            "\u001b[0;32m/usr/local/lib/python3.10/dist-packages/numpy/core/fromnumeric.py\u001b[0m in \u001b[0;36m_sum_dispatcher\u001b[0;34m(a, axis, dtype, out, keepdims, initial, where)\u001b[0m\n\u001b[1;32m   2170\u001b[0m \u001b[0;34m\u001b[0m\u001b[0m\n\u001b[1;32m   2171\u001b[0m \u001b[0;34m\u001b[0m\u001b[0m\n\u001b[0;32m-> 2172\u001b[0;31m def _sum_dispatcher(a, axis=None, dtype=None, out=None, keepdims=None,\n\u001b[0m\u001b[1;32m   2173\u001b[0m                     initial=None, where=None):\n\u001b[1;32m   2174\u001b[0m     \u001b[0;32mreturn\u001b[0m \u001b[0;34m(\u001b[0m\u001b[0ma\u001b[0m\u001b[0;34m,\u001b[0m \u001b[0mout\u001b[0m\u001b[0;34m)\u001b[0m\u001b[0;34m\u001b[0m\u001b[0;34m\u001b[0m\u001b[0m\n",
            "\u001b[0;31mKeyboardInterrupt\u001b[0m: "
          ]
        }
      ],
      "source": [
        "corrector = ImageCorrector(f'/content/drive/MyDrive/Google Earth Exports/{dataset}/')"
      ]
    },
    {
      "cell_type": "code",
      "execution_count": null,
      "metadata": {
        "id": "Nnf0Zhgf7CyY",
        "outputId": "b0db6898-56bb-4431-841c-75ecd4d3f8ed",
        "colab": {
          "base_uri": "https://localhost:8080/"
        }
      },
      "outputs": [
        {
          "output_type": "stream",
          "name": "stdout",
          "text": [
            "Imputing Summer missing pixels with Year data. Processing images...\n",
            "Processing images for year 2016: 100%|██████████| 117/117 [00:08<00:00, 13.08it/s]\n",
            "Processing images for year 2017: 100%|██████████| 117/117 [00:09<00:00, 12.65it/s]\n",
            "Processing images for year 2018: 100%|██████████| 117/117 [00:09<00:00, 12.57it/s]\n",
            "Processing images for year 2019: 100%|██████████| 117/117 [00:09<00:00, 12.52it/s]\n",
            "Processing images for year 2020: 100%|██████████| 117/117 [00:09<00:00, 12.68it/s]\n",
            "Processing images for year 2021: 100%|██████████| 117/117 [00:09<00:00, 12.33it/s]\n",
            "Processing images for year 2022: 100%|██████████| 117/117 [00:11<00:00, 10.35it/s]\n"
          ]
        }
      ],
      "source": [
        "corrector.correct_images()"
      ]
    },
    {
      "cell_type": "markdown",
      "source": [
        "<font color = 'red'> Weird output but code seems fine. There's a random element in this, it's not always the same... </font>"
      ],
      "metadata": {
        "id": "mK7zwiK1CDCC"
      }
    },
    {
      "cell_type": "code",
      "execution_count": null,
      "metadata": {
        "id": "n6aKcq5u7CyZ",
        "outputId": "a58c76c2-38ba-43ee-b5f0-0e617e761e08",
        "colab": {
          "base_uri": "https://localhost:8080/"
        }
      },
      "outputs": [
        {
          "output_type": "stream",
          "name": "stdout",
          "text": [
            "Loading images...: 100%|██████████| 7/7 [00:53<00:00,  7.71s/it]\n",
            "+------+--------------+---------------------+--------------------+\n",
            "| Year | Final Images | Final Black Pixel % | Final Snow Pixel % |\n",
            "+------+--------------+---------------------+--------------------+\n",
            "| 2016 |     117      |       0.0000%       |      0.0018%       |\n",
            "| 2017 |     117      |       0.0000%       |      0.0024%       |\n",
            "| 2018 |     117      |       0.0000%       |      0.0005%       |\n",
            "| 2019 |     117      |       0.0000%       |      0.0009%       |\n",
            "| 2020 |     117      |       0.0000%       |      0.0022%       |\n",
            "| 2021 |     117      |       0.0000%       |      0.0021%       |\n",
            "| 2022 |     117      |       0.0000%       |      0.0008%       |\n",
            "+------+--------------+---------------------+--------------------+\n"
          ]
        }
      ],
      "source": [
        "corrector.summary_final()"
      ]
    },
    {
      "cell_type": "markdown",
      "metadata": {
        "id": "okV0SU3j7Cya"
      },
      "source": [
        "# Process Images"
      ]
    },
    {
      "cell_type": "code",
      "source": [
        "img_process = ImageProcessor(\n",
        "    fishnet_creator_example,\n",
        "    filtered=False,\n",
        ")"
      ],
      "metadata": {
        "id": "KvW6DzTxkgQ2"
      },
      "execution_count": null,
      "outputs": []
    },
    {
      "cell_type": "code",
      "source": [
        "img_process.assign_fishnet_tiles_to_pixels(\n",
        "    f\"/content/drive/MyDrive/Google Earth Exports/{dataset}/{2016}/Final/\", \"landcover_batchID\"\n",
        ")"
      ],
      "metadata": {
        "colab": {
          "base_uri": "https://localhost:8080/",
          "height": 49,
          "referenced_widgets": [
            "9972b63ba0a84c8083f0befa2225c2ee",
            "08bf9a9dec5d478780f1c0ea7112f50f",
            "095a740c13be4f1da42657ce70865ee5",
            "bc9943e91f2a42ddb187b526c5b91394",
            "572c085d4344414baff88b1746359fbf",
            "17f0f22b9c794d399677632685e7d5a1",
            "81e301eb852f4e20bbd9a3c2393d7dd1",
            "018f845fb1224ac793c6d5319848a0a8",
            "9b24386e37384d89985867ba9563b193",
            "5dd8f1aef77b44f0b7c4b93ad183503e",
            "bd4be3cce4b942f3be101a7255d0ac87"
          ]
        },
        "id": "C1HloesDkiUu",
        "outputId": "d4960e74-6576-49cc-d253-2ffd8f952106"
      },
      "execution_count": null,
      "outputs": [
        {
          "output_type": "display_data",
          "data": {
            "text/plain": [
              "Processing Images:   0%|          | 0/117 [00:00<?, ?it/s]"
            ],
            "application/vnd.jupyter.widget-view+json": {
              "version_major": 2,
              "version_minor": 0,
              "model_id": "9972b63ba0a84c8083f0befa2225c2ee"
            }
          },
          "metadata": {}
        }
      ]
    },
    {
      "cell_type": "code",
      "source": [
        "for year in tqdm([2016, 2017, 2018, 2019, 2020, 2021, 2022]):\n",
        "    # Compute urbanization rate\n",
        "    img_process.compute_mean_tile_entropy_urbanization(\n",
        "        f\"/content/drive/MyDrive/Google Earth Exports/{year}/Final/\", \"landcover_batchID\", f\"MeanPixel_{year}\", f\"Entropy_{year}\"\n",
        "    )"
      ],
      "metadata": {
        "id": "-owfM9PZuMNj",
        "outputId": "0bfe93ca-2ae8-4a3c-d3df-9c414c6bcc07",
        "colab": {
          "base_uri": "https://localhost:8080/",
          "height": 377,
          "referenced_widgets": [
            "95bc46bf0ae847e38ae98825fbda8ad0",
            "242a034e3dca4a088d325fcd1a2c9f17",
            "0f721e0582c74b44a8a3c3f6621039e7",
            "23984be3947242a49838302e4219f2ae",
            "8bbe23db30074ad695cae6ce88fd4f00",
            "b4ebbe1e75cf448b8104b481f3bfdc34",
            "7c50dae0f07b4c54917229222eb7c60e",
            "0a64ec4df30c415a9f4b2257d65b23fb",
            "d8d3f1a2a1d34827abbb70bf4a338522",
            "8c6a204bb2804f8ba3515d94bd6af5a0",
            "9ee2991c83014fcda6ffdaa7ac34978a",
            "371f587ac92c4302a878f3430d0f55f7",
            "044f693cc56a4c4da586ddf21774812c",
            "1884d8a1a1ff4b2689bcaff2939a4154",
            "855807d1c0c54cf1affc62f203f6d3a3",
            "16d536bb1b7945d1834c63ce4e18f5cc",
            "739eab6308684d199a155d4ce9064b8a",
            "d0192165c280460585496c057cec35bb",
            "d2a5063da62c403aa6ba3ace71069657",
            "3166ebd9fe154a32bfa708b2211d10af",
            "92ff74e8085a42da93da45a01710edf2",
            "11f6c516c4c54c3bac4795b836e79b91",
            "6e744287d7334e75a426828d668d4829",
            "cacb81179ec3432da18e745642ca10b2",
            "0a09428d989b4ca0b0c73c7abb269bef",
            "e7fafc37341a49c5bbfcebb984ea5639",
            "e58d9802519342da9319a117157d87b4",
            "62ccb78fcfd54415b0601e212ea90079",
            "a5a5be1b967546fda1b0b91fbdf171f3",
            "0f68d2ed4e764843a793f4e65c4a07ee",
            "d2bd112712f74e918afe0b0e84ff24d4",
            "c9ec0832c80445f4a79efc4eb3e7b28e",
            "007aa8ec0c3a4ac28dd2bdffb9b6bdf1",
            "15b54273141d444289cdaae6febb7e27",
            "b30d8dee83424f058cbfb1f46240eefc",
            "26f7aa5a919642fe9e2c7c17f3c438ae",
            "25322ab40ceb49509d230bf6c676fed1",
            "fb237b1c4a1e49429f10a2e62a71711c",
            "7ce2d4e5564b40099648e281e371694d",
            "12b7d76133a045e68c18be095de50134",
            "69b6c778e3584682af283f91c22bfd61",
            "fe0158c46dcc46e495030a6bd805521e",
            "523f690b1a8e49a3af5b3c4259a99b3b",
            "2438c2ef513c49d3b44318fa480d4b34",
            "89f2a8cfb75342f9ad2e99a172dc5d02",
            "c3993b5595aa421ca2c5333f7e2549ad",
            "6229060fab5d4be496c98bd19462a46c",
            "5bd7742dcf21457fbe2d98e9592e34e3",
            "730680659d6f49b89afa9591eaa11ae6",
            "e9804c09dd5a46129d36c52df309eb95",
            "e6ff5c48d4e545cab1c516e167a71174",
            "fbbf228b1b924e6faea7f5f9c944cd72",
            "783d7676c38e4763aa89ca61748e7da8",
            "929f05f20c2241d4a369ec44b962c18e",
            "9b7ca23139ad44a0a1a99c73699aaeb0",
            "febc6afeede947ce99f4ec4da87484cf",
            "9ff3065c27a347fe8e013764100b2e01",
            "bd5df6eb9a944e71a237502fa8e871c3",
            "75f3c1f9b59c42aab6385478548eedd7",
            "2db784b5ece9479d9ee10905cd172f8c",
            "b45d39d3faf74f418b8eedee1fb99815",
            "60297a0b0abf422c903b574b5314cc3f",
            "42cec81c59704b8c8916ffa7de25c1b2",
            "600d76587daf4fe2bb246c200c78e752",
            "6928039627234eb6a90b6f6672269038",
            "2070e23f4ec54c9194eccc6146bb0bc7",
            "4dd7a0898ef7401aa28a1b7bf08729fb",
            "50f7acc7ff2a48ed8ae67fff4881ff9b",
            "2219dcb9510e4ec6bcd0ee717177bcf4",
            "095e96367ad945b59a6ae3699b2821a4",
            "e6986882b39d4eec8540e9f73225eb45",
            "64fcc4759a144cd6856e1fc042a2ea49",
            "e8546ea6287341328729a3dc4cec8538",
            "7f82f2a9c7a54f1eac5ebc9933441c7f",
            "8bb430727a01443091affa4bec43a604",
            "c9cc8aafc3ba4912aeea0e756da4ca99",
            "16eafb63e834437a86364ed96bb2d45c"
          ]
        }
      },
      "execution_count": null,
      "outputs": [
        {
          "output_type": "stream",
          "name": "stderr",
          "text": [
            "\r  0%|          | 0/7 [00:00<?, ?it/s]"
          ]
        },
        {
          "output_type": "display_data",
          "data": {
            "text/plain": [
              "Processing Images:   0%|          | 0/117 [00:00<?, ?it/s]"
            ],
            "application/vnd.jupyter.widget-view+json": {
              "version_major": 2,
              "version_minor": 0,
              "model_id": "95bc46bf0ae847e38ae98825fbda8ad0"
            }
          },
          "metadata": {}
        },
        {
          "output_type": "stream",
          "name": "stderr",
          "text": [
            "\r 14%|█▍        | 1/7 [00:10<01:00, 10.15s/it]"
          ]
        },
        {
          "output_type": "display_data",
          "data": {
            "text/plain": [
              "Processing Images:   0%|          | 0/117 [00:00<?, ?it/s]"
            ],
            "application/vnd.jupyter.widget-view+json": {
              "version_major": 2,
              "version_minor": 0,
              "model_id": "371f587ac92c4302a878f3430d0f55f7"
            }
          },
          "metadata": {}
        },
        {
          "output_type": "stream",
          "name": "stderr",
          "text": [
            "\r 29%|██▊       | 2/7 [00:21<00:53, 10.78s/it]"
          ]
        },
        {
          "output_type": "display_data",
          "data": {
            "text/plain": [
              "Processing Images:   0%|          | 0/117 [00:00<?, ?it/s]"
            ],
            "application/vnd.jupyter.widget-view+json": {
              "version_major": 2,
              "version_minor": 0,
              "model_id": "6e744287d7334e75a426828d668d4829"
            }
          },
          "metadata": {}
        },
        {
          "output_type": "stream",
          "name": "stderr",
          "text": [
            "\r 43%|████▎     | 3/7 [00:32<00:44, 11.03s/it]"
          ]
        },
        {
          "output_type": "display_data",
          "data": {
            "text/plain": [
              "Processing Images:   0%|          | 0/117 [00:00<?, ?it/s]"
            ],
            "application/vnd.jupyter.widget-view+json": {
              "version_major": 2,
              "version_minor": 0,
              "model_id": "15b54273141d444289cdaae6febb7e27"
            }
          },
          "metadata": {}
        },
        {
          "output_type": "stream",
          "name": "stderr",
          "text": [
            "\r 57%|█████▋    | 4/7 [00:43<00:33, 11.12s/it]"
          ]
        },
        {
          "output_type": "display_data",
          "data": {
            "text/plain": [
              "Processing Images:   0%|          | 0/117 [00:00<?, ?it/s]"
            ],
            "application/vnd.jupyter.widget-view+json": {
              "version_major": 2,
              "version_minor": 0,
              "model_id": "89f2a8cfb75342f9ad2e99a172dc5d02"
            }
          },
          "metadata": {}
        },
        {
          "output_type": "stream",
          "name": "stderr",
          "text": [
            "\r 71%|███████▏  | 5/7 [00:54<00:22, 11.02s/it]"
          ]
        },
        {
          "output_type": "display_data",
          "data": {
            "text/plain": [
              "Processing Images:   0%|          | 0/117 [00:00<?, ?it/s]"
            ],
            "application/vnd.jupyter.widget-view+json": {
              "version_major": 2,
              "version_minor": 0,
              "model_id": "febc6afeede947ce99f4ec4da87484cf"
            }
          },
          "metadata": {}
        },
        {
          "output_type": "stream",
          "name": "stderr",
          "text": [
            "\r 86%|████████▌ | 6/7 [01:12<00:13, 13.41s/it]"
          ]
        },
        {
          "output_type": "display_data",
          "data": {
            "text/plain": [
              "Processing Images:   0%|          | 0/117 [00:00<?, ?it/s]"
            ],
            "application/vnd.jupyter.widget-view+json": {
              "version_major": 2,
              "version_minor": 0,
              "model_id": "4dd7a0898ef7401aa28a1b7bf08729fb"
            }
          },
          "metadata": {}
        },
        {
          "output_type": "stream",
          "name": "stderr",
          "text": [
            "100%|██████████| 7/7 [01:35<00:00, 13.65s/it]\n"
          ]
        }
      ]
    },
    {
      "cell_type": "code",
      "execution_count": null,
      "metadata": {
        "id": "gcOuICQ-rApl"
      },
      "outputs": [],
      "source": [
        "# Save the new fishnet\n",
        "fishnet_creator_example.save('/content/drive/MyDrive/Code/Gis/Fishnet/fishnet_quarter_mile_completed.pkl')"
      ]
    },
    {
      "cell_type": "code",
      "source": [
        "fishnet_creator_example.filtered_fishnet.head()"
      ],
      "metadata": {
        "id": "6aSTLgqPyUD1",
        "outputId": "1ddbc360-b9e1-41ed-efc9-c56b80447af0",
        "colab": {
          "base_uri": "https://localhost:8080/",
          "height": 637
        }
      },
      "execution_count": null,
      "outputs": [
        {
          "output_type": "execute_result",
          "data": {
            "text/plain": [
              "                id                                           geometry  \\\n",
              "6060154  6060154.0  POLYGON ((-95.79985 29.79208, -95.79985 29.795...   \n",
              "6060155  6060155.0  POLYGON ((-95.79583 29.79208, -95.79583 29.795...   \n",
              "6060156  6060156.0  POLYGON ((-95.79181 29.79208, -95.79181 29.795...   \n",
              "6060157  6060157.0  POLYGON ((-95.78778 29.79208, -95.78778 29.795...   \n",
              "6060158  6060158.0  POLYGON ((-95.78376 29.79208, -95.78376 29.795...   \n",
              "\n",
              "         batch_id                                          neighbors  \\\n",
              "6060154   23743.0  [6056884, 6056885, 6056886, 6060153, 6060155, ...   \n",
              "6060155   23743.0  [6056885, 6056886, 6056887, 6060154, 6060156, ...   \n",
              "6060156   23743.0  [6056886, 6056887, 6056888, 6060155, 6060157, ...   \n",
              "6060157   23743.0  [6056887, 6056888, 6056889, 6060156, 6060158, ...   \n",
              "6060158   23743.0  [6056888, 6056889, 6056890, 6060157, 6060159, ...   \n",
              "\n",
              "             ImageCoordinates  Width  Height  MeanPixel_2016  Entropy_2016  \\\n",
              "6060154  (403, 524, 448, 564)   45.0    40.0      181.191667      0.868003   \n",
              "6060155  (448, 524, 492, 564)   44.0    40.0      204.724432      0.716210   \n",
              "6060156  (492, 524, 537, 564)   45.0    40.0      140.250000      0.992774   \n",
              "6060157  (537, 524, 582, 564)   45.0    40.0      114.041667      0.991948   \n",
              "6060158  (582, 524, 627, 564)   45.0    40.0      197.200000      0.772155   \n",
              "\n",
              "         MeanPixel_2017  ...  MeanPixel_2018  Entropy_2018  MeanPixel_2019  \\\n",
              "6060154      197.341667  ...      222.275000      0.552850      219.583333   \n",
              "6060155      213.272727  ...      229.355114      0.470794      228.485795   \n",
              "6060156      133.025000  ...      136.708333      0.996234      147.333333   \n",
              "6060157      100.583333  ...      114.466667      0.992449      205.700000   \n",
              "6060158      198.900000  ...      195.358333      0.784729      210.941667   \n",
              "\n",
              "         Entropy_2019  MeanPixel_2020  Entropy_2020  MeanPixel_2021  \\\n",
              "6060154      0.581321      225.958333      0.511536      233.041667   \n",
              "6060155      0.481478      230.948864      0.450721      237.613636   \n",
              "6060156      0.982474      148.750000      0.979869      168.583333   \n",
              "6060157      0.708393      223.833333      0.535715      214.200000   \n",
              "6060158      0.664020      212.075000      0.653878      196.066667   \n",
              "\n",
              "         Entropy_2021  MeanPixel_2022  Entropy_2022  \n",
              "6060154      0.423354      237.008333      0.367993  \n",
              "6060155      0.359102      241.815341      0.293594  \n",
              "6060156      0.923751      168.583333      0.923751  \n",
              "6060157      0.634310      217.458333      0.602845  \n",
              "6060158      0.779943      206.550000      0.701471  \n",
              "\n",
              "[5 rows x 21 columns]"
            ],
            "text/html": [
              "\n",
              "  <div id=\"df-850861ae-a537-4833-a5f3-82d80a412590\">\n",
              "    <div class=\"colab-df-container\">\n",
              "      <div>\n",
              "<style scoped>\n",
              "    .dataframe tbody tr th:only-of-type {\n",
              "        vertical-align: middle;\n",
              "    }\n",
              "\n",
              "    .dataframe tbody tr th {\n",
              "        vertical-align: top;\n",
              "    }\n",
              "\n",
              "    .dataframe thead th {\n",
              "        text-align: right;\n",
              "    }\n",
              "</style>\n",
              "<table border=\"1\" class=\"dataframe\">\n",
              "  <thead>\n",
              "    <tr style=\"text-align: right;\">\n",
              "      <th></th>\n",
              "      <th>id</th>\n",
              "      <th>geometry</th>\n",
              "      <th>batch_id</th>\n",
              "      <th>neighbors</th>\n",
              "      <th>ImageCoordinates</th>\n",
              "      <th>Width</th>\n",
              "      <th>Height</th>\n",
              "      <th>MeanPixel_2016</th>\n",
              "      <th>Entropy_2016</th>\n",
              "      <th>MeanPixel_2017</th>\n",
              "      <th>...</th>\n",
              "      <th>MeanPixel_2018</th>\n",
              "      <th>Entropy_2018</th>\n",
              "      <th>MeanPixel_2019</th>\n",
              "      <th>Entropy_2019</th>\n",
              "      <th>MeanPixel_2020</th>\n",
              "      <th>Entropy_2020</th>\n",
              "      <th>MeanPixel_2021</th>\n",
              "      <th>Entropy_2021</th>\n",
              "      <th>MeanPixel_2022</th>\n",
              "      <th>Entropy_2022</th>\n",
              "    </tr>\n",
              "  </thead>\n",
              "  <tbody>\n",
              "    <tr>\n",
              "      <th>6060154</th>\n",
              "      <td>6060154.0</td>\n",
              "      <td>POLYGON ((-95.79985 29.79208, -95.79985 29.795...</td>\n",
              "      <td>23743.0</td>\n",
              "      <td>[6056884, 6056885, 6056886, 6060153, 6060155, ...</td>\n",
              "      <td>(403, 524, 448, 564)</td>\n",
              "      <td>45.0</td>\n",
              "      <td>40.0</td>\n",
              "      <td>181.191667</td>\n",
              "      <td>0.868003</td>\n",
              "      <td>197.341667</td>\n",
              "      <td>...</td>\n",
              "      <td>222.275000</td>\n",
              "      <td>0.552850</td>\n",
              "      <td>219.583333</td>\n",
              "      <td>0.581321</td>\n",
              "      <td>225.958333</td>\n",
              "      <td>0.511536</td>\n",
              "      <td>233.041667</td>\n",
              "      <td>0.423354</td>\n",
              "      <td>237.008333</td>\n",
              "      <td>0.367993</td>\n",
              "    </tr>\n",
              "    <tr>\n",
              "      <th>6060155</th>\n",
              "      <td>6060155.0</td>\n",
              "      <td>POLYGON ((-95.79583 29.79208, -95.79583 29.795...</td>\n",
              "      <td>23743.0</td>\n",
              "      <td>[6056885, 6056886, 6056887, 6060154, 6060156, ...</td>\n",
              "      <td>(448, 524, 492, 564)</td>\n",
              "      <td>44.0</td>\n",
              "      <td>40.0</td>\n",
              "      <td>204.724432</td>\n",
              "      <td>0.716210</td>\n",
              "      <td>213.272727</td>\n",
              "      <td>...</td>\n",
              "      <td>229.355114</td>\n",
              "      <td>0.470794</td>\n",
              "      <td>228.485795</td>\n",
              "      <td>0.481478</td>\n",
              "      <td>230.948864</td>\n",
              "      <td>0.450721</td>\n",
              "      <td>237.613636</td>\n",
              "      <td>0.359102</td>\n",
              "      <td>241.815341</td>\n",
              "      <td>0.293594</td>\n",
              "    </tr>\n",
              "    <tr>\n",
              "      <th>6060156</th>\n",
              "      <td>6060156.0</td>\n",
              "      <td>POLYGON ((-95.79181 29.79208, -95.79181 29.795...</td>\n",
              "      <td>23743.0</td>\n",
              "      <td>[6056886, 6056887, 6056888, 6060155, 6060157, ...</td>\n",
              "      <td>(492, 524, 537, 564)</td>\n",
              "      <td>45.0</td>\n",
              "      <td>40.0</td>\n",
              "      <td>140.250000</td>\n",
              "      <td>0.992774</td>\n",
              "      <td>133.025000</td>\n",
              "      <td>...</td>\n",
              "      <td>136.708333</td>\n",
              "      <td>0.996234</td>\n",
              "      <td>147.333333</td>\n",
              "      <td>0.982474</td>\n",
              "      <td>148.750000</td>\n",
              "      <td>0.979869</td>\n",
              "      <td>168.583333</td>\n",
              "      <td>0.923751</td>\n",
              "      <td>168.583333</td>\n",
              "      <td>0.923751</td>\n",
              "    </tr>\n",
              "    <tr>\n",
              "      <th>6060157</th>\n",
              "      <td>6060157.0</td>\n",
              "      <td>POLYGON ((-95.78778 29.79208, -95.78778 29.795...</td>\n",
              "      <td>23743.0</td>\n",
              "      <td>[6056887, 6056888, 6056889, 6060156, 6060158, ...</td>\n",
              "      <td>(537, 524, 582, 564)</td>\n",
              "      <td>45.0</td>\n",
              "      <td>40.0</td>\n",
              "      <td>114.041667</td>\n",
              "      <td>0.991948</td>\n",
              "      <td>100.583333</td>\n",
              "      <td>...</td>\n",
              "      <td>114.466667</td>\n",
              "      <td>0.992449</td>\n",
              "      <td>205.700000</td>\n",
              "      <td>0.708393</td>\n",
              "      <td>223.833333</td>\n",
              "      <td>0.535715</td>\n",
              "      <td>214.200000</td>\n",
              "      <td>0.634310</td>\n",
              "      <td>217.458333</td>\n",
              "      <td>0.602845</td>\n",
              "    </tr>\n",
              "    <tr>\n",
              "      <th>6060158</th>\n",
              "      <td>6060158.0</td>\n",
              "      <td>POLYGON ((-95.78376 29.79208, -95.78376 29.795...</td>\n",
              "      <td>23743.0</td>\n",
              "      <td>[6056888, 6056889, 6056890, 6060157, 6060159, ...</td>\n",
              "      <td>(582, 524, 627, 564)</td>\n",
              "      <td>45.0</td>\n",
              "      <td>40.0</td>\n",
              "      <td>197.200000</td>\n",
              "      <td>0.772155</td>\n",
              "      <td>198.900000</td>\n",
              "      <td>...</td>\n",
              "      <td>195.358333</td>\n",
              "      <td>0.784729</td>\n",
              "      <td>210.941667</td>\n",
              "      <td>0.664020</td>\n",
              "      <td>212.075000</td>\n",
              "      <td>0.653878</td>\n",
              "      <td>196.066667</td>\n",
              "      <td>0.779943</td>\n",
              "      <td>206.550000</td>\n",
              "      <td>0.701471</td>\n",
              "    </tr>\n",
              "  </tbody>\n",
              "</table>\n",
              "<p>5 rows × 21 columns</p>\n",
              "</div>\n",
              "      <button class=\"colab-df-convert\" onclick=\"convertToInteractive('df-850861ae-a537-4833-a5f3-82d80a412590')\"\n",
              "              title=\"Convert this dataframe to an interactive table.\"\n",
              "              style=\"display:none;\">\n",
              "        \n",
              "  <svg xmlns=\"http://www.w3.org/2000/svg\" height=\"24px\"viewBox=\"0 0 24 24\"\n",
              "       width=\"24px\">\n",
              "    <path d=\"M0 0h24v24H0V0z\" fill=\"none\"/>\n",
              "    <path d=\"M18.56 5.44l.94 2.06.94-2.06 2.06-.94-2.06-.94-.94-2.06-.94 2.06-2.06.94zm-11 1L8.5 8.5l.94-2.06 2.06-.94-2.06-.94L8.5 2.5l-.94 2.06-2.06.94zm10 10l.94 2.06.94-2.06 2.06-.94-2.06-.94-.94-2.06-.94 2.06-2.06.94z\"/><path d=\"M17.41 7.96l-1.37-1.37c-.4-.4-.92-.59-1.43-.59-.52 0-1.04.2-1.43.59L10.3 9.45l-7.72 7.72c-.78.78-.78 2.05 0 2.83L4 21.41c.39.39.9.59 1.41.59.51 0 1.02-.2 1.41-.59l7.78-7.78 2.81-2.81c.8-.78.8-2.07 0-2.86zM5.41 20L4 18.59l7.72-7.72 1.47 1.35L5.41 20z\"/>\n",
              "  </svg>\n",
              "      </button>\n",
              "      \n",
              "  <style>\n",
              "    .colab-df-container {\n",
              "      display:flex;\n",
              "      flex-wrap:wrap;\n",
              "      gap: 12px;\n",
              "    }\n",
              "\n",
              "    .colab-df-convert {\n",
              "      background-color: #E8F0FE;\n",
              "      border: none;\n",
              "      border-radius: 50%;\n",
              "      cursor: pointer;\n",
              "      display: none;\n",
              "      fill: #1967D2;\n",
              "      height: 32px;\n",
              "      padding: 0 0 0 0;\n",
              "      width: 32px;\n",
              "    }\n",
              "\n",
              "    .colab-df-convert:hover {\n",
              "      background-color: #E2EBFA;\n",
              "      box-shadow: 0px 1px 2px rgba(60, 64, 67, 0.3), 0px 1px 3px 1px rgba(60, 64, 67, 0.15);\n",
              "      fill: #174EA6;\n",
              "    }\n",
              "\n",
              "    [theme=dark] .colab-df-convert {\n",
              "      background-color: #3B4455;\n",
              "      fill: #D2E3FC;\n",
              "    }\n",
              "\n",
              "    [theme=dark] .colab-df-convert:hover {\n",
              "      background-color: #434B5C;\n",
              "      box-shadow: 0px 1px 3px 1px rgba(0, 0, 0, 0.15);\n",
              "      filter: drop-shadow(0px 1px 2px rgba(0, 0, 0, 0.3));\n",
              "      fill: #FFFFFF;\n",
              "    }\n",
              "  </style>\n",
              "\n",
              "      <script>\n",
              "        const buttonEl =\n",
              "          document.querySelector('#df-850861ae-a537-4833-a5f3-82d80a412590 button.colab-df-convert');\n",
              "        buttonEl.style.display =\n",
              "          google.colab.kernel.accessAllowed ? 'block' : 'none';\n",
              "\n",
              "        async function convertToInteractive(key) {\n",
              "          const element = document.querySelector('#df-850861ae-a537-4833-a5f3-82d80a412590');\n",
              "          const dataTable =\n",
              "            await google.colab.kernel.invokeFunction('convertToInteractive',\n",
              "                                                     [key], {});\n",
              "          if (!dataTable) return;\n",
              "\n",
              "          const docLinkHtml = 'Like what you see? Visit the ' +\n",
              "            '<a target=\"_blank\" href=https://colab.research.google.com/notebooks/data_table.ipynb>data table notebook</a>'\n",
              "            + ' to learn more about interactive tables.';\n",
              "          element.innerHTML = '';\n",
              "          dataTable['output_type'] = 'display_data';\n",
              "          await google.colab.output.renderOutput(dataTable, element);\n",
              "          const docLink = document.createElement('div');\n",
              "          docLink.innerHTML = docLinkHtml;\n",
              "          element.appendChild(docLink);\n",
              "        }\n",
              "      </script>\n",
              "    </div>\n",
              "  </div>\n",
              "  "
            ]
          },
          "metadata": {},
          "execution_count": 36
        }
      ]
    },
    {
      "cell_type": "markdown",
      "source": [
        "\n",
        "# <font color = 'red'> Fix Image Processor Class </font>"
      ],
      "metadata": {
        "id": "feBRki7RfmNx"
      }
    }
  ],
  "metadata": {
    "kernelspec": {
      "display_name": "Python 3",
      "name": "python3"
    },
    "language_info": {
      "codemirror_mode": {
        "name": "ipython",
        "version": 3
      },
      "file_extension": ".py",
      "mimetype": "text/x-python",
      "name": "python",
      "nbconvert_exporter": "python",
      "pygments_lexer": "ipython3",
      "version": "3.11.2"
    },
    "orig_nbformat": 4,
    "colab": {
      "provenance": [],
      "machine_shape": "hm",
      "gpuType": "T4",
      "include_colab_link": true
    },
    "widgets": {
      "application/vnd.jupyter.widget-state+json": {
        "9972b63ba0a84c8083f0befa2225c2ee": {
          "model_module": "@jupyter-widgets/controls",
          "model_name": "HBoxModel",
          "model_module_version": "1.5.0",
          "state": {
            "_dom_classes": [],
            "_model_module": "@jupyter-widgets/controls",
            "_model_module_version": "1.5.0",
            "_model_name": "HBoxModel",
            "_view_count": null,
            "_view_module": "@jupyter-widgets/controls",
            "_view_module_version": "1.5.0",
            "_view_name": "HBoxView",
            "box_style": "",
            "children": [
              "IPY_MODEL_08bf9a9dec5d478780f1c0ea7112f50f",
              "IPY_MODEL_095a740c13be4f1da42657ce70865ee5",
              "IPY_MODEL_bc9943e91f2a42ddb187b526c5b91394"
            ],
            "layout": "IPY_MODEL_572c085d4344414baff88b1746359fbf"
          }
        },
        "08bf9a9dec5d478780f1c0ea7112f50f": {
          "model_module": "@jupyter-widgets/controls",
          "model_name": "HTMLModel",
          "model_module_version": "1.5.0",
          "state": {
            "_dom_classes": [],
            "_model_module": "@jupyter-widgets/controls",
            "_model_module_version": "1.5.0",
            "_model_name": "HTMLModel",
            "_view_count": null,
            "_view_module": "@jupyter-widgets/controls",
            "_view_module_version": "1.5.0",
            "_view_name": "HTMLView",
            "description": "",
            "description_tooltip": null,
            "layout": "IPY_MODEL_17f0f22b9c794d399677632685e7d5a1",
            "placeholder": "​",
            "style": "IPY_MODEL_81e301eb852f4e20bbd9a3c2393d7dd1",
            "value": "Processing Images: 100%"
          }
        },
        "095a740c13be4f1da42657ce70865ee5": {
          "model_module": "@jupyter-widgets/controls",
          "model_name": "FloatProgressModel",
          "model_module_version": "1.5.0",
          "state": {
            "_dom_classes": [],
            "_model_module": "@jupyter-widgets/controls",
            "_model_module_version": "1.5.0",
            "_model_name": "FloatProgressModel",
            "_view_count": null,
            "_view_module": "@jupyter-widgets/controls",
            "_view_module_version": "1.5.0",
            "_view_name": "ProgressView",
            "bar_style": "success",
            "description": "",
            "description_tooltip": null,
            "layout": "IPY_MODEL_018f845fb1224ac793c6d5319848a0a8",
            "max": 117,
            "min": 0,
            "orientation": "horizontal",
            "style": "IPY_MODEL_9b24386e37384d89985867ba9563b193",
            "value": 117
          }
        },
        "bc9943e91f2a42ddb187b526c5b91394": {
          "model_module": "@jupyter-widgets/controls",
          "model_name": "HTMLModel",
          "model_module_version": "1.5.0",
          "state": {
            "_dom_classes": [],
            "_model_module": "@jupyter-widgets/controls",
            "_model_module_version": "1.5.0",
            "_model_name": "HTMLModel",
            "_view_count": null,
            "_view_module": "@jupyter-widgets/controls",
            "_view_module_version": "1.5.0",
            "_view_name": "HTMLView",
            "description": "",
            "description_tooltip": null,
            "layout": "IPY_MODEL_5dd8f1aef77b44f0b7c4b93ad183503e",
            "placeholder": "​",
            "style": "IPY_MODEL_bd4be3cce4b942f3be101a7255d0ac87",
            "value": " 117/117 [00:07&lt;00:00, 14.12it/s]"
          }
        },
        "572c085d4344414baff88b1746359fbf": {
          "model_module": "@jupyter-widgets/base",
          "model_name": "LayoutModel",
          "model_module_version": "1.2.0",
          "state": {
            "_model_module": "@jupyter-widgets/base",
            "_model_module_version": "1.2.0",
            "_model_name": "LayoutModel",
            "_view_count": null,
            "_view_module": "@jupyter-widgets/base",
            "_view_module_version": "1.2.0",
            "_view_name": "LayoutView",
            "align_content": null,
            "align_items": null,
            "align_self": null,
            "border": null,
            "bottom": null,
            "display": null,
            "flex": null,
            "flex_flow": null,
            "grid_area": null,
            "grid_auto_columns": null,
            "grid_auto_flow": null,
            "grid_auto_rows": null,
            "grid_column": null,
            "grid_gap": null,
            "grid_row": null,
            "grid_template_areas": null,
            "grid_template_columns": null,
            "grid_template_rows": null,
            "height": null,
            "justify_content": null,
            "justify_items": null,
            "left": null,
            "margin": null,
            "max_height": null,
            "max_width": null,
            "min_height": null,
            "min_width": null,
            "object_fit": null,
            "object_position": null,
            "order": null,
            "overflow": null,
            "overflow_x": null,
            "overflow_y": null,
            "padding": null,
            "right": null,
            "top": null,
            "visibility": null,
            "width": null
          }
        },
        "17f0f22b9c794d399677632685e7d5a1": {
          "model_module": "@jupyter-widgets/base",
          "model_name": "LayoutModel",
          "model_module_version": "1.2.0",
          "state": {
            "_model_module": "@jupyter-widgets/base",
            "_model_module_version": "1.2.0",
            "_model_name": "LayoutModel",
            "_view_count": null,
            "_view_module": "@jupyter-widgets/base",
            "_view_module_version": "1.2.0",
            "_view_name": "LayoutView",
            "align_content": null,
            "align_items": null,
            "align_self": null,
            "border": null,
            "bottom": null,
            "display": null,
            "flex": null,
            "flex_flow": null,
            "grid_area": null,
            "grid_auto_columns": null,
            "grid_auto_flow": null,
            "grid_auto_rows": null,
            "grid_column": null,
            "grid_gap": null,
            "grid_row": null,
            "grid_template_areas": null,
            "grid_template_columns": null,
            "grid_template_rows": null,
            "height": null,
            "justify_content": null,
            "justify_items": null,
            "left": null,
            "margin": null,
            "max_height": null,
            "max_width": null,
            "min_height": null,
            "min_width": null,
            "object_fit": null,
            "object_position": null,
            "order": null,
            "overflow": null,
            "overflow_x": null,
            "overflow_y": null,
            "padding": null,
            "right": null,
            "top": null,
            "visibility": null,
            "width": null
          }
        },
        "81e301eb852f4e20bbd9a3c2393d7dd1": {
          "model_module": "@jupyter-widgets/controls",
          "model_name": "DescriptionStyleModel",
          "model_module_version": "1.5.0",
          "state": {
            "_model_module": "@jupyter-widgets/controls",
            "_model_module_version": "1.5.0",
            "_model_name": "DescriptionStyleModel",
            "_view_count": null,
            "_view_module": "@jupyter-widgets/base",
            "_view_module_version": "1.2.0",
            "_view_name": "StyleView",
            "description_width": ""
          }
        },
        "018f845fb1224ac793c6d5319848a0a8": {
          "model_module": "@jupyter-widgets/base",
          "model_name": "LayoutModel",
          "model_module_version": "1.2.0",
          "state": {
            "_model_module": "@jupyter-widgets/base",
            "_model_module_version": "1.2.0",
            "_model_name": "LayoutModel",
            "_view_count": null,
            "_view_module": "@jupyter-widgets/base",
            "_view_module_version": "1.2.0",
            "_view_name": "LayoutView",
            "align_content": null,
            "align_items": null,
            "align_self": null,
            "border": null,
            "bottom": null,
            "display": null,
            "flex": null,
            "flex_flow": null,
            "grid_area": null,
            "grid_auto_columns": null,
            "grid_auto_flow": null,
            "grid_auto_rows": null,
            "grid_column": null,
            "grid_gap": null,
            "grid_row": null,
            "grid_template_areas": null,
            "grid_template_columns": null,
            "grid_template_rows": null,
            "height": null,
            "justify_content": null,
            "justify_items": null,
            "left": null,
            "margin": null,
            "max_height": null,
            "max_width": null,
            "min_height": null,
            "min_width": null,
            "object_fit": null,
            "object_position": null,
            "order": null,
            "overflow": null,
            "overflow_x": null,
            "overflow_y": null,
            "padding": null,
            "right": null,
            "top": null,
            "visibility": null,
            "width": null
          }
        },
        "9b24386e37384d89985867ba9563b193": {
          "model_module": "@jupyter-widgets/controls",
          "model_name": "ProgressStyleModel",
          "model_module_version": "1.5.0",
          "state": {
            "_model_module": "@jupyter-widgets/controls",
            "_model_module_version": "1.5.0",
            "_model_name": "ProgressStyleModel",
            "_view_count": null,
            "_view_module": "@jupyter-widgets/base",
            "_view_module_version": "1.2.0",
            "_view_name": "StyleView",
            "bar_color": null,
            "description_width": ""
          }
        },
        "5dd8f1aef77b44f0b7c4b93ad183503e": {
          "model_module": "@jupyter-widgets/base",
          "model_name": "LayoutModel",
          "model_module_version": "1.2.0",
          "state": {
            "_model_module": "@jupyter-widgets/base",
            "_model_module_version": "1.2.0",
            "_model_name": "LayoutModel",
            "_view_count": null,
            "_view_module": "@jupyter-widgets/base",
            "_view_module_version": "1.2.0",
            "_view_name": "LayoutView",
            "align_content": null,
            "align_items": null,
            "align_self": null,
            "border": null,
            "bottom": null,
            "display": null,
            "flex": null,
            "flex_flow": null,
            "grid_area": null,
            "grid_auto_columns": null,
            "grid_auto_flow": null,
            "grid_auto_rows": null,
            "grid_column": null,
            "grid_gap": null,
            "grid_row": null,
            "grid_template_areas": null,
            "grid_template_columns": null,
            "grid_template_rows": null,
            "height": null,
            "justify_content": null,
            "justify_items": null,
            "left": null,
            "margin": null,
            "max_height": null,
            "max_width": null,
            "min_height": null,
            "min_width": null,
            "object_fit": null,
            "object_position": null,
            "order": null,
            "overflow": null,
            "overflow_x": null,
            "overflow_y": null,
            "padding": null,
            "right": null,
            "top": null,
            "visibility": null,
            "width": null
          }
        },
        "bd4be3cce4b942f3be101a7255d0ac87": {
          "model_module": "@jupyter-widgets/controls",
          "model_name": "DescriptionStyleModel",
          "model_module_version": "1.5.0",
          "state": {
            "_model_module": "@jupyter-widgets/controls",
            "_model_module_version": "1.5.0",
            "_model_name": "DescriptionStyleModel",
            "_view_count": null,
            "_view_module": "@jupyter-widgets/base",
            "_view_module_version": "1.2.0",
            "_view_name": "StyleView",
            "description_width": ""
          }
        },
        "95bc46bf0ae847e38ae98825fbda8ad0": {
          "model_module": "@jupyter-widgets/controls",
          "model_name": "HBoxModel",
          "model_module_version": "1.5.0",
          "state": {
            "_dom_classes": [],
            "_model_module": "@jupyter-widgets/controls",
            "_model_module_version": "1.5.0",
            "_model_name": "HBoxModel",
            "_view_count": null,
            "_view_module": "@jupyter-widgets/controls",
            "_view_module_version": "1.5.0",
            "_view_name": "HBoxView",
            "box_style": "",
            "children": [
              "IPY_MODEL_242a034e3dca4a088d325fcd1a2c9f17",
              "IPY_MODEL_0f721e0582c74b44a8a3c3f6621039e7",
              "IPY_MODEL_23984be3947242a49838302e4219f2ae"
            ],
            "layout": "IPY_MODEL_8bbe23db30074ad695cae6ce88fd4f00"
          }
        },
        "242a034e3dca4a088d325fcd1a2c9f17": {
          "model_module": "@jupyter-widgets/controls",
          "model_name": "HTMLModel",
          "model_module_version": "1.5.0",
          "state": {
            "_dom_classes": [],
            "_model_module": "@jupyter-widgets/controls",
            "_model_module_version": "1.5.0",
            "_model_name": "HTMLModel",
            "_view_count": null,
            "_view_module": "@jupyter-widgets/controls",
            "_view_module_version": "1.5.0",
            "_view_name": "HTMLView",
            "description": "",
            "description_tooltip": null,
            "layout": "IPY_MODEL_b4ebbe1e75cf448b8104b481f3bfdc34",
            "placeholder": "​",
            "style": "IPY_MODEL_7c50dae0f07b4c54917229222eb7c60e",
            "value": "Processing Images: 100%"
          }
        },
        "0f721e0582c74b44a8a3c3f6621039e7": {
          "model_module": "@jupyter-widgets/controls",
          "model_name": "FloatProgressModel",
          "model_module_version": "1.5.0",
          "state": {
            "_dom_classes": [],
            "_model_module": "@jupyter-widgets/controls",
            "_model_module_version": "1.5.0",
            "_model_name": "FloatProgressModel",
            "_view_count": null,
            "_view_module": "@jupyter-widgets/controls",
            "_view_module_version": "1.5.0",
            "_view_name": "ProgressView",
            "bar_style": "success",
            "description": "",
            "description_tooltip": null,
            "layout": "IPY_MODEL_0a64ec4df30c415a9f4b2257d65b23fb",
            "max": 117,
            "min": 0,
            "orientation": "horizontal",
            "style": "IPY_MODEL_d8d3f1a2a1d34827abbb70bf4a338522",
            "value": 117
          }
        },
        "23984be3947242a49838302e4219f2ae": {
          "model_module": "@jupyter-widgets/controls",
          "model_name": "HTMLModel",
          "model_module_version": "1.5.0",
          "state": {
            "_dom_classes": [],
            "_model_module": "@jupyter-widgets/controls",
            "_model_module_version": "1.5.0",
            "_model_name": "HTMLModel",
            "_view_count": null,
            "_view_module": "@jupyter-widgets/controls",
            "_view_module_version": "1.5.0",
            "_view_name": "HTMLView",
            "description": "",
            "description_tooltip": null,
            "layout": "IPY_MODEL_8c6a204bb2804f8ba3515d94bd6af5a0",
            "placeholder": "​",
            "style": "IPY_MODEL_9ee2991c83014fcda6ffdaa7ac34978a",
            "value": " 117/117 [00:10&lt;00:00, 16.36it/s]"
          }
        },
        "8bbe23db30074ad695cae6ce88fd4f00": {
          "model_module": "@jupyter-widgets/base",
          "model_name": "LayoutModel",
          "model_module_version": "1.2.0",
          "state": {
            "_model_module": "@jupyter-widgets/base",
            "_model_module_version": "1.2.0",
            "_model_name": "LayoutModel",
            "_view_count": null,
            "_view_module": "@jupyter-widgets/base",
            "_view_module_version": "1.2.0",
            "_view_name": "LayoutView",
            "align_content": null,
            "align_items": null,
            "align_self": null,
            "border": null,
            "bottom": null,
            "display": null,
            "flex": null,
            "flex_flow": null,
            "grid_area": null,
            "grid_auto_columns": null,
            "grid_auto_flow": null,
            "grid_auto_rows": null,
            "grid_column": null,
            "grid_gap": null,
            "grid_row": null,
            "grid_template_areas": null,
            "grid_template_columns": null,
            "grid_template_rows": null,
            "height": null,
            "justify_content": null,
            "justify_items": null,
            "left": null,
            "margin": null,
            "max_height": null,
            "max_width": null,
            "min_height": null,
            "min_width": null,
            "object_fit": null,
            "object_position": null,
            "order": null,
            "overflow": null,
            "overflow_x": null,
            "overflow_y": null,
            "padding": null,
            "right": null,
            "top": null,
            "visibility": null,
            "width": null
          }
        },
        "b4ebbe1e75cf448b8104b481f3bfdc34": {
          "model_module": "@jupyter-widgets/base",
          "model_name": "LayoutModel",
          "model_module_version": "1.2.0",
          "state": {
            "_model_module": "@jupyter-widgets/base",
            "_model_module_version": "1.2.0",
            "_model_name": "LayoutModel",
            "_view_count": null,
            "_view_module": "@jupyter-widgets/base",
            "_view_module_version": "1.2.0",
            "_view_name": "LayoutView",
            "align_content": null,
            "align_items": null,
            "align_self": null,
            "border": null,
            "bottom": null,
            "display": null,
            "flex": null,
            "flex_flow": null,
            "grid_area": null,
            "grid_auto_columns": null,
            "grid_auto_flow": null,
            "grid_auto_rows": null,
            "grid_column": null,
            "grid_gap": null,
            "grid_row": null,
            "grid_template_areas": null,
            "grid_template_columns": null,
            "grid_template_rows": null,
            "height": null,
            "justify_content": null,
            "justify_items": null,
            "left": null,
            "margin": null,
            "max_height": null,
            "max_width": null,
            "min_height": null,
            "min_width": null,
            "object_fit": null,
            "object_position": null,
            "order": null,
            "overflow": null,
            "overflow_x": null,
            "overflow_y": null,
            "padding": null,
            "right": null,
            "top": null,
            "visibility": null,
            "width": null
          }
        },
        "7c50dae0f07b4c54917229222eb7c60e": {
          "model_module": "@jupyter-widgets/controls",
          "model_name": "DescriptionStyleModel",
          "model_module_version": "1.5.0",
          "state": {
            "_model_module": "@jupyter-widgets/controls",
            "_model_module_version": "1.5.0",
            "_model_name": "DescriptionStyleModel",
            "_view_count": null,
            "_view_module": "@jupyter-widgets/base",
            "_view_module_version": "1.2.0",
            "_view_name": "StyleView",
            "description_width": ""
          }
        },
        "0a64ec4df30c415a9f4b2257d65b23fb": {
          "model_module": "@jupyter-widgets/base",
          "model_name": "LayoutModel",
          "model_module_version": "1.2.0",
          "state": {
            "_model_module": "@jupyter-widgets/base",
            "_model_module_version": "1.2.0",
            "_model_name": "LayoutModel",
            "_view_count": null,
            "_view_module": "@jupyter-widgets/base",
            "_view_module_version": "1.2.0",
            "_view_name": "LayoutView",
            "align_content": null,
            "align_items": null,
            "align_self": null,
            "border": null,
            "bottom": null,
            "display": null,
            "flex": null,
            "flex_flow": null,
            "grid_area": null,
            "grid_auto_columns": null,
            "grid_auto_flow": null,
            "grid_auto_rows": null,
            "grid_column": null,
            "grid_gap": null,
            "grid_row": null,
            "grid_template_areas": null,
            "grid_template_columns": null,
            "grid_template_rows": null,
            "height": null,
            "justify_content": null,
            "justify_items": null,
            "left": null,
            "margin": null,
            "max_height": null,
            "max_width": null,
            "min_height": null,
            "min_width": null,
            "object_fit": null,
            "object_position": null,
            "order": null,
            "overflow": null,
            "overflow_x": null,
            "overflow_y": null,
            "padding": null,
            "right": null,
            "top": null,
            "visibility": null,
            "width": null
          }
        },
        "d8d3f1a2a1d34827abbb70bf4a338522": {
          "model_module": "@jupyter-widgets/controls",
          "model_name": "ProgressStyleModel",
          "model_module_version": "1.5.0",
          "state": {
            "_model_module": "@jupyter-widgets/controls",
            "_model_module_version": "1.5.0",
            "_model_name": "ProgressStyleModel",
            "_view_count": null,
            "_view_module": "@jupyter-widgets/base",
            "_view_module_version": "1.2.0",
            "_view_name": "StyleView",
            "bar_color": null,
            "description_width": ""
          }
        },
        "8c6a204bb2804f8ba3515d94bd6af5a0": {
          "model_module": "@jupyter-widgets/base",
          "model_name": "LayoutModel",
          "model_module_version": "1.2.0",
          "state": {
            "_model_module": "@jupyter-widgets/base",
            "_model_module_version": "1.2.0",
            "_model_name": "LayoutModel",
            "_view_count": null,
            "_view_module": "@jupyter-widgets/base",
            "_view_module_version": "1.2.0",
            "_view_name": "LayoutView",
            "align_content": null,
            "align_items": null,
            "align_self": null,
            "border": null,
            "bottom": null,
            "display": null,
            "flex": null,
            "flex_flow": null,
            "grid_area": null,
            "grid_auto_columns": null,
            "grid_auto_flow": null,
            "grid_auto_rows": null,
            "grid_column": null,
            "grid_gap": null,
            "grid_row": null,
            "grid_template_areas": null,
            "grid_template_columns": null,
            "grid_template_rows": null,
            "height": null,
            "justify_content": null,
            "justify_items": null,
            "left": null,
            "margin": null,
            "max_height": null,
            "max_width": null,
            "min_height": null,
            "min_width": null,
            "object_fit": null,
            "object_position": null,
            "order": null,
            "overflow": null,
            "overflow_x": null,
            "overflow_y": null,
            "padding": null,
            "right": null,
            "top": null,
            "visibility": null,
            "width": null
          }
        },
        "9ee2991c83014fcda6ffdaa7ac34978a": {
          "model_module": "@jupyter-widgets/controls",
          "model_name": "DescriptionStyleModel",
          "model_module_version": "1.5.0",
          "state": {
            "_model_module": "@jupyter-widgets/controls",
            "_model_module_version": "1.5.0",
            "_model_name": "DescriptionStyleModel",
            "_view_count": null,
            "_view_module": "@jupyter-widgets/base",
            "_view_module_version": "1.2.0",
            "_view_name": "StyleView",
            "description_width": ""
          }
        },
        "371f587ac92c4302a878f3430d0f55f7": {
          "model_module": "@jupyter-widgets/controls",
          "model_name": "HBoxModel",
          "model_module_version": "1.5.0",
          "state": {
            "_dom_classes": [],
            "_model_module": "@jupyter-widgets/controls",
            "_model_module_version": "1.5.0",
            "_model_name": "HBoxModel",
            "_view_count": null,
            "_view_module": "@jupyter-widgets/controls",
            "_view_module_version": "1.5.0",
            "_view_name": "HBoxView",
            "box_style": "",
            "children": [
              "IPY_MODEL_044f693cc56a4c4da586ddf21774812c",
              "IPY_MODEL_1884d8a1a1ff4b2689bcaff2939a4154",
              "IPY_MODEL_855807d1c0c54cf1affc62f203f6d3a3"
            ],
            "layout": "IPY_MODEL_16d536bb1b7945d1834c63ce4e18f5cc"
          }
        },
        "044f693cc56a4c4da586ddf21774812c": {
          "model_module": "@jupyter-widgets/controls",
          "model_name": "HTMLModel",
          "model_module_version": "1.5.0",
          "state": {
            "_dom_classes": [],
            "_model_module": "@jupyter-widgets/controls",
            "_model_module_version": "1.5.0",
            "_model_name": "HTMLModel",
            "_view_count": null,
            "_view_module": "@jupyter-widgets/controls",
            "_view_module_version": "1.5.0",
            "_view_name": "HTMLView",
            "description": "",
            "description_tooltip": null,
            "layout": "IPY_MODEL_739eab6308684d199a155d4ce9064b8a",
            "placeholder": "​",
            "style": "IPY_MODEL_d0192165c280460585496c057cec35bb",
            "value": "Processing Images: 100%"
          }
        },
        "1884d8a1a1ff4b2689bcaff2939a4154": {
          "model_module": "@jupyter-widgets/controls",
          "model_name": "FloatProgressModel",
          "model_module_version": "1.5.0",
          "state": {
            "_dom_classes": [],
            "_model_module": "@jupyter-widgets/controls",
            "_model_module_version": "1.5.0",
            "_model_name": "FloatProgressModel",
            "_view_count": null,
            "_view_module": "@jupyter-widgets/controls",
            "_view_module_version": "1.5.0",
            "_view_name": "ProgressView",
            "bar_style": "success",
            "description": "",
            "description_tooltip": null,
            "layout": "IPY_MODEL_d2a5063da62c403aa6ba3ace71069657",
            "max": 117,
            "min": 0,
            "orientation": "horizontal",
            "style": "IPY_MODEL_3166ebd9fe154a32bfa708b2211d10af",
            "value": 117
          }
        },
        "855807d1c0c54cf1affc62f203f6d3a3": {
          "model_module": "@jupyter-widgets/controls",
          "model_name": "HTMLModel",
          "model_module_version": "1.5.0",
          "state": {
            "_dom_classes": [],
            "_model_module": "@jupyter-widgets/controls",
            "_model_module_version": "1.5.0",
            "_model_name": "HTMLModel",
            "_view_count": null,
            "_view_module": "@jupyter-widgets/controls",
            "_view_module_version": "1.5.0",
            "_view_name": "HTMLView",
            "description": "",
            "description_tooltip": null,
            "layout": "IPY_MODEL_92ff74e8085a42da93da45a01710edf2",
            "placeholder": "​",
            "style": "IPY_MODEL_11f6c516c4c54c3bac4795b836e79b91",
            "value": " 117/117 [00:11&lt;00:00, 17.08it/s]"
          }
        },
        "16d536bb1b7945d1834c63ce4e18f5cc": {
          "model_module": "@jupyter-widgets/base",
          "model_name": "LayoutModel",
          "model_module_version": "1.2.0",
          "state": {
            "_model_module": "@jupyter-widgets/base",
            "_model_module_version": "1.2.0",
            "_model_name": "LayoutModel",
            "_view_count": null,
            "_view_module": "@jupyter-widgets/base",
            "_view_module_version": "1.2.0",
            "_view_name": "LayoutView",
            "align_content": null,
            "align_items": null,
            "align_self": null,
            "border": null,
            "bottom": null,
            "display": null,
            "flex": null,
            "flex_flow": null,
            "grid_area": null,
            "grid_auto_columns": null,
            "grid_auto_flow": null,
            "grid_auto_rows": null,
            "grid_column": null,
            "grid_gap": null,
            "grid_row": null,
            "grid_template_areas": null,
            "grid_template_columns": null,
            "grid_template_rows": null,
            "height": null,
            "justify_content": null,
            "justify_items": null,
            "left": null,
            "margin": null,
            "max_height": null,
            "max_width": null,
            "min_height": null,
            "min_width": null,
            "object_fit": null,
            "object_position": null,
            "order": null,
            "overflow": null,
            "overflow_x": null,
            "overflow_y": null,
            "padding": null,
            "right": null,
            "top": null,
            "visibility": null,
            "width": null
          }
        },
        "739eab6308684d199a155d4ce9064b8a": {
          "model_module": "@jupyter-widgets/base",
          "model_name": "LayoutModel",
          "model_module_version": "1.2.0",
          "state": {
            "_model_module": "@jupyter-widgets/base",
            "_model_module_version": "1.2.0",
            "_model_name": "LayoutModel",
            "_view_count": null,
            "_view_module": "@jupyter-widgets/base",
            "_view_module_version": "1.2.0",
            "_view_name": "LayoutView",
            "align_content": null,
            "align_items": null,
            "align_self": null,
            "border": null,
            "bottom": null,
            "display": null,
            "flex": null,
            "flex_flow": null,
            "grid_area": null,
            "grid_auto_columns": null,
            "grid_auto_flow": null,
            "grid_auto_rows": null,
            "grid_column": null,
            "grid_gap": null,
            "grid_row": null,
            "grid_template_areas": null,
            "grid_template_columns": null,
            "grid_template_rows": null,
            "height": null,
            "justify_content": null,
            "justify_items": null,
            "left": null,
            "margin": null,
            "max_height": null,
            "max_width": null,
            "min_height": null,
            "min_width": null,
            "object_fit": null,
            "object_position": null,
            "order": null,
            "overflow": null,
            "overflow_x": null,
            "overflow_y": null,
            "padding": null,
            "right": null,
            "top": null,
            "visibility": null,
            "width": null
          }
        },
        "d0192165c280460585496c057cec35bb": {
          "model_module": "@jupyter-widgets/controls",
          "model_name": "DescriptionStyleModel",
          "model_module_version": "1.5.0",
          "state": {
            "_model_module": "@jupyter-widgets/controls",
            "_model_module_version": "1.5.0",
            "_model_name": "DescriptionStyleModel",
            "_view_count": null,
            "_view_module": "@jupyter-widgets/base",
            "_view_module_version": "1.2.0",
            "_view_name": "StyleView",
            "description_width": ""
          }
        },
        "d2a5063da62c403aa6ba3ace71069657": {
          "model_module": "@jupyter-widgets/base",
          "model_name": "LayoutModel",
          "model_module_version": "1.2.0",
          "state": {
            "_model_module": "@jupyter-widgets/base",
            "_model_module_version": "1.2.0",
            "_model_name": "LayoutModel",
            "_view_count": null,
            "_view_module": "@jupyter-widgets/base",
            "_view_module_version": "1.2.0",
            "_view_name": "LayoutView",
            "align_content": null,
            "align_items": null,
            "align_self": null,
            "border": null,
            "bottom": null,
            "display": null,
            "flex": null,
            "flex_flow": null,
            "grid_area": null,
            "grid_auto_columns": null,
            "grid_auto_flow": null,
            "grid_auto_rows": null,
            "grid_column": null,
            "grid_gap": null,
            "grid_row": null,
            "grid_template_areas": null,
            "grid_template_columns": null,
            "grid_template_rows": null,
            "height": null,
            "justify_content": null,
            "justify_items": null,
            "left": null,
            "margin": null,
            "max_height": null,
            "max_width": null,
            "min_height": null,
            "min_width": null,
            "object_fit": null,
            "object_position": null,
            "order": null,
            "overflow": null,
            "overflow_x": null,
            "overflow_y": null,
            "padding": null,
            "right": null,
            "top": null,
            "visibility": null,
            "width": null
          }
        },
        "3166ebd9fe154a32bfa708b2211d10af": {
          "model_module": "@jupyter-widgets/controls",
          "model_name": "ProgressStyleModel",
          "model_module_version": "1.5.0",
          "state": {
            "_model_module": "@jupyter-widgets/controls",
            "_model_module_version": "1.5.0",
            "_model_name": "ProgressStyleModel",
            "_view_count": null,
            "_view_module": "@jupyter-widgets/base",
            "_view_module_version": "1.2.0",
            "_view_name": "StyleView",
            "bar_color": null,
            "description_width": ""
          }
        },
        "92ff74e8085a42da93da45a01710edf2": {
          "model_module": "@jupyter-widgets/base",
          "model_name": "LayoutModel",
          "model_module_version": "1.2.0",
          "state": {
            "_model_module": "@jupyter-widgets/base",
            "_model_module_version": "1.2.0",
            "_model_name": "LayoutModel",
            "_view_count": null,
            "_view_module": "@jupyter-widgets/base",
            "_view_module_version": "1.2.0",
            "_view_name": "LayoutView",
            "align_content": null,
            "align_items": null,
            "align_self": null,
            "border": null,
            "bottom": null,
            "display": null,
            "flex": null,
            "flex_flow": null,
            "grid_area": null,
            "grid_auto_columns": null,
            "grid_auto_flow": null,
            "grid_auto_rows": null,
            "grid_column": null,
            "grid_gap": null,
            "grid_row": null,
            "grid_template_areas": null,
            "grid_template_columns": null,
            "grid_template_rows": null,
            "height": null,
            "justify_content": null,
            "justify_items": null,
            "left": null,
            "margin": null,
            "max_height": null,
            "max_width": null,
            "min_height": null,
            "min_width": null,
            "object_fit": null,
            "object_position": null,
            "order": null,
            "overflow": null,
            "overflow_x": null,
            "overflow_y": null,
            "padding": null,
            "right": null,
            "top": null,
            "visibility": null,
            "width": null
          }
        },
        "11f6c516c4c54c3bac4795b836e79b91": {
          "model_module": "@jupyter-widgets/controls",
          "model_name": "DescriptionStyleModel",
          "model_module_version": "1.5.0",
          "state": {
            "_model_module": "@jupyter-widgets/controls",
            "_model_module_version": "1.5.0",
            "_model_name": "DescriptionStyleModel",
            "_view_count": null,
            "_view_module": "@jupyter-widgets/base",
            "_view_module_version": "1.2.0",
            "_view_name": "StyleView",
            "description_width": ""
          }
        },
        "6e744287d7334e75a426828d668d4829": {
          "model_module": "@jupyter-widgets/controls",
          "model_name": "HBoxModel",
          "model_module_version": "1.5.0",
          "state": {
            "_dom_classes": [],
            "_model_module": "@jupyter-widgets/controls",
            "_model_module_version": "1.5.0",
            "_model_name": "HBoxModel",
            "_view_count": null,
            "_view_module": "@jupyter-widgets/controls",
            "_view_module_version": "1.5.0",
            "_view_name": "HBoxView",
            "box_style": "",
            "children": [
              "IPY_MODEL_cacb81179ec3432da18e745642ca10b2",
              "IPY_MODEL_0a09428d989b4ca0b0c73c7abb269bef",
              "IPY_MODEL_e7fafc37341a49c5bbfcebb984ea5639"
            ],
            "layout": "IPY_MODEL_e58d9802519342da9319a117157d87b4"
          }
        },
        "cacb81179ec3432da18e745642ca10b2": {
          "model_module": "@jupyter-widgets/controls",
          "model_name": "HTMLModel",
          "model_module_version": "1.5.0",
          "state": {
            "_dom_classes": [],
            "_model_module": "@jupyter-widgets/controls",
            "_model_module_version": "1.5.0",
            "_model_name": "HTMLModel",
            "_view_count": null,
            "_view_module": "@jupyter-widgets/controls",
            "_view_module_version": "1.5.0",
            "_view_name": "HTMLView",
            "description": "",
            "description_tooltip": null,
            "layout": "IPY_MODEL_62ccb78fcfd54415b0601e212ea90079",
            "placeholder": "​",
            "style": "IPY_MODEL_a5a5be1b967546fda1b0b91fbdf171f3",
            "value": "Processing Images: 100%"
          }
        },
        "0a09428d989b4ca0b0c73c7abb269bef": {
          "model_module": "@jupyter-widgets/controls",
          "model_name": "FloatProgressModel",
          "model_module_version": "1.5.0",
          "state": {
            "_dom_classes": [],
            "_model_module": "@jupyter-widgets/controls",
            "_model_module_version": "1.5.0",
            "_model_name": "FloatProgressModel",
            "_view_count": null,
            "_view_module": "@jupyter-widgets/controls",
            "_view_module_version": "1.5.0",
            "_view_name": "ProgressView",
            "bar_style": "success",
            "description": "",
            "description_tooltip": null,
            "layout": "IPY_MODEL_0f68d2ed4e764843a793f4e65c4a07ee",
            "max": 117,
            "min": 0,
            "orientation": "horizontal",
            "style": "IPY_MODEL_d2bd112712f74e918afe0b0e84ff24d4",
            "value": 117
          }
        },
        "e7fafc37341a49c5bbfcebb984ea5639": {
          "model_module": "@jupyter-widgets/controls",
          "model_name": "HTMLModel",
          "model_module_version": "1.5.0",
          "state": {
            "_dom_classes": [],
            "_model_module": "@jupyter-widgets/controls",
            "_model_module_version": "1.5.0",
            "_model_name": "HTMLModel",
            "_view_count": null,
            "_view_module": "@jupyter-widgets/controls",
            "_view_module_version": "1.5.0",
            "_view_name": "HTMLView",
            "description": "",
            "description_tooltip": null,
            "layout": "IPY_MODEL_c9ec0832c80445f4a79efc4eb3e7b28e",
            "placeholder": "​",
            "style": "IPY_MODEL_007aa8ec0c3a4ac28dd2bdffb9b6bdf1",
            "value": " 117/117 [00:11&lt;00:00, 16.55it/s]"
          }
        },
        "e58d9802519342da9319a117157d87b4": {
          "model_module": "@jupyter-widgets/base",
          "model_name": "LayoutModel",
          "model_module_version": "1.2.0",
          "state": {
            "_model_module": "@jupyter-widgets/base",
            "_model_module_version": "1.2.0",
            "_model_name": "LayoutModel",
            "_view_count": null,
            "_view_module": "@jupyter-widgets/base",
            "_view_module_version": "1.2.0",
            "_view_name": "LayoutView",
            "align_content": null,
            "align_items": null,
            "align_self": null,
            "border": null,
            "bottom": null,
            "display": null,
            "flex": null,
            "flex_flow": null,
            "grid_area": null,
            "grid_auto_columns": null,
            "grid_auto_flow": null,
            "grid_auto_rows": null,
            "grid_column": null,
            "grid_gap": null,
            "grid_row": null,
            "grid_template_areas": null,
            "grid_template_columns": null,
            "grid_template_rows": null,
            "height": null,
            "justify_content": null,
            "justify_items": null,
            "left": null,
            "margin": null,
            "max_height": null,
            "max_width": null,
            "min_height": null,
            "min_width": null,
            "object_fit": null,
            "object_position": null,
            "order": null,
            "overflow": null,
            "overflow_x": null,
            "overflow_y": null,
            "padding": null,
            "right": null,
            "top": null,
            "visibility": null,
            "width": null
          }
        },
        "62ccb78fcfd54415b0601e212ea90079": {
          "model_module": "@jupyter-widgets/base",
          "model_name": "LayoutModel",
          "model_module_version": "1.2.0",
          "state": {
            "_model_module": "@jupyter-widgets/base",
            "_model_module_version": "1.2.0",
            "_model_name": "LayoutModel",
            "_view_count": null,
            "_view_module": "@jupyter-widgets/base",
            "_view_module_version": "1.2.0",
            "_view_name": "LayoutView",
            "align_content": null,
            "align_items": null,
            "align_self": null,
            "border": null,
            "bottom": null,
            "display": null,
            "flex": null,
            "flex_flow": null,
            "grid_area": null,
            "grid_auto_columns": null,
            "grid_auto_flow": null,
            "grid_auto_rows": null,
            "grid_column": null,
            "grid_gap": null,
            "grid_row": null,
            "grid_template_areas": null,
            "grid_template_columns": null,
            "grid_template_rows": null,
            "height": null,
            "justify_content": null,
            "justify_items": null,
            "left": null,
            "margin": null,
            "max_height": null,
            "max_width": null,
            "min_height": null,
            "min_width": null,
            "object_fit": null,
            "object_position": null,
            "order": null,
            "overflow": null,
            "overflow_x": null,
            "overflow_y": null,
            "padding": null,
            "right": null,
            "top": null,
            "visibility": null,
            "width": null
          }
        },
        "a5a5be1b967546fda1b0b91fbdf171f3": {
          "model_module": "@jupyter-widgets/controls",
          "model_name": "DescriptionStyleModel",
          "model_module_version": "1.5.0",
          "state": {
            "_model_module": "@jupyter-widgets/controls",
            "_model_module_version": "1.5.0",
            "_model_name": "DescriptionStyleModel",
            "_view_count": null,
            "_view_module": "@jupyter-widgets/base",
            "_view_module_version": "1.2.0",
            "_view_name": "StyleView",
            "description_width": ""
          }
        },
        "0f68d2ed4e764843a793f4e65c4a07ee": {
          "model_module": "@jupyter-widgets/base",
          "model_name": "LayoutModel",
          "model_module_version": "1.2.0",
          "state": {
            "_model_module": "@jupyter-widgets/base",
            "_model_module_version": "1.2.0",
            "_model_name": "LayoutModel",
            "_view_count": null,
            "_view_module": "@jupyter-widgets/base",
            "_view_module_version": "1.2.0",
            "_view_name": "LayoutView",
            "align_content": null,
            "align_items": null,
            "align_self": null,
            "border": null,
            "bottom": null,
            "display": null,
            "flex": null,
            "flex_flow": null,
            "grid_area": null,
            "grid_auto_columns": null,
            "grid_auto_flow": null,
            "grid_auto_rows": null,
            "grid_column": null,
            "grid_gap": null,
            "grid_row": null,
            "grid_template_areas": null,
            "grid_template_columns": null,
            "grid_template_rows": null,
            "height": null,
            "justify_content": null,
            "justify_items": null,
            "left": null,
            "margin": null,
            "max_height": null,
            "max_width": null,
            "min_height": null,
            "min_width": null,
            "object_fit": null,
            "object_position": null,
            "order": null,
            "overflow": null,
            "overflow_x": null,
            "overflow_y": null,
            "padding": null,
            "right": null,
            "top": null,
            "visibility": null,
            "width": null
          }
        },
        "d2bd112712f74e918afe0b0e84ff24d4": {
          "model_module": "@jupyter-widgets/controls",
          "model_name": "ProgressStyleModel",
          "model_module_version": "1.5.0",
          "state": {
            "_model_module": "@jupyter-widgets/controls",
            "_model_module_version": "1.5.0",
            "_model_name": "ProgressStyleModel",
            "_view_count": null,
            "_view_module": "@jupyter-widgets/base",
            "_view_module_version": "1.2.0",
            "_view_name": "StyleView",
            "bar_color": null,
            "description_width": ""
          }
        },
        "c9ec0832c80445f4a79efc4eb3e7b28e": {
          "model_module": "@jupyter-widgets/base",
          "model_name": "LayoutModel",
          "model_module_version": "1.2.0",
          "state": {
            "_model_module": "@jupyter-widgets/base",
            "_model_module_version": "1.2.0",
            "_model_name": "LayoutModel",
            "_view_count": null,
            "_view_module": "@jupyter-widgets/base",
            "_view_module_version": "1.2.0",
            "_view_name": "LayoutView",
            "align_content": null,
            "align_items": null,
            "align_self": null,
            "border": null,
            "bottom": null,
            "display": null,
            "flex": null,
            "flex_flow": null,
            "grid_area": null,
            "grid_auto_columns": null,
            "grid_auto_flow": null,
            "grid_auto_rows": null,
            "grid_column": null,
            "grid_gap": null,
            "grid_row": null,
            "grid_template_areas": null,
            "grid_template_columns": null,
            "grid_template_rows": null,
            "height": null,
            "justify_content": null,
            "justify_items": null,
            "left": null,
            "margin": null,
            "max_height": null,
            "max_width": null,
            "min_height": null,
            "min_width": null,
            "object_fit": null,
            "object_position": null,
            "order": null,
            "overflow": null,
            "overflow_x": null,
            "overflow_y": null,
            "padding": null,
            "right": null,
            "top": null,
            "visibility": null,
            "width": null
          }
        },
        "007aa8ec0c3a4ac28dd2bdffb9b6bdf1": {
          "model_module": "@jupyter-widgets/controls",
          "model_name": "DescriptionStyleModel",
          "model_module_version": "1.5.0",
          "state": {
            "_model_module": "@jupyter-widgets/controls",
            "_model_module_version": "1.5.0",
            "_model_name": "DescriptionStyleModel",
            "_view_count": null,
            "_view_module": "@jupyter-widgets/base",
            "_view_module_version": "1.2.0",
            "_view_name": "StyleView",
            "description_width": ""
          }
        },
        "15b54273141d444289cdaae6febb7e27": {
          "model_module": "@jupyter-widgets/controls",
          "model_name": "HBoxModel",
          "model_module_version": "1.5.0",
          "state": {
            "_dom_classes": [],
            "_model_module": "@jupyter-widgets/controls",
            "_model_module_version": "1.5.0",
            "_model_name": "HBoxModel",
            "_view_count": null,
            "_view_module": "@jupyter-widgets/controls",
            "_view_module_version": "1.5.0",
            "_view_name": "HBoxView",
            "box_style": "",
            "children": [
              "IPY_MODEL_b30d8dee83424f058cbfb1f46240eefc",
              "IPY_MODEL_26f7aa5a919642fe9e2c7c17f3c438ae",
              "IPY_MODEL_25322ab40ceb49509d230bf6c676fed1"
            ],
            "layout": "IPY_MODEL_fb237b1c4a1e49429f10a2e62a71711c"
          }
        },
        "b30d8dee83424f058cbfb1f46240eefc": {
          "model_module": "@jupyter-widgets/controls",
          "model_name": "HTMLModel",
          "model_module_version": "1.5.0",
          "state": {
            "_dom_classes": [],
            "_model_module": "@jupyter-widgets/controls",
            "_model_module_version": "1.5.0",
            "_model_name": "HTMLModel",
            "_view_count": null,
            "_view_module": "@jupyter-widgets/controls",
            "_view_module_version": "1.5.0",
            "_view_name": "HTMLView",
            "description": "",
            "description_tooltip": null,
            "layout": "IPY_MODEL_7ce2d4e5564b40099648e281e371694d",
            "placeholder": "​",
            "style": "IPY_MODEL_12b7d76133a045e68c18be095de50134",
            "value": "Processing Images: 100%"
          }
        },
        "26f7aa5a919642fe9e2c7c17f3c438ae": {
          "model_module": "@jupyter-widgets/controls",
          "model_name": "FloatProgressModel",
          "model_module_version": "1.5.0",
          "state": {
            "_dom_classes": [],
            "_model_module": "@jupyter-widgets/controls",
            "_model_module_version": "1.5.0",
            "_model_name": "FloatProgressModel",
            "_view_count": null,
            "_view_module": "@jupyter-widgets/controls",
            "_view_module_version": "1.5.0",
            "_view_name": "ProgressView",
            "bar_style": "success",
            "description": "",
            "description_tooltip": null,
            "layout": "IPY_MODEL_69b6c778e3584682af283f91c22bfd61",
            "max": 117,
            "min": 0,
            "orientation": "horizontal",
            "style": "IPY_MODEL_fe0158c46dcc46e495030a6bd805521e",
            "value": 117
          }
        },
        "25322ab40ceb49509d230bf6c676fed1": {
          "model_module": "@jupyter-widgets/controls",
          "model_name": "HTMLModel",
          "model_module_version": "1.5.0",
          "state": {
            "_dom_classes": [],
            "_model_module": "@jupyter-widgets/controls",
            "_model_module_version": "1.5.0",
            "_model_name": "HTMLModel",
            "_view_count": null,
            "_view_module": "@jupyter-widgets/controls",
            "_view_module_version": "1.5.0",
            "_view_name": "HTMLView",
            "description": "",
            "description_tooltip": null,
            "layout": "IPY_MODEL_523f690b1a8e49a3af5b3c4259a99b3b",
            "placeholder": "​",
            "style": "IPY_MODEL_2438c2ef513c49d3b44318fa480d4b34",
            "value": " 117/117 [00:11&lt;00:00, 16.26it/s]"
          }
        },
        "fb237b1c4a1e49429f10a2e62a71711c": {
          "model_module": "@jupyter-widgets/base",
          "model_name": "LayoutModel",
          "model_module_version": "1.2.0",
          "state": {
            "_model_module": "@jupyter-widgets/base",
            "_model_module_version": "1.2.0",
            "_model_name": "LayoutModel",
            "_view_count": null,
            "_view_module": "@jupyter-widgets/base",
            "_view_module_version": "1.2.0",
            "_view_name": "LayoutView",
            "align_content": null,
            "align_items": null,
            "align_self": null,
            "border": null,
            "bottom": null,
            "display": null,
            "flex": null,
            "flex_flow": null,
            "grid_area": null,
            "grid_auto_columns": null,
            "grid_auto_flow": null,
            "grid_auto_rows": null,
            "grid_column": null,
            "grid_gap": null,
            "grid_row": null,
            "grid_template_areas": null,
            "grid_template_columns": null,
            "grid_template_rows": null,
            "height": null,
            "justify_content": null,
            "justify_items": null,
            "left": null,
            "margin": null,
            "max_height": null,
            "max_width": null,
            "min_height": null,
            "min_width": null,
            "object_fit": null,
            "object_position": null,
            "order": null,
            "overflow": null,
            "overflow_x": null,
            "overflow_y": null,
            "padding": null,
            "right": null,
            "top": null,
            "visibility": null,
            "width": null
          }
        },
        "7ce2d4e5564b40099648e281e371694d": {
          "model_module": "@jupyter-widgets/base",
          "model_name": "LayoutModel",
          "model_module_version": "1.2.0",
          "state": {
            "_model_module": "@jupyter-widgets/base",
            "_model_module_version": "1.2.0",
            "_model_name": "LayoutModel",
            "_view_count": null,
            "_view_module": "@jupyter-widgets/base",
            "_view_module_version": "1.2.0",
            "_view_name": "LayoutView",
            "align_content": null,
            "align_items": null,
            "align_self": null,
            "border": null,
            "bottom": null,
            "display": null,
            "flex": null,
            "flex_flow": null,
            "grid_area": null,
            "grid_auto_columns": null,
            "grid_auto_flow": null,
            "grid_auto_rows": null,
            "grid_column": null,
            "grid_gap": null,
            "grid_row": null,
            "grid_template_areas": null,
            "grid_template_columns": null,
            "grid_template_rows": null,
            "height": null,
            "justify_content": null,
            "justify_items": null,
            "left": null,
            "margin": null,
            "max_height": null,
            "max_width": null,
            "min_height": null,
            "min_width": null,
            "object_fit": null,
            "object_position": null,
            "order": null,
            "overflow": null,
            "overflow_x": null,
            "overflow_y": null,
            "padding": null,
            "right": null,
            "top": null,
            "visibility": null,
            "width": null
          }
        },
        "12b7d76133a045e68c18be095de50134": {
          "model_module": "@jupyter-widgets/controls",
          "model_name": "DescriptionStyleModel",
          "model_module_version": "1.5.0",
          "state": {
            "_model_module": "@jupyter-widgets/controls",
            "_model_module_version": "1.5.0",
            "_model_name": "DescriptionStyleModel",
            "_view_count": null,
            "_view_module": "@jupyter-widgets/base",
            "_view_module_version": "1.2.0",
            "_view_name": "StyleView",
            "description_width": ""
          }
        },
        "69b6c778e3584682af283f91c22bfd61": {
          "model_module": "@jupyter-widgets/base",
          "model_name": "LayoutModel",
          "model_module_version": "1.2.0",
          "state": {
            "_model_module": "@jupyter-widgets/base",
            "_model_module_version": "1.2.0",
            "_model_name": "LayoutModel",
            "_view_count": null,
            "_view_module": "@jupyter-widgets/base",
            "_view_module_version": "1.2.0",
            "_view_name": "LayoutView",
            "align_content": null,
            "align_items": null,
            "align_self": null,
            "border": null,
            "bottom": null,
            "display": null,
            "flex": null,
            "flex_flow": null,
            "grid_area": null,
            "grid_auto_columns": null,
            "grid_auto_flow": null,
            "grid_auto_rows": null,
            "grid_column": null,
            "grid_gap": null,
            "grid_row": null,
            "grid_template_areas": null,
            "grid_template_columns": null,
            "grid_template_rows": null,
            "height": null,
            "justify_content": null,
            "justify_items": null,
            "left": null,
            "margin": null,
            "max_height": null,
            "max_width": null,
            "min_height": null,
            "min_width": null,
            "object_fit": null,
            "object_position": null,
            "order": null,
            "overflow": null,
            "overflow_x": null,
            "overflow_y": null,
            "padding": null,
            "right": null,
            "top": null,
            "visibility": null,
            "width": null
          }
        },
        "fe0158c46dcc46e495030a6bd805521e": {
          "model_module": "@jupyter-widgets/controls",
          "model_name": "ProgressStyleModel",
          "model_module_version": "1.5.0",
          "state": {
            "_model_module": "@jupyter-widgets/controls",
            "_model_module_version": "1.5.0",
            "_model_name": "ProgressStyleModel",
            "_view_count": null,
            "_view_module": "@jupyter-widgets/base",
            "_view_module_version": "1.2.0",
            "_view_name": "StyleView",
            "bar_color": null,
            "description_width": ""
          }
        },
        "523f690b1a8e49a3af5b3c4259a99b3b": {
          "model_module": "@jupyter-widgets/base",
          "model_name": "LayoutModel",
          "model_module_version": "1.2.0",
          "state": {
            "_model_module": "@jupyter-widgets/base",
            "_model_module_version": "1.2.0",
            "_model_name": "LayoutModel",
            "_view_count": null,
            "_view_module": "@jupyter-widgets/base",
            "_view_module_version": "1.2.0",
            "_view_name": "LayoutView",
            "align_content": null,
            "align_items": null,
            "align_self": null,
            "border": null,
            "bottom": null,
            "display": null,
            "flex": null,
            "flex_flow": null,
            "grid_area": null,
            "grid_auto_columns": null,
            "grid_auto_flow": null,
            "grid_auto_rows": null,
            "grid_column": null,
            "grid_gap": null,
            "grid_row": null,
            "grid_template_areas": null,
            "grid_template_columns": null,
            "grid_template_rows": null,
            "height": null,
            "justify_content": null,
            "justify_items": null,
            "left": null,
            "margin": null,
            "max_height": null,
            "max_width": null,
            "min_height": null,
            "min_width": null,
            "object_fit": null,
            "object_position": null,
            "order": null,
            "overflow": null,
            "overflow_x": null,
            "overflow_y": null,
            "padding": null,
            "right": null,
            "top": null,
            "visibility": null,
            "width": null
          }
        },
        "2438c2ef513c49d3b44318fa480d4b34": {
          "model_module": "@jupyter-widgets/controls",
          "model_name": "DescriptionStyleModel",
          "model_module_version": "1.5.0",
          "state": {
            "_model_module": "@jupyter-widgets/controls",
            "_model_module_version": "1.5.0",
            "_model_name": "DescriptionStyleModel",
            "_view_count": null,
            "_view_module": "@jupyter-widgets/base",
            "_view_module_version": "1.2.0",
            "_view_name": "StyleView",
            "description_width": ""
          }
        },
        "89f2a8cfb75342f9ad2e99a172dc5d02": {
          "model_module": "@jupyter-widgets/controls",
          "model_name": "HBoxModel",
          "model_module_version": "1.5.0",
          "state": {
            "_dom_classes": [],
            "_model_module": "@jupyter-widgets/controls",
            "_model_module_version": "1.5.0",
            "_model_name": "HBoxModel",
            "_view_count": null,
            "_view_module": "@jupyter-widgets/controls",
            "_view_module_version": "1.5.0",
            "_view_name": "HBoxView",
            "box_style": "",
            "children": [
              "IPY_MODEL_c3993b5595aa421ca2c5333f7e2549ad",
              "IPY_MODEL_6229060fab5d4be496c98bd19462a46c",
              "IPY_MODEL_5bd7742dcf21457fbe2d98e9592e34e3"
            ],
            "layout": "IPY_MODEL_730680659d6f49b89afa9591eaa11ae6"
          }
        },
        "c3993b5595aa421ca2c5333f7e2549ad": {
          "model_module": "@jupyter-widgets/controls",
          "model_name": "HTMLModel",
          "model_module_version": "1.5.0",
          "state": {
            "_dom_classes": [],
            "_model_module": "@jupyter-widgets/controls",
            "_model_module_version": "1.5.0",
            "_model_name": "HTMLModel",
            "_view_count": null,
            "_view_module": "@jupyter-widgets/controls",
            "_view_module_version": "1.5.0",
            "_view_name": "HTMLView",
            "description": "",
            "description_tooltip": null,
            "layout": "IPY_MODEL_e9804c09dd5a46129d36c52df309eb95",
            "placeholder": "​",
            "style": "IPY_MODEL_e6ff5c48d4e545cab1c516e167a71174",
            "value": "Processing Images: 100%"
          }
        },
        "6229060fab5d4be496c98bd19462a46c": {
          "model_module": "@jupyter-widgets/controls",
          "model_name": "FloatProgressModel",
          "model_module_version": "1.5.0",
          "state": {
            "_dom_classes": [],
            "_model_module": "@jupyter-widgets/controls",
            "_model_module_version": "1.5.0",
            "_model_name": "FloatProgressModel",
            "_view_count": null,
            "_view_module": "@jupyter-widgets/controls",
            "_view_module_version": "1.5.0",
            "_view_name": "ProgressView",
            "bar_style": "success",
            "description": "",
            "description_tooltip": null,
            "layout": "IPY_MODEL_fbbf228b1b924e6faea7f5f9c944cd72",
            "max": 117,
            "min": 0,
            "orientation": "horizontal",
            "style": "IPY_MODEL_783d7676c38e4763aa89ca61748e7da8",
            "value": 117
          }
        },
        "5bd7742dcf21457fbe2d98e9592e34e3": {
          "model_module": "@jupyter-widgets/controls",
          "model_name": "HTMLModel",
          "model_module_version": "1.5.0",
          "state": {
            "_dom_classes": [],
            "_model_module": "@jupyter-widgets/controls",
            "_model_module_version": "1.5.0",
            "_model_name": "HTMLModel",
            "_view_count": null,
            "_view_module": "@jupyter-widgets/controls",
            "_view_module_version": "1.5.0",
            "_view_name": "HTMLView",
            "description": "",
            "description_tooltip": null,
            "layout": "IPY_MODEL_929f05f20c2241d4a369ec44b962c18e",
            "placeholder": "​",
            "style": "IPY_MODEL_9b7ca23139ad44a0a1a99c73699aaeb0",
            "value": " 117/117 [00:10&lt;00:00,  6.16it/s]"
          }
        },
        "730680659d6f49b89afa9591eaa11ae6": {
          "model_module": "@jupyter-widgets/base",
          "model_name": "LayoutModel",
          "model_module_version": "1.2.0",
          "state": {
            "_model_module": "@jupyter-widgets/base",
            "_model_module_version": "1.2.0",
            "_model_name": "LayoutModel",
            "_view_count": null,
            "_view_module": "@jupyter-widgets/base",
            "_view_module_version": "1.2.0",
            "_view_name": "LayoutView",
            "align_content": null,
            "align_items": null,
            "align_self": null,
            "border": null,
            "bottom": null,
            "display": null,
            "flex": null,
            "flex_flow": null,
            "grid_area": null,
            "grid_auto_columns": null,
            "grid_auto_flow": null,
            "grid_auto_rows": null,
            "grid_column": null,
            "grid_gap": null,
            "grid_row": null,
            "grid_template_areas": null,
            "grid_template_columns": null,
            "grid_template_rows": null,
            "height": null,
            "justify_content": null,
            "justify_items": null,
            "left": null,
            "margin": null,
            "max_height": null,
            "max_width": null,
            "min_height": null,
            "min_width": null,
            "object_fit": null,
            "object_position": null,
            "order": null,
            "overflow": null,
            "overflow_x": null,
            "overflow_y": null,
            "padding": null,
            "right": null,
            "top": null,
            "visibility": null,
            "width": null
          }
        },
        "e9804c09dd5a46129d36c52df309eb95": {
          "model_module": "@jupyter-widgets/base",
          "model_name": "LayoutModel",
          "model_module_version": "1.2.0",
          "state": {
            "_model_module": "@jupyter-widgets/base",
            "_model_module_version": "1.2.0",
            "_model_name": "LayoutModel",
            "_view_count": null,
            "_view_module": "@jupyter-widgets/base",
            "_view_module_version": "1.2.0",
            "_view_name": "LayoutView",
            "align_content": null,
            "align_items": null,
            "align_self": null,
            "border": null,
            "bottom": null,
            "display": null,
            "flex": null,
            "flex_flow": null,
            "grid_area": null,
            "grid_auto_columns": null,
            "grid_auto_flow": null,
            "grid_auto_rows": null,
            "grid_column": null,
            "grid_gap": null,
            "grid_row": null,
            "grid_template_areas": null,
            "grid_template_columns": null,
            "grid_template_rows": null,
            "height": null,
            "justify_content": null,
            "justify_items": null,
            "left": null,
            "margin": null,
            "max_height": null,
            "max_width": null,
            "min_height": null,
            "min_width": null,
            "object_fit": null,
            "object_position": null,
            "order": null,
            "overflow": null,
            "overflow_x": null,
            "overflow_y": null,
            "padding": null,
            "right": null,
            "top": null,
            "visibility": null,
            "width": null
          }
        },
        "e6ff5c48d4e545cab1c516e167a71174": {
          "model_module": "@jupyter-widgets/controls",
          "model_name": "DescriptionStyleModel",
          "model_module_version": "1.5.0",
          "state": {
            "_model_module": "@jupyter-widgets/controls",
            "_model_module_version": "1.5.0",
            "_model_name": "DescriptionStyleModel",
            "_view_count": null,
            "_view_module": "@jupyter-widgets/base",
            "_view_module_version": "1.2.0",
            "_view_name": "StyleView",
            "description_width": ""
          }
        },
        "fbbf228b1b924e6faea7f5f9c944cd72": {
          "model_module": "@jupyter-widgets/base",
          "model_name": "LayoutModel",
          "model_module_version": "1.2.0",
          "state": {
            "_model_module": "@jupyter-widgets/base",
            "_model_module_version": "1.2.0",
            "_model_name": "LayoutModel",
            "_view_count": null,
            "_view_module": "@jupyter-widgets/base",
            "_view_module_version": "1.2.0",
            "_view_name": "LayoutView",
            "align_content": null,
            "align_items": null,
            "align_self": null,
            "border": null,
            "bottom": null,
            "display": null,
            "flex": null,
            "flex_flow": null,
            "grid_area": null,
            "grid_auto_columns": null,
            "grid_auto_flow": null,
            "grid_auto_rows": null,
            "grid_column": null,
            "grid_gap": null,
            "grid_row": null,
            "grid_template_areas": null,
            "grid_template_columns": null,
            "grid_template_rows": null,
            "height": null,
            "justify_content": null,
            "justify_items": null,
            "left": null,
            "margin": null,
            "max_height": null,
            "max_width": null,
            "min_height": null,
            "min_width": null,
            "object_fit": null,
            "object_position": null,
            "order": null,
            "overflow": null,
            "overflow_x": null,
            "overflow_y": null,
            "padding": null,
            "right": null,
            "top": null,
            "visibility": null,
            "width": null
          }
        },
        "783d7676c38e4763aa89ca61748e7da8": {
          "model_module": "@jupyter-widgets/controls",
          "model_name": "ProgressStyleModel",
          "model_module_version": "1.5.0",
          "state": {
            "_model_module": "@jupyter-widgets/controls",
            "_model_module_version": "1.5.0",
            "_model_name": "ProgressStyleModel",
            "_view_count": null,
            "_view_module": "@jupyter-widgets/base",
            "_view_module_version": "1.2.0",
            "_view_name": "StyleView",
            "bar_color": null,
            "description_width": ""
          }
        },
        "929f05f20c2241d4a369ec44b962c18e": {
          "model_module": "@jupyter-widgets/base",
          "model_name": "LayoutModel",
          "model_module_version": "1.2.0",
          "state": {
            "_model_module": "@jupyter-widgets/base",
            "_model_module_version": "1.2.0",
            "_model_name": "LayoutModel",
            "_view_count": null,
            "_view_module": "@jupyter-widgets/base",
            "_view_module_version": "1.2.0",
            "_view_name": "LayoutView",
            "align_content": null,
            "align_items": null,
            "align_self": null,
            "border": null,
            "bottom": null,
            "display": null,
            "flex": null,
            "flex_flow": null,
            "grid_area": null,
            "grid_auto_columns": null,
            "grid_auto_flow": null,
            "grid_auto_rows": null,
            "grid_column": null,
            "grid_gap": null,
            "grid_row": null,
            "grid_template_areas": null,
            "grid_template_columns": null,
            "grid_template_rows": null,
            "height": null,
            "justify_content": null,
            "justify_items": null,
            "left": null,
            "margin": null,
            "max_height": null,
            "max_width": null,
            "min_height": null,
            "min_width": null,
            "object_fit": null,
            "object_position": null,
            "order": null,
            "overflow": null,
            "overflow_x": null,
            "overflow_y": null,
            "padding": null,
            "right": null,
            "top": null,
            "visibility": null,
            "width": null
          }
        },
        "9b7ca23139ad44a0a1a99c73699aaeb0": {
          "model_module": "@jupyter-widgets/controls",
          "model_name": "DescriptionStyleModel",
          "model_module_version": "1.5.0",
          "state": {
            "_model_module": "@jupyter-widgets/controls",
            "_model_module_version": "1.5.0",
            "_model_name": "DescriptionStyleModel",
            "_view_count": null,
            "_view_module": "@jupyter-widgets/base",
            "_view_module_version": "1.2.0",
            "_view_name": "StyleView",
            "description_width": ""
          }
        },
        "febc6afeede947ce99f4ec4da87484cf": {
          "model_module": "@jupyter-widgets/controls",
          "model_name": "HBoxModel",
          "model_module_version": "1.5.0",
          "state": {
            "_dom_classes": [],
            "_model_module": "@jupyter-widgets/controls",
            "_model_module_version": "1.5.0",
            "_model_name": "HBoxModel",
            "_view_count": null,
            "_view_module": "@jupyter-widgets/controls",
            "_view_module_version": "1.5.0",
            "_view_name": "HBoxView",
            "box_style": "",
            "children": [
              "IPY_MODEL_9ff3065c27a347fe8e013764100b2e01",
              "IPY_MODEL_bd5df6eb9a944e71a237502fa8e871c3",
              "IPY_MODEL_75f3c1f9b59c42aab6385478548eedd7"
            ],
            "layout": "IPY_MODEL_2db784b5ece9479d9ee10905cd172f8c"
          }
        },
        "9ff3065c27a347fe8e013764100b2e01": {
          "model_module": "@jupyter-widgets/controls",
          "model_name": "HTMLModel",
          "model_module_version": "1.5.0",
          "state": {
            "_dom_classes": [],
            "_model_module": "@jupyter-widgets/controls",
            "_model_module_version": "1.5.0",
            "_model_name": "HTMLModel",
            "_view_count": null,
            "_view_module": "@jupyter-widgets/controls",
            "_view_module_version": "1.5.0",
            "_view_name": "HTMLView",
            "description": "",
            "description_tooltip": null,
            "layout": "IPY_MODEL_b45d39d3faf74f418b8eedee1fb99815",
            "placeholder": "​",
            "style": "IPY_MODEL_60297a0b0abf422c903b574b5314cc3f",
            "value": "Processing Images: 100%"
          }
        },
        "bd5df6eb9a944e71a237502fa8e871c3": {
          "model_module": "@jupyter-widgets/controls",
          "model_name": "FloatProgressModel",
          "model_module_version": "1.5.0",
          "state": {
            "_dom_classes": [],
            "_model_module": "@jupyter-widgets/controls",
            "_model_module_version": "1.5.0",
            "_model_name": "FloatProgressModel",
            "_view_count": null,
            "_view_module": "@jupyter-widgets/controls",
            "_view_module_version": "1.5.0",
            "_view_name": "ProgressView",
            "bar_style": "success",
            "description": "",
            "description_tooltip": null,
            "layout": "IPY_MODEL_42cec81c59704b8c8916ffa7de25c1b2",
            "max": 117,
            "min": 0,
            "orientation": "horizontal",
            "style": "IPY_MODEL_600d76587daf4fe2bb246c200c78e752",
            "value": 117
          }
        },
        "75f3c1f9b59c42aab6385478548eedd7": {
          "model_module": "@jupyter-widgets/controls",
          "model_name": "HTMLModel",
          "model_module_version": "1.5.0",
          "state": {
            "_dom_classes": [],
            "_model_module": "@jupyter-widgets/controls",
            "_model_module_version": "1.5.0",
            "_model_name": "HTMLModel",
            "_view_count": null,
            "_view_module": "@jupyter-widgets/controls",
            "_view_module_version": "1.5.0",
            "_view_name": "HTMLView",
            "description": "",
            "description_tooltip": null,
            "layout": "IPY_MODEL_6928039627234eb6a90b6f6672269038",
            "placeholder": "​",
            "style": "IPY_MODEL_2070e23f4ec54c9194eccc6146bb0bc7",
            "value": " 117/117 [00:18&lt;00:00,  4.64it/s]"
          }
        },
        "2db784b5ece9479d9ee10905cd172f8c": {
          "model_module": "@jupyter-widgets/base",
          "model_name": "LayoutModel",
          "model_module_version": "1.2.0",
          "state": {
            "_model_module": "@jupyter-widgets/base",
            "_model_module_version": "1.2.0",
            "_model_name": "LayoutModel",
            "_view_count": null,
            "_view_module": "@jupyter-widgets/base",
            "_view_module_version": "1.2.0",
            "_view_name": "LayoutView",
            "align_content": null,
            "align_items": null,
            "align_self": null,
            "border": null,
            "bottom": null,
            "display": null,
            "flex": null,
            "flex_flow": null,
            "grid_area": null,
            "grid_auto_columns": null,
            "grid_auto_flow": null,
            "grid_auto_rows": null,
            "grid_column": null,
            "grid_gap": null,
            "grid_row": null,
            "grid_template_areas": null,
            "grid_template_columns": null,
            "grid_template_rows": null,
            "height": null,
            "justify_content": null,
            "justify_items": null,
            "left": null,
            "margin": null,
            "max_height": null,
            "max_width": null,
            "min_height": null,
            "min_width": null,
            "object_fit": null,
            "object_position": null,
            "order": null,
            "overflow": null,
            "overflow_x": null,
            "overflow_y": null,
            "padding": null,
            "right": null,
            "top": null,
            "visibility": null,
            "width": null
          }
        },
        "b45d39d3faf74f418b8eedee1fb99815": {
          "model_module": "@jupyter-widgets/base",
          "model_name": "LayoutModel",
          "model_module_version": "1.2.0",
          "state": {
            "_model_module": "@jupyter-widgets/base",
            "_model_module_version": "1.2.0",
            "_model_name": "LayoutModel",
            "_view_count": null,
            "_view_module": "@jupyter-widgets/base",
            "_view_module_version": "1.2.0",
            "_view_name": "LayoutView",
            "align_content": null,
            "align_items": null,
            "align_self": null,
            "border": null,
            "bottom": null,
            "display": null,
            "flex": null,
            "flex_flow": null,
            "grid_area": null,
            "grid_auto_columns": null,
            "grid_auto_flow": null,
            "grid_auto_rows": null,
            "grid_column": null,
            "grid_gap": null,
            "grid_row": null,
            "grid_template_areas": null,
            "grid_template_columns": null,
            "grid_template_rows": null,
            "height": null,
            "justify_content": null,
            "justify_items": null,
            "left": null,
            "margin": null,
            "max_height": null,
            "max_width": null,
            "min_height": null,
            "min_width": null,
            "object_fit": null,
            "object_position": null,
            "order": null,
            "overflow": null,
            "overflow_x": null,
            "overflow_y": null,
            "padding": null,
            "right": null,
            "top": null,
            "visibility": null,
            "width": null
          }
        },
        "60297a0b0abf422c903b574b5314cc3f": {
          "model_module": "@jupyter-widgets/controls",
          "model_name": "DescriptionStyleModel",
          "model_module_version": "1.5.0",
          "state": {
            "_model_module": "@jupyter-widgets/controls",
            "_model_module_version": "1.5.0",
            "_model_name": "DescriptionStyleModel",
            "_view_count": null,
            "_view_module": "@jupyter-widgets/base",
            "_view_module_version": "1.2.0",
            "_view_name": "StyleView",
            "description_width": ""
          }
        },
        "42cec81c59704b8c8916ffa7de25c1b2": {
          "model_module": "@jupyter-widgets/base",
          "model_name": "LayoutModel",
          "model_module_version": "1.2.0",
          "state": {
            "_model_module": "@jupyter-widgets/base",
            "_model_module_version": "1.2.0",
            "_model_name": "LayoutModel",
            "_view_count": null,
            "_view_module": "@jupyter-widgets/base",
            "_view_module_version": "1.2.0",
            "_view_name": "LayoutView",
            "align_content": null,
            "align_items": null,
            "align_self": null,
            "border": null,
            "bottom": null,
            "display": null,
            "flex": null,
            "flex_flow": null,
            "grid_area": null,
            "grid_auto_columns": null,
            "grid_auto_flow": null,
            "grid_auto_rows": null,
            "grid_column": null,
            "grid_gap": null,
            "grid_row": null,
            "grid_template_areas": null,
            "grid_template_columns": null,
            "grid_template_rows": null,
            "height": null,
            "justify_content": null,
            "justify_items": null,
            "left": null,
            "margin": null,
            "max_height": null,
            "max_width": null,
            "min_height": null,
            "min_width": null,
            "object_fit": null,
            "object_position": null,
            "order": null,
            "overflow": null,
            "overflow_x": null,
            "overflow_y": null,
            "padding": null,
            "right": null,
            "top": null,
            "visibility": null,
            "width": null
          }
        },
        "600d76587daf4fe2bb246c200c78e752": {
          "model_module": "@jupyter-widgets/controls",
          "model_name": "ProgressStyleModel",
          "model_module_version": "1.5.0",
          "state": {
            "_model_module": "@jupyter-widgets/controls",
            "_model_module_version": "1.5.0",
            "_model_name": "ProgressStyleModel",
            "_view_count": null,
            "_view_module": "@jupyter-widgets/base",
            "_view_module_version": "1.2.0",
            "_view_name": "StyleView",
            "bar_color": null,
            "description_width": ""
          }
        },
        "6928039627234eb6a90b6f6672269038": {
          "model_module": "@jupyter-widgets/base",
          "model_name": "LayoutModel",
          "model_module_version": "1.2.0",
          "state": {
            "_model_module": "@jupyter-widgets/base",
            "_model_module_version": "1.2.0",
            "_model_name": "LayoutModel",
            "_view_count": null,
            "_view_module": "@jupyter-widgets/base",
            "_view_module_version": "1.2.0",
            "_view_name": "LayoutView",
            "align_content": null,
            "align_items": null,
            "align_self": null,
            "border": null,
            "bottom": null,
            "display": null,
            "flex": null,
            "flex_flow": null,
            "grid_area": null,
            "grid_auto_columns": null,
            "grid_auto_flow": null,
            "grid_auto_rows": null,
            "grid_column": null,
            "grid_gap": null,
            "grid_row": null,
            "grid_template_areas": null,
            "grid_template_columns": null,
            "grid_template_rows": null,
            "height": null,
            "justify_content": null,
            "justify_items": null,
            "left": null,
            "margin": null,
            "max_height": null,
            "max_width": null,
            "min_height": null,
            "min_width": null,
            "object_fit": null,
            "object_position": null,
            "order": null,
            "overflow": null,
            "overflow_x": null,
            "overflow_y": null,
            "padding": null,
            "right": null,
            "top": null,
            "visibility": null,
            "width": null
          }
        },
        "2070e23f4ec54c9194eccc6146bb0bc7": {
          "model_module": "@jupyter-widgets/controls",
          "model_name": "DescriptionStyleModel",
          "model_module_version": "1.5.0",
          "state": {
            "_model_module": "@jupyter-widgets/controls",
            "_model_module_version": "1.5.0",
            "_model_name": "DescriptionStyleModel",
            "_view_count": null,
            "_view_module": "@jupyter-widgets/base",
            "_view_module_version": "1.2.0",
            "_view_name": "StyleView",
            "description_width": ""
          }
        },
        "4dd7a0898ef7401aa28a1b7bf08729fb": {
          "model_module": "@jupyter-widgets/controls",
          "model_name": "HBoxModel",
          "model_module_version": "1.5.0",
          "state": {
            "_dom_classes": [],
            "_model_module": "@jupyter-widgets/controls",
            "_model_module_version": "1.5.0",
            "_model_name": "HBoxModel",
            "_view_count": null,
            "_view_module": "@jupyter-widgets/controls",
            "_view_module_version": "1.5.0",
            "_view_name": "HBoxView",
            "box_style": "",
            "children": [
              "IPY_MODEL_50f7acc7ff2a48ed8ae67fff4881ff9b",
              "IPY_MODEL_2219dcb9510e4ec6bcd0ee717177bcf4",
              "IPY_MODEL_095e96367ad945b59a6ae3699b2821a4"
            ],
            "layout": "IPY_MODEL_e6986882b39d4eec8540e9f73225eb45"
          }
        },
        "50f7acc7ff2a48ed8ae67fff4881ff9b": {
          "model_module": "@jupyter-widgets/controls",
          "model_name": "HTMLModel",
          "model_module_version": "1.5.0",
          "state": {
            "_dom_classes": [],
            "_model_module": "@jupyter-widgets/controls",
            "_model_module_version": "1.5.0",
            "_model_name": "HTMLModel",
            "_view_count": null,
            "_view_module": "@jupyter-widgets/controls",
            "_view_module_version": "1.5.0",
            "_view_name": "HTMLView",
            "description": "",
            "description_tooltip": null,
            "layout": "IPY_MODEL_64fcc4759a144cd6856e1fc042a2ea49",
            "placeholder": "​",
            "style": "IPY_MODEL_e8546ea6287341328729a3dc4cec8538",
            "value": "Processing Images: 100%"
          }
        },
        "2219dcb9510e4ec6bcd0ee717177bcf4": {
          "model_module": "@jupyter-widgets/controls",
          "model_name": "FloatProgressModel",
          "model_module_version": "1.5.0",
          "state": {
            "_dom_classes": [],
            "_model_module": "@jupyter-widgets/controls",
            "_model_module_version": "1.5.0",
            "_model_name": "FloatProgressModel",
            "_view_count": null,
            "_view_module": "@jupyter-widgets/controls",
            "_view_module_version": "1.5.0",
            "_view_name": "ProgressView",
            "bar_style": "success",
            "description": "",
            "description_tooltip": null,
            "layout": "IPY_MODEL_7f82f2a9c7a54f1eac5ebc9933441c7f",
            "max": 117,
            "min": 0,
            "orientation": "horizontal",
            "style": "IPY_MODEL_8bb430727a01443091affa4bec43a604",
            "value": 117
          }
        },
        "095e96367ad945b59a6ae3699b2821a4": {
          "model_module": "@jupyter-widgets/controls",
          "model_name": "HTMLModel",
          "model_module_version": "1.5.0",
          "state": {
            "_dom_classes": [],
            "_model_module": "@jupyter-widgets/controls",
            "_model_module_version": "1.5.0",
            "_model_name": "HTMLModel",
            "_view_count": null,
            "_view_module": "@jupyter-widgets/controls",
            "_view_module_version": "1.5.0",
            "_view_name": "HTMLView",
            "description": "",
            "description_tooltip": null,
            "layout": "IPY_MODEL_c9cc8aafc3ba4912aeea0e756da4ca99",
            "placeholder": "​",
            "style": "IPY_MODEL_16eafb63e834437a86364ed96bb2d45c",
            "value": " 117/117 [00:22&lt;00:00,  4.15it/s]"
          }
        },
        "e6986882b39d4eec8540e9f73225eb45": {
          "model_module": "@jupyter-widgets/base",
          "model_name": "LayoutModel",
          "model_module_version": "1.2.0",
          "state": {
            "_model_module": "@jupyter-widgets/base",
            "_model_module_version": "1.2.0",
            "_model_name": "LayoutModel",
            "_view_count": null,
            "_view_module": "@jupyter-widgets/base",
            "_view_module_version": "1.2.0",
            "_view_name": "LayoutView",
            "align_content": null,
            "align_items": null,
            "align_self": null,
            "border": null,
            "bottom": null,
            "display": null,
            "flex": null,
            "flex_flow": null,
            "grid_area": null,
            "grid_auto_columns": null,
            "grid_auto_flow": null,
            "grid_auto_rows": null,
            "grid_column": null,
            "grid_gap": null,
            "grid_row": null,
            "grid_template_areas": null,
            "grid_template_columns": null,
            "grid_template_rows": null,
            "height": null,
            "justify_content": null,
            "justify_items": null,
            "left": null,
            "margin": null,
            "max_height": null,
            "max_width": null,
            "min_height": null,
            "min_width": null,
            "object_fit": null,
            "object_position": null,
            "order": null,
            "overflow": null,
            "overflow_x": null,
            "overflow_y": null,
            "padding": null,
            "right": null,
            "top": null,
            "visibility": null,
            "width": null
          }
        },
        "64fcc4759a144cd6856e1fc042a2ea49": {
          "model_module": "@jupyter-widgets/base",
          "model_name": "LayoutModel",
          "model_module_version": "1.2.0",
          "state": {
            "_model_module": "@jupyter-widgets/base",
            "_model_module_version": "1.2.0",
            "_model_name": "LayoutModel",
            "_view_count": null,
            "_view_module": "@jupyter-widgets/base",
            "_view_module_version": "1.2.0",
            "_view_name": "LayoutView",
            "align_content": null,
            "align_items": null,
            "align_self": null,
            "border": null,
            "bottom": null,
            "display": null,
            "flex": null,
            "flex_flow": null,
            "grid_area": null,
            "grid_auto_columns": null,
            "grid_auto_flow": null,
            "grid_auto_rows": null,
            "grid_column": null,
            "grid_gap": null,
            "grid_row": null,
            "grid_template_areas": null,
            "grid_template_columns": null,
            "grid_template_rows": null,
            "height": null,
            "justify_content": null,
            "justify_items": null,
            "left": null,
            "margin": null,
            "max_height": null,
            "max_width": null,
            "min_height": null,
            "min_width": null,
            "object_fit": null,
            "object_position": null,
            "order": null,
            "overflow": null,
            "overflow_x": null,
            "overflow_y": null,
            "padding": null,
            "right": null,
            "top": null,
            "visibility": null,
            "width": null
          }
        },
        "e8546ea6287341328729a3dc4cec8538": {
          "model_module": "@jupyter-widgets/controls",
          "model_name": "DescriptionStyleModel",
          "model_module_version": "1.5.0",
          "state": {
            "_model_module": "@jupyter-widgets/controls",
            "_model_module_version": "1.5.0",
            "_model_name": "DescriptionStyleModel",
            "_view_count": null,
            "_view_module": "@jupyter-widgets/base",
            "_view_module_version": "1.2.0",
            "_view_name": "StyleView",
            "description_width": ""
          }
        },
        "7f82f2a9c7a54f1eac5ebc9933441c7f": {
          "model_module": "@jupyter-widgets/base",
          "model_name": "LayoutModel",
          "model_module_version": "1.2.0",
          "state": {
            "_model_module": "@jupyter-widgets/base",
            "_model_module_version": "1.2.0",
            "_model_name": "LayoutModel",
            "_view_count": null,
            "_view_module": "@jupyter-widgets/base",
            "_view_module_version": "1.2.0",
            "_view_name": "LayoutView",
            "align_content": null,
            "align_items": null,
            "align_self": null,
            "border": null,
            "bottom": null,
            "display": null,
            "flex": null,
            "flex_flow": null,
            "grid_area": null,
            "grid_auto_columns": null,
            "grid_auto_flow": null,
            "grid_auto_rows": null,
            "grid_column": null,
            "grid_gap": null,
            "grid_row": null,
            "grid_template_areas": null,
            "grid_template_columns": null,
            "grid_template_rows": null,
            "height": null,
            "justify_content": null,
            "justify_items": null,
            "left": null,
            "margin": null,
            "max_height": null,
            "max_width": null,
            "min_height": null,
            "min_width": null,
            "object_fit": null,
            "object_position": null,
            "order": null,
            "overflow": null,
            "overflow_x": null,
            "overflow_y": null,
            "padding": null,
            "right": null,
            "top": null,
            "visibility": null,
            "width": null
          }
        },
        "8bb430727a01443091affa4bec43a604": {
          "model_module": "@jupyter-widgets/controls",
          "model_name": "ProgressStyleModel",
          "model_module_version": "1.5.0",
          "state": {
            "_model_module": "@jupyter-widgets/controls",
            "_model_module_version": "1.5.0",
            "_model_name": "ProgressStyleModel",
            "_view_count": null,
            "_view_module": "@jupyter-widgets/base",
            "_view_module_version": "1.2.0",
            "_view_name": "StyleView",
            "bar_color": null,
            "description_width": ""
          }
        },
        "c9cc8aafc3ba4912aeea0e756da4ca99": {
          "model_module": "@jupyter-widgets/base",
          "model_name": "LayoutModel",
          "model_module_version": "1.2.0",
          "state": {
            "_model_module": "@jupyter-widgets/base",
            "_model_module_version": "1.2.0",
            "_model_name": "LayoutModel",
            "_view_count": null,
            "_view_module": "@jupyter-widgets/base",
            "_view_module_version": "1.2.0",
            "_view_name": "LayoutView",
            "align_content": null,
            "align_items": null,
            "align_self": null,
            "border": null,
            "bottom": null,
            "display": null,
            "flex": null,
            "flex_flow": null,
            "grid_area": null,
            "grid_auto_columns": null,
            "grid_auto_flow": null,
            "grid_auto_rows": null,
            "grid_column": null,
            "grid_gap": null,
            "grid_row": null,
            "grid_template_areas": null,
            "grid_template_columns": null,
            "grid_template_rows": null,
            "height": null,
            "justify_content": null,
            "justify_items": null,
            "left": null,
            "margin": null,
            "max_height": null,
            "max_width": null,
            "min_height": null,
            "min_width": null,
            "object_fit": null,
            "object_position": null,
            "order": null,
            "overflow": null,
            "overflow_x": null,
            "overflow_y": null,
            "padding": null,
            "right": null,
            "top": null,
            "visibility": null,
            "width": null
          }
        },
        "16eafb63e834437a86364ed96bb2d45c": {
          "model_module": "@jupyter-widgets/controls",
          "model_name": "DescriptionStyleModel",
          "model_module_version": "1.5.0",
          "state": {
            "_model_module": "@jupyter-widgets/controls",
            "_model_module_version": "1.5.0",
            "_model_name": "DescriptionStyleModel",
            "_view_count": null,
            "_view_module": "@jupyter-widgets/base",
            "_view_module_version": "1.2.0",
            "_view_name": "StyleView",
            "description_width": ""
          }
        }
      }
    }
  },
  "nbformat": 4,
  "nbformat_minor": 0
}