{
  "cells": [
    {
      "cell_type": "markdown",
      "metadata": {
        "id": "view-in-github",
        "colab_type": "text"
      },
      "source": [
        "<a href=\"https://colab.research.google.com/github/victor-radermecker/Capstone_JPMorgan/blob/conv-lstm/Notebooks/ConvLSTM_colab.ipynb\" target=\"_parent\"><img src=\"https://colab.research.google.com/assets/colab-badge.svg\" alt=\"Open In Colab\"/></a>"
      ]
    },
    {
      "cell_type": "code",
      "source": [
        "!pip install geopandas\n",
        "!pip install geemap\n",
        "!pip install imageio\n",
        "!pip install imagecodecs"
      ],
      "metadata": {
        "id": "LagpiMzz753c"
      },
      "execution_count": null,
      "outputs": []
    },
    {
      "cell_type": "code",
      "source": [
        "from google.colab import drive\n",
        "drive.mount('/content/drive', force_remount = True)"
      ],
      "metadata": {
        "colab": {
          "base_uri": "https://localhost:8080/"
        },
        "id": "g1stk4CB78Ut",
        "outputId": "c12a153d-5d26-4834-9bf6-06884f531a9f"
      },
      "execution_count": null,
      "outputs": [
        {
          "output_type": "stream",
          "name": "stdout",
          "text": [
            "Mounted at /content/drive\n"
          ]
        }
      ]
    },
    {
      "cell_type": "code",
      "source": [
        "import ee\n",
        "ee.Authenticate()\n",
        "ee.Initialize(project=\"jpmorgancapstone\")"
      ],
      "metadata": {
        "colab": {
          "base_uri": "https://localhost:8080/"
        },
        "id": "cAwseESv8YUl",
        "outputId": "45e8ca4b-97da-4741-e8c7-7a6dbb8f3187"
      },
      "execution_count": null,
      "outputs": [
        {
          "output_type": "stream",
          "name": "stdout",
          "text": [
            "To authorize access needed by Earth Engine, open the following URL in a web browser and follow the instructions. If the web browser does not start automatically, please manually browse the URL below.\n",
            "\n",
            "    https://code.earthengine.google.com/client-auth?scopes=https%3A//www.googleapis.com/auth/earthengine%20https%3A//www.googleapis.com/auth/devstorage.full_control&request_id=KUks3OOdBu64NsmsMorXEjAgv5woBQWHOq-wa-rj1RQ&tc=5GYZoIwQbRjSRkrGs-fibXM9kHsBCUYBf0gkBcEDc-w&cc=YMFlQfhw0PBvtKZrQwJp_K3OyrdUJVeiqUj3LGqgCJI\n",
            "\n",
            "The authorization workflow will generate a code, which you should paste in the box below.\n",
            "Enter verification code: 4/1AZEOvhUmNz4Lu0JVcDZkHPHjj_K1S5npCD6ICJlRgB9iWNXB5oYaEcq-H-A\n",
            "\n",
            "Successfully saved authorization token.\n"
          ]
        }
      ]
    },
    {
      "cell_type": "code",
      "execution_count": null,
      "metadata": {
        "id": "HYsjOQvi7pAK"
      },
      "outputs": [],
      "source": [
        "import sys\n",
        "from tqdm import tqdm\n",
        "import pandas as pd\n",
        "import numpy as np\n",
        "import matplotlib.pyplot as plt\n",
        "import warnings\n",
        "warnings.filterwarnings('ignore')\n",
        "\n",
        "# import local modules\n",
        "sys.path.append('/content/drive/MyDrive/src')\n",
        "from Fishnet import Fishnet\n",
        "from ImageExporter import ImageExporter\n",
        "from ImageCorrector import ImageCorrector\n",
        "from ImageProcessor import ImageProcessor\n",
        "\n",
        "# update files automatically\n",
        "%load_ext autoreload\n",
        "%autoreload 2\n",
        "\n",
        "## Install package within conda using tensorflow\n",
        "## /opt/homebrew/Caskroom/miniconda/base/envs/capstone_2/bin/pip install tensorflow"
      ]
    },
    {
      "cell_type": "code",
      "execution_count": null,
      "metadata": {
        "id": "wrAa_dHm7pAM"
      },
      "outputs": [],
      "source": [
        "fc = Fishnet.load(\"/content/drive/MyDrive/Code/Gis/Fishnet/fishnet_quarter_mile_completed.pkl\")"
      ]
    },
    {
      "cell_type": "code",
      "execution_count": null,
      "metadata": {
        "id": "yeQeYJjZ7pAN",
        "outputId": "0e498239-5025-4d8c-9c90-9c5feaf532d5",
        "colab": {
          "base_uri": "https://localhost:8080/",
          "height": 204
        }
      },
      "outputs": [
        {
          "output_type": "execute_result",
          "data": {
            "text/plain": [
              "   tile_id  batch_id  year  urbanization\n",
              "0  6060154     23743  2016      0.670000\n",
              "1  6060155     23743  2016      0.791477\n",
              "2  6060156     23743  2016      0.545556\n",
              "3  6060157     23743  2016      0.460000\n",
              "4  6060158     23743  2016      0.805000"
            ],
            "text/html": [
              "\n",
              "  <div id=\"df-2f1cce51-754f-4195-9a31-bc6a23eb81cd\">\n",
              "    <div class=\"colab-df-container\">\n",
              "      <div>\n",
              "<style scoped>\n",
              "    .dataframe tbody tr th:only-of-type {\n",
              "        vertical-align: middle;\n",
              "    }\n",
              "\n",
              "    .dataframe tbody tr th {\n",
              "        vertical-align: top;\n",
              "    }\n",
              "\n",
              "    .dataframe thead th {\n",
              "        text-align: right;\n",
              "    }\n",
              "</style>\n",
              "<table border=\"1\" class=\"dataframe\">\n",
              "  <thead>\n",
              "    <tr style=\"text-align: right;\">\n",
              "      <th></th>\n",
              "      <th>tile_id</th>\n",
              "      <th>batch_id</th>\n",
              "      <th>year</th>\n",
              "      <th>urbanization</th>\n",
              "    </tr>\n",
              "  </thead>\n",
              "  <tbody>\n",
              "    <tr>\n",
              "      <th>0</th>\n",
              "      <td>6060154</td>\n",
              "      <td>23743</td>\n",
              "      <td>2016</td>\n",
              "      <td>0.670000</td>\n",
              "    </tr>\n",
              "    <tr>\n",
              "      <th>1</th>\n",
              "      <td>6060155</td>\n",
              "      <td>23743</td>\n",
              "      <td>2016</td>\n",
              "      <td>0.791477</td>\n",
              "    </tr>\n",
              "    <tr>\n",
              "      <th>2</th>\n",
              "      <td>6060156</td>\n",
              "      <td>23743</td>\n",
              "      <td>2016</td>\n",
              "      <td>0.545556</td>\n",
              "    </tr>\n",
              "    <tr>\n",
              "      <th>3</th>\n",
              "      <td>6060157</td>\n",
              "      <td>23743</td>\n",
              "      <td>2016</td>\n",
              "      <td>0.460000</td>\n",
              "    </tr>\n",
              "    <tr>\n",
              "      <th>4</th>\n",
              "      <td>6060158</td>\n",
              "      <td>23743</td>\n",
              "      <td>2016</td>\n",
              "      <td>0.805000</td>\n",
              "    </tr>\n",
              "  </tbody>\n",
              "</table>\n",
              "</div>\n",
              "      <button class=\"colab-df-convert\" onclick=\"convertToInteractive('df-2f1cce51-754f-4195-9a31-bc6a23eb81cd')\"\n",
              "              title=\"Convert this dataframe to an interactive table.\"\n",
              "              style=\"display:none;\">\n",
              "        \n",
              "  <svg xmlns=\"http://www.w3.org/2000/svg\" height=\"24px\"viewBox=\"0 0 24 24\"\n",
              "       width=\"24px\">\n",
              "    <path d=\"M0 0h24v24H0V0z\" fill=\"none\"/>\n",
              "    <path d=\"M18.56 5.44l.94 2.06.94-2.06 2.06-.94-2.06-.94-.94-2.06-.94 2.06-2.06.94zm-11 1L8.5 8.5l.94-2.06 2.06-.94-2.06-.94L8.5 2.5l-.94 2.06-2.06.94zm10 10l.94 2.06.94-2.06 2.06-.94-2.06-.94-.94-2.06-.94 2.06-2.06.94z\"/><path d=\"M17.41 7.96l-1.37-1.37c-.4-.4-.92-.59-1.43-.59-.52 0-1.04.2-1.43.59L10.3 9.45l-7.72 7.72c-.78.78-.78 2.05 0 2.83L4 21.41c.39.39.9.59 1.41.59.51 0 1.02-.2 1.41-.59l7.78-7.78 2.81-2.81c.8-.78.8-2.07 0-2.86zM5.41 20L4 18.59l7.72-7.72 1.47 1.35L5.41 20z\"/>\n",
              "  </svg>\n",
              "      </button>\n",
              "      \n",
              "  <style>\n",
              "    .colab-df-container {\n",
              "      display:flex;\n",
              "      flex-wrap:wrap;\n",
              "      gap: 12px;\n",
              "    }\n",
              "\n",
              "    .colab-df-convert {\n",
              "      background-color: #E8F0FE;\n",
              "      border: none;\n",
              "      border-radius: 50%;\n",
              "      cursor: pointer;\n",
              "      display: none;\n",
              "      fill: #1967D2;\n",
              "      height: 32px;\n",
              "      padding: 0 0 0 0;\n",
              "      width: 32px;\n",
              "    }\n",
              "\n",
              "    .colab-df-convert:hover {\n",
              "      background-color: #E2EBFA;\n",
              "      box-shadow: 0px 1px 2px rgba(60, 64, 67, 0.3), 0px 1px 3px 1px rgba(60, 64, 67, 0.15);\n",
              "      fill: #174EA6;\n",
              "    }\n",
              "\n",
              "    [theme=dark] .colab-df-convert {\n",
              "      background-color: #3B4455;\n",
              "      fill: #D2E3FC;\n",
              "    }\n",
              "\n",
              "    [theme=dark] .colab-df-convert:hover {\n",
              "      background-color: #434B5C;\n",
              "      box-shadow: 0px 1px 3px 1px rgba(0, 0, 0, 0.15);\n",
              "      filter: drop-shadow(0px 1px 2px rgba(0, 0, 0, 0.3));\n",
              "      fill: #FFFFFF;\n",
              "    }\n",
              "  </style>\n",
              "\n",
              "      <script>\n",
              "        const buttonEl =\n",
              "          document.querySelector('#df-2f1cce51-754f-4195-9a31-bc6a23eb81cd button.colab-df-convert');\n",
              "        buttonEl.style.display =\n",
              "          google.colab.kernel.accessAllowed ? 'block' : 'none';\n",
              "\n",
              "        async function convertToInteractive(key) {\n",
              "          const element = document.querySelector('#df-2f1cce51-754f-4195-9a31-bc6a23eb81cd');\n",
              "          const dataTable =\n",
              "            await google.colab.kernel.invokeFunction('convertToInteractive',\n",
              "                                                     [key], {});\n",
              "          if (!dataTable) return;\n",
              "\n",
              "          const docLinkHtml = 'Like what you see? Visit the ' +\n",
              "            '<a target=\"_blank\" href=https://colab.research.google.com/notebooks/data_table.ipynb>data table notebook</a>'\n",
              "            + ' to learn more about interactive tables.';\n",
              "          element.innerHTML = '';\n",
              "          dataTable['output_type'] = 'display_data';\n",
              "          await google.colab.output.renderOutput(dataTable, element);\n",
              "          const docLink = document.createElement('div');\n",
              "          docLink.innerHTML = docLinkHtml;\n",
              "          element.appendChild(docLink);\n",
              "        }\n",
              "      </script>\n",
              "    </div>\n",
              "  </div>\n",
              "  "
            ]
          },
          "metadata": {},
          "execution_count": 12
        }
      ],
      "source": [
        "# Compute Urbanization Rate\n",
        "# for year in [2017, 2018, 2019, 2020, 2021, 2022]:\n",
        "#     fc.compute_difference(f'MeanPixel_{year}', f'MeanPixel_{year-1}', filtered=True, normalize = True)\n",
        "\n",
        "vars = [\"id\", \"batch_id\", \"MeanPixel_2016\", \"MeanPixel_2017\", \"MeanPixel_2018\", \"MeanPixel_2019\", \"MeanPixel_2020\", \"MeanPixel_2021\", \"MeanPixel_2022\"]\n",
        "data = fc.filtered_fishnet[vars]\n",
        "data.rename(columns={\"id\": \"tile_id\"}, inplace=True)\n",
        "data[\"tile_id\"] = data[\"tile_id\"].astype(int)\n",
        "data[\"batch_id\"] = data[\"batch_id\"].astype(int)\n",
        "\n",
        "# Pivot wide to long\n",
        "data = data.melt(id_vars=[\"tile_id\", \"batch_id\"], var_name=\"year\", value_name=\"urbanization\")\n",
        "data[\"urbanization\"] = data[\"urbanization\"] / 255 #normalization\n",
        "data[\"year\"] = data[\"year\"].str[-4:]\n",
        "data.head()"
      ]
    },
    {
      "cell_type": "code",
      "execution_count": null,
      "metadata": {
        "id": "clgK80Ep7pAP",
        "outputId": "00086120-45d8-414a-82ed-4732f7953fba",
        "colab": {
          "base_uri": "https://localhost:8080/"
        }
      },
      "outputs": [
        {
          "output_type": "stream",
          "name": "stdout",
          "text": [
            "Number of rows: 117, Number of columns: 193\n"
          ]
        }
      ],
      "source": [
        "#compute rows and cols in Fishnet\n",
        "dc = fc.filtered_fishnet.copy()\n",
        "L = dc[\"geometry\"].bounds[\"maxx\"].max() - dc[\"geometry\"].bounds[\"minx\"].min()\n",
        "H = dc[\"geometry\"].bounds[\"maxy\"].max() - dc[\"geometry\"].bounds[\"miny\"].min()\n",
        "\n",
        "rows = int(H / fc.tile_height_degrees)\n",
        "cols = int(L / fc.tile_width_degrees)\n",
        "print(f\"Number of rows: {rows}, Number of columns: {cols}\")"
      ]
    },
    {
      "cell_type": "code",
      "execution_count": null,
      "metadata": {
        "id": "FFmH1Vn77pAQ",
        "outputId": "1f40850d-7a90-4f6a-d62f-97cc9670c7e5",
        "colab": {
          "base_uri": "https://localhost:8080/"
        }
      },
      "outputs": [
        {
          "output_type": "stream",
          "name": "stderr",
          "text": [
            "100%|██████████| 7/7 [00:00<00:00, 67.01it/s]\n"
          ]
        }
      ],
      "source": [
        "# Generate tensor\n",
        "years = [\"2016\", \"2017\", \"2018\", \"2019\", \"2020\", \"2021\", \"2022\"]\n",
        "tensor = np.zeros((len(years), rows, cols, 1))\n",
        "\n",
        "for yr in tqdm(years):\n",
        "    tensor[years.index(yr), :, :, 0] = data[data[\"year\"]== yr][\"urbanization\"].to_numpy().reshape(rows, cols)"
      ]
    },
    {
      "cell_type": "code",
      "execution_count": null,
      "metadata": {
        "id": "dkHRqmn07pAS",
        "outputId": "ae634044-4374-41fe-eff6-4b2a9209d313",
        "colab": {
          "base_uri": "https://localhost:8080/"
        }
      },
      "outputs": [
        {
          "output_type": "execute_result",
          "data": {
            "text/plain": [
              "(7, 117, 193, 1)"
            ]
          },
          "metadata": {},
          "execution_count": 26
        }
      ],
      "source": [
        "tensor.shape"
      ]
    },
    {
      "cell_type": "code",
      "execution_count": null,
      "metadata": {
        "id": "OMtcEacN7pAS",
        "outputId": "d92762d3-f491-4835-d4b4-7f37a7a1c9b9",
        "colab": {
          "base_uri": "https://localhost:8080/",
          "height": 81
        }
      },
      "outputs": [
        {
          "output_type": "display_data",
          "data": {
            "text/plain": [
              "<Figure size 2000x500 with 7 Axes>"
            ],
            "image/png": "[encoded data removed]"
          },
          "metadata": {}
        }
      ],
      "source": [
        "# plot consecutively to see the change\n",
        "fig, ax = plt.subplots(1, 7, figsize=(20, 5))\n",
        "for i in range(7):\n",
        "    ax[i].imshow(tensor[i, :, :, 0])\n",
        "    ax[i].set_title(f\"Year {years[i]}\")"
      ]
    },
    {
      "cell_type": "markdown",
      "source": [
        "# Now, we need to generate the dataset.\n",
        "\n",
        "We need a data loader. We need to generate a dataset of that dimension:\n",
        "(NBR_SAMPLE, TIME_SEQ, IMG_WIDTH, IMG_HEIGHT, CHANNELS)\n",
        "\n",
        "@TODO:\n",
        "\n",
        "1. Define proper loss function for the neural network (MSE)\n",
        "2. Check which frames are used for training\n",
        "3. Add TensorBoard\n",
        "4. Brainstorm the architecture\n",
        "5. ✅ Start training from a pre-trained network\n"
      ],
      "metadata": {
        "id": "hMiqWb_1-OqP"
      }
    },
    {
      "cell_type": "code",
      "source": [
        "def extract_submatrix(matrix, length, slide_size):\n",
        "    submatrices = []\n",
        "    rows, cols = matrix.shape\n",
        "    for i in range(0, rows - (length - 1), slide_size):\n",
        "        for j in range(0, cols - (length - 1), slide_size):\n",
        "            submatrix = matrix[i:i+length, j:j+length]\n",
        "            submatrices.append(submatrix)\n",
        "    return np.array(submatrices)\n",
        "\n",
        "def generate_submatrices(tensor, years, length, slide_size):\n",
        "    submatrices = []\n",
        "    for i, yr in enumerate(years):\n",
        "        mat = tensor[i, :, :, 0]\n",
        "        submatrices.append(extract_submatrix(mat, length, slide_size))\n",
        "    submatrices = np.array(submatrices)\n",
        "    print(np.array(submatrices).shape)\n",
        "    transposed_array = np.transpose(submatrices, (1, 0, 2, 3))\n",
        "    reshaped_array = transposed_array.reshape((-1, 7, length, length, 1))\n",
        "    return reshaped_array"
      ],
      "metadata": {
        "id": "MxNCG4GG-iZ7"
      },
      "execution_count": null,
      "outputs": []
    },
    {
      "cell_type": "code",
      "source": [
        "tensor.shape"
      ],
      "metadata": {
        "colab": {
          "base_uri": "https://localhost:8080/"
        },
        "id": "V_Zc3Fux_763",
        "outputId": "810bc2c5-20e0-4101-cc69-08c8fb8e336a"
      },
      "execution_count": null,
      "outputs": [
        {
          "output_type": "execute_result",
          "data": {
            "text/plain": [
              "(7, 117, 193, 1)"
            ]
          },
          "metadata": {},
          "execution_count": 30
        }
      ]
    },
    {
      "cell_type": "code",
      "source": [
        "TIME_SEQ = 7  # frames\n",
        "IMG_SIZE = 64  # tiles\n",
        "SLIDE_WDW = 2 # tiles\n",
        "\n",
        "sub_matrices = generate_submatrices(tensor, years, IMG_SIZE, SLIDE_WDW)\n",
        "sub_matrices.shape"
      ],
      "metadata": {
        "id": "u4Fwhoqk-kM9"
      },
      "execution_count": null,
      "outputs": []
    },
    {
      "cell_type": "code",
      "source": [
        "sub_matrices[1].shape\n",
        "\n",
        "# plot all these images on 7 plots\n",
        "fig, ax = plt.subplots(1, 7, figsize=(20, 5))\n",
        "for i in range(7):\n",
        "    ax[i].imshow(sub_matrices[3][i, :, :, 0])\n",
        "    ax[i].set_title(f\"Year {years[i]}\")\n",
        "\n",
        "# plot all these images on 7 plots\n",
        "fig, ax = plt.subplots(1, 7, figsize=(20, 5))\n",
        "for i in range(1, 7):\n",
        "    ax[i].imshow(sub_matrices[3][i, :, :, 0] - sub_matrices[2][i, :, :, 0])\n",
        "    ax[i].set_title(f\"Year {years[i]}\")"
      ],
      "metadata": {
        "colab": {
          "base_uri": "https://localhost:8080/"
        },
        "id": "uj8wauik-ljD",
        "outputId": "425f94d7-c6ed-4536-a6b1-9261b37e573e"
      },
      "execution_count": null,
      "outputs": [
        {
          "output_type": "execute_result",
          "data": {
            "text/plain": [
              "(5415, 7, 5, 5, 1)"
            ]
          },
          "metadata": {},
          "execution_count": 32
        }
      ]
    },
    {
      "cell_type": "code",
      "source": [
        "# Applying Keras' Tutorial Function to finish dataset generation\n",
        "dataset = sub_matrices"
      ],
      "metadata": {
        "id": "TT3cBLTP-rsJ"
      },
      "execution_count": null,
      "outputs": []
    },
    {
      "cell_type": "code",
      "source": [
        "# Split into train and validation sets using indexing to optimize memory.\n",
        "indexes = np.arange(dataset.shape[0])\n",
        "np.random.shuffle(indexes)\n",
        "train_index = indexes[: int(0.9 * dataset.shape[0])]\n",
        "val_index = indexes[int(0.9 * dataset.shape[0]) :]\n",
        "train_dataset = dataset[train_index]\n",
        "val_dataset = dataset[val_index]\n",
        "\n",
        "# We'll define a helper function to shift the frames, where\n",
        "# `x` is frames 0 to n - 1, and `y` is frames 1 to n.\n",
        "def create_shifted_frames(data):\n",
        "    x = data[:, 0 : data.shape[1] - 1, :, :]\n",
        "    y = data[:, 1 : data.shape[1], :, :]\n",
        "    return x, y\n",
        "\n",
        "# Apply the processing function to the datasets.\n",
        "x_train, y_train = create_shifted_frames(train_dataset)\n",
        "x_val, y_val = create_shifted_frames(val_dataset)\n",
        "\n",
        "# Inspect the dataset.\n",
        "print(\"Training Dataset Shapes: \" + str(x_train.shape) + \", \" + str(y_train.shape))\n",
        "print(\"Validation Dataset Shapes: \" + str(x_val.shape) + \", \" + str(y_val.shape))"
      ],
      "metadata": {
        "id": "8PvaC7n6S_LT"
      },
      "execution_count": null,
      "outputs": []
    },
    {
      "cell_type": "code",
      "source": [
        "# Construct a figure on which we will visualize the images.\n",
        "fig, axes = plt.subplots(1, 6, figsize=(10, 8))\n",
        "\n",
        "# Plot each of the sequential images for one random data example.\n",
        "data_choice = np.random.choice(range(len(train_dataset)), size=1)[0]\n",
        "for idx, ax in enumerate(axes.flat):\n",
        "    ax.imshow(np.squeeze(train_dataset[data_choice][idx]), cmap=\"gray\")\n",
        "    ax.set_title(f\"Frame {idx + 1}\")\n",
        "    ax.axis(\"off\")\n",
        "\n",
        "# Print information and display the figure.\n",
        "print(f\"Displaying frames for example {data_choice}.\")\n",
        "plt.show()"
      ],
      "metadata": {
        "id": "dIY_7hwJTCEO"
      },
      "execution_count": null,
      "outputs": []
    },
    {
      "cell_type": "code",
      "source": [
        "import tensorflow as tf\n",
        "from tensorflow import keras\n",
        "from tensorflow.keras import layers\n",
        "\n",
        "import io\n",
        "import imageio\n",
        "from IPython.display import Image, display\n",
        "from ipywidgets import widgets, Layout, HBox\n",
        "import datetime"
      ],
      "metadata": {
        "id": "kysg28d8TDm2"
      },
      "execution_count": null,
      "outputs": []
    },
    {
      "cell_type": "code",
      "source": [
        "def create_model():\n",
        "\n",
        "    # Construct the input layer with no definite frame size.\n",
        "    inp = layers.Input(shape=(None, *x_train.shape[2:]))\n",
        "\n",
        "    # We will construct 3 `ConvLSTM2D` layers with batch normalization,\n",
        "    # followed by a `Conv3D` layer for the spatiotemporal outputs.\n",
        "    x = layers.ConvLSTM2D(\n",
        "        filters=64,\n",
        "        kernel_size=(5, 5),\n",
        "        padding=\"same\",\n",
        "        return_sequences=True,\n",
        "        activation=\"relu\",\n",
        "    )(inp)\n",
        "    x = layers.BatchNormalization()(x)\n",
        "    x = layers.ConvLSTM2D(\n",
        "        filters=64,\n",
        "        kernel_size=(3, 3),\n",
        "        padding=\"same\",\n",
        "        return_sequences=True,\n",
        "        activation=\"relu\",\n",
        "    )(x)\n",
        "    x = layers.BatchNormalization()(x)\n",
        "    x = layers.ConvLSTM2D(\n",
        "        filters=64,\n",
        "        kernel_size=(1, 1),\n",
        "        padding=\"same\",\n",
        "        return_sequences=True,\n",
        "        activation=\"relu\",\n",
        "    )(x)\n",
        "    x = layers.Conv3D(\n",
        "        filters=1, kernel_size=(3, 3, 3), activation=\"sigmoid\", padding=\"same\"\n",
        "    )(x)\n",
        "\n",
        "    # Next, we will build the complete model and compile it.\n",
        "    model = keras.models.Model(inp, x)\n",
        "    model.compile(\n",
        "        loss=keras.losses.binary_crossentropy, optimizer=keras.optimizers.Adam(),\n",
        "    )\n",
        "    return model\n",
        "\n",
        "# Train the model from scratch\n",
        "# model = create_model()\n",
        "\n",
        "# Use a pretrained model from HuggingFace (https://huggingface.co/keras-io/conv-lstm)\n",
        "model_path = \"./pretrained-models/\"\n",
        "model = tf.keras.models.load_model(model_path)"
      ],
      "metadata": {
        "id": "S4UJFWwOTGCZ"
      },
      "execution_count": null,
      "outputs": []
    },
    {
      "cell_type": "markdown",
      "source": [
        "# Training the model"
      ],
      "metadata": {
        "id": "q4Nkoue2TG-X"
      }
    },
    {
      "cell_type": "code",
      "source": [
        "# Load the TensorBoard notebook extension\n",
        "%load_ext tensorboard\n",
        "\n",
        "# Clear any logs from previous runs\n",
        "%rm -rf ./logs/"
      ],
      "metadata": {
        "id": "TijtBXwGTJzT"
      },
      "execution_count": null,
      "outputs": []
    },
    {
      "cell_type": "code",
      "source": [
        "log_dir = \"./runs/\" + datetime.datetime.now().strftime(\"%Y%m%d-%H%M%S\")\n",
        "tensorboard_callback = tf.keras.callbacks.TensorBoard(log_dir=log_dir, histogram_freq=1)"
      ],
      "metadata": {
        "id": "FiyxRrcETLKi"
      },
      "execution_count": null,
      "outputs": []
    },
    {
      "cell_type": "code",
      "source": [
        "# Run TensorBoard\n",
        "%reload_ext tensorboard\n",
        "%tensorboard --logdir=runs"
      ],
      "metadata": {
        "id": "yJVYSlfgTMlF"
      },
      "execution_count": null,
      "outputs": []
    },
    {
      "cell_type": "code",
      "source": [
        "# Define some callbacks to improve training.\n",
        "early_stopping = keras.callbacks.EarlyStopping(monitor=\"val_loss\", patience=10)\n",
        "reduce_lr = keras.callbacks.ReduceLROnPlateau(monitor=\"val_loss\", patience=5)\n",
        "\n",
        "# Define modifiable training hyperparameters.\n",
        "epochs = 20\n",
        "batch_size = 64\n",
        "\n",
        "# Fit the model to the training data.\n",
        "model.fit(\n",
        "    x_train,\n",
        "    y_train,\n",
        "    batch_size=batch_size,\n",
        "    epochs=epochs,\n",
        "    validation_data=(x_val, y_val),\n",
        "    callbacks=[early_stopping, reduce_lr],\n",
        ")"
      ],
      "metadata": {
        "id": "3SnUrdfOTP-W"
      },
      "execution_count": null,
      "outputs": []
    }
  ],
  "metadata": {
    "kernelspec": {
      "display_name": "Python 3",
      "name": "python3"
    },
    "language_info": {
      "codemirror_mode": {
        "name": "ipython",
        "version": 3
      },
      "file_extension": ".py",
      "mimetype": "text/x-python",
      "name": "python",
      "nbconvert_exporter": "python",
      "pygments_lexer": "ipython3",
      "version": "3.11.4"
    },
    "orig_nbformat": 4,
    "colab": {
      "provenance": [],
      "machine_shape": "hm",
      "include_colab_link": true
    }
  },
  "nbformat": 4,
  "nbformat_minor": 0
}