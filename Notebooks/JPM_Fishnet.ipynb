{
 "cells": [
  {
   "cell_type": "code",
   "execution_count": 2,
   "metadata": {},
   "outputs": [
    {
     "ename": "ProjError",
     "evalue": "Input is not a transformation.",
     "output_type": "error",
     "traceback": [
      "\u001b[0;31m---------------------------------------------------------------------------\u001b[0m",
      "\u001b[0;31mProjError\u001b[0m                                 Traceback (most recent call last)",
      "Cell \u001b[0;32mIn[2], line 16\u001b[0m\n\u001b[1;32m     13\u001b[0m target_crs \u001b[39m=\u001b[39m projection\n\u001b[1;32m     15\u001b[0m \u001b[39m# Create a transformer\u001b[39;00m\n\u001b[0;32m---> 16\u001b[0m transformer \u001b[39m=\u001b[39m pyproj\u001b[39m.\u001b[39mTransformer\u001b[39m.\u001b[39mfrom_crs(source_crs, target_crs, always_xy\u001b[39m=\u001b[39m\u001b[39mTrue\u001b[39;00m)\n\u001b[1;32m     18\u001b[0m \u001b[39m# Transform a point from source to target coordinate system\u001b[39;00m\n\u001b[1;32m     19\u001b[0m lon, lat \u001b[39m=\u001b[39m \u001b[39m-\u001b[39m\u001b[39m95.363271\u001b[39m, \u001b[39m29.763283\u001b[39m  \u001b[39m# Example longitude and latitude in WGS 84\u001b[39;00m\n",
      "File \u001b[0;32m/opt/homebrew/Caskroom/miniconda/base/envs/capstone_2/lib/python3.11/site-packages/pyproj/transformer.py:625\u001b[0m, in \u001b[0;36mTransformer.from_crs\u001b[0;34m(crs_from, crs_to, always_xy, area_of_interest, authority, accuracy, allow_ballpark, force_over, only_best)\u001b[0m\n\u001b[1;32m    552\u001b[0m \u001b[39m@staticmethod\u001b[39m\n\u001b[1;32m    553\u001b[0m \u001b[39mdef\u001b[39;00m \u001b[39mfrom_crs\u001b[39m(\n\u001b[1;32m    554\u001b[0m     crs_from: Any,\n\u001b[0;32m   (...)\u001b[0m\n\u001b[1;32m    562\u001b[0m     only_best: Optional[\u001b[39mbool\u001b[39m] \u001b[39m=\u001b[39m \u001b[39mNone\u001b[39;00m,\n\u001b[1;32m    563\u001b[0m ) \u001b[39m-\u001b[39m\u001b[39m>\u001b[39m \u001b[39m\"\u001b[39m\u001b[39mTransformer\u001b[39m\u001b[39m\"\u001b[39m:\n\u001b[1;32m    564\u001b[0m \u001b[39m    \u001b[39m\u001b[39m\"\"\"Make a Transformer from a :obj:`pyproj.crs.CRS` or input used to create one.\u001b[39;00m\n\u001b[1;32m    565\u001b[0m \n\u001b[1;32m    566\u001b[0m \u001b[39m    See:\u001b[39;00m\n\u001b[0;32m   (...)\u001b[0m\n\u001b[1;32m    623\u001b[0m \n\u001b[1;32m    624\u001b[0m \u001b[39m    \"\"\"\u001b[39;00m\n\u001b[0;32m--> 625\u001b[0m     \u001b[39mreturn\u001b[39;00m Transformer(\n\u001b[1;32m    626\u001b[0m         TransformerFromCRS(\n\u001b[1;32m    627\u001b[0m             cstrencode(CRS\u001b[39m.\u001b[39mfrom_user_input(crs_from)\u001b[39m.\u001b[39msrs),\n\u001b[1;32m    628\u001b[0m             cstrencode(CRS\u001b[39m.\u001b[39mfrom_user_input(crs_to)\u001b[39m.\u001b[39msrs),\n\u001b[1;32m    629\u001b[0m             always_xy\u001b[39m=\u001b[39malways_xy,\n\u001b[1;32m    630\u001b[0m             area_of_interest\u001b[39m=\u001b[39marea_of_interest,\n\u001b[1;32m    631\u001b[0m             authority\u001b[39m=\u001b[39mauthority,\n\u001b[1;32m    632\u001b[0m             accuracy\u001b[39m=\u001b[39maccuracy \u001b[39mif\u001b[39;00m accuracy \u001b[39mis\u001b[39;00m \u001b[39mNone\u001b[39;00m \u001b[39melse\u001b[39;00m \u001b[39mstr\u001b[39m(accuracy),\n\u001b[1;32m    633\u001b[0m             allow_ballpark\u001b[39m=\u001b[39mallow_ballpark,\n\u001b[1;32m    634\u001b[0m             force_over\u001b[39m=\u001b[39mforce_over,\n\u001b[1;32m    635\u001b[0m             only_best\u001b[39m=\u001b[39monly_best,\n\u001b[1;32m    636\u001b[0m         )\n\u001b[1;32m    637\u001b[0m     )\n",
      "File \u001b[0;32m/opt/homebrew/Caskroom/miniconda/base/envs/capstone_2/lib/python3.11/site-packages/pyproj/transformer.py:337\u001b[0m, in \u001b[0;36mTransformer.__init__\u001b[0;34m(self, transformer_maker)\u001b[0m\n\u001b[1;32m    331\u001b[0m     \u001b[39mraise\u001b[39;00m ProjError(\n\u001b[1;32m    332\u001b[0m         \u001b[39m\"\u001b[39m\u001b[39mTransformer must be initialized using: \u001b[39m\u001b[39m\"\u001b[39m\n\u001b[1;32m    333\u001b[0m         \u001b[39m\"\u001b[39m\u001b[39m'\u001b[39m\u001b[39mfrom_crs\u001b[39m\u001b[39m'\u001b[39m\u001b[39m or \u001b[39m\u001b[39m'\u001b[39m\u001b[39mfrom_pipeline\u001b[39m\u001b[39m'\u001b[39m\u001b[39m.\u001b[39m\u001b[39m\"\u001b[39m\n\u001b[1;32m    334\u001b[0m     )\n\u001b[1;32m    336\u001b[0m \u001b[39mself\u001b[39m\u001b[39m.\u001b[39m_local \u001b[39m=\u001b[39m TransformerLocal()\n\u001b[0;32m--> 337\u001b[0m \u001b[39mself\u001b[39m\u001b[39m.\u001b[39m_local\u001b[39m.\u001b[39mtransformer \u001b[39m=\u001b[39m transformer_maker()\n\u001b[1;32m    338\u001b[0m \u001b[39mself\u001b[39m\u001b[39m.\u001b[39m_transformer_maker \u001b[39m=\u001b[39m transformer_maker\n",
      "File \u001b[0;32m/opt/homebrew/Caskroom/miniconda/base/envs/capstone_2/lib/python3.11/site-packages/pyproj/transformer.py:105\u001b[0m, in \u001b[0;36mTransformerFromCRS.__call__\u001b[0;34m(self)\u001b[0m\n\u001b[1;32m     99\u001b[0m \u001b[39mdef\u001b[39;00m \u001b[39m__call__\u001b[39m(\u001b[39mself\u001b[39m) \u001b[39m-\u001b[39m\u001b[39m>\u001b[39m _Transformer:\n\u001b[1;32m    100\u001b[0m \u001b[39m    \u001b[39m\u001b[39m\"\"\"\u001b[39;00m\n\u001b[1;32m    101\u001b[0m \u001b[39m    Returns\u001b[39;00m\n\u001b[1;32m    102\u001b[0m \u001b[39m    -------\u001b[39;00m\n\u001b[1;32m    103\u001b[0m \u001b[39m    _Transformer\u001b[39;00m\n\u001b[1;32m    104\u001b[0m \u001b[39m    \"\"\"\u001b[39;00m\n\u001b[0;32m--> 105\u001b[0m     \u001b[39mreturn\u001b[39;00m _Transformer\u001b[39m.\u001b[39mfrom_crs(\n\u001b[1;32m    106\u001b[0m         \u001b[39mself\u001b[39m\u001b[39m.\u001b[39mcrs_from,\n\u001b[1;32m    107\u001b[0m         \u001b[39mself\u001b[39m\u001b[39m.\u001b[39mcrs_to,\n\u001b[1;32m    108\u001b[0m         always_xy\u001b[39m=\u001b[39m\u001b[39mself\u001b[39m\u001b[39m.\u001b[39malways_xy,\n\u001b[1;32m    109\u001b[0m         area_of_interest\u001b[39m=\u001b[39m\u001b[39mself\u001b[39m\u001b[39m.\u001b[39marea_of_interest,\n\u001b[1;32m    110\u001b[0m         authority\u001b[39m=\u001b[39m\u001b[39mself\u001b[39m\u001b[39m.\u001b[39mauthority,\n\u001b[1;32m    111\u001b[0m         accuracy\u001b[39m=\u001b[39m\u001b[39mself\u001b[39m\u001b[39m.\u001b[39maccuracy,\n\u001b[1;32m    112\u001b[0m         allow_ballpark\u001b[39m=\u001b[39m\u001b[39mself\u001b[39m\u001b[39m.\u001b[39mallow_ballpark,\n\u001b[1;32m    113\u001b[0m         force_over\u001b[39m=\u001b[39m\u001b[39mself\u001b[39m\u001b[39m.\u001b[39mforce_over,\n\u001b[1;32m    114\u001b[0m         only_best\u001b[39m=\u001b[39m\u001b[39mself\u001b[39m\u001b[39m.\u001b[39monly_best,\n\u001b[1;32m    115\u001b[0m     )\n",
      "File \u001b[0;32m/opt/homebrew/Caskroom/miniconda/base/envs/capstone_2/lib/python3.11/site-packages/pyproj/_transformer.pyx:583\u001b[0m, in \u001b[0;36mpyproj._transformer._Transformer.from_crs\u001b[0;34m()\u001b[0m\n",
      "File \u001b[0;32m/opt/homebrew/Caskroom/miniconda/base/envs/capstone_2/lib/python3.11/site-packages/pyproj/_transformer.pyx:653\u001b[0m, in \u001b[0;36mpyproj._transformer._Transformer._init_from_crs\u001b[0;34m()\u001b[0m\n",
      "File \u001b[0;32m/opt/homebrew/Caskroom/miniconda/base/envs/capstone_2/lib/python3.11/site-packages/pyproj/_transformer.pyx:359\u001b[0m, in \u001b[0;36mpyproj._transformer._Transformer._initialize_from_projobj\u001b[0;34m()\u001b[0m\n",
      "\u001b[0;31mProjError\u001b[0m: Input is not a transformation."
     ]
    }
   ],
   "source": [
    "import pyproj\n",
    "\n",
    "# Define the WKT representation\n",
    "wkt = (\n",
    "    \"PROJCS['WGS_1984_Lambert_Conformal_Conic',GEOGCS['GCS_WGS_1984',DATUM['D_WGS_1984',SPHEROID['WGS_1984',6378137.0,298.257223563]],PRIMEM['Greenwich',0.0],UNIT['Degree',0.0174532925199433]],PROJECTION['Lambert_Conformal_Conic'],PARAMETER['False_Easting',0.0],PARAMETER['False_Northing',0.0], PARAMETER['Central_Meridian',-100.0],PARAMETER['Standard_Parallel_1',35.0],PARAMETER['Standard_Parallel_2',55.0],PARAMETER['Latitude_Of_Origin',45.0],UNIT['Meter',1.0]]\"\n",
    ")\n",
    "\n",
    "# Create a projection using the defined WKT\n",
    "projection = pyproj.CRS.from_string(wkt)\n",
    "\n",
    "# Define the source and target coordinate systems\n",
    "source_crs = pyproj.CRS(\"EPSG:4326\")  # WGS 84\n",
    "target_crs = projection\n",
    "\n",
    "# Create a transformer\n",
    "transformer = pyproj.Transformer.from_crs(source_crs, target_crs, always_xy=True)\n",
    "\n",
    "# Transform a point from source to target coordinate system\n",
    "lon, lat = -95.363271, 29.763283  # Example longitude and latitude in WGS 84\n",
    "x, y = transformer.transform(lon, lat)\n",
    "\n",
    "print(\"Projected coordinates (x, y):\", x, y)"
   ]
  },
  {
   "cell_type": "code",
   "execution_count": 4,
   "metadata": {},
   "outputs": [
    {
     "ename": "CRSError",
     "evalue": "Invalid projection: EPSG:xxxx: (Internal Proj Error: proj_create: crs not found)",
     "output_type": "error",
     "traceback": [
      "\u001b[0;31m---------------------------------------------------------------------------\u001b[0m",
      "\u001b[0;31mCRSError\u001b[0m                                  Traceback (most recent call last)",
      "Cell \u001b[0;32mIn[4], line 9\u001b[0m\n\u001b[1;32m      7\u001b[0m \u001b[39m# Create CRS objects\u001b[39;00m\n\u001b[1;32m      8\u001b[0m source_crs \u001b[39m=\u001b[39m pyproj\u001b[39m.\u001b[39mCRS(source_epsg)\n\u001b[0;32m----> 9\u001b[0m target_crs \u001b[39m=\u001b[39m pyproj\u001b[39m.\u001b[39mCRS(target_epsg)\n\u001b[1;32m     11\u001b[0m \u001b[39m# Create a transformer\u001b[39;00m\n\u001b[1;32m     12\u001b[0m transformer \u001b[39m=\u001b[39m pyproj\u001b[39m.\u001b[39mTransformer\u001b[39m.\u001b[39mfrom_crs(source_crs, target_crs, always_xy\u001b[39m=\u001b[39m\u001b[39mTrue\u001b[39;00m)\n",
      "File \u001b[0;32m/opt/homebrew/Caskroom/miniconda/base/envs/capstone_2/lib/python3.11/site-packages/pyproj/crs/crs.py:348\u001b[0m, in \u001b[0;36mCRS.__init__\u001b[0;34m(self, projparams, **kwargs)\u001b[0m\n\u001b[1;32m    346\u001b[0m     \u001b[39mself\u001b[39m\u001b[39m.\u001b[39m_local\u001b[39m.\u001b[39mcrs \u001b[39m=\u001b[39m projparams\n\u001b[1;32m    347\u001b[0m \u001b[39melse\u001b[39;00m:\n\u001b[0;32m--> 348\u001b[0m     \u001b[39mself\u001b[39m\u001b[39m.\u001b[39m_local\u001b[39m.\u001b[39mcrs \u001b[39m=\u001b[39m _CRS(\u001b[39mself\u001b[39m\u001b[39m.\u001b[39msrs)\n",
      "File \u001b[0;32m/opt/homebrew/Caskroom/miniconda/base/envs/capstone_2/lib/python3.11/site-packages/pyproj/_crs.pyx:2378\u001b[0m, in \u001b[0;36mpyproj._crs._CRS.__init__\u001b[0;34m()\u001b[0m\n",
      "\u001b[0;31mCRSError\u001b[0m: Invalid projection: EPSG:xxxx: (Internal Proj Error: proj_create: crs not found)"
     ]
    }
   ],
   "source": [
    "import pyproj\n",
    "\n",
    "# Define the EPSG codes for source and target coordinate systems\n",
    "source_epsg = \"EPSG:4326\"  # WGS 84\n",
    "target_epsg = \"EPSG:xxxx\"  # Replace 'xxxx' with the appropriate EPSG code for the target projection\n",
    "\n",
    "# Define the WKT representation\n",
    "wkt = (\n",
    "    \"PROJCS['WGS_1984_Lambert_Conformal_Conic',GEOGCS['GCS_WGS_1984',DATUM['D_WGS_1984',SPHEROID['WGS_1984',6378137.0,298.257223563]],PRIMEM['Greenwich',0.0],UNIT['Degree',0.0174532925199433]],PROJECTION['Lambert_Conformal_Conic'],PARAMETER['False_Easting',0.0],PARAMETER['False_Northing',0.0], PARAMETER['Central_Meridian',-100.0],PARAMETER['Standard_Parallel_1',35.0],PARAMETER['Standard_Parallel_2',55.0],PARAMETER['Latitude_Of_Origin',45.0],UNIT['Meter',1.0]]\"\n",
    ")\n",
    "projection = pyproj.CRS.from_string(wkt)\n",
    "\n",
    "\n",
    "# Create CRS objects\n",
    "source_crs = pyproj.CRS(source_epsg)\n",
    "target_crs = pyproj.CRS(target_epsg)\n",
    "\n",
    "# Create a transformer\n",
    "transformer = pyproj.Transformer.from_crs(source_crs, target_crs, always_xy=True)\n",
    "\n",
    "# Transform a point from source to target coordinate system\n",
    "origin_point = (-2017743.789317, -2128403.005698)\n",
    "x, y = transformer.transform(origin_point[0], origin_point[1])\n",
    "\n",
    "print(\"Projected coordinates (x, y):\", x, y)\n"
   ]
  }
 ],
 "metadata": {
  "kernelspec": {
   "display_name": "capstone_2",
   "language": "python",
   "name": "python3"
  },
  "language_info": {
   "codemirror_mode": {
    "name": "ipython",
    "version": 3
   },
   "file_extension": ".py",
   "mimetype": "text/x-python",
   "name": "python",
   "nbconvert_exporter": "python",
   "pygments_lexer": "ipython3",
   "version": "3.11.4"
  },
  "orig_nbformat": 4
 },
 "nbformat": 4,
 "nbformat_minor": 2
}
