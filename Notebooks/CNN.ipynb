{
 "cells": [
  {
   "cell_type": "code",
   "execution_count": 1,
   "metadata": {},
   "outputs": [],
   "source": [
    "import pandas\n",
    "import sys\n",
    "import warnings\n",
    "import ee\n",
    "from tqdm import tqdm\n",
    "warnings.filterwarnings('ignore')"
   ]
  },
  {
   "cell_type": "code",
   "execution_count": 2,
   "metadata": {},
   "outputs": [],
   "source": [
    "# import local modules\n",
    "sys.path.append('../src')\n",
    "from Fishnet import Fishnet\n",
    "from ImageExporter import ImageExporter\n",
    "from ImageCorrector import ImageCorrector\n",
    "from ImageProcessor import ImageProcessor\n",
    "\n",
    "# update files automatically\n",
    "%load_ext autoreload\n",
    "%autoreload 2\n",
    "pandas.set_option('display.max_columns', 500)"
   ]
  },
  {
   "attachments": {},
   "cell_type": "markdown",
   "metadata": {},
   "source": [
    "# Load complete Fishnet"
   ]
  },
  {
   "cell_type": "code",
   "execution_count": 3,
   "metadata": {},
   "outputs": [],
   "source": [
    "fc = Fishnet.load('../Gis/Fishnet/fishnet_quarter_mile_completed.pkl')"
   ]
  },
  {
   "cell_type": "code",
   "execution_count": 4,
   "metadata": {},
   "outputs": [],
   "source": [
    "# Compute Urbanization Rate\n",
    "for year in [2017, 2018, 2019, 2020, 2021, 2022]:\n",
    "    fc.compute_difference(f'MeanPixel_{year}', f'MeanPixel_{year-1}', filtered=True, normalize = True)\n",
    "\n",
    "fc.filtered_fishnet.rename(columns={'MeanPixel_2022-MeanPixel_2021': 'UrbanizationRate2022'}, inplace=True)\n",
    "fc.filtered_fishnet.rename(columns={'MeanPixel_2021-MeanPixel_2020': 'UrbanizationRate2021'}, inplace=True)\n",
    "fc.filtered_fishnet.rename(columns={'MeanPixel_2020-MeanPixel_2019': 'UrbanizationRate2020'}, inplace=True)\n",
    "fc.filtered_fishnet.rename(columns={'MeanPixel_2019-MeanPixel_2018': 'UrbanizationRate2019'}, inplace=True)\n",
    "fc.filtered_fishnet.rename(columns={'MeanPixel_2018-MeanPixel_2017': 'UrbanizationRate2018'}, inplace=True)\n",
    "fc.filtered_fishnet.rename(columns={'MeanPixel_2017-MeanPixel_2016': 'UrbanizationRate2017'}, inplace=True)\n",
    "fc.filtered_fishnet.drop(columns=['MeanPixel_2021-MeanPixel_2016'], inplace=True)"
   ]
  },
  {
   "cell_type": "code",
   "execution_count": 5,
   "metadata": {},
   "outputs": [
    {
     "data": {
      "text/html": [
       "<div>\n",
       "<style scoped>\n",
       "    .dataframe tbody tr th:only-of-type {\n",
       "        vertical-align: middle;\n",
       "    }\n",
       "\n",
       "    .dataframe tbody tr th {\n",
       "        vertical-align: top;\n",
       "    }\n",
       "\n",
       "    .dataframe thead th {\n",
       "        text-align: right;\n",
       "    }\n",
       "</style>\n",
       "<table border=\"1\" class=\"dataframe\">\n",
       "  <thead>\n",
       "    <tr style=\"text-align: right;\">\n",
       "      <th></th>\n",
       "      <th>id</th>\n",
       "      <th>geometry</th>\n",
       "      <th>batch_id</th>\n",
       "      <th>neighbors</th>\n",
       "      <th>ImageCoordinates</th>\n",
       "      <th>Width</th>\n",
       "      <th>Height</th>\n",
       "      <th>MeanPixel_2016</th>\n",
       "      <th>Entropy_2016</th>\n",
       "      <th>MeanPixel_2017</th>\n",
       "      <th>Entropy_2017</th>\n",
       "      <th>MeanPixel_2018</th>\n",
       "      <th>Entropy_2018</th>\n",
       "      <th>MeanPixel_2019</th>\n",
       "      <th>Entropy_2019</th>\n",
       "      <th>MeanPixel_2020</th>\n",
       "      <th>Entropy_2020</th>\n",
       "      <th>MeanPixel_2021</th>\n",
       "      <th>Entropy_2021</th>\n",
       "      <th>MeanPixel_2022</th>\n",
       "      <th>Entropy_2022</th>\n",
       "      <th>UrbanizationRate2017</th>\n",
       "      <th>UrbanizationRate2018</th>\n",
       "      <th>UrbanizationRate2019</th>\n",
       "      <th>UrbanizationRate2020</th>\n",
       "      <th>UrbanizationRate2021</th>\n",
       "      <th>UrbanizationRate2022</th>\n",
       "    </tr>\n",
       "  </thead>\n",
       "  <tbody>\n",
       "    <tr>\n",
       "      <th>6060154</th>\n",
       "      <td>6060154.0</td>\n",
       "      <td>POLYGON ((-95.79985 29.79208, -95.79985 29.795...</td>\n",
       "      <td>23743.0</td>\n",
       "      <td>[6056884, 6056885, 6056886, 6060153, 6060155, ...</td>\n",
       "      <td>(403, 524, 448, 564)</td>\n",
       "      <td>45.0</td>\n",
       "      <td>40.0</td>\n",
       "      <td>181.191667</td>\n",
       "      <td>0.868003</td>\n",
       "      <td>197.341667</td>\n",
       "      <td>0.771170</td>\n",
       "      <td>222.275000</td>\n",
       "      <td>0.552850</td>\n",
       "      <td>219.583333</td>\n",
       "      <td>0.581321</td>\n",
       "      <td>225.958333</td>\n",
       "      <td>0.511536</td>\n",
       "      <td>233.041667</td>\n",
       "      <td>0.423354</td>\n",
       "      <td>237.008333</td>\n",
       "      <td>0.367993</td>\n",
       "      <td>0.063333</td>\n",
       "      <td>0.097778</td>\n",
       "      <td>-0.010556</td>\n",
       "      <td>0.025000</td>\n",
       "      <td>0.027778</td>\n",
       "      <td>0.015556</td>\n",
       "    </tr>\n",
       "    <tr>\n",
       "      <th>6060155</th>\n",
       "      <td>6060155.0</td>\n",
       "      <td>POLYGON ((-95.79583 29.79208, -95.79583 29.795...</td>\n",
       "      <td>23743.0</td>\n",
       "      <td>[6056885, 6056886, 6056887, 6060154, 6060156, ...</td>\n",
       "      <td>(448, 524, 492, 564)</td>\n",
       "      <td>44.0</td>\n",
       "      <td>40.0</td>\n",
       "      <td>204.724432</td>\n",
       "      <td>0.716210</td>\n",
       "      <td>213.272727</td>\n",
       "      <td>0.642938</td>\n",
       "      <td>229.355114</td>\n",
       "      <td>0.470794</td>\n",
       "      <td>228.485795</td>\n",
       "      <td>0.481478</td>\n",
       "      <td>230.948864</td>\n",
       "      <td>0.450721</td>\n",
       "      <td>237.613636</td>\n",
       "      <td>0.359102</td>\n",
       "      <td>241.815341</td>\n",
       "      <td>0.293594</td>\n",
       "      <td>0.033523</td>\n",
       "      <td>0.063068</td>\n",
       "      <td>-0.003409</td>\n",
       "      <td>0.009659</td>\n",
       "      <td>0.026136</td>\n",
       "      <td>0.016477</td>\n",
       "    </tr>\n",
       "    <tr>\n",
       "      <th>6060156</th>\n",
       "      <td>6060156.0</td>\n",
       "      <td>POLYGON ((-95.79181 29.79208, -95.79181 29.795...</td>\n",
       "      <td>23743.0</td>\n",
       "      <td>[6056886, 6056887, 6056888, 6060155, 6060157, ...</td>\n",
       "      <td>(492, 524, 537, 564)</td>\n",
       "      <td>45.0</td>\n",
       "      <td>40.0</td>\n",
       "      <td>140.250000</td>\n",
       "      <td>0.992774</td>\n",
       "      <td>133.025000</td>\n",
       "      <td>0.998645</td>\n",
       "      <td>136.708333</td>\n",
       "      <td>0.996234</td>\n",
       "      <td>147.333333</td>\n",
       "      <td>0.982474</td>\n",
       "      <td>148.750000</td>\n",
       "      <td>0.979869</td>\n",
       "      <td>168.583333</td>\n",
       "      <td>0.923751</td>\n",
       "      <td>168.583333</td>\n",
       "      <td>0.923751</td>\n",
       "      <td>-0.028333</td>\n",
       "      <td>0.014444</td>\n",
       "      <td>0.041667</td>\n",
       "      <td>0.005556</td>\n",
       "      <td>0.077778</td>\n",
       "      <td>0.000000</td>\n",
       "    </tr>\n",
       "  </tbody>\n",
       "</table>\n",
       "</div>"
      ],
      "text/plain": [
       "                id                                           geometry  \\\n",
       "6060154  6060154.0  POLYGON ((-95.79985 29.79208, -95.79985 29.795...   \n",
       "6060155  6060155.0  POLYGON ((-95.79583 29.79208, -95.79583 29.795...   \n",
       "6060156  6060156.0  POLYGON ((-95.79181 29.79208, -95.79181 29.795...   \n",
       "\n",
       "         batch_id                                          neighbors  \\\n",
       "6060154   23743.0  [6056884, 6056885, 6056886, 6060153, 6060155, ...   \n",
       "6060155   23743.0  [6056885, 6056886, 6056887, 6060154, 6060156, ...   \n",
       "6060156   23743.0  [6056886, 6056887, 6056888, 6060155, 6060157, ...   \n",
       "\n",
       "             ImageCoordinates  Width  Height  MeanPixel_2016  Entropy_2016  \\\n",
       "6060154  (403, 524, 448, 564)   45.0    40.0      181.191667      0.868003   \n",
       "6060155  (448, 524, 492, 564)   44.0    40.0      204.724432      0.716210   \n",
       "6060156  (492, 524, 537, 564)   45.0    40.0      140.250000      0.992774   \n",
       "\n",
       "         MeanPixel_2017  Entropy_2017  MeanPixel_2018  Entropy_2018  \\\n",
       "6060154      197.341667      0.771170      222.275000      0.552850   \n",
       "6060155      213.272727      0.642938      229.355114      0.470794   \n",
       "6060156      133.025000      0.998645      136.708333      0.996234   \n",
       "\n",
       "         MeanPixel_2019  Entropy_2019  MeanPixel_2020  Entropy_2020  \\\n",
       "6060154      219.583333      0.581321      225.958333      0.511536   \n",
       "6060155      228.485795      0.481478      230.948864      0.450721   \n",
       "6060156      147.333333      0.982474      148.750000      0.979869   \n",
       "\n",
       "         MeanPixel_2021  Entropy_2021  MeanPixel_2022  Entropy_2022  \\\n",
       "6060154      233.041667      0.423354      237.008333      0.367993   \n",
       "6060155      237.613636      0.359102      241.815341      0.293594   \n",
       "6060156      168.583333      0.923751      168.583333      0.923751   \n",
       "\n",
       "         UrbanizationRate2017  UrbanizationRate2018  UrbanizationRate2019  \\\n",
       "6060154              0.063333              0.097778             -0.010556   \n",
       "6060155              0.033523              0.063068             -0.003409   \n",
       "6060156             -0.028333              0.014444              0.041667   \n",
       "\n",
       "         UrbanizationRate2020  UrbanizationRate2021  UrbanizationRate2022  \n",
       "6060154              0.025000              0.027778              0.015556  \n",
       "6060155              0.009659              0.026136              0.016477  \n",
       "6060156              0.005556              0.077778              0.000000  "
      ]
     },
     "execution_count": 5,
     "metadata": {},
     "output_type": "execute_result"
    }
   ],
   "source": [
    "fc.filtered_fishnet.head(3)"
   ]
  },
  {
   "cell_type": "markdown",
   "metadata": {},
   "source": [
    "# Which image size do we want?"
   ]
  },
  {
   "cell_type": "code",
   "execution_count": 6,
   "metadata": {},
   "outputs": [
    {
     "data": {
      "text/plain": [
       "Text(0.5, 0, 'Height (pixels)')"
      ]
     },
     "execution_count": 6,
     "metadata": {},
     "output_type": "execute_result"
    },
    {
     "data": {
      "image/png": "[encoded data removed]",
      "text/plain": [
       "<Figure size 1000x400 with 2 Axes>"
      ]
     },
     "metadata": {},
     "output_type": "display_data"
    }
   ],
   "source": [
    "import matplotlib.pyplot as plt\n",
    "\n",
    "plt.figure(figsize=(10, 4))\n",
    "plt.subplot(121)\n",
    "fc.filtered_fishnet[\"Width\"].hist()\n",
    "plt.xlabel('Width (pixels)')\n",
    "plt.subplot(122)\n",
    "fc.filtered_fishnet[\"Height\"].hist()\n",
    "plt.xlabel('Height (pixels)')"
   ]
  },
  {
   "attachments": {},
   "cell_type": "markdown",
   "metadata": {},
   "source": [
    "# Export batch images into smaller images and store them locally"
   ]
  },
  {
   "cell_type": "code",
   "execution_count": 7,
   "metadata": {},
   "outputs": [],
   "source": [
    "img_process = ImageProcessor(\n",
    "    fc,\n",
    "    filtered=True,\n",
    ")\n",
    "\n",
    "if False:\n",
    "    for year in tqdm([2016, 2017, 2018, 2019, 2020, 2021, 2022]):\n",
    "        img_process.cnn_partition_images(\n",
    "            image_folder=\"../Images2/\",\n",
    "            file_name=\"landcover_batchID\",\n",
    "            year=year,\n",
    "            img_size=[40, 44],\n",
    "            warning=False,\n",
    "            show_progress=False,\n",
    "        )"
   ]
  },
  {
   "cell_type": "markdown",
   "metadata": {},
   "source": [
    "# Convolutional Neural Network\n",
    "\n",
    "Train a CNN to predict next year urbanization based on single image"
   ]
  },
  {
   "cell_type": "code",
   "execution_count": 8,
   "metadata": {},
   "outputs": [
    {
     "data": {
      "text/html": [
       "<div>\n",
       "<style scoped>\n",
       "    .dataframe tbody tr th:only-of-type {\n",
       "        vertical-align: middle;\n",
       "    }\n",
       "\n",
       "    .dataframe tbody tr th {\n",
       "        vertical-align: top;\n",
       "    }\n",
       "\n",
       "    .dataframe thead th {\n",
       "        text-align: right;\n",
       "    }\n",
       "</style>\n",
       "<table border=\"1\" class=\"dataframe\">\n",
       "  <thead>\n",
       "    <tr style=\"text-align: right;\">\n",
       "      <th></th>\n",
       "      <th>tile_id</th>\n",
       "      <th>batch_id</th>\n",
       "      <th>year</th>\n",
       "      <th>urbanization_rate</th>\n",
       "    </tr>\n",
       "  </thead>\n",
       "  <tbody>\n",
       "    <tr>\n",
       "      <th>0</th>\n",
       "      <td>6060154</td>\n",
       "      <td>23743</td>\n",
       "      <td>2017</td>\n",
       "      <td>0.063333</td>\n",
       "    </tr>\n",
       "    <tr>\n",
       "      <th>1</th>\n",
       "      <td>6060155</td>\n",
       "      <td>23743</td>\n",
       "      <td>2017</td>\n",
       "      <td>0.033523</td>\n",
       "    </tr>\n",
       "    <tr>\n",
       "      <th>2</th>\n",
       "      <td>6060156</td>\n",
       "      <td>23743</td>\n",
       "      <td>2017</td>\n",
       "      <td>-0.028333</td>\n",
       "    </tr>\n",
       "    <tr>\n",
       "      <th>3</th>\n",
       "      <td>6060157</td>\n",
       "      <td>23743</td>\n",
       "      <td>2017</td>\n",
       "      <td>-0.052778</td>\n",
       "    </tr>\n",
       "    <tr>\n",
       "      <th>4</th>\n",
       "      <td>6060158</td>\n",
       "      <td>23743</td>\n",
       "      <td>2017</td>\n",
       "      <td>0.006667</td>\n",
       "    </tr>\n",
       "  </tbody>\n",
       "</table>\n",
       "</div>"
      ],
      "text/plain": [
       "   tile_id  batch_id  year  urbanization_rate\n",
       "0  6060154     23743  2017           0.063333\n",
       "1  6060155     23743  2017           0.033523\n",
       "2  6060156     23743  2017          -0.028333\n",
       "3  6060157     23743  2017          -0.052778\n",
       "4  6060158     23743  2017           0.006667"
      ]
     },
     "execution_count": 8,
     "metadata": {},
     "output_type": "execute_result"
    }
   ],
   "source": [
    "vars = [\"id\", \"batch_id\", \"UrbanizationRate2017\", \"UrbanizationRate2018\", \"UrbanizationRate2019\", \"UrbanizationRate2020\", \"UrbanizationRate2021\", \"UrbanizationRate2022\"]\n",
    "data = fc.filtered_fishnet[vars]\n",
    "data.rename(columns={\"id\": \"tile_id\"}, inplace=True)\n",
    "data[\"tile_id\"] = data[\"tile_id\"].astype(int)\n",
    "data[\"batch_id\"] = data[\"batch_id\"].astype(int)\n",
    "\n",
    "# Pivot wide to long\n",
    "data = data.melt(id_vars=[\"tile_id\", \"batch_id\"], var_name=\"year\", value_name=\"urbanization_rate\")\n",
    "data[\"year\"] = data[\"year\"].str[-4:]\n",
    "data.head()"
   ]
  },
  {
   "cell_type": "code",
   "execution_count": 9,
   "metadata": {},
   "outputs": [],
   "source": [
    "# from custom_dataset import CustomDataset\n",
    "\n",
    "# import torch\n",
    "# from torch.utils.data import Dataset, DataLoader\n",
    "# from PIL import Image"
   ]
  },
  {
   "cell_type": "code",
   "execution_count": 10,
   "metadata": {},
   "outputs": [],
   "source": [
    "\n",
    "# data_loader = DataLoader(\n",
    "#     data,\n",
    "#     batch_size=batch_size,\n",
    "#     shuffle=shuffle,\n",
    "#     num_workers=num_workers,\n",
    "# )"
   ]
  },
  {
   "cell_type": "markdown",
   "metadata": {},
   "source": [
    "# Train / Test Split"
   ]
  },
  {
   "cell_type": "code",
   "execution_count": 11,
   "metadata": {},
   "outputs": [],
   "source": [
    "from torch.utils.data import DataLoader\n",
    "from sklearn.model_selection import train_test_split\n",
    "\n",
    "from custom_dataset import CustomDataset"
   ]
  },
  {
   "cell_type": "code",
   "execution_count": 65,
   "metadata": {},
   "outputs": [],
   "source": [
    "# Split dataset into training and test subsets\n",
    "test_ratio = 0.1 \n",
    "val_ratio = 0.05\n",
    "train_val_data, test_data = train_test_split(data, test_size=test_ratio)\n",
    "train_data, val_data = train_test_split(train_val_data, test_size=val_ratio)\n",
    "\n",
    "# Create DataLoaders for training and test sets\n",
    "base_path = \"../Images2/CNN\"\n",
    "train_data = CustomDataset(base_path, train_data)\n",
    "val_data = CustomDataset(base_path, val_data)\n",
    "test_data = CustomDataset(base_path, test_data)\n",
    "\n",
    "batch_size = 32    # Adjust according to your available resources\n",
    "shuffle = True     # Set to True if you want to shuffle the dataset during training\n",
    "num_workers = 1    # Number of worker threads for data loading\n",
    "\n",
    "train_loader = DataLoader(train_data, batch_size=batch_size, shuffle=True)\n",
    "val_loader = DataLoader(val_data, batch_size=val_data.__len__(), shuffle=True)\n",
    "test_loader = DataLoader(test_data, batch_size=test_data.__len__(), shuffle=True)"
   ]
  },
  {
   "cell_type": "code",
   "execution_count": 66,
   "metadata": {},
   "outputs": [
    {
     "data": {
      "text/plain": [
       "115840"
      ]
     },
     "execution_count": 66,
     "metadata": {},
     "output_type": "execute_result"
    }
   ],
   "source": [
    "train_data.__len__()"
   ]
  },
  {
   "cell_type": "code",
   "execution_count": 67,
   "metadata": {},
   "outputs": [
    {
     "data": {
      "text/plain": [
       "6097"
      ]
     },
     "execution_count": 67,
     "metadata": {},
     "output_type": "execute_result"
    }
   ],
   "source": [
    "val_data.__len__()"
   ]
  },
  {
   "cell_type": "code",
   "execution_count": 68,
   "metadata": {},
   "outputs": [
    {
     "data": {
      "text/plain": [
       "13549"
      ]
     },
     "execution_count": 68,
     "metadata": {},
     "output_type": "execute_result"
    }
   ],
   "source": [
    "test_data.__len__()"
   ]
  },
  {
   "cell_type": "code",
   "execution_count": 69,
   "metadata": {},
   "outputs": [
    {
     "data": {
      "text/plain": [
       "3620"
      ]
     },
     "execution_count": 69,
     "metadata": {},
     "output_type": "execute_result"
    }
   ],
   "source": [
    "train_loader.__len__()"
   ]
  },
  {
   "cell_type": "code",
   "execution_count": 74,
   "metadata": {},
   "outputs": [],
   "source": [
    "# Sanity checks for data loader \n",
    "\n",
    "# for images, targets in data_loader:\n",
    "#     # Print batch shape\n",
    "#     print(\"Batch of Images:\", images.shape)\n",
    "#     print(\"Batch of Targets:\", targets.shape)\n"
   ]
  },
  {
   "cell_type": "markdown",
   "metadata": {},
   "source": [
    "# Tensorboard"
   ]
  },
  {
   "cell_type": "code",
   "execution_count": 75,
   "metadata": {},
   "outputs": [],
   "source": [
    "from torch.utils.tensorboard import SummaryWriter"
   ]
  },
  {
   "cell_type": "markdown",
   "metadata": {},
   "source": [
    "# Train the CNN"
   ]
  },
  {
   "cell_type": "code",
   "execution_count": 76,
   "metadata": {},
   "outputs": [],
   "source": [
    "import torch\n",
    "import torch.nn as nn\n",
    "import torch.optim as optim"
   ]
  },
  {
   "cell_type": "code",
   "execution_count": 77,
   "metadata": {},
   "outputs": [],
   "source": [
    "class CNN(nn.Module):\n",
    "    def __init__(self):\n",
    "        super(CNN, self).__init__()\n",
    "        self.conv1 = nn.Conv2d(3, 16, kernel_size=3, stride=1, padding=1)\n",
    "        self.relu = nn.ReLU()\n",
    "        self.maxpool = nn.MaxPool2d(kernel_size=2, stride=2)\n",
    "        self.conv2 = nn.Conv2d(16, 32, kernel_size=3, stride=1, padding=1)\n",
    "        self.fc = nn.Linear(32 * 10 * 11, 1)  \n",
    "\n",
    "    def forward(self, x):\n",
    "        x = self.conv1(x)\n",
    "        x = self.relu(x)\n",
    "        x = self.maxpool(x)\n",
    "        x = self.conv2(x)\n",
    "        x = self.relu(x)\n",
    "        x = self.maxpool(x)\n",
    "        x = x.view(x.size(0), -1)\n",
    "        x = self.fc(x)\n",
    "        return x\n",
    "    \n",
    "    \n",
    "# Create an instance of your CNN\n",
    "model = CNN()\n",
    "\n",
    "criterion = nn.MSELoss()\n",
    "optimizer = optim.Adam(model.parameters(), lr=0.0001)"
   ]
  },
  {
   "cell_type": "code",
   "execution_count": null,
   "metadata": {},
   "outputs": [],
   "source": [
    "%reload_ext tensorboard\n",
    "%tensorboard --logdir=runs"
   ]
  },
  {
   "cell_type": "code",
   "execution_count": 82,
   "metadata": {},
   "outputs": [
    {
     "name": "stderr",
     "output_type": "stream",
     "text": [
      "367it [1:44:52, 17.15s/it] 0<?, ?it/s]\n",
      "  0%|          | 0/10 [1:44:52<?, ?it/s]\n"
     ]
    },
    {
     "ename": "KeyboardInterrupt",
     "evalue": "",
     "output_type": "error",
     "traceback": [
      "\u001b[0;31m---------------------------------------------------------------------------\u001b[0m",
      "\u001b[0;31mKeyboardInterrupt\u001b[0m                         Traceback (most recent call last)",
      "Cell \u001b[0;32mIn[82], line 29\u001b[0m\n\u001b[1;32m     21\u001b[0m \u001b[39m# Print training statistics\u001b[39;00m\n\u001b[1;32m     22\u001b[0m \u001b[39m# running_loss += loss.item()\u001b[39;00m\n\u001b[1;32m     23\u001b[0m \u001b[39m# if i % 100 == 99:  # Print every 100 mini-batches\u001b[39;00m\n\u001b[0;32m   (...)\u001b[0m\n\u001b[1;32m     26\u001b[0m \n\u001b[1;32m     27\u001b[0m \u001b[39m# Evaluate on the validation dataset\u001b[39;00m\n\u001b[1;32m     28\u001b[0m \u001b[39mwith\u001b[39;00m torch\u001b[39m.\u001b[39mno_grad():\n\u001b[0;32m---> 29\u001b[0m     test_data \u001b[39m=\u001b[39m \u001b[39mnext\u001b[39m(\u001b[39miter\u001b[39m(val_loader))\n\u001b[1;32m     30\u001b[0m     X_test_batch, y_test_batch \u001b[39m=\u001b[39m test_data\n\u001b[1;32m     31\u001b[0m     outputs \u001b[39m=\u001b[39m model(X_test_batch)\n",
      "File \u001b[0;32m/opt/homebrew/Caskroom/miniconda/base/envs/capstone/lib/python3.11/site-packages/torch/utils/data/dataloader.py:633\u001b[0m, in \u001b[0;36m_BaseDataLoaderIter.__next__\u001b[0;34m(self)\u001b[0m\n\u001b[1;32m    630\u001b[0m \u001b[39mif\u001b[39;00m \u001b[39mself\u001b[39m\u001b[39m.\u001b[39m_sampler_iter \u001b[39mis\u001b[39;00m \u001b[39mNone\u001b[39;00m:\n\u001b[1;32m    631\u001b[0m     \u001b[39m# TODO(https://github.com/pytorch/pytorch/issues/76750)\u001b[39;00m\n\u001b[1;32m    632\u001b[0m     \u001b[39mself\u001b[39m\u001b[39m.\u001b[39m_reset()  \u001b[39m# type: ignore[call-arg]\u001b[39;00m\n\u001b[0;32m--> 633\u001b[0m data \u001b[39m=\u001b[39m \u001b[39mself\u001b[39m\u001b[39m.\u001b[39m_next_data()\n\u001b[1;32m    634\u001b[0m \u001b[39mself\u001b[39m\u001b[39m.\u001b[39m_num_yielded \u001b[39m+\u001b[39m\u001b[39m=\u001b[39m \u001b[39m1\u001b[39m\n\u001b[1;32m    635\u001b[0m \u001b[39mif\u001b[39;00m \u001b[39mself\u001b[39m\u001b[39m.\u001b[39m_dataset_kind \u001b[39m==\u001b[39m _DatasetKind\u001b[39m.\u001b[39mIterable \u001b[39mand\u001b[39;00m \\\n\u001b[1;32m    636\u001b[0m         \u001b[39mself\u001b[39m\u001b[39m.\u001b[39m_IterableDataset_len_called \u001b[39mis\u001b[39;00m \u001b[39mnot\u001b[39;00m \u001b[39mNone\u001b[39;00m \u001b[39mand\u001b[39;00m \\\n\u001b[1;32m    637\u001b[0m         \u001b[39mself\u001b[39m\u001b[39m.\u001b[39m_num_yielded \u001b[39m>\u001b[39m \u001b[39mself\u001b[39m\u001b[39m.\u001b[39m_IterableDataset_len_called:\n",
      "File \u001b[0;32m/opt/homebrew/Caskroom/miniconda/base/envs/capstone/lib/python3.11/site-packages/torch/utils/data/dataloader.py:677\u001b[0m, in \u001b[0;36m_SingleProcessDataLoaderIter._next_data\u001b[0;34m(self)\u001b[0m\n\u001b[1;32m    675\u001b[0m \u001b[39mdef\u001b[39;00m \u001b[39m_next_data\u001b[39m(\u001b[39mself\u001b[39m):\n\u001b[1;32m    676\u001b[0m     index \u001b[39m=\u001b[39m \u001b[39mself\u001b[39m\u001b[39m.\u001b[39m_next_index()  \u001b[39m# may raise StopIteration\u001b[39;00m\n\u001b[0;32m--> 677\u001b[0m     data \u001b[39m=\u001b[39m \u001b[39mself\u001b[39m\u001b[39m.\u001b[39m_dataset_fetcher\u001b[39m.\u001b[39mfetch(index)  \u001b[39m# may raise StopIteration\u001b[39;00m\n\u001b[1;32m    678\u001b[0m     \u001b[39mif\u001b[39;00m \u001b[39mself\u001b[39m\u001b[39m.\u001b[39m_pin_memory:\n\u001b[1;32m    679\u001b[0m         data \u001b[39m=\u001b[39m _utils\u001b[39m.\u001b[39mpin_memory\u001b[39m.\u001b[39mpin_memory(data, \u001b[39mself\u001b[39m\u001b[39m.\u001b[39m_pin_memory_device)\n",
      "File \u001b[0;32m/opt/homebrew/Caskroom/miniconda/base/envs/capstone/lib/python3.11/site-packages/torch/utils/data/_utils/fetch.py:51\u001b[0m, in \u001b[0;36m_MapDatasetFetcher.fetch\u001b[0;34m(self, possibly_batched_index)\u001b[0m\n\u001b[1;32m     49\u001b[0m         data \u001b[39m=\u001b[39m \u001b[39mself\u001b[39m\u001b[39m.\u001b[39mdataset\u001b[39m.\u001b[39m__getitems__(possibly_batched_index)\n\u001b[1;32m     50\u001b[0m     \u001b[39melse\u001b[39;00m:\n\u001b[0;32m---> 51\u001b[0m         data \u001b[39m=\u001b[39m [\u001b[39mself\u001b[39m\u001b[39m.\u001b[39mdataset[idx] \u001b[39mfor\u001b[39;00m idx \u001b[39min\u001b[39;00m possibly_batched_index]\n\u001b[1;32m     52\u001b[0m \u001b[39melse\u001b[39;00m:\n\u001b[1;32m     53\u001b[0m     data \u001b[39m=\u001b[39m \u001b[39mself\u001b[39m\u001b[39m.\u001b[39mdataset[possibly_batched_index]\n",
      "File \u001b[0;32m/opt/homebrew/Caskroom/miniconda/base/envs/capstone/lib/python3.11/site-packages/torch/utils/data/_utils/fetch.py:51\u001b[0m, in \u001b[0;36m<listcomp>\u001b[0;34m(.0)\u001b[0m\n\u001b[1;32m     49\u001b[0m         data \u001b[39m=\u001b[39m \u001b[39mself\u001b[39m\u001b[39m.\u001b[39mdataset\u001b[39m.\u001b[39m__getitems__(possibly_batched_index)\n\u001b[1;32m     50\u001b[0m     \u001b[39melse\u001b[39;00m:\n\u001b[0;32m---> 51\u001b[0m         data \u001b[39m=\u001b[39m [\u001b[39mself\u001b[39m\u001b[39m.\u001b[39mdataset[idx] \u001b[39mfor\u001b[39;00m idx \u001b[39min\u001b[39;00m possibly_batched_index]\n\u001b[1;32m     52\u001b[0m \u001b[39melse\u001b[39;00m:\n\u001b[1;32m     53\u001b[0m     data \u001b[39m=\u001b[39m \u001b[39mself\u001b[39m\u001b[39m.\u001b[39mdataset[possibly_batched_index]\n",
      "File \u001b[0;32m~/Documents/JPM Capstone Code/Capstone_JPMorgan/Notebooks/../src/custom_dataset.py:26\u001b[0m, in \u001b[0;36mCustomDataset.__getitem__\u001b[0;34m(self, index)\u001b[0m\n\u001b[1;32m     24\u001b[0m \u001b[39mif\u001b[39;00m \u001b[39mself\u001b[39m\u001b[39m.\u001b[39mtransform \u001b[39mis\u001b[39;00m \u001b[39mnot\u001b[39;00m \u001b[39mNone\u001b[39;00m:\n\u001b[1;32m     25\u001b[0m     image \u001b[39m=\u001b[39m \u001b[39mself\u001b[39m\u001b[39m.\u001b[39mtransform(image)\n\u001b[0;32m---> 26\u001b[0m target \u001b[39m=\u001b[39m \u001b[39mself\u001b[39m\u001b[39m.\u001b[39mget_target(index)\n\u001b[1;32m     27\u001b[0m \u001b[39mreturn\u001b[39;00m image, target\n",
      "File \u001b[0;32m~/Documents/JPM Capstone Code/Capstone_JPMorgan/Notebooks/../src/custom_dataset.py:39\u001b[0m, in \u001b[0;36mCustomDataset.get_target\u001b[0;34m(self, index)\u001b[0m\n\u001b[1;32m     36\u001b[0m \u001b[39mif\u001b[39;00m tile_id \u001b[39mnot\u001b[39;00m \u001b[39min\u001b[39;00m \u001b[39mself\u001b[39m\u001b[39m.\u001b[39mdataframe[\u001b[39m\"\u001b[39m\u001b[39mtile_id\u001b[39m\u001b[39m\"\u001b[39m]\u001b[39m.\u001b[39mvalues:\n\u001b[1;32m     37\u001b[0m     \u001b[39mraise\u001b[39;00m \u001b[39mValueError\u001b[39;00m(\u001b[39mf\u001b[39m\u001b[39m\"\u001b[39m\u001b[39mTile ID \u001b[39m\u001b[39m{\u001b[39;00mtile_id\u001b[39m}\u001b[39;00m\u001b[39m not found in dataframe.\u001b[39m\u001b[39m\"\u001b[39m)\n\u001b[1;32m     38\u001b[0m target \u001b[39m=\u001b[39m \u001b[39mself\u001b[39m\u001b[39m.\u001b[39mdataframe[\n\u001b[0;32m---> 39\u001b[0m     (\u001b[39mself\u001b[39m\u001b[39m.\u001b[39mdataframe[\u001b[39m\"\u001b[39m\u001b[39mtile_id\u001b[39m\u001b[39m\"\u001b[39m] \u001b[39m==\u001b[39m tile_id) \u001b[39m&\u001b[39m (\u001b[39mself\u001b[39m\u001b[39m.\u001b[39mdataframe[\u001b[39m\"\u001b[39m\u001b[39myear\u001b[39m\u001b[39m\"\u001b[39m] \u001b[39m==\u001b[39m year)\n\u001b[1;32m     40\u001b[0m ][\u001b[39mf\u001b[39m\u001b[39m\"\u001b[39m\u001b[39murbanization_rate\u001b[39m\u001b[39m\"\u001b[39m]\n\u001b[1;32m     41\u001b[0m \u001b[39mreturn\u001b[39;00m torch\u001b[39m.\u001b[39mTensor(target\u001b[39m.\u001b[39mvalues\u001b[39m.\u001b[39mreshape(\u001b[39m-\u001b[39m\u001b[39m1\u001b[39m))\n",
      "File \u001b[0;32m/opt/homebrew/Caskroom/miniconda/base/envs/capstone/lib/python3.11/site-packages/pandas/core/ops/common.py:72\u001b[0m, in \u001b[0;36m_unpack_zerodim_and_defer.<locals>.new_method\u001b[0;34m(self, other)\u001b[0m\n\u001b[1;32m     68\u001b[0m             \u001b[39mreturn\u001b[39;00m \u001b[39mNotImplemented\u001b[39m\n\u001b[1;32m     70\u001b[0m other \u001b[39m=\u001b[39m item_from_zerodim(other)\n\u001b[0;32m---> 72\u001b[0m \u001b[39mreturn\u001b[39;00m method(\u001b[39mself\u001b[39m, other)\n",
      "File \u001b[0;32m/opt/homebrew/Caskroom/miniconda/base/envs/capstone/lib/python3.11/site-packages/pandas/core/arraylike.py:42\u001b[0m, in \u001b[0;36mOpsMixin.__eq__\u001b[0;34m(self, other)\u001b[0m\n\u001b[1;32m     40\u001b[0m \u001b[39m@unpack_zerodim_and_defer\u001b[39m(\u001b[39m\"\u001b[39m\u001b[39m__eq__\u001b[39m\u001b[39m\"\u001b[39m)\n\u001b[1;32m     41\u001b[0m \u001b[39mdef\u001b[39;00m \u001b[39m__eq__\u001b[39m(\u001b[39mself\u001b[39m, other):\n\u001b[0;32m---> 42\u001b[0m     \u001b[39mreturn\u001b[39;00m \u001b[39mself\u001b[39m\u001b[39m.\u001b[39m_cmp_method(other, operator\u001b[39m.\u001b[39meq)\n",
      "File \u001b[0;32m/opt/homebrew/Caskroom/miniconda/base/envs/capstone/lib/python3.11/site-packages/pandas/core/series.py:6243\u001b[0m, in \u001b[0;36mSeries._cmp_method\u001b[0;34m(self, other, op)\u001b[0m\n\u001b[1;32m   6240\u001b[0m rvalues \u001b[39m=\u001b[39m extract_array(other, extract_numpy\u001b[39m=\u001b[39m\u001b[39mTrue\u001b[39;00m, extract_range\u001b[39m=\u001b[39m\u001b[39mTrue\u001b[39;00m)\n\u001b[1;32m   6242\u001b[0m \u001b[39mwith\u001b[39;00m np\u001b[39m.\u001b[39merrstate(\u001b[39mall\u001b[39m\u001b[39m=\u001b[39m\u001b[39m\"\u001b[39m\u001b[39mignore\u001b[39m\u001b[39m\"\u001b[39m):\n\u001b[0;32m-> 6243\u001b[0m     res_values \u001b[39m=\u001b[39m ops\u001b[39m.\u001b[39mcomparison_op(lvalues, rvalues, op)\n\u001b[1;32m   6245\u001b[0m \u001b[39mreturn\u001b[39;00m \u001b[39mself\u001b[39m\u001b[39m.\u001b[39m_construct_result(res_values, name\u001b[39m=\u001b[39mres_name)\n",
      "File \u001b[0;32m/opt/homebrew/Caskroom/miniconda/base/envs/capstone/lib/python3.11/site-packages/pandas/core/ops/array_ops.py:287\u001b[0m, in \u001b[0;36mcomparison_op\u001b[0;34m(left, right, op)\u001b[0m\n\u001b[1;32m    284\u001b[0m     \u001b[39mreturn\u001b[39;00m invalid_comparison(lvalues, rvalues, op)\n\u001b[1;32m    286\u001b[0m \u001b[39melif\u001b[39;00m is_object_dtype(lvalues\u001b[39m.\u001b[39mdtype) \u001b[39mor\u001b[39;00m \u001b[39misinstance\u001b[39m(rvalues, \u001b[39mstr\u001b[39m):\n\u001b[0;32m--> 287\u001b[0m     res_values \u001b[39m=\u001b[39m comp_method_OBJECT_ARRAY(op, lvalues, rvalues)\n\u001b[1;32m    289\u001b[0m \u001b[39melse\u001b[39;00m:\n\u001b[1;32m    290\u001b[0m     res_values \u001b[39m=\u001b[39m _na_arithmetic_op(lvalues, rvalues, op, is_cmp\u001b[39m=\u001b[39m\u001b[39mTrue\u001b[39;00m)\n",
      "File \u001b[0;32m/opt/homebrew/Caskroom/miniconda/base/envs/capstone/lib/python3.11/site-packages/pandas/core/ops/array_ops.py:75\u001b[0m, in \u001b[0;36mcomp_method_OBJECT_ARRAY\u001b[0;34m(op, x, y)\u001b[0m\n\u001b[1;32m     73\u001b[0m     result \u001b[39m=\u001b[39m libops\u001b[39m.\u001b[39mvec_compare(x\u001b[39m.\u001b[39mravel(), y\u001b[39m.\u001b[39mravel(), op)\n\u001b[1;32m     74\u001b[0m \u001b[39melse\u001b[39;00m:\n\u001b[0;32m---> 75\u001b[0m     result \u001b[39m=\u001b[39m libops\u001b[39m.\u001b[39mscalar_compare(x\u001b[39m.\u001b[39mravel(), y, op)\n\u001b[1;32m     76\u001b[0m \u001b[39mreturn\u001b[39;00m result\u001b[39m.\u001b[39mreshape(x\u001b[39m.\u001b[39mshape)\n",
      "\u001b[0;31mKeyboardInterrupt\u001b[0m: "
     ]
    }
   ],
   "source": [
    "writer = SummaryWriter()\n",
    "num_epochs = 10  # Set the number of training epochs\n",
    "\n",
    "for epoch in tqdm(range(num_epochs)):\n",
    "    running_loss = 0.0\n",
    "    for i, train_data in tqdm(enumerate(train_loader, 0)):\n",
    "        # Get the inputs and labels from your data loader\n",
    "        X_batch, y_batch = train_data\n",
    "\n",
    "        # Zero the parameter gradients\n",
    "        optimizer.zero_grad()\n",
    "\n",
    "        # Forward pass + backward pass + optimize\n",
    "        outputs = model(X_batch)\n",
    "        loss = criterion(outputs, y_batch)\n",
    "        loss.backward()\n",
    "        optimizer.step()\n",
    "\n",
    "        writer.add_scalar('Loss/Train', loss.item(), epoch * len(train_loader) + i)\n",
    "\n",
    "        # Print training statistics\n",
    "        # running_loss += loss.item()\n",
    "        # if i % 100 == 99:  # Print every 100 mini-batches\n",
    "        #     print(f'Training - Epoch: {epoch + 1}, Batch: {i + 1}, Train Loss: {running_loss / 100}')\n",
    "        #     running_loss = 0.0\n",
    "\n",
    "        # Evaluate on the validation dataset\n",
    "        with torch.no_grad():\n",
    "            test_data = next(iter(val_loader))\n",
    "            X_test_batch, y_test_batch = test_data\n",
    "            outputs = model(X_test_batch)\n",
    "            loss = criterion(outputs, y_test_batch)\n",
    "            writer.add_scalar('Loss/Validation', loss.item(), epoch * len(train_loader) + i)\n",
    "            \n",
    "\n",
    "            # test_data = next(iter(val_loader))\n",
    "            # test_outputs = model(X_test_batch)\n",
    "            # test_loss = criterion(test_outputs, y_test_batch).item()\n",
    "            # # print(f'Testing - Epoch: {epoch + 1}, Batch: {i + 1}, Test Loss: {test_loss}')\n",
    "\n",
    "writer.close()"
   ]
  },
  {
   "cell_type": "code",
   "execution_count": 23,
   "metadata": {},
   "outputs": [],
   "source": [
    "# connect to TensorBoard"
   ]
  },
  {
   "cell_type": "code",
   "execution_count": 28,
   "metadata": {},
   "outputs": [
    {
     "data": {
      "text/plain": [
       "[tensor([[[[ 57.,  57., 136.,  ..., 196., 196., 196.],\n",
       "           [ 57.,  57., 136.,  ..., 196., 196., 196.],\n",
       "           [ 57.,  57., 136.,  ..., 196., 196., 196.],\n",
       "           ...,\n",
       "           [ 57.,  57., 136.,  ..., 196., 196., 196.],\n",
       "           [ 57.,  57., 136.,  ..., 196., 196., 196.],\n",
       "           [ 57.,  57., 136.,  ..., 196., 196., 196.]],\n",
       " \n",
       "          [[125., 125., 176.,  ...,  40.,  40.,  40.],\n",
       "           [125., 125., 176.,  ...,  40.,  40.,  40.],\n",
       "           [125., 125., 176.,  ...,  40.,  40.,  40.],\n",
       "           ...,\n",
       "           [125., 125., 176.,  ...,  40.,  40.,  40.],\n",
       "           [125., 125., 176.,  ...,  40.,  40.,  40.],\n",
       "           [125., 125., 176.,  ...,  40.,  40.,  40.]],\n",
       " \n",
       "          [[ 73.,  73.,  83.,  ...,  27.,  27.,  27.],\n",
       "           [ 73.,  73.,  83.,  ...,  27.,  27.,  27.],\n",
       "           [ 73.,  73.,  83.,  ...,  27.,  27.,  27.],\n",
       "           ...,\n",
       "           [ 73.,  73.,  83.,  ...,  27.,  27.,  27.],\n",
       "           [ 73.,  73.,  83.,  ...,  27.,  27.,  27.],\n",
       "           [ 73.,  73.,  83.,  ...,  27.,  27.,  27.]]],\n",
       " \n",
       " \n",
       "         [[[196., 196., 196.,  ..., 196., 196., 196.],\n",
       "           [196., 196., 196.,  ..., 196., 196., 196.],\n",
       "           [196., 196., 196.,  ..., 196., 196., 196.],\n",
       "           ...,\n",
       "           [136., 136., 136.,  ..., 196., 196., 196.],\n",
       "           [136., 136., 136.,  ..., 196., 196., 196.],\n",
       "           [136., 136., 136.,  ..., 196., 196., 196.]],\n",
       " \n",
       "          [[ 40.,  40.,  40.,  ...,  40.,  40.,  40.],\n",
       "           [ 40.,  40.,  40.,  ...,  40.,  40.,  40.],\n",
       "           [ 40.,  40.,  40.,  ...,  40.,  40.,  40.],\n",
       "           ...,\n",
       "           [176., 176., 176.,  ...,  40.,  40.,  40.],\n",
       "           [176., 176., 176.,  ...,  40.,  40.,  40.],\n",
       "           [176., 176., 176.,  ...,  40.,  40.,  40.]],\n",
       " \n",
       "          [[ 27.,  27.,  27.,  ...,  27.,  27.,  27.],\n",
       "           [ 27.,  27.,  27.,  ...,  27.,  27.,  27.],\n",
       "           [ 27.,  27.,  27.,  ...,  27.,  27.,  27.],\n",
       "           ...,\n",
       "           [ 83.,  83.,  83.,  ...,  27.,  27.,  27.],\n",
       "           [ 83.,  83.,  83.,  ...,  27.,  27.,  27.],\n",
       "           [ 83.,  83.,  83.,  ...,  27.,  27.,  27.]]],\n",
       " \n",
       " \n",
       "         [[[196., 196., 196.,  ..., 196., 196., 196.],\n",
       "           [196., 196., 196.,  ..., 196., 196., 196.],\n",
       "           [196., 196., 196.,  ..., 196., 196., 196.],\n",
       "           ...,\n",
       "           [196., 196., 196.,  ..., 196., 196., 196.],\n",
       "           [196., 196., 196.,  ..., 196., 196., 196.],\n",
       "           [196., 196., 196.,  ..., 196., 196., 196.]],\n",
       " \n",
       "          [[ 40.,  40.,  40.,  ...,  40.,  40.,  40.],\n",
       "           [ 40.,  40.,  40.,  ...,  40.,  40.,  40.],\n",
       "           [ 40.,  40.,  40.,  ...,  40.,  40.,  40.],\n",
       "           ...,\n",
       "           [ 40.,  40.,  40.,  ...,  40.,  40.,  40.],\n",
       "           [ 40.,  40.,  40.,  ...,  40.,  40.,  40.],\n",
       "           [ 40.,  40.,  40.,  ...,  40.,  40.,  40.]],\n",
       " \n",
       "          [[ 27.,  27.,  27.,  ...,  27.,  27.,  27.],\n",
       "           [ 27.,  27.,  27.,  ...,  27.,  27.,  27.],\n",
       "           [ 27.,  27.,  27.,  ...,  27.,  27.,  27.],\n",
       "           ...,\n",
       "           [ 27.,  27.,  27.,  ...,  27.,  27.,  27.],\n",
       "           [ 27.,  27.,  27.,  ...,  27.,  27.,  27.],\n",
       "           [ 27.,  27.,  27.,  ...,  27.,  27.,  27.]]],\n",
       " \n",
       " \n",
       "         ...,\n",
       " \n",
       " \n",
       "         [[[136., 136., 136.,  ...,  57.,  57.,  57.],\n",
       "           [136., 136., 136.,  ...,  57.,  57.,  57.],\n",
       "           [136., 136., 136.,  ...,  57.,  57.,  57.],\n",
       "           ...,\n",
       "           [ 57.,  57.,  57.,  ..., 228., 228., 228.],\n",
       "           [ 57.,  57.,  57.,  ..., 228., 228., 228.],\n",
       "           [ 57.,  57.,  57.,  ..., 228., 228., 228.]],\n",
       " \n",
       "          [[176., 176., 176.,  ..., 125., 125., 125.],\n",
       "           [176., 176., 176.,  ..., 125., 125., 125.],\n",
       "           [176., 176., 176.,  ..., 125., 125., 125.],\n",
       "           ...,\n",
       "           [125., 125., 125.,  ..., 150., 150., 150.],\n",
       "           [125., 125., 125.,  ..., 150., 150., 150.],\n",
       "           [125., 125., 125.,  ..., 150., 150., 150.]],\n",
       " \n",
       "          [[ 83.,  83.,  83.,  ...,  73.,  73.,  73.],\n",
       "           [ 83.,  83.,  83.,  ...,  73.,  73.,  73.],\n",
       "           [ 83.,  83.,  83.,  ...,  73.,  73.,  73.],\n",
       "           ...,\n",
       "           [ 73.,  73.,  73.,  ...,  53.,  53.,  53.],\n",
       "           [ 73.,  73.,  73.,  ...,  53.,  53.,  53.],\n",
       "           [ 73.,  73.,  73.,  ...,  53.,  53.,  53.]]],\n",
       " \n",
       " \n",
       "         [[[165., 165., 165.,  ...,  57.,  57.,  57.],\n",
       "           [165., 165., 165.,  ...,  57.,  57.,  57.],\n",
       "           [165., 165., 165.,  ...,  57.,  57.,  57.],\n",
       "           ...,\n",
       "           [ 57.,  57.,  57.,  ..., 196., 196., 165.],\n",
       "           [ 57.,  57.,  57.,  ..., 196., 196., 165.],\n",
       "           [ 57.,  57.,  57.,  ..., 196., 196., 165.]],\n",
       " \n",
       "          [[155., 155., 155.,  ..., 125., 125., 125.],\n",
       "           [155., 155., 155.,  ..., 125., 125., 125.],\n",
       "           [155., 155., 155.,  ..., 125., 125., 125.],\n",
       "           ...,\n",
       "           [125., 125., 125.,  ...,  40.,  40., 155.],\n",
       "           [125., 125., 125.,  ...,  40.,  40., 155.],\n",
       "           [125., 125., 125.,  ...,  40.,  40., 155.]],\n",
       " \n",
       "          [[143., 143., 143.,  ...,  73.,  73.,  73.],\n",
       "           [143., 143., 143.,  ...,  73.,  73.,  73.],\n",
       "           [143., 143., 143.,  ...,  73.,  73.,  73.],\n",
       "           ...,\n",
       "           [ 73.,  73.,  73.,  ...,  27.,  27., 143.],\n",
       "           [ 73.,  73.,  73.,  ...,  27.,  27., 143.],\n",
       "           [ 73.,  73.,  73.,  ...,  27.,  27., 143.]]],\n",
       " \n",
       " \n",
       "         [[[196., 196., 196.,  ..., 196., 196., 196.],\n",
       "           [196., 196., 196.,  ..., 196., 196., 196.],\n",
       "           [196., 196., 196.,  ..., 196., 196., 196.],\n",
       "           ...,\n",
       "           [136., 136., 136.,  ..., 196., 196., 196.],\n",
       "           [136., 136., 136.,  ..., 165., 165., 196.],\n",
       "           [136., 136., 136.,  ..., 165., 165., 196.]],\n",
       " \n",
       "          [[ 40.,  40.,  40.,  ...,  40.,  40.,  40.],\n",
       "           [ 40.,  40.,  40.,  ...,  40.,  40.,  40.],\n",
       "           [ 40.,  40.,  40.,  ...,  40.,  40.,  40.],\n",
       "           ...,\n",
       "           [176., 176., 176.,  ...,  40.,  40.,  40.],\n",
       "           [176., 176., 176.,  ..., 155., 155.,  40.],\n",
       "           [176., 176., 176.,  ..., 155., 155.,  40.]],\n",
       " \n",
       "          [[ 27.,  27.,  27.,  ...,  27.,  27.,  27.],\n",
       "           [ 27.,  27.,  27.,  ...,  27.,  27.,  27.],\n",
       "           [ 27.,  27.,  27.,  ...,  27.,  27.,  27.],\n",
       "           ...,\n",
       "           [ 83.,  83.,  83.,  ...,  27.,  27.,  27.],\n",
       "           [ 83.,  83.,  83.,  ..., 143., 143.,  27.],\n",
       "           [ 83.,  83.,  83.,  ..., 143., 143.,  27.]]]]),\n",
       " tensor([[ 1.7222e-02],\n",
       "         [-3.8889e-03],\n",
       "         [ 0.0000e+00],\n",
       "         [-2.2222e-02],\n",
       "         [-7.2222e-03],\n",
       "         [ 5.5556e-04],\n",
       "         [-1.0556e-02],\n",
       "         [ 0.0000e+00],\n",
       "         [ 2.0054e-02],\n",
       "         [-5.6818e-03],\n",
       "         [ 0.0000e+00],\n",
       "         [ 0.0000e+00],\n",
       "         [ 5.7507e-01],\n",
       "         [ 1.6667e-03],\n",
       "         [ 0.0000e+00],\n",
       "         [ 0.0000e+00],\n",
       "         [ 0.0000e+00],\n",
       "         [ 0.0000e+00],\n",
       "         [ 0.0000e+00],\n",
       "         [-1.5556e-02],\n",
       "         [ 1.9318e-02],\n",
       "         [-5.2222e-02],\n",
       "         [-8.3333e-03],\n",
       "         [ 0.0000e+00],\n",
       "         [-5.3889e-02],\n",
       "         [ 0.0000e+00],\n",
       "         [-6.6667e-03],\n",
       "         [ 0.0000e+00],\n",
       "         [-1.1333e-01],\n",
       "         [ 0.0000e+00],\n",
       "         [-8.2385e-02],\n",
       "         [-1.1364e-03]])]"
      ]
     },
     "execution_count": 28,
     "metadata": {},
     "output_type": "execute_result"
    }
   ],
   "source": [
    "next(iter(train_loader))"
   ]
  },
  {
   "cell_type": "code",
   "execution_count": 31,
   "metadata": {},
   "outputs": [
    {
     "ename": "KeyError",
     "evalue": "0",
     "output_type": "error",
     "traceback": [
      "\u001b[0;31m---------------------------------------------------------------------------\u001b[0m",
      "\u001b[0;31mKeyError\u001b[0m                                  Traceback (most recent call last)",
      "File \u001b[0;32m/opt/homebrew/Caskroom/miniconda/base/envs/capstone/lib/python3.11/site-packages/pandas/core/indexes/base.py:3802\u001b[0m, in \u001b[0;36mIndex.get_loc\u001b[0;34m(self, key, method, tolerance)\u001b[0m\n\u001b[1;32m   3801\u001b[0m \u001b[39mtry\u001b[39;00m:\n\u001b[0;32m-> 3802\u001b[0m     \u001b[39mreturn\u001b[39;00m \u001b[39mself\u001b[39m\u001b[39m.\u001b[39m_engine\u001b[39m.\u001b[39mget_loc(casted_key)\n\u001b[1;32m   3803\u001b[0m \u001b[39mexcept\u001b[39;00m \u001b[39mKeyError\u001b[39;00m \u001b[39mas\u001b[39;00m err:\n",
      "File \u001b[0;32m/opt/homebrew/Caskroom/miniconda/base/envs/capstone/lib/python3.11/site-packages/pandas/_libs/index.pyx:138\u001b[0m, in \u001b[0;36mpandas._libs.index.IndexEngine.get_loc\u001b[0;34m()\u001b[0m\n",
      "File \u001b[0;32m/opt/homebrew/Caskroom/miniconda/base/envs/capstone/lib/python3.11/site-packages/pandas/_libs/index.pyx:165\u001b[0m, in \u001b[0;36mpandas._libs.index.IndexEngine.get_loc\u001b[0;34m()\u001b[0m\n",
      "File \u001b[0;32mpandas/_libs/hashtable_class_helper.pxi:5745\u001b[0m, in \u001b[0;36mpandas._libs.hashtable.PyObjectHashTable.get_item\u001b[0;34m()\u001b[0m\n",
      "File \u001b[0;32mpandas/_libs/hashtable_class_helper.pxi:5753\u001b[0m, in \u001b[0;36mpandas._libs.hashtable.PyObjectHashTable.get_item\u001b[0;34m()\u001b[0m\n",
      "\u001b[0;31mKeyError\u001b[0m: 0",
      "\nThe above exception was the direct cause of the following exception:\n",
      "\u001b[0;31mKeyError\u001b[0m                                  Traceback (most recent call last)",
      "Cell \u001b[0;32mIn[31], line 1\u001b[0m\n\u001b[0;32m----> 1\u001b[0m \u001b[39mnext\u001b[39m(\u001b[39miter\u001b[39m(val_loader))\n\u001b[1;32m      3\u001b[0m \u001b[39mfor\u001b[39;00m batch_idx, data \u001b[39min\u001b[39;00m \u001b[39menumerate\u001b[39m(train_loader):\n\u001b[1;32m      4\u001b[0m     \u001b[39mprint\u001b[39m(\u001b[39m\"\u001b[39m\u001b[39mbatch idx\u001b[39m\u001b[39m{}\u001b[39;00m\u001b[39m, batch len \u001b[39m\u001b[39m{}\u001b[39;00m\u001b[39m\"\u001b[39m\u001b[39m.\u001b[39mformat(batch_idx, \u001b[39mlen\u001b[39m(data)))\n",
      "File \u001b[0;32m/opt/homebrew/Caskroom/miniconda/base/envs/capstone/lib/python3.11/site-packages/torch/utils/data/dataloader.py:633\u001b[0m, in \u001b[0;36m_BaseDataLoaderIter.__next__\u001b[0;34m(self)\u001b[0m\n\u001b[1;32m    630\u001b[0m \u001b[39mif\u001b[39;00m \u001b[39mself\u001b[39m\u001b[39m.\u001b[39m_sampler_iter \u001b[39mis\u001b[39;00m \u001b[39mNone\u001b[39;00m:\n\u001b[1;32m    631\u001b[0m     \u001b[39m# TODO(https://github.com/pytorch/pytorch/issues/76750)\u001b[39;00m\n\u001b[1;32m    632\u001b[0m     \u001b[39mself\u001b[39m\u001b[39m.\u001b[39m_reset()  \u001b[39m# type: ignore[call-arg]\u001b[39;00m\n\u001b[0;32m--> 633\u001b[0m data \u001b[39m=\u001b[39m \u001b[39mself\u001b[39m\u001b[39m.\u001b[39m_next_data()\n\u001b[1;32m    634\u001b[0m \u001b[39mself\u001b[39m\u001b[39m.\u001b[39m_num_yielded \u001b[39m+\u001b[39m\u001b[39m=\u001b[39m \u001b[39m1\u001b[39m\n\u001b[1;32m    635\u001b[0m \u001b[39mif\u001b[39;00m \u001b[39mself\u001b[39m\u001b[39m.\u001b[39m_dataset_kind \u001b[39m==\u001b[39m _DatasetKind\u001b[39m.\u001b[39mIterable \u001b[39mand\u001b[39;00m \\\n\u001b[1;32m    636\u001b[0m         \u001b[39mself\u001b[39m\u001b[39m.\u001b[39m_IterableDataset_len_called \u001b[39mis\u001b[39;00m \u001b[39mnot\u001b[39;00m \u001b[39mNone\u001b[39;00m \u001b[39mand\u001b[39;00m \\\n\u001b[1;32m    637\u001b[0m         \u001b[39mself\u001b[39m\u001b[39m.\u001b[39m_num_yielded \u001b[39m>\u001b[39m \u001b[39mself\u001b[39m\u001b[39m.\u001b[39m_IterableDataset_len_called:\n",
      "File \u001b[0;32m/opt/homebrew/Caskroom/miniconda/base/envs/capstone/lib/python3.11/site-packages/torch/utils/data/dataloader.py:677\u001b[0m, in \u001b[0;36m_SingleProcessDataLoaderIter._next_data\u001b[0;34m(self)\u001b[0m\n\u001b[1;32m    675\u001b[0m \u001b[39mdef\u001b[39;00m \u001b[39m_next_data\u001b[39m(\u001b[39mself\u001b[39m):\n\u001b[1;32m    676\u001b[0m     index \u001b[39m=\u001b[39m \u001b[39mself\u001b[39m\u001b[39m.\u001b[39m_next_index()  \u001b[39m# may raise StopIteration\u001b[39;00m\n\u001b[0;32m--> 677\u001b[0m     data \u001b[39m=\u001b[39m \u001b[39mself\u001b[39m\u001b[39m.\u001b[39m_dataset_fetcher\u001b[39m.\u001b[39mfetch(index)  \u001b[39m# may raise StopIteration\u001b[39;00m\n\u001b[1;32m    678\u001b[0m     \u001b[39mif\u001b[39;00m \u001b[39mself\u001b[39m\u001b[39m.\u001b[39m_pin_memory:\n\u001b[1;32m    679\u001b[0m         data \u001b[39m=\u001b[39m _utils\u001b[39m.\u001b[39mpin_memory\u001b[39m.\u001b[39mpin_memory(data, \u001b[39mself\u001b[39m\u001b[39m.\u001b[39m_pin_memory_device)\n",
      "File \u001b[0;32m/opt/homebrew/Caskroom/miniconda/base/envs/capstone/lib/python3.11/site-packages/torch/utils/data/_utils/fetch.py:51\u001b[0m, in \u001b[0;36m_MapDatasetFetcher.fetch\u001b[0;34m(self, possibly_batched_index)\u001b[0m\n\u001b[1;32m     49\u001b[0m         data \u001b[39m=\u001b[39m \u001b[39mself\u001b[39m\u001b[39m.\u001b[39mdataset\u001b[39m.\u001b[39m__getitems__(possibly_batched_index)\n\u001b[1;32m     50\u001b[0m     \u001b[39melse\u001b[39;00m:\n\u001b[0;32m---> 51\u001b[0m         data \u001b[39m=\u001b[39m [\u001b[39mself\u001b[39m\u001b[39m.\u001b[39mdataset[idx] \u001b[39mfor\u001b[39;00m idx \u001b[39min\u001b[39;00m possibly_batched_index]\n\u001b[1;32m     52\u001b[0m \u001b[39melse\u001b[39;00m:\n\u001b[1;32m     53\u001b[0m     data \u001b[39m=\u001b[39m \u001b[39mself\u001b[39m\u001b[39m.\u001b[39mdataset[possibly_batched_index]\n",
      "File \u001b[0;32m/opt/homebrew/Caskroom/miniconda/base/envs/capstone/lib/python3.11/site-packages/torch/utils/data/_utils/fetch.py:51\u001b[0m, in \u001b[0;36m<listcomp>\u001b[0;34m(.0)\u001b[0m\n\u001b[1;32m     49\u001b[0m         data \u001b[39m=\u001b[39m \u001b[39mself\u001b[39m\u001b[39m.\u001b[39mdataset\u001b[39m.\u001b[39m__getitems__(possibly_batched_index)\n\u001b[1;32m     50\u001b[0m     \u001b[39melse\u001b[39;00m:\n\u001b[0;32m---> 51\u001b[0m         data \u001b[39m=\u001b[39m [\u001b[39mself\u001b[39m\u001b[39m.\u001b[39mdataset[idx] \u001b[39mfor\u001b[39;00m idx \u001b[39min\u001b[39;00m possibly_batched_index]\n\u001b[1;32m     52\u001b[0m \u001b[39melse\u001b[39;00m:\n\u001b[1;32m     53\u001b[0m     data \u001b[39m=\u001b[39m \u001b[39mself\u001b[39m\u001b[39m.\u001b[39mdataset[possibly_batched_index]\n",
      "File \u001b[0;32m/opt/homebrew/Caskroom/miniconda/base/envs/capstone/lib/python3.11/site-packages/pandas/core/frame.py:3807\u001b[0m, in \u001b[0;36mDataFrame.__getitem__\u001b[0;34m(self, key)\u001b[0m\n\u001b[1;32m   3805\u001b[0m \u001b[39mif\u001b[39;00m \u001b[39mself\u001b[39m\u001b[39m.\u001b[39mcolumns\u001b[39m.\u001b[39mnlevels \u001b[39m>\u001b[39m \u001b[39m1\u001b[39m:\n\u001b[1;32m   3806\u001b[0m     \u001b[39mreturn\u001b[39;00m \u001b[39mself\u001b[39m\u001b[39m.\u001b[39m_getitem_multilevel(key)\n\u001b[0;32m-> 3807\u001b[0m indexer \u001b[39m=\u001b[39m \u001b[39mself\u001b[39m\u001b[39m.\u001b[39mcolumns\u001b[39m.\u001b[39mget_loc(key)\n\u001b[1;32m   3808\u001b[0m \u001b[39mif\u001b[39;00m is_integer(indexer):\n\u001b[1;32m   3809\u001b[0m     indexer \u001b[39m=\u001b[39m [indexer]\n",
      "File \u001b[0;32m/opt/homebrew/Caskroom/miniconda/base/envs/capstone/lib/python3.11/site-packages/pandas/core/indexes/base.py:3804\u001b[0m, in \u001b[0;36mIndex.get_loc\u001b[0;34m(self, key, method, tolerance)\u001b[0m\n\u001b[1;32m   3802\u001b[0m     \u001b[39mreturn\u001b[39;00m \u001b[39mself\u001b[39m\u001b[39m.\u001b[39m_engine\u001b[39m.\u001b[39mget_loc(casted_key)\n\u001b[1;32m   3803\u001b[0m \u001b[39mexcept\u001b[39;00m \u001b[39mKeyError\u001b[39;00m \u001b[39mas\u001b[39;00m err:\n\u001b[0;32m-> 3804\u001b[0m     \u001b[39mraise\u001b[39;00m \u001b[39mKeyError\u001b[39;00m(key) \u001b[39mfrom\u001b[39;00m \u001b[39merr\u001b[39;00m\n\u001b[1;32m   3805\u001b[0m \u001b[39mexcept\u001b[39;00m \u001b[39mTypeError\u001b[39;00m:\n\u001b[1;32m   3806\u001b[0m     \u001b[39m# If we have a listlike key, _check_indexing_error will raise\u001b[39;00m\n\u001b[1;32m   3807\u001b[0m     \u001b[39m#  InvalidIndexError. Otherwise we fall through and re-raise\u001b[39;00m\n\u001b[1;32m   3808\u001b[0m     \u001b[39m#  the TypeError.\u001b[39;00m\n\u001b[1;32m   3809\u001b[0m     \u001b[39mself\u001b[39m\u001b[39m.\u001b[39m_check_indexing_error(key)\n",
      "\u001b[0;31mKeyError\u001b[0m: 0"
     ]
    }
   ],
   "source": [
    "next(iter(val_loader))\n",
    "\n",
    "for batch_idx, data in enumerate(train_loader):\n",
    "    print(\"batch idx{}, batch len {}\".format(batch_idx, len(data)))"
   ]
  },
  {
   "cell_type": "code",
   "execution_count": 198,
   "metadata": {},
   "outputs": [
    {
     "ename": "KeyError",
     "evalue": "0",
     "output_type": "error",
     "traceback": [
      "\u001b[0;31m---------------------------------------------------------------------------\u001b[0m",
      "\u001b[0;31mKeyError\u001b[0m                                  Traceback (most recent call last)",
      "File \u001b[0;32m/opt/homebrew/Caskroom/miniconda/base/envs/capstone/lib/python3.11/site-packages/pandas/core/indexes/base.py:3802\u001b[0m, in \u001b[0;36mIndex.get_loc\u001b[0;34m(self, key, method, tolerance)\u001b[0m\n\u001b[1;32m   3801\u001b[0m \u001b[39mtry\u001b[39;00m:\n\u001b[0;32m-> 3802\u001b[0m     \u001b[39mreturn\u001b[39;00m \u001b[39mself\u001b[39m\u001b[39m.\u001b[39m_engine\u001b[39m.\u001b[39mget_loc(casted_key)\n\u001b[1;32m   3803\u001b[0m \u001b[39mexcept\u001b[39;00m \u001b[39mKeyError\u001b[39;00m \u001b[39mas\u001b[39;00m err:\n",
      "File \u001b[0;32m/opt/homebrew/Caskroom/miniconda/base/envs/capstone/lib/python3.11/site-packages/pandas/_libs/index.pyx:138\u001b[0m, in \u001b[0;36mpandas._libs.index.IndexEngine.get_loc\u001b[0;34m()\u001b[0m\n",
      "File \u001b[0;32m/opt/homebrew/Caskroom/miniconda/base/envs/capstone/lib/python3.11/site-packages/pandas/_libs/index.pyx:165\u001b[0m, in \u001b[0;36mpandas._libs.index.IndexEngine.get_loc\u001b[0;34m()\u001b[0m\n",
      "File \u001b[0;32mpandas/_libs/hashtable_class_helper.pxi:5745\u001b[0m, in \u001b[0;36mpandas._libs.hashtable.PyObjectHashTable.get_item\u001b[0;34m()\u001b[0m\n",
      "File \u001b[0;32mpandas/_libs/hashtable_class_helper.pxi:5753\u001b[0m, in \u001b[0;36mpandas._libs.hashtable.PyObjectHashTable.get_item\u001b[0;34m()\u001b[0m\n",
      "\u001b[0;31mKeyError\u001b[0m: 0",
      "\nThe above exception was the direct cause of the following exception:\n",
      "\u001b[0;31mKeyError\u001b[0m                                  Traceback (most recent call last)",
      "Cell \u001b[0;32mIn[198], line 4\u001b[0m\n\u001b[1;32m      1\u001b[0m val_loader\n\u001b[1;32m      2\u001b[0m \u001b[39mlen\u001b[39m(val_loader)\n\u001b[0;32m----> 4\u001b[0m \u001b[39mfor\u001b[39;00m i \u001b[39min\u001b[39;00m \u001b[39menumerate\u001b[39m(val_loader, \u001b[39m0\u001b[39m):\n\u001b[1;32m      5\u001b[0m     \u001b[39mprint\u001b[39m(i)\n",
      "File \u001b[0;32m/opt/homebrew/Caskroom/miniconda/base/envs/capstone/lib/python3.11/site-packages/torch/utils/data/dataloader.py:633\u001b[0m, in \u001b[0;36m_BaseDataLoaderIter.__next__\u001b[0;34m(self)\u001b[0m\n\u001b[1;32m    630\u001b[0m \u001b[39mif\u001b[39;00m \u001b[39mself\u001b[39m\u001b[39m.\u001b[39m_sampler_iter \u001b[39mis\u001b[39;00m \u001b[39mNone\u001b[39;00m:\n\u001b[1;32m    631\u001b[0m     \u001b[39m# TODO(https://github.com/pytorch/pytorch/issues/76750)\u001b[39;00m\n\u001b[1;32m    632\u001b[0m     \u001b[39mself\u001b[39m\u001b[39m.\u001b[39m_reset()  \u001b[39m# type: ignore[call-arg]\u001b[39;00m\n\u001b[0;32m--> 633\u001b[0m data \u001b[39m=\u001b[39m \u001b[39mself\u001b[39m\u001b[39m.\u001b[39m_next_data()\n\u001b[1;32m    634\u001b[0m \u001b[39mself\u001b[39m\u001b[39m.\u001b[39m_num_yielded \u001b[39m+\u001b[39m\u001b[39m=\u001b[39m \u001b[39m1\u001b[39m\n\u001b[1;32m    635\u001b[0m \u001b[39mif\u001b[39;00m \u001b[39mself\u001b[39m\u001b[39m.\u001b[39m_dataset_kind \u001b[39m==\u001b[39m _DatasetKind\u001b[39m.\u001b[39mIterable \u001b[39mand\u001b[39;00m \\\n\u001b[1;32m    636\u001b[0m         \u001b[39mself\u001b[39m\u001b[39m.\u001b[39m_IterableDataset_len_called \u001b[39mis\u001b[39;00m \u001b[39mnot\u001b[39;00m \u001b[39mNone\u001b[39;00m \u001b[39mand\u001b[39;00m \\\n\u001b[1;32m    637\u001b[0m         \u001b[39mself\u001b[39m\u001b[39m.\u001b[39m_num_yielded \u001b[39m>\u001b[39m \u001b[39mself\u001b[39m\u001b[39m.\u001b[39m_IterableDataset_len_called:\n",
      "File \u001b[0;32m/opt/homebrew/Caskroom/miniconda/base/envs/capstone/lib/python3.11/site-packages/torch/utils/data/dataloader.py:677\u001b[0m, in \u001b[0;36m_SingleProcessDataLoaderIter._next_data\u001b[0;34m(self)\u001b[0m\n\u001b[1;32m    675\u001b[0m \u001b[39mdef\u001b[39;00m \u001b[39m_next_data\u001b[39m(\u001b[39mself\u001b[39m):\n\u001b[1;32m    676\u001b[0m     index \u001b[39m=\u001b[39m \u001b[39mself\u001b[39m\u001b[39m.\u001b[39m_next_index()  \u001b[39m# may raise StopIteration\u001b[39;00m\n\u001b[0;32m--> 677\u001b[0m     data \u001b[39m=\u001b[39m \u001b[39mself\u001b[39m\u001b[39m.\u001b[39m_dataset_fetcher\u001b[39m.\u001b[39mfetch(index)  \u001b[39m# may raise StopIteration\u001b[39;00m\n\u001b[1;32m    678\u001b[0m     \u001b[39mif\u001b[39;00m \u001b[39mself\u001b[39m\u001b[39m.\u001b[39m_pin_memory:\n\u001b[1;32m    679\u001b[0m         data \u001b[39m=\u001b[39m _utils\u001b[39m.\u001b[39mpin_memory\u001b[39m.\u001b[39mpin_memory(data, \u001b[39mself\u001b[39m\u001b[39m.\u001b[39m_pin_memory_device)\n",
      "File \u001b[0;32m/opt/homebrew/Caskroom/miniconda/base/envs/capstone/lib/python3.11/site-packages/torch/utils/data/_utils/fetch.py:51\u001b[0m, in \u001b[0;36m_MapDatasetFetcher.fetch\u001b[0;34m(self, possibly_batched_index)\u001b[0m\n\u001b[1;32m     49\u001b[0m         data \u001b[39m=\u001b[39m \u001b[39mself\u001b[39m\u001b[39m.\u001b[39mdataset\u001b[39m.\u001b[39m__getitems__(possibly_batched_index)\n\u001b[1;32m     50\u001b[0m     \u001b[39melse\u001b[39;00m:\n\u001b[0;32m---> 51\u001b[0m         data \u001b[39m=\u001b[39m [\u001b[39mself\u001b[39m\u001b[39m.\u001b[39mdataset[idx] \u001b[39mfor\u001b[39;00m idx \u001b[39min\u001b[39;00m possibly_batched_index]\n\u001b[1;32m     52\u001b[0m \u001b[39melse\u001b[39;00m:\n\u001b[1;32m     53\u001b[0m     data \u001b[39m=\u001b[39m \u001b[39mself\u001b[39m\u001b[39m.\u001b[39mdataset[possibly_batched_index]\n",
      "File \u001b[0;32m/opt/homebrew/Caskroom/miniconda/base/envs/capstone/lib/python3.11/site-packages/torch/utils/data/_utils/fetch.py:51\u001b[0m, in \u001b[0;36m<listcomp>\u001b[0;34m(.0)\u001b[0m\n\u001b[1;32m     49\u001b[0m         data \u001b[39m=\u001b[39m \u001b[39mself\u001b[39m\u001b[39m.\u001b[39mdataset\u001b[39m.\u001b[39m__getitems__(possibly_batched_index)\n\u001b[1;32m     50\u001b[0m     \u001b[39melse\u001b[39;00m:\n\u001b[0;32m---> 51\u001b[0m         data \u001b[39m=\u001b[39m [\u001b[39mself\u001b[39m\u001b[39m.\u001b[39mdataset[idx] \u001b[39mfor\u001b[39;00m idx \u001b[39min\u001b[39;00m possibly_batched_index]\n\u001b[1;32m     52\u001b[0m \u001b[39melse\u001b[39;00m:\n\u001b[1;32m     53\u001b[0m     data \u001b[39m=\u001b[39m \u001b[39mself\u001b[39m\u001b[39m.\u001b[39mdataset[possibly_batched_index]\n",
      "File \u001b[0;32m/opt/homebrew/Caskroom/miniconda/base/envs/capstone/lib/python3.11/site-packages/pandas/core/frame.py:3807\u001b[0m, in \u001b[0;36mDataFrame.__getitem__\u001b[0;34m(self, key)\u001b[0m\n\u001b[1;32m   3805\u001b[0m \u001b[39mif\u001b[39;00m \u001b[39mself\u001b[39m\u001b[39m.\u001b[39mcolumns\u001b[39m.\u001b[39mnlevels \u001b[39m>\u001b[39m \u001b[39m1\u001b[39m:\n\u001b[1;32m   3806\u001b[0m     \u001b[39mreturn\u001b[39;00m \u001b[39mself\u001b[39m\u001b[39m.\u001b[39m_getitem_multilevel(key)\n\u001b[0;32m-> 3807\u001b[0m indexer \u001b[39m=\u001b[39m \u001b[39mself\u001b[39m\u001b[39m.\u001b[39mcolumns\u001b[39m.\u001b[39mget_loc(key)\n\u001b[1;32m   3808\u001b[0m \u001b[39mif\u001b[39;00m is_integer(indexer):\n\u001b[1;32m   3809\u001b[0m     indexer \u001b[39m=\u001b[39m [indexer]\n",
      "File \u001b[0;32m/opt/homebrew/Caskroom/miniconda/base/envs/capstone/lib/python3.11/site-packages/pandas/core/indexes/base.py:3804\u001b[0m, in \u001b[0;36mIndex.get_loc\u001b[0;34m(self, key, method, tolerance)\u001b[0m\n\u001b[1;32m   3802\u001b[0m     \u001b[39mreturn\u001b[39;00m \u001b[39mself\u001b[39m\u001b[39m.\u001b[39m_engine\u001b[39m.\u001b[39mget_loc(casted_key)\n\u001b[1;32m   3803\u001b[0m \u001b[39mexcept\u001b[39;00m \u001b[39mKeyError\u001b[39;00m \u001b[39mas\u001b[39;00m err:\n\u001b[0;32m-> 3804\u001b[0m     \u001b[39mraise\u001b[39;00m \u001b[39mKeyError\u001b[39;00m(key) \u001b[39mfrom\u001b[39;00m \u001b[39merr\u001b[39;00m\n\u001b[1;32m   3805\u001b[0m \u001b[39mexcept\u001b[39;00m \u001b[39mTypeError\u001b[39;00m:\n\u001b[1;32m   3806\u001b[0m     \u001b[39m# If we have a listlike key, _check_indexing_error will raise\u001b[39;00m\n\u001b[1;32m   3807\u001b[0m     \u001b[39m#  InvalidIndexError. Otherwise we fall through and re-raise\u001b[39;00m\n\u001b[1;32m   3808\u001b[0m     \u001b[39m#  the TypeError.\u001b[39;00m\n\u001b[1;32m   3809\u001b[0m     \u001b[39mself\u001b[39m\u001b[39m.\u001b[39m_check_indexing_error(key)\n",
      "\u001b[0;31mKeyError\u001b[0m: 0"
     ]
    }
   ],
   "source": [
    "val_loader\n",
    "len(val_loader)\n",
    "\n",
    "for i in enumerate(val_loader, 0):\n",
    "    print(i)"
   ]
  },
  {
   "cell_type": "code",
   "execution_count": null,
   "metadata": {},
   "outputs": [],
   "source": [
    "writer = SummaryWriter()\n"
   ]
  },
  {
   "cell_type": "code",
   "execution_count": 200,
   "metadata": {},
   "outputs": [
    {
     "data": {
      "text/plain": [
       "1"
      ]
     },
     "execution_count": 200,
     "metadata": {},
     "output_type": "execute_result"
    }
   ],
   "source": [
    "val_loader.__len__()"
   ]
  },
  {
   "cell_type": "code",
   "execution_count": null,
   "metadata": {},
   "outputs": [],
   "source": []
  },
  {
   "cell_type": "code",
   "execution_count": null,
   "metadata": {},
   "outputs": [],
   "source": []
  },
  {
   "cell_type": "code",
   "execution_count": null,
   "metadata": {},
   "outputs": [],
   "source": []
  },
  {
   "cell_type": "code",
   "execution_count": null,
   "metadata": {},
   "outputs": [],
   "source": []
  }
 ],
 "metadata": {
  "kernelspec": {
   "display_name": "capstone",
   "language": "python",
   "name": "python3"
  },
  "language_info": {
   "codemirror_mode": {
    "name": "ipython",
    "version": 3
   },
   "file_extension": ".py",
   "mimetype": "text/x-python",
   "name": "python",
   "nbconvert_exporter": "python",
   "pygments_lexer": "ipython3",
   "version": "3.11.3"
  },
  "orig_nbformat": 4
 },
 "nbformat": 4,
 "nbformat_minor": 2
}
