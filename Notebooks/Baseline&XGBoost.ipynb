{
  "nbformat": 4,
  "nbformat_minor": 0,
  "metadata": {
    "colab": {
      "provenance": [],
      "authorship_tag": "ABX9TyP2tuEQMUqB2e81ZbG9fVU/",
      "include_colab_link": true
    },
    "kernelspec": {
      "name": "python3",
      "display_name": "Python 3"
    },
    "language_info": {
      "name": "python"
    }
  },
  "cells": [
    {
      "cell_type": "markdown",
      "metadata": {
        "id": "view-in-github",
        "colab_type": "text"
      },
      "source": [
        "<a href=\"https://colab.research.google.com/github/victor-radermecker/Capstone_JPMorgan/blob/conv-lstm/Notebooks_toMerge/Baseline%26XGBoost.ipynb\" target=\"_parent\"><img src=\"https://colab.research.google.com/assets/colab-badge.svg\" alt=\"Open In Colab\"/></a>"
      ]
    },
    {
      "cell_type": "markdown",
      "source": [
        "# Baseline and XGBoost\n",
        "\n",
        "Author: Andrea Zanon, Victor Radermecker"
      ],
      "metadata": {
        "id": "OR_lis3rTEK7"
      }
    },
    {
      "cell_type": "markdown",
      "source": [
        "# Package Imports"
      ],
      "metadata": {
        "id": "cM_OpzshR1s7"
      }
    },
    {
      "cell_type": "code",
      "source": [
        "from google.colab import drive\n",
        "drive.mount('/content/drive', force_remount = True)"
      ],
      "metadata": {
        "colab": {
          "base_uri": "https://localhost:8080/"
        },
        "id": "JFDRwy2YTP1d",
        "outputId": "a4ff4138-2789-44ce-d471-785ff847904a"
      },
      "execution_count": 1,
      "outputs": [
        {
          "output_type": "stream",
          "name": "stdout",
          "text": [
            "Mounted at /content/drive\n"
          ]
        }
      ]
    },
    {
      "cell_type": "code",
      "source": [
        "# Import packages\n",
        "import sys\n",
        "import pandas as pd\n",
        "import seaborn as sns\n",
        "from tqdm import tqdm\n",
        "import numpy as np\n",
        "import matplotlib.pyplot as plt\n",
        "import seaborn as sns\n",
        "import matplotlib.pyplot as plt\n",
        "import warnings\n",
        "import datetime\n",
        "import tensorflow as tf\n",
        "from tensorflow import keras\n",
        "from tensorflow.keras import layers\n",
        "\n",
        "# Set preferences\n",
        "tf.random.set_seed(42)\n",
        "sns.set_style('darkgrid')\n",
        "warnings.filterwarnings('ignore')\n",
        "\n",
        "# update local libraries automatically\n",
        "%load_ext autoreload\n",
        "%autoreload 2\n",
        "\n",
        "# Training XGBoost\n",
        "import xgboost as xgb\n",
        "from sklearn.model_selection import train_test_split\n",
        "from sklearn.metrics import accuracy_score, confusion_matrix, classification_report\n",
        "\n",
        "sys.path.append('/content/drive/MyDrive/Code/')\n",
        "import SequenceDataLoader\n",
        "from get_data_loader import get_data_loader\n",
        "\n",
        "sys.path.append('/content/drive/MyDrive/Google Earth Exports/')"
      ],
      "metadata": {
        "id": "eljHayGBTRN-"
      },
      "execution_count": 2,
      "outputs": []
    },
    {
      "cell_type": "code",
      "source": [
        "from sklearn.metrics import r2_score, mean_absolute_error, mean_squared_error"
      ],
      "metadata": {
        "id": "ymFjUK3BeM6u"
      },
      "execution_count": 22,
      "outputs": []
    },
    {
      "cell_type": "markdown",
      "source": [
        "In this Jupyter Notebook, we predict urbanization (or urbanzation rate) using XGBoost. The training data consists of Dynamic World labels, extracted using the Fishnet Class, for different years."
      ],
      "metadata": {
        "id": "Jw7wC0ApTi43"
      }
    },
    {
      "cell_type": "code",
      "source": [
        "TRAIN_PATH = '/content/drive/MyDrive/Code/Datasets/Train/urbanization_train.csv'\n",
        "VAL_PATH = '/content/drive/MyDrive/Code/Datasets/Valid/urbanization_valid.csv'\n",
        "TEST_PATH = '/content/drive/MyDrive/Code/Datasets/Test/urbanization_test.csv'"
      ],
      "metadata": {
        "id": "oPj0MT25Tewk"
      },
      "execution_count": 3,
      "outputs": []
    },
    {
      "cell_type": "code",
      "source": [
        "# train data, Texas region\n",
        "train_data = pd.read_csv(TRAIN_PATH) # TRAIN_PATH\n",
        "\n",
        "# validation data, Georgia region\n",
        "val_data = pd.read_csv(VAL_PATH)\n",
        "\n",
        "# test data, Ohio region\n",
        "test_data = pd.read_csv(TEST_PATH)"
      ],
      "metadata": {
        "id": "qjZ47bmaT1BG"
      },
      "execution_count": 15,
      "outputs": []
    },
    {
      "cell_type": "code",
      "source": [
        "# generate dataframe based on input data\n",
        "def generate_tab_data(data, target_variable, target_year):\n",
        "\n",
        "  if target_variable not in ['urbanization', 'urbanization_rate']:\n",
        "    raise ValueError('target_variable must be urbanization or urbanization_rate')\n",
        "\n",
        "  data_wide = data.pivot_table(index='tile_id', columns='year', values=target_variable, aggfunc='first')\n",
        "  data_wide = data_wide.merge(right=data[['tile_id', 'Lat', 'Lon']], on='tile_id')\n",
        "  data_wide.drop_duplicates(inplace = True, ignore_index = True)\n",
        "  X = data_wide[[target_year-1, 'Lat', 'Lon']]\n",
        "  y = data_wide[target_year]\n",
        "\n",
        "  return X, y"
      ],
      "metadata": {
        "id": "Nk0MC2CGUIB7"
      },
      "execution_count": 38,
      "outputs": []
    },
    {
      "cell_type": "code",
      "source": [
        "target_variable = 'urbanization' # 'urbanization' or 'urbanization_rate'\n",
        "target_year = 2022\n",
        "\n",
        "X_train, y_train = generate_tab_data(train_data, target_variable, target_year)\n",
        "X_val, y_val = generate_tab_data(val_data, target_variable, target_year)\n",
        "X_test, y_test = generate_tab_data(test_data, target_variable, target_year)"
      ],
      "metadata": {
        "id": "SIk4IOdhUVrl"
      },
      "execution_count": 39,
      "outputs": []
    },
    {
      "cell_type": "code",
      "source": [
        "# using cross-val, so can merge X_val into X_train\n",
        "X_train = X_train.append(X_val)\n",
        "y_train = y_train.append(y_val)"
      ],
      "metadata": {
        "id": "y1fR99aUWSLr"
      },
      "execution_count": 40,
      "outputs": []
    },
    {
      "cell_type": "code",
      "source": [
        "X_test.head()"
      ],
      "metadata": {
        "colab": {
          "base_uri": "https://localhost:8080/",
          "height": 204
        },
        "id": "pvbE8ZF-eyx6",
        "outputId": "e596fea3-49bc-448f-cf44-3e8faf38c470"
      },
      "execution_count": 41,
      "outputs": [
        {
          "output_type": "execute_result",
          "data": {
            "text/plain": [
              "   2021        Lat        Lon\n",
              "0   0.0  36.869991 -80.170884\n",
              "1   0.0  36.869991 -80.166452\n",
              "2   0.0  36.869991 -80.162021\n",
              "3   0.0  36.869991 -80.157589\n",
              "4   0.0  36.869991 -80.153157"
            ],
            "text/html": [
              "\n",
              "\n",
              "  <div id=\"df-f830bf63-386a-4824-83aa-7f7abdbbaf7c\">\n",
              "    <div class=\"colab-df-container\">\n",
              "      <div>\n",
              "<style scoped>\n",
              "    .dataframe tbody tr th:only-of-type {\n",
              "        vertical-align: middle;\n",
              "    }\n",
              "\n",
              "    .dataframe tbody tr th {\n",
              "        vertical-align: top;\n",
              "    }\n",
              "\n",
              "    .dataframe thead th {\n",
              "        text-align: right;\n",
              "    }\n",
              "</style>\n",
              "<table border=\"1\" class=\"dataframe\">\n",
              "  <thead>\n",
              "    <tr style=\"text-align: right;\">\n",
              "      <th></th>\n",
              "      <th>2021</th>\n",
              "      <th>Lat</th>\n",
              "      <th>Lon</th>\n",
              "    </tr>\n",
              "  </thead>\n",
              "  <tbody>\n",
              "    <tr>\n",
              "      <th>0</th>\n",
              "      <td>0.0</td>\n",
              "      <td>36.869991</td>\n",
              "      <td>-80.170884</td>\n",
              "    </tr>\n",
              "    <tr>\n",
              "      <th>1</th>\n",
              "      <td>0.0</td>\n",
              "      <td>36.869991</td>\n",
              "      <td>-80.166452</td>\n",
              "    </tr>\n",
              "    <tr>\n",
              "      <th>2</th>\n",
              "      <td>0.0</td>\n",
              "      <td>36.869991</td>\n",
              "      <td>-80.162021</td>\n",
              "    </tr>\n",
              "    <tr>\n",
              "      <th>3</th>\n",
              "      <td>0.0</td>\n",
              "      <td>36.869991</td>\n",
              "      <td>-80.157589</td>\n",
              "    </tr>\n",
              "    <tr>\n",
              "      <th>4</th>\n",
              "      <td>0.0</td>\n",
              "      <td>36.869991</td>\n",
              "      <td>-80.153157</td>\n",
              "    </tr>\n",
              "  </tbody>\n",
              "</table>\n",
              "</div>\n",
              "      <button class=\"colab-df-convert\" onclick=\"convertToInteractive('df-f830bf63-386a-4824-83aa-7f7abdbbaf7c')\"\n",
              "              title=\"Convert this dataframe to an interactive table.\"\n",
              "              style=\"display:none;\">\n",
              "\n",
              "  <svg xmlns=\"http://www.w3.org/2000/svg\" height=\"24px\"viewBox=\"0 0 24 24\"\n",
              "       width=\"24px\">\n",
              "    <path d=\"M0 0h24v24H0V0z\" fill=\"none\"/>\n",
              "    <path d=\"M18.56 5.44l.94 2.06.94-2.06 2.06-.94-2.06-.94-.94-2.06-.94 2.06-2.06.94zm-11 1L8.5 8.5l.94-2.06 2.06-.94-2.06-.94L8.5 2.5l-.94 2.06-2.06.94zm10 10l.94 2.06.94-2.06 2.06-.94-2.06-.94-.94-2.06-.94 2.06-2.06.94z\"/><path d=\"M17.41 7.96l-1.37-1.37c-.4-.4-.92-.59-1.43-.59-.52 0-1.04.2-1.43.59L10.3 9.45l-7.72 7.72c-.78.78-.78 2.05 0 2.83L4 21.41c.39.39.9.59 1.41.59.51 0 1.02-.2 1.41-.59l7.78-7.78 2.81-2.81c.8-.78.8-2.07 0-2.86zM5.41 20L4 18.59l7.72-7.72 1.47 1.35L5.41 20z\"/>\n",
              "  </svg>\n",
              "      </button>\n",
              "\n",
              "\n",
              "\n",
              "    <div id=\"df-73a0c5c7-70eb-4d95-9a71-b9861035f25e\">\n",
              "      <button class=\"colab-df-quickchart\" onclick=\"quickchart('df-73a0c5c7-70eb-4d95-9a71-b9861035f25e')\"\n",
              "              title=\"Suggest charts.\"\n",
              "              style=\"display:none;\">\n",
              "\n",
              "<svg xmlns=\"http://www.w3.org/2000/svg\" height=\"24px\"viewBox=\"0 0 24 24\"\n",
              "     width=\"24px\">\n",
              "    <g>\n",
              "        <path d=\"M19 3H5c-1.1 0-2 .9-2 2v14c0 1.1.9 2 2 2h14c1.1 0 2-.9 2-2V5c0-1.1-.9-2-2-2zM9 17H7v-7h2v7zm4 0h-2V7h2v10zm4 0h-2v-4h2v4z\"/>\n",
              "    </g>\n",
              "</svg>\n",
              "      </button>\n",
              "    </div>\n",
              "\n",
              "<style>\n",
              "  .colab-df-quickchart {\n",
              "    background-color: #E8F0FE;\n",
              "    border: none;\n",
              "    border-radius: 50%;\n",
              "    cursor: pointer;\n",
              "    display: none;\n",
              "    fill: #1967D2;\n",
              "    height: 32px;\n",
              "    padding: 0 0 0 0;\n",
              "    width: 32px;\n",
              "  }\n",
              "\n",
              "  .colab-df-quickchart:hover {\n",
              "    background-color: #E2EBFA;\n",
              "    box-shadow: 0px 1px 2px rgba(60, 64, 67, 0.3), 0px 1px 3px 1px rgba(60, 64, 67, 0.15);\n",
              "    fill: #174EA6;\n",
              "  }\n",
              "\n",
              "  [theme=dark] .colab-df-quickchart {\n",
              "    background-color: #3B4455;\n",
              "    fill: #D2E3FC;\n",
              "  }\n",
              "\n",
              "  [theme=dark] .colab-df-quickchart:hover {\n",
              "    background-color: #434B5C;\n",
              "    box-shadow: 0px 1px 3px 1px rgba(0, 0, 0, 0.15);\n",
              "    filter: drop-shadow(0px 1px 2px rgba(0, 0, 0, 0.3));\n",
              "    fill: #FFFFFF;\n",
              "  }\n",
              "</style>\n",
              "\n",
              "    <script>\n",
              "      async function quickchart(key) {\n",
              "        const containerElement = document.querySelector('#' + key);\n",
              "        const charts = await google.colab.kernel.invokeFunction(\n",
              "            'suggestCharts', [key], {});\n",
              "      }\n",
              "    </script>\n",
              "\n",
              "      <script>\n",
              "\n",
              "function displayQuickchartButton(domScope) {\n",
              "  let quickchartButtonEl =\n",
              "    domScope.querySelector('#df-73a0c5c7-70eb-4d95-9a71-b9861035f25e button.colab-df-quickchart');\n",
              "  quickchartButtonEl.style.display =\n",
              "    google.colab.kernel.accessAllowed ? 'block' : 'none';\n",
              "}\n",
              "\n",
              "        displayQuickchartButton(document);\n",
              "      </script>\n",
              "      <style>\n",
              "    .colab-df-container {\n",
              "      display:flex;\n",
              "      flex-wrap:wrap;\n",
              "      gap: 12px;\n",
              "    }\n",
              "\n",
              "    .colab-df-convert {\n",
              "      background-color: #E8F0FE;\n",
              "      border: none;\n",
              "      border-radius: 50%;\n",
              "      cursor: pointer;\n",
              "      display: none;\n",
              "      fill: #1967D2;\n",
              "      height: 32px;\n",
              "      padding: 0 0 0 0;\n",
              "      width: 32px;\n",
              "    }\n",
              "\n",
              "    .colab-df-convert:hover {\n",
              "      background-color: #E2EBFA;\n",
              "      box-shadow: 0px 1px 2px rgba(60, 64, 67, 0.3), 0px 1px 3px 1px rgba(60, 64, 67, 0.15);\n",
              "      fill: #174EA6;\n",
              "    }\n",
              "\n",
              "    [theme=dark] .colab-df-convert {\n",
              "      background-color: #3B4455;\n",
              "      fill: #D2E3FC;\n",
              "    }\n",
              "\n",
              "    [theme=dark] .colab-df-convert:hover {\n",
              "      background-color: #434B5C;\n",
              "      box-shadow: 0px 1px 3px 1px rgba(0, 0, 0, 0.15);\n",
              "      filter: drop-shadow(0px 1px 2px rgba(0, 0, 0, 0.3));\n",
              "      fill: #FFFFFF;\n",
              "    }\n",
              "  </style>\n",
              "\n",
              "      <script>\n",
              "        const buttonEl =\n",
              "          document.querySelector('#df-f830bf63-386a-4824-83aa-7f7abdbbaf7c button.colab-df-convert');\n",
              "        buttonEl.style.display =\n",
              "          google.colab.kernel.accessAllowed ? 'block' : 'none';\n",
              "\n",
              "        async function convertToInteractive(key) {\n",
              "          const element = document.querySelector('#df-f830bf63-386a-4824-83aa-7f7abdbbaf7c');\n",
              "          const dataTable =\n",
              "            await google.colab.kernel.invokeFunction('convertToInteractive',\n",
              "                                                     [key], {});\n",
              "          if (!dataTable) return;\n",
              "\n",
              "          const docLinkHtml = 'Like what you see? Visit the ' +\n",
              "            '<a target=\"_blank\" href=https://colab.research.google.com/notebooks/data_table.ipynb>data table notebook</a>'\n",
              "            + ' to learn more about interactive tables.';\n",
              "          element.innerHTML = '';\n",
              "          dataTable['output_type'] = 'display_data';\n",
              "          await google.colab.output.renderOutput(dataTable, element);\n",
              "          const docLink = document.createElement('div');\n",
              "          docLink.innerHTML = docLinkHtml;\n",
              "          element.appendChild(docLink);\n",
              "        }\n",
              "      </script>\n",
              "    </div>\n",
              "  </div>\n"
            ]
          },
          "metadata": {},
          "execution_count": 41
        }
      ]
    },
    {
      "cell_type": "markdown",
      "source": [
        "# Baseline\n",
        "\n",
        "As baseline, predict that urbanization in _year_ is same as urbanization in _year-1_"
      ],
      "metadata": {
        "id": "TdJnx5lcecmU"
      }
    },
    {
      "cell_type": "code",
      "source": [
        "y_pred = X_test[target_year-1]\n",
        "\n",
        "r2 = r2_score(y_test, y_pred)\n",
        "mae = mean_absolute_error(y_test, y_pred)\n",
        "mse = mean_squared_error(y_test, y_pred)\n",
        "\n",
        "print(f\"R2: {r2:.4f}\")\n",
        "print(f\"MAE: {mae:.4f}\")\n",
        "print(f\"MSE: {mse:.4f}\")"
      ],
      "metadata": {
        "colab": {
          "base_uri": "https://localhost:8080/"
        },
        "id": "ICEJ9k4DenjB",
        "outputId": "fee4afb2-6964-4aa9-d5bb-f58ed2616a1f"
      },
      "execution_count": 42,
      "outputs": [
        {
          "output_type": "stream",
          "name": "stdout",
          "text": [
            "R2: 0.9943\n",
            "MAE: 0.0028\n",
            "MSE: 0.0002\n"
          ]
        }
      ]
    },
    {
      "cell_type": "markdown",
      "source": [
        "# XGBoost Training on Dynamic World Dataset"
      ],
      "metadata": {
        "id": "-j2GkrbveX5c"
      }
    },
    {
      "cell_type": "code",
      "source": [
        "# Train XGBoost using GridSearchCV\n",
        "from sklearn.model_selection import GridSearchCV, KFold\n",
        "from xgboost import XGBRegressor\n",
        "\n",
        "# Define the parameter grid for GridSearchCV\n",
        "param_grid = {\n",
        "    'n_estimators': [100, 250],\n",
        "    'learning_rate': [0.1],\n",
        "    'max_depth': [4, 5],\n",
        "    'subsample': [0.6],\n",
        "}\n",
        "\n",
        "# Create the XGBoost Regressor\n",
        "xgb_reg = XGBRegressor()\n",
        "\n",
        "# Create K-Fold cross-validator\n",
        "kfold = KFold(n_splits=5, shuffle=True, random_state=42)\n",
        "\n",
        "# Create GridSearchCV object\n",
        "grid_search = GridSearchCV(\n",
        "    estimator=xgb_reg,\n",
        "    param_grid=param_grid,\n",
        "    scoring='neg_mean_absolute_error',  # Use appropriate scoring metric\n",
        "    cv=kfold,\n",
        "    verbose = 10\n",
        ")\n",
        "\n",
        "# Fit the model using GridSearchCV\n",
        "grid_search.fit(X_train, y_train)\n",
        "\n",
        "# Get the best parameters and best estimator from the grid search\n",
        "xgb_params = grid_search.best_params_\n",
        "xgb_model = grid_search.best_estimator_"
      ],
      "metadata": {
        "colab": {
          "base_uri": "https://localhost:8080/"
        },
        "id": "KxrVw0f8Vtkp",
        "outputId": "9c135f33-f0ee-432e-c93d-01876fc893ff"
      },
      "execution_count": null,
      "outputs": [
        {
          "output_type": "stream",
          "name": "stdout",
          "text": [
            "Fitting 5 folds for each of 4 candidates, totalling 20 fits\n",
            "[CV 1/5; 1/4] START learning_rate=0.1, max_depth=4, n_estimators=100, subsample=0.6\n",
            "[CV 1/5; 1/4] END learning_rate=0.1, max_depth=4, n_estimators=100, subsample=0.6;, score=-0.005 total time=  34.4s\n",
            "[CV 2/5; 1/4] START learning_rate=0.1, max_depth=4, n_estimators=100, subsample=0.6\n",
            "[CV 2/5; 1/4] END learning_rate=0.1, max_depth=4, n_estimators=100, subsample=0.6;, score=-0.005 total time=  35.7s\n",
            "[CV 3/5; 1/4] START learning_rate=0.1, max_depth=4, n_estimators=100, subsample=0.6\n",
            "[CV 3/5; 1/4] END learning_rate=0.1, max_depth=4, n_estimators=100, subsample=0.6;, score=-0.005 total time=  36.1s\n",
            "[CV 4/5; 1/4] START learning_rate=0.1, max_depth=4, n_estimators=100, subsample=0.6\n",
            "[CV 4/5; 1/4] END learning_rate=0.1, max_depth=4, n_estimators=100, subsample=0.6;, score=-0.005 total time=  33.8s\n",
            "[CV 5/5; 1/4] START learning_rate=0.1, max_depth=4, n_estimators=100, subsample=0.6\n"
          ]
        }
      ]
    },
    {
      "cell_type": "code",
      "source": [
        "import sklearn\n",
        "sklearn.metrics.get_scorer_names()"
      ],
      "metadata": {
        "colab": {
          "base_uri": "https://localhost:8080/"
        },
        "id": "9Mo-fufvfI8v",
        "outputId": "b554a96e-ea25-4b95-f478-e9d8e9f26b94"
      },
      "execution_count": 30,
      "outputs": [
        {
          "output_type": "execute_result",
          "data": {
            "text/plain": [
              "['accuracy',\n",
              " 'adjusted_mutual_info_score',\n",
              " 'adjusted_rand_score',\n",
              " 'average_precision',\n",
              " 'balanced_accuracy',\n",
              " 'completeness_score',\n",
              " 'explained_variance',\n",
              " 'f1',\n",
              " 'f1_macro',\n",
              " 'f1_micro',\n",
              " 'f1_samples',\n",
              " 'f1_weighted',\n",
              " 'fowlkes_mallows_score',\n",
              " 'homogeneity_score',\n",
              " 'jaccard',\n",
              " 'jaccard_macro',\n",
              " 'jaccard_micro',\n",
              " 'jaccard_samples',\n",
              " 'jaccard_weighted',\n",
              " 'matthews_corrcoef',\n",
              " 'max_error',\n",
              " 'mutual_info_score',\n",
              " 'neg_brier_score',\n",
              " 'neg_log_loss',\n",
              " 'neg_mean_absolute_error',\n",
              " 'neg_mean_absolute_percentage_error',\n",
              " 'neg_mean_gamma_deviance',\n",
              " 'neg_mean_poisson_deviance',\n",
              " 'neg_mean_squared_error',\n",
              " 'neg_mean_squared_log_error',\n",
              " 'neg_median_absolute_error',\n",
              " 'neg_negative_likelihood_ratio',\n",
              " 'neg_root_mean_squared_error',\n",
              " 'normalized_mutual_info_score',\n",
              " 'positive_likelihood_ratio',\n",
              " 'precision',\n",
              " 'precision_macro',\n",
              " 'precision_micro',\n",
              " 'precision_samples',\n",
              " 'precision_weighted',\n",
              " 'r2',\n",
              " 'rand_score',\n",
              " 'recall',\n",
              " 'recall_macro',\n",
              " 'recall_micro',\n",
              " 'recall_samples',\n",
              " 'recall_weighted',\n",
              " 'roc_auc',\n",
              " 'roc_auc_ovo',\n",
              " 'roc_auc_ovo_weighted',\n",
              " 'roc_auc_ovr',\n",
              " 'roc_auc_ovr_weighted',\n",
              " 'top_k_accuracy',\n",
              " 'v_measure_score']"
            ]
          },
          "metadata": {},
          "execution_count": 30
        }
      ]
    },
    {
      "cell_type": "code",
      "source": [
        "# make predictions\n",
        "y_pred = xgb_model.predict(X_test)\n",
        "\n",
        "# evaluate predictions\n",
        "r2 = r2_score(y_test, y_pred)\n",
        "mae = mean_absolute_error(y_test, y_pred)\n",
        "mse = mean_squared_error(y_test, y_pred)\n",
        "\n",
        "print(f\"R2: {r2:.4f}\")\n",
        "print(f\"MAE: {mae:.4f}\")\n",
        "print(f\"MSE: {mse:.4f}\")"
      ],
      "metadata": {
        "id": "EluiTKzdeEu7"
      },
      "execution_count": null,
      "outputs": []
    }
  ]
}