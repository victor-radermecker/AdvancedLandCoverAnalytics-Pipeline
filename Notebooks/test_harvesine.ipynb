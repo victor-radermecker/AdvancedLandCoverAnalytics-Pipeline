{
 "cells": [
  {
   "cell_type": "code",
   "execution_count": 2,
   "metadata": {},
   "outputs": [],
   "source": [
    "import math\n",
    "\n",
    "def miles_to_lat_lon_change(lat, lon, distance_miles, bearing_degrees):\n",
    "    \"\"\"\n",
    "    Calculate the change in latitude and longitude for a given distance and bearing from a starting point.\n",
    "\n",
    "    The function uses the 'haversine' formula to calculate the change in latitude and longitude\n",
    "    from the starting point. This method is effective for relatively short distances on the Earth's surface.\n",
    "\n",
    "    Args:\n",
    "        lat (float): The latitude of the starting point in degrees.\n",
    "        lon (float): The longitude of the starting point in degrees.\n",
    "        distance_miles (float): The distance to travel from the starting point in miles.\n",
    "        bearing_degrees (float): The direction to travel from the starting point in degrees, where 0 is North\n",
    "                                    and increases clockwise.\n",
    "\n",
    "    Returns:\n",
    "        tuple: A tuple containing two elements:\n",
    "                1. The change in latitude from the starting point (float).\n",
    "                2. The change in longitude from the starting point (float).\n",
    "\n",
    "    Notes:\n",
    "        The Earth is assumed to be perfectly spherical for this calculation, which introduces some error.\n",
    "        For more accurate results over larger distances, an ellipsoidal model should be used.\n",
    "    \"\"\"\n",
    "\n",
    "    R = 6371  # Earth's radius in kilometers\n",
    "    distance_km = distance_miles * 1.60934\n",
    "\n",
    "    lat1_rad = math.radians(lat)\n",
    "    lon1_rad = math.radians(lon)\n",
    "    bearing_rad = math.radians(bearing_degrees)\n",
    "\n",
    "    lat2_rad = math.asin(\n",
    "        math.sin(lat1_rad) * math.cos(distance_km / R)\n",
    "        + math.cos(lat1_rad) * math.sin(distance_km / R) * math.cos(bearing_rad)\n",
    "    )\n",
    "\n",
    "    lon2_rad = lon1_rad + math.atan2(\n",
    "        math.sin(bearing_rad) * math.sin(distance_km / R) * math.cos(lat1_rad),\n",
    "        math.cos(distance_km / R) - math.sin(lat1_rad) * math.sin(lat2_rad),\n",
    "    )\n",
    "\n",
    "    lat2 = math.degrees(lat2_rad)\n",
    "    lon2 = math.degrees(lon2_rad)\n",
    "\n",
    "    return lat2 - lat, lon2 - lon\n",
    "\n",
    "def lat_lon_change_to_miles(delta_lat, delta_lon, lat):\n",
    "    \"\"\"\n",
    "    Calculate the distance in miles for a given change in latitude and longitude from a starting latitude.\n",
    "\n",
    "    The function uses the 'haversine' formula to calculate the distance in miles\n",
    "    from the change in latitude and longitude.\n",
    "\n",
    "    Args:\n",
    "        delta_lat (float): The change in latitude from the starting point in degrees.\n",
    "        delta_lon (float): The change in longitude from the starting point in degrees.\n",
    "        lat (float): The latitude of the starting point in degrees.\n",
    "\n",
    "    Returns:\n",
    "        float: The distance in miles corresponding to the change in latitude and longitude.\n",
    "\n",
    "    Notes:\n",
    "        The Earth is assumed to be perfectly spherical for this calculation, which introduces some error.\n",
    "        For more accurate results, an ellipsoidal model should be used.\n",
    "    \"\"\"\n",
    "    R = 6371.0\n",
    "    delta_lat_rad = math.radians(delta_lat)\n",
    "    delta_lon_rad = math.radians(delta_lon)\n",
    "    distance_lat_miles = delta_lat_rad * R * 0.621371\n",
    "    distance_lon_miles = delta_lon_rad * R * math.cos(math.radians(lat)) * 0.621371\n",
    "    return distance_lat_miles, distance_lon_miles\n"
   ]
  },
  {
   "cell_type": "code",
   "execution_count": 4,
   "metadata": {},
   "outputs": [
    {
     "name": "stdout",
     "output_type": "stream",
     "text": [
      "Latitude Delta:  -0.0038610000000005584\n",
      "Longitude Delta:  -1.050218000000001\n"
     ]
    }
   ],
   "source": [
    "# Convert mile to degrees\n",
    "\n",
    "length = 100 #miles\n",
    "\n",
    "point1 = 42.454278, -71.251617\n",
    "point2 = 42.458139, -70.201399\n",
    "\n",
    "#distance should be:\n",
    "x_delta_degrees, y_delta_degrees = point1[0] - point2[0], point1[1] - point2[1]\n",
    "print(\"Latitude Delta: \", x_delta_degrees)\n",
    "print(\"Longitude Delta: \", y_delta_degrees)"
   ]
  },
  {
   "cell_type": "code",
   "execution_count": 9,
   "metadata": {},
   "outputs": [
    {
     "name": "stdout",
     "output_type": "stream",
     "text": [
      "Latitude Delta:  -0.0038610000000005584 for a distance of  100 miles\n",
      "Longitude Delta:  1.9533846648805167 for a distance of  100 miles\n"
     ]
    }
   ],
   "source": [
    "# Convert to miles\n",
    "coords = 42.200659551933114, -70.85338810006199,  #lat/long\n",
    "\n",
    "# we want the distance in degrees for a movement of 100miles (~ 160 km)\n",
    "# we only have movement in longitude (as movement towards to east)\n",
    "\n",
    "tile_size = 100 #miles\n",
    "_, y_delta_degrees = miles_to_lat_lon_change(coords[0], coords[1], tile_size, 90)\n",
    "\n",
    "print(\"Latitude Delta: \", x_delta_degrees, \"for a distance of \", tile_size, \"miles\")\n",
    "print(\"Longitude Delta: \", y_delta_degrees, \"for a distance of \", tile_size, \"miles\")"
   ]
  },
  {
   "cell_type": "code",
   "execution_count": 10,
   "metadata": {},
   "outputs": [
    {
     "name": "stdout",
     "output_type": "stream",
     "text": [
      "Latitude Delta:  -0.0038610000000005584\n",
      "Longitude Delta:  3.9047238063697023\n"
     ]
    }
   ],
   "source": [
    "tile_size = 200 #miles\n",
    "_, y_delta_degrees = miles_to_lat_lon_change(coords[0], coords[1], tile_size, 90)\n",
    "\n",
    "print(\"Latitude Delta: \", x_delta_degrees)\n",
    "print(\"Longitude Delta: \", y_delta_degrees)"
   ]
  },
  {
   "cell_type": "code",
   "execution_count": 15,
   "metadata": {},
   "outputs": [
    {
     "name": "stdout",
     "output_type": "stream",
     "text": [
      "Latitude Delta:  -0.0038610000000005584 for a distance of  2 miles\n",
      "Longitude Delta:  0.08825442834174169 for a distance of  2 miles\n"
     ]
    }
   ],
   "source": [
    "# Convert to miles\n",
    "coords = -70.85338810006199, 42.200659551933114 #lat/long\n",
    "\n",
    "# we want the distance in degrees for a movement of 100miles (~ 160 km)\n",
    "# we only have movement in longitude (as movement towards to east)\n",
    "\n",
    "tile_size = 2 #miles\n",
    "_, y_delta_degrees = miles_to_lat_lon_change(coords[0], coords[1], tile_size, 90)\n",
    "\n",
    "print(\"Latitude Delta: \", x_delta_degrees, \"for a distance of \", tile_size, \"miles\")\n",
    "print(\"Longitude Delta: \", y_delta_degrees, \"for a distance of \", tile_size, \"miles\")"
   ]
  },
  {
   "cell_type": "code",
   "execution_count": 16,
   "metadata": {},
   "outputs": [
    {
     "name": "stdout",
     "output_type": "stream",
     "text": [
      "Latitude Delta:  -0.0038610000000005584 for a distance of  4 miles\n",
      "Longitude Delta:  0.17650848294833565 for a distance of  4 miles\n"
     ]
    }
   ],
   "source": [
    "# Convert to miles\n",
    "coords = -70.85338810006199, 42.200659551933114 #lat/long\n",
    "\n",
    "# we want the distance in degrees for a movement of 100miles (~ 160 km)\n",
    "# we only have movement in longitude (as movement towards to east)\n",
    "\n",
    "tile_size = 4 #miles\n",
    "_, y_delta_degrees = miles_to_lat_lon_change(coords[0], coords[1], tile_size, 90)\n",
    "\n",
    "print(\"Latitude Delta: \", x_delta_degrees, \"for a distance of \", tile_size, \"miles\")\n",
    "print(\"Longitude Delta: \", y_delta_degrees, \"for a distance of \", tile_size, \"miles\")"
   ]
  },
  {
   "cell_type": "code",
   "execution_count": 17,
   "metadata": {},
   "outputs": [
    {
     "data": {
      "text/plain": [
       "0.17650885668348337"
      ]
     },
     "execution_count": 17,
     "metadata": {},
     "output_type": "execute_result"
    }
   ],
   "source": [
    "0.08825442834174169*2"
   ]
  },
  {
   "cell_type": "markdown",
   "metadata": {},
   "source": [
    "# Your function (km) corrected:"
   ]
  },
  {
   "cell_type": "code",
   "execution_count": 18,
   "metadata": {},
   "outputs": [],
   "source": [
    "def km_to_lat_lon_change(lat, lon, distance, bearing_degrees):\n",
    "\n",
    "        R = 6371  # Earth's radius in kilometers\n",
    "\n",
    "\n",
    "        lat1_rad = math.radians(lat)\n",
    "        lon1_rad = math.radians(lon)\n",
    "        bearing_rad = math.radians(bearing_degrees)\n",
    "\n",
    "        lat2_rad = math.asin(\n",
    "            math.sin(lat1_rad) * math.cos(distance / R)\n",
    "            + math.cos(lat1_rad) * math.sin(distance / R) * math.cos(bearing_rad)\n",
    "        )\n",
    "\n",
    "        lon2_rad = lon1_rad + math.atan2(\n",
    "            math.sin(bearing_rad) * math.sin(distance / R) * math.cos(lat1_rad),\n",
    "            math.cos(distance / R) - math.sin(lat1_rad) * math.sin(lat2_rad),\n",
    "        )\n",
    "\n",
    "        lat2 = math.degrees(lat2_rad)\n",
    "        lon2 = math.degrees(lon2_rad)\n",
    "\n",
    "        return lat2 - lat, lon2 - lon\n",
    "    "
   ]
  },
  {
   "cell_type": "markdown",
   "metadata": {},
   "source": []
  }
 ],
 "metadata": {
  "kernelspec": {
   "display_name": "capstone",
   "language": "python",
   "name": "python3"
  },
  "language_info": {
   "codemirror_mode": {
    "name": "ipython",
    "version": 3
   },
   "file_extension": ".py",
   "mimetype": "text/x-python",
   "name": "python",
   "nbconvert_exporter": "python",
   "pygments_lexer": "ipython3",
   "version": "3.11.3"
  },
  "orig_nbformat": 4
 },
 "nbformat": 4,
 "nbformat_minor": 2
}
