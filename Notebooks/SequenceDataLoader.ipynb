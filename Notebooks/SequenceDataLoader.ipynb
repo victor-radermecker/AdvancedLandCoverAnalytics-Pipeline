{
 "cells": [
  {
   "cell_type": "code",
   "execution_count": 1,
   "metadata": {},
   "outputs": [],
   "source": [
    "import pandas as pd\n",
    "import sys\n",
    "import numpy as np\n",
    "from tqdm import tqdm\n",
    "\n",
    "sys.path.append('../src')\n",
    "from SequenceDataLoader import SequenceDataLoader\n",
    "from Fishnet import Fishnet\n",
    "\n",
    "# update local libraries automatically\n",
    "%load_ext autoreload\n",
    "%autoreload 2"
   ]
  },
  {
   "cell_type": "code",
   "execution_count": 2,
   "metadata": {},
   "outputs": [
    {
     "data": {
      "text/html": [
       "<div>\n",
       "<style scoped>\n",
       "    .dataframe tbody tr th:only-of-type {\n",
       "        vertical-align: middle;\n",
       "    }\n",
       "\n",
       "    .dataframe tbody tr th {\n",
       "        vertical-align: top;\n",
       "    }\n",
       "\n",
       "    .dataframe thead th {\n",
       "        text-align: right;\n",
       "    }\n",
       "</style>\n",
       "<table border=\"1\" class=\"dataframe\">\n",
       "  <thead>\n",
       "    <tr style=\"text-align: right;\">\n",
       "      <th></th>\n",
       "      <th>tile_id</th>\n",
       "      <th>batch_id</th>\n",
       "      <th>year</th>\n",
       "      <th>urbanization_rate</th>\n",
       "      <th>urbanization</th>\n",
       "      <th>Lat</th>\n",
       "      <th>Lon</th>\n",
       "    </tr>\n",
       "  </thead>\n",
       "  <tbody>\n",
       "    <tr>\n",
       "      <th>0</th>\n",
       "      <td>0</td>\n",
       "      <td>0</td>\n",
       "      <td>2017</td>\n",
       "      <td>0.0</td>\n",
       "      <td>0.0</td>\n",
       "      <td>36.869991</td>\n",
       "      <td>-80.170884</td>\n",
       "    </tr>\n",
       "    <tr>\n",
       "      <th>1</th>\n",
       "      <td>0</td>\n",
       "      <td>0</td>\n",
       "      <td>2018</td>\n",
       "      <td>0.0</td>\n",
       "      <td>0.0</td>\n",
       "      <td>36.869991</td>\n",
       "      <td>-80.170884</td>\n",
       "    </tr>\n",
       "    <tr>\n",
       "      <th>2</th>\n",
       "      <td>0</td>\n",
       "      <td>0</td>\n",
       "      <td>2019</td>\n",
       "      <td>0.0</td>\n",
       "      <td>0.0</td>\n",
       "      <td>36.869991</td>\n",
       "      <td>-80.170884</td>\n",
       "    </tr>\n",
       "    <tr>\n",
       "      <th>3</th>\n",
       "      <td>0</td>\n",
       "      <td>0</td>\n",
       "      <td>2020</td>\n",
       "      <td>0.0</td>\n",
       "      <td>0.0</td>\n",
       "      <td>36.869991</td>\n",
       "      <td>-80.170884</td>\n",
       "    </tr>\n",
       "    <tr>\n",
       "      <th>4</th>\n",
       "      <td>0</td>\n",
       "      <td>0</td>\n",
       "      <td>2021</td>\n",
       "      <td>0.0</td>\n",
       "      <td>0.0</td>\n",
       "      <td>36.869991</td>\n",
       "      <td>-80.170884</td>\n",
       "    </tr>\n",
       "  </tbody>\n",
       "</table>\n",
       "</div>"
      ],
      "text/plain": [
       "   tile_id  batch_id  year  urbanization_rate  urbanization        Lat  \\\n",
       "0        0         0  2017                0.0           0.0  36.869991   \n",
       "1        0         0  2018                0.0           0.0  36.869991   \n",
       "2        0         0  2019                0.0           0.0  36.869991   \n",
       "3        0         0  2020                0.0           0.0  36.869991   \n",
       "4        0         0  2021                0.0           0.0  36.869991   \n",
       "\n",
       "         Lon  \n",
       "0 -80.170884  \n",
       "1 -80.170884  \n",
       "2 -80.170884  \n",
       "3 -80.170884  \n",
       "4 -80.170884  "
      ]
     },
     "execution_count": 2,
     "metadata": {},
     "output_type": "execute_result"
    }
   ],
   "source": [
    "fishnet = Fishnet.load('../Outputs/Test/fishnet_test.pkl')\n",
    "df = pd.read_csv('../Outputs/Test/urbanization_test.csv')\n",
    "df.head()"
   ]
  },
  {
   "cell_type": "markdown",
   "metadata": {},
   "source": [
    "# Prepare the train set"
   ]
  },
  {
   "cell_type": "code",
   "execution_count": 3,
   "metadata": {},
   "outputs": [
    {
     "name": "stderr",
     "output_type": "stream",
     "text": [
      "100%|██████████| 329149/329149 [00:03<00:00, 89942.80it/s]\n",
      "100%|██████████| 329149/329149 [00:03<00:00, 92193.26it/s]\n"
     ]
    }
   ],
   "source": [
    "labels = [2016, 2017, 2018, 2019, 2020, 2021, 2022]\n",
    "filename = \"landcover_batchID_\"\n",
    "list_IDs = [filename + str(s) for s in df[\"batch_id\"].unique()]\n",
    "\n",
    "# Iterate over the DataFrame and group tile IDs based on batch IDs\n",
    "tile_region_dic = {}\n",
    "data = df[df.year == 2017]\n",
    "for _, row in tqdm(data.iterrows(), total=len(data)):\n",
    "    batch_id = int(row[\"batch_id\"])\n",
    "    tile_id = int(row[\"tile_id\"])\n",
    "    key = filename + str(batch_id)\n",
    "    if batch_id not in tile_region_dic:\n",
    "        tile_region_dic[batch_id] = []\n",
    "    tile_region_dic[batch_id].append(tile_id)\n",
    "\n",
    "# rename the keys of the dictionary to match the list_IDs\n",
    "tile_region_dic = {filename + str(k): v for k, v in tile_region_dic.items()}\n",
    "\n",
    "# Get the urbanization data for each fishnet\n",
    "YEAR = 2022\n",
    "TARGET = \"urbanization\"\n",
    "fishnet_urbanization = {}\n",
    "data = df[df.year == YEAR][[\"tile_id\", TARGET]]\n",
    "for index, row in tqdm(data.iterrows(), total=data.shape[0]):\n",
    "    fishnet_urbanization[int(row[\"tile_id\"])] = row[TARGET]\n",
    "\n",
    "# Get the coordinate of each fishnet within each region\n",
    "fishnet_coordinates = fishnet.fishnet[\"ImageCoordinates\"]\n",
    "\n",
    "# Other inputs\n",
    "train_dir = \"../Images/Test\"\n",
    "dim = (40, 44)"
   ]
  },
  {
   "cell_type": "code",
   "execution_count": 5,
   "metadata": {},
   "outputs": [],
   "source": [
    "# Initialize the SequenceDataLoader for training data\n",
    "train_data_loader = SequenceDataLoader(\n",
    "    labels,\n",
    "    list_IDs,\n",
    "    fishnet_urbanization, # y: target variable\n",
    "    tile_region_dic,\n",
    "    fishnet_coordinates,\n",
    "    train_dir,\n",
    "    dim=dim,\n",
    "    batch_size=1,\n",
    "    n_channels=1,\n",
    "    shuffle=True,\n",
    ")"
   ]
  },
  {
   "cell_type": "code",
   "execution_count": 9,
   "metadata": {},
   "outputs": [
    {
     "name": "stdout",
     "output_type": "stream",
     "text": [
      "(4096, 7, 40, 44, 1)\n",
      "(4096,)\n"
     ]
    }
   ],
   "source": [
    "X, y = train_data_loader[0]\n",
    "print(X.shape)\n",
    "print(y.shape)"
   ]
  },
  {
   "cell_type": "code",
   "execution_count": 11,
   "metadata": {},
   "outputs": [
    {
     "data": {
      "image/png": "[encoded data removed]",
      "text/plain": [
       "<Figure size 2000x300 with 7 Axes>"
      ]
     },
     "metadata": {},
     "output_type": "display_data"
    }
   ],
   "source": [
    "# print 7 images for one specific year for one random sample with seaborn\n",
    "import matplotlib.pyplot as plt\n",
    "import seaborn as sns\n",
    "\n",
    "idx = np.random.randint(0, X.shape[0])\n",
    "fig, axs = plt.subplots(1, 7, figsize=(20, 3))\n",
    "\n",
    "fig.suptitle('Sample ' + str(idx) + f\" - Target Urbanization in 2022: {y[idx]}\", fontsize=16)\n",
    "\n",
    "for i in range(7):\n",
    "    axs[i].imshow(X[idx, i, :, :, :], cmap='gray')\n",
    "    axs[i].set_title(labels[i])\n",
    "    axs[i].axis('off')\n",
    "plt.show()"
   ]
  },
  {
   "cell_type": "code",
   "execution_count": 12,
   "metadata": {},
   "outputs": [
    {
     "data": {
      "text/plain": [
       "<Axes: ylabel='Count'>"
      ]
     },
     "execution_count": 12,
     "metadata": {},
     "output_type": "execute_result"
    },
    {
     "data": {
      "image/png": "[encoded data removed]",
      "text/plain": [
       "<Figure size 640x480 with 1 Axes>"
      ]
     },
     "metadata": {},
     "output_type": "display_data"
    }
   ],
   "source": [
    "# plot the distribution of y\n",
    "sns.histplot(y, bins=20, kde=True)"
   ]
  },
  {
   "cell_type": "code",
   "execution_count": 13,
   "metadata": {},
   "outputs": [
    {
     "name": "stdout",
     "output_type": "stream",
     "text": [
      "Epoch 1/2\n",
      "0\n",
      "Batch 1/84, X_batch shape: (4096, 7, 40, 44, 1), y shape: (4096,)\n",
      "1\n",
      "Batch 2/84, X_batch shape: (4096, 7, 40, 44, 1), y shape: (4096,)\n",
      "2\n",
      "Batch 3/84, X_batch shape: (2496, 7, 40, 44, 1), y shape: (2496,)\n",
      "Epoch 2/2\n",
      "0\n",
      "Batch 1/84, X_batch shape: (4096, 7, 40, 44, 1), y shape: (4096,)\n",
      "1\n",
      "Batch 2/84, X_batch shape: (4096, 7, 40, 44, 1), y shape: (4096,)\n",
      "2\n",
      "Batch 3/84, X_batch shape: (2496, 7, 40, 44, 1), y shape: (2496,)\n"
     ]
    }
   ],
   "source": [
    "# Test the data loader in a training loop\n",
    "num_epochs = 2\n",
    "\n",
    "for epoch in range(num_epochs):\n",
    "    print(f\"Epoch {epoch+1}/{num_epochs}\")\n",
    "    for batch_index in range(3):\n",
    "        print(batch_index)\n",
    "        X_batch,y = train_data_loader[batch_index]  # Get the batch input data (X) from the data_loader\n",
    "        print(f\"Batch {batch_index+1}/{len(train_data_loader)}, X_batch shape: {X_batch.shape}, y shape: {y.shape}\")\n",
    "        # Here, you can use X_batch to train your model or perform any other processing\n"
   ]
  },
  {
   "cell_type": "code",
   "execution_count": null,
   "metadata": {},
   "outputs": [],
   "source": []
  }
 ],
 "metadata": {
  "kernelspec": {
   "display_name": "capstone_2",
   "language": "python",
   "name": "python3"
  },
  "language_info": {
   "codemirror_mode": {
    "name": "ipython",
    "version": 3
   },
   "file_extension": ".py",
   "mimetype": "text/x-python",
   "name": "python",
   "nbconvert_exporter": "python",
   "pygments_lexer": "ipython3",
   "version": "3.11.4"
  },
  "orig_nbformat": 4
 },
 "nbformat": 4,
 "nbformat_minor": 2
}
