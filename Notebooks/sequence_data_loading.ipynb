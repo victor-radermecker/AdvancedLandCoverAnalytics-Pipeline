{
 "cells": [
  {
   "cell_type": "code",
   "execution_count": 1,
   "metadata": {},
   "outputs": [],
   "source": [
    "import pandas as pd\n",
    "import sys\n",
    "\n",
    "sys.path.append('../src')\n",
    "from SequenceDataLoader import SequenceDataLoader\n"
   ]
  },
  {
   "cell_type": "code",
   "execution_count": null,
   "metadata": {},
   "outputs": [],
   "source": [
    "# load pandas csv\n"
   ]
  },
  {
   "cell_type": "code",
   "execution_count": null,
   "metadata": {},
   "outputs": [],
   "source": [
    "# Assuming you have already defined the list of label IDs and image labels (file names)\n",
    "# For example:\n",
    "list_IDs = ['fishnet01', 'fishnet02', 'fishnet03', ...]\n",
    "labels = {'fishnet01': 'fishnet01.tif', 'fishnet02': 'fishnet02.tif', 'fishnet03': 'fishnet03.tif', ...}\n",
    "\n",
    "# Path to the Train and Test directories\n",
    "train_dir = '../Archives/CNN/Train'\n",
    "\n",
    "# Initialize the SequenceDataLoader for training data\n",
    "train_data_loader = SequenceDataLoader(list_IDs, labels, train_dir, train_dir,\n",
    "                                       to_fit=True, batch_size=10, dim=(256, 256),\n",
    "                                       n_channels=1, n_classes=10, shuffle=True)\n",
    "\n",
    "\n",
    "# # Example usage in a training loop:\n",
    "# for epoch in range(num_epochs):\n",
    "#     # Loop over batches\n",
    "#     for batch_idx in range(len(train_data_loader)):\n",
    "#         batch_x, batch_y = train_data_loader[batch_idx]\n",
    "#         # Perform training with the current batch (batch_x, batch_y)\n",
    "\n",
    "# # Example usage in a testing loop:\n",
    "# for batch_idx in range(len(test_data_loader)):\n",
    "#     batch_x, batch_y = test_data_loader[batch_idx]\n",
    "#     # Perform testing or evaluation with the current batch (batch_x, batch_y)\n"
   ]
  }
 ],
 "metadata": {
  "kernelspec": {
   "display_name": "capstone_2",
   "language": "python",
   "name": "python3"
  },
  "language_info": {
   "codemirror_mode": {
    "name": "ipython",
    "version": 3
   },
   "file_extension": ".py",
   "mimetype": "text/x-python",
   "name": "python",
   "nbconvert_exporter": "python",
   "pygments_lexer": "ipython3",
   "version": "3.11.4"
  },
  "orig_nbformat": 4
 },
 "nbformat": 4,
 "nbformat_minor": 2
}
