{
 "cells": [
  {
   "cell_type": "code",
   "execution_count": 98,
   "metadata": {},
   "outputs": [
    {
     "name": "stdout",
     "output_type": "stream",
     "text": [
      "The autoreload extension is already loaded. To reload it, use:\n",
      "  %reload_ext autoreload\n"
     ]
    }
   ],
   "source": [
    "import pandas as pd\n",
    "import sys\n",
    "import numpy as np\n",
    "from tqdm import tqdm\n",
    "\n",
    "sys.path.append('../src')\n",
    "from SequenceDataLoader import SequenceDataLoader\n",
    "from Fishnet import Fishnet\n",
    "\n",
    "# update local libraries automatically\n",
    "%load_ext autoreload\n",
    "%autoreload 2"
   ]
  },
  {
   "cell_type": "code",
   "execution_count": 15,
   "metadata": {},
   "outputs": [
    {
     "data": {
      "text/html": [
       "<div>\n",
       "<style scoped>\n",
       "    .dataframe tbody tr th:only-of-type {\n",
       "        vertical-align: middle;\n",
       "    }\n",
       "\n",
       "    .dataframe tbody tr th {\n",
       "        vertical-align: top;\n",
       "    }\n",
       "\n",
       "    .dataframe thead th {\n",
       "        text-align: right;\n",
       "    }\n",
       "</style>\n",
       "<table border=\"1\" class=\"dataframe\">\n",
       "  <thead>\n",
       "    <tr style=\"text-align: right;\">\n",
       "      <th></th>\n",
       "      <th>tile_id</th>\n",
       "      <th>batch_id</th>\n",
       "      <th>year</th>\n",
       "      <th>urbanization_rate</th>\n",
       "      <th>urbanization</th>\n",
       "      <th>Lat</th>\n",
       "      <th>Lon</th>\n",
       "    </tr>\n",
       "  </thead>\n",
       "  <tbody>\n",
       "    <tr>\n",
       "      <th>0</th>\n",
       "      <td>0</td>\n",
       "      <td>0</td>\n",
       "      <td>2017</td>\n",
       "      <td>0.0</td>\n",
       "      <td>0.0</td>\n",
       "      <td>36.869991</td>\n",
       "      <td>-80.170884</td>\n",
       "    </tr>\n",
       "    <tr>\n",
       "      <th>1</th>\n",
       "      <td>0</td>\n",
       "      <td>0</td>\n",
       "      <td>2018</td>\n",
       "      <td>0.0</td>\n",
       "      <td>0.0</td>\n",
       "      <td>36.869991</td>\n",
       "      <td>-80.170884</td>\n",
       "    </tr>\n",
       "    <tr>\n",
       "      <th>2</th>\n",
       "      <td>0</td>\n",
       "      <td>0</td>\n",
       "      <td>2019</td>\n",
       "      <td>0.0</td>\n",
       "      <td>0.0</td>\n",
       "      <td>36.869991</td>\n",
       "      <td>-80.170884</td>\n",
       "    </tr>\n",
       "    <tr>\n",
       "      <th>3</th>\n",
       "      <td>0</td>\n",
       "      <td>0</td>\n",
       "      <td>2020</td>\n",
       "      <td>0.0</td>\n",
       "      <td>0.0</td>\n",
       "      <td>36.869991</td>\n",
       "      <td>-80.170884</td>\n",
       "    </tr>\n",
       "    <tr>\n",
       "      <th>4</th>\n",
       "      <td>0</td>\n",
       "      <td>0</td>\n",
       "      <td>2021</td>\n",
       "      <td>0.0</td>\n",
       "      <td>0.0</td>\n",
       "      <td>36.869991</td>\n",
       "      <td>-80.170884</td>\n",
       "    </tr>\n",
       "  </tbody>\n",
       "</table>\n",
       "</div>"
      ],
      "text/plain": [
       "   tile_id  batch_id  year  urbanization_rate  urbanization        Lat  \\\n",
       "0        0         0  2017                0.0           0.0  36.869991   \n",
       "1        0         0  2018                0.0           0.0  36.869991   \n",
       "2        0         0  2019                0.0           0.0  36.869991   \n",
       "3        0         0  2020                0.0           0.0  36.869991   \n",
       "4        0         0  2021                0.0           0.0  36.869991   \n",
       "\n",
       "         Lon  \n",
       "0 -80.170884  \n",
       "1 -80.170884  \n",
       "2 -80.170884  \n",
       "3 -80.170884  \n",
       "4 -80.170884  "
      ]
     },
     "execution_count": 15,
     "metadata": {},
     "output_type": "execute_result"
    }
   ],
   "source": [
    "fishnet = Fishnet.load('../Outputs/Test/fishnet_test.pkl')\n",
    "df = pd.read_csv('../Outputs/Test/urbanization_test.csv')\n",
    "df.head()"
   ]
  },
  {
   "cell_type": "code",
   "execution_count": 103,
   "metadata": {},
   "outputs": [],
   "source": [
    "labels = [2016, 2017, 2018, 2019, 2020, 2021, 2022]\n",
    "filename = \"landcover_batchID_\"\n",
    "list_IDs = [filename + str(s) for s in df[\"batch_id\"].unique()]\n",
    "\n",
    "# Iterate over the data and group tile IDs based on batch IDs\n",
    "tile_region_dic = {}\n",
    "for tile_id, batch_id in zip(df[\"tile_id\"], df[\"batch_id\"]):\n",
    "    print(tile_id, batch_id)\n",
    "    key = filename + str(batch_id)\n",
    "    if batch_id not in tile_region_dic:\n",
    "        tile_region_dic[key] = []\n",
    "    tile_region_dic[key].append(tile_id)\n",
    "\n",
    "# Get the coordinate of each fishnet within each region\n",
    "fishnet_coordinates = fishnet.fishnet['ImageCoordinates']\n",
    "\n",
    "# Other inputs\n",
    "train_dir = '../Images/Test'\n",
    "dim = (40, 44)"
   ]
  },
  {
   "cell_type": "code",
   "execution_count": 104,
   "metadata": {},
   "outputs": [
    {
     "data": {
      "text/plain": [
       "{'landcover_batchID_0': [46872],\n",
       " 'landcover_batchID_1': [46936],\n",
       " 'landcover_batchID_2': [47000],\n",
       " 'landcover_batchID_3': [47064],\n",
       " 'landcover_batchID_4': [47128],\n",
       " 'landcover_batchID_5': [47192],\n",
       " 'landcover_batchID_6': [47256],\n",
       " 'landcover_batchID_7': [47320],\n",
       " 'landcover_batchID_8': [47384],\n",
       " 'landcover_batchID_9': [47448],\n",
       " 'landcover_batchID_10': [47512],\n",
       " 'landcover_batchID_11': [47551],\n",
       " 'landcover_batchID_12': [94424],\n",
       " 'landcover_batchID_13': [94488],\n",
       " 'landcover_batchID_14': [94552],\n",
       " 'landcover_batchID_15': [94616],\n",
       " 'landcover_batchID_16': [94680],\n",
       " 'landcover_batchID_17': [94744],\n",
       " 'landcover_batchID_18': [94808],\n",
       " 'landcover_batchID_19': [94872],\n",
       " 'landcover_batchID_20': [94936],\n",
       " 'landcover_batchID_21': [95000],\n",
       " 'landcover_batchID_22': [95064],\n",
       " 'landcover_batchID_23': [95103],\n",
       " 'landcover_batchID_24': [141976],\n",
       " 'landcover_batchID_25': [142040],\n",
       " 'landcover_batchID_26': [142104],\n",
       " 'landcover_batchID_27': [142168],\n",
       " 'landcover_batchID_28': [142232],\n",
       " 'landcover_batchID_29': [142296],\n",
       " 'landcover_batchID_30': [142360],\n",
       " 'landcover_batchID_31': [142424],\n",
       " 'landcover_batchID_32': [142488],\n",
       " 'landcover_batchID_33': [142552],\n",
       " 'landcover_batchID_34': [142616],\n",
       " 'landcover_batchID_35': [142655],\n",
       " 'landcover_batchID_36': [189528],\n",
       " 'landcover_batchID_37': [189592],\n",
       " 'landcover_batchID_38': [189656],\n",
       " 'landcover_batchID_39': [189720],\n",
       " 'landcover_batchID_40': [189784],\n",
       " 'landcover_batchID_41': [189848],\n",
       " 'landcover_batchID_42': [189912],\n",
       " 'landcover_batchID_43': [189976],\n",
       " 'landcover_batchID_44': [190040],\n",
       " 'landcover_batchID_45': [190104],\n",
       " 'landcover_batchID_46': [190168],\n",
       " 'landcover_batchID_47': [190207],\n",
       " 'landcover_batchID_48': [237080],\n",
       " 'landcover_batchID_49': [237144],\n",
       " 'landcover_batchID_50': [237208],\n",
       " 'landcover_batchID_51': [237272],\n",
       " 'landcover_batchID_52': [237336],\n",
       " 'landcover_batchID_53': [237400],\n",
       " 'landcover_batchID_54': [237464],\n",
       " 'landcover_batchID_55': [237528],\n",
       " 'landcover_batchID_56': [237592],\n",
       " 'landcover_batchID_57': [237656],\n",
       " 'landcover_batchID_58': [237720],\n",
       " 'landcover_batchID_59': [237759],\n",
       " 'landcover_batchID_60': [284632],\n",
       " 'landcover_batchID_61': [284696],\n",
       " 'landcover_batchID_62': [284760],\n",
       " 'landcover_batchID_63': [284824],\n",
       " 'landcover_batchID_64': [284888],\n",
       " 'landcover_batchID_65': [284952],\n",
       " 'landcover_batchID_66': [285016],\n",
       " 'landcover_batchID_67': [285080],\n",
       " 'landcover_batchID_68': [285144],\n",
       " 'landcover_batchID_69': [285208],\n",
       " 'landcover_batchID_70': [285272],\n",
       " 'landcover_batchID_71': [285311],\n",
       " 'landcover_batchID_72': [328469],\n",
       " 'landcover_batchID_73': [328533],\n",
       " 'landcover_batchID_74': [328597],\n",
       " 'landcover_batchID_75': [328661],\n",
       " 'landcover_batchID_76': [328725],\n",
       " 'landcover_batchID_77': [328789],\n",
       " 'landcover_batchID_78': [328853],\n",
       " 'landcover_batchID_79': [328917],\n",
       " 'landcover_batchID_80': [328981],\n",
       " 'landcover_batchID_81': [329045],\n",
       " 'landcover_batchID_82': [329109],\n",
       " 'landcover_batchID_83': [329148]}"
      ]
     },
     "execution_count": 104,
     "metadata": {},
     "output_type": "execute_result"
    }
   ],
   "source": [
    "tile_region_dic"
   ]
  },
  {
   "cell_type": "code",
   "execution_count": 97,
   "metadata": {},
   "outputs": [
    {
     "data": {
      "text/plain": [
       "84"
      ]
     },
     "execution_count": 97,
     "metadata": {},
     "output_type": "execute_result"
    }
   ],
   "source": [
    "len(tile_region_dic)"
   ]
  },
  {
   "cell_type": "code",
   "execution_count": 83,
   "metadata": {},
   "outputs": [],
   "source": [
    "# Initialize the SequenceDataLoader for training data\n",
    "train_data_loader = SequenceDataLoader(\n",
    "    labels,\n",
    "    list_IDs,\n",
    "    tile_region_dic,\n",
    "    fishnet_coordinates,\n",
    "    train_dir,\n",
    "    dim=dim,\n",
    "    batch_size=10,\n",
    "    n_channels=1,\n",
    "    shuffle=True,\n",
    ")"
   ]
  },
  {
   "cell_type": "code",
   "execution_count": 92,
   "metadata": {},
   "outputs": [
    {
     "ename": "NameError",
     "evalue": "name 'list_IDs_temp' is not defined",
     "output_type": "error",
     "traceback": [
      "\u001b[0;31m---------------------------------------------------------------------------\u001b[0m",
      "\u001b[0;31mNameError\u001b[0m                                 Traceback (most recent call last)",
      "Cell \u001b[0;32mIn[92], line 1\u001b[0m\n\u001b[0;32m----> 1\u001b[0m regionLengths \u001b[39m=\u001b[39m [\u001b[39mlen\u001b[39m(\u001b[39mself\u001b[39m\u001b[39m.\u001b[39mtile_region_dic[ID]) \u001b[39mfor\u001b[39;00m ID \u001b[39min\u001b[39;00m list_IDs_temp]\n",
      "\u001b[0;31mNameError\u001b[0m: name 'list_IDs_temp' is not defined"
     ]
    }
   ],
   "source": [
    "regionLengths = [len(tile_region_dic[ID]) for ID in list_IDs_temp]"
   ]
  },
  {
   "cell_type": "code",
   "execution_count": 95,
   "metadata": {},
   "outputs": [
    {
     "data": {
      "text/plain": [
       "{'landcover_batchID_0': [46872],\n",
       " 'landcover_batchID_1': [46936],\n",
       " 'landcover_batchID_2': [47000],\n",
       " 'landcover_batchID_3': [47064],\n",
       " 'landcover_batchID_4': [47128],\n",
       " 'landcover_batchID_5': [47192],\n",
       " 'landcover_batchID_6': [47256],\n",
       " 'landcover_batchID_7': [47320],\n",
       " 'landcover_batchID_8': [47384],\n",
       " 'landcover_batchID_9': [47448],\n",
       " 'landcover_batchID_10': [47512],\n",
       " 'landcover_batchID_11': [47551],\n",
       " 'landcover_batchID_12': [94424],\n",
       " 'landcover_batchID_13': [94488],\n",
       " 'landcover_batchID_14': [94552],\n",
       " 'landcover_batchID_15': [94616],\n",
       " 'landcover_batchID_16': [94680],\n",
       " 'landcover_batchID_17': [94744],\n",
       " 'landcover_batchID_18': [94808],\n",
       " 'landcover_batchID_19': [94872],\n",
       " 'landcover_batchID_20': [94936],\n",
       " 'landcover_batchID_21': [95000],\n",
       " 'landcover_batchID_22': [95064],\n",
       " 'landcover_batchID_23': [95103],\n",
       " 'landcover_batchID_24': [141976],\n",
       " 'landcover_batchID_25': [142040],\n",
       " 'landcover_batchID_26': [142104],\n",
       " 'landcover_batchID_27': [142168],\n",
       " 'landcover_batchID_28': [142232],\n",
       " 'landcover_batchID_29': [142296],\n",
       " 'landcover_batchID_30': [142360],\n",
       " 'landcover_batchID_31': [142424],\n",
       " 'landcover_batchID_32': [142488],\n",
       " 'landcover_batchID_33': [142552],\n",
       " 'landcover_batchID_34': [142616],\n",
       " 'landcover_batchID_35': [142655],\n",
       " 'landcover_batchID_36': [189528],\n",
       " 'landcover_batchID_37': [189592],\n",
       " 'landcover_batchID_38': [189656],\n",
       " 'landcover_batchID_39': [189720],\n",
       " 'landcover_batchID_40': [189784],\n",
       " 'landcover_batchID_41': [189848],\n",
       " 'landcover_batchID_42': [189912],\n",
       " 'landcover_batchID_43': [189976],\n",
       " 'landcover_batchID_44': [190040],\n",
       " 'landcover_batchID_45': [190104],\n",
       " 'landcover_batchID_46': [190168],\n",
       " 'landcover_batchID_47': [190207],\n",
       " 'landcover_batchID_48': [237080],\n",
       " 'landcover_batchID_49': [237144],\n",
       " 'landcover_batchID_50': [237208],\n",
       " 'landcover_batchID_51': [237272],\n",
       " 'landcover_batchID_52': [237336],\n",
       " 'landcover_batchID_53': [237400],\n",
       " 'landcover_batchID_54': [237464],\n",
       " 'landcover_batchID_55': [237528],\n",
       " 'landcover_batchID_56': [237592],\n",
       " 'landcover_batchID_57': [237656],\n",
       " 'landcover_batchID_58': [237720],\n",
       " 'landcover_batchID_59': [237759],\n",
       " 'landcover_batchID_60': [284632],\n",
       " 'landcover_batchID_61': [284696],\n",
       " 'landcover_batchID_62': [284760],\n",
       " 'landcover_batchID_63': [284824],\n",
       " 'landcover_batchID_64': [284888],\n",
       " 'landcover_batchID_65': [284952],\n",
       " 'landcover_batchID_66': [285016],\n",
       " 'landcover_batchID_67': [285080],\n",
       " 'landcover_batchID_68': [285144],\n",
       " 'landcover_batchID_69': [285208],\n",
       " 'landcover_batchID_70': [285272],\n",
       " 'landcover_batchID_71': [285311],\n",
       " 'landcover_batchID_72': [328469],\n",
       " 'landcover_batchID_73': [328533],\n",
       " 'landcover_batchID_74': [328597],\n",
       " 'landcover_batchID_75': [328661],\n",
       " 'landcover_batchID_76': [328725],\n",
       " 'landcover_batchID_77': [328789],\n",
       " 'landcover_batchID_78': [328853],\n",
       " 'landcover_batchID_79': [328917],\n",
       " 'landcover_batchID_80': [328981],\n",
       " 'landcover_batchID_81': [329045],\n",
       " 'landcover_batchID_82': [329109],\n",
       " 'landcover_batchID_83': [329148]}"
      ]
     },
     "execution_count": 95,
     "metadata": {},
     "output_type": "execute_result"
    }
   ],
   "source": [
    "tile_region_dic"
   ]
  },
  {
   "cell_type": "code",
   "execution_count": 91,
   "metadata": {},
   "outputs": [
    {
     "name": "stdout",
     "output_type": "stream",
     "text": [
      "[1, 1, 1, 1, 1, 1, 1, 1, 1, 1]\n",
      "0 1\n",
      "(1, 7, 40, 44, 1)\n",
      "1 2\n",
      "(1, 7, 40, 44, 1)\n",
      "2 3\n",
      "(1, 7, 40, 44, 1)\n",
      "3 4\n",
      "(1, 7, 40, 44, 1)\n",
      "4 5\n",
      "(1, 7, 40, 44, 1)\n",
      "5 6\n",
      "(1, 7, 40, 44, 1)\n",
      "6 7\n",
      "(1, 7, 40, 44, 1)\n",
      "7 8\n",
      "(1, 7, 40, 44, 1)\n",
      "8 9\n",
      "(1, 7, 40, 44, 1)\n",
      "9 10\n",
      "(1, 7, 40, 44, 1)\n"
     ]
    }
   ],
   "source": [
    "X = train_data_loader[0]"
   ]
  },
  {
   "cell_type": "code",
   "execution_count": 85,
   "metadata": {},
   "outputs": [
    {
     "data": {
      "text/plain": [
       "(10, 7, 40, 44, 1)"
      ]
     },
     "execution_count": 85,
     "metadata": {},
     "output_type": "execute_result"
    }
   ],
   "source": [
    "X.shape"
   ]
  },
  {
   "cell_type": "code",
   "execution_count": 46,
   "metadata": {},
   "outputs": [
    {
     "name": "stdout",
     "output_type": "stream",
     "text": [
      "Epoch 1/3\n",
      "84\n",
      "10\n",
      "0\n"
     ]
    },
    {
     "ename": "KeyError",
     "evalue": "'landcover_batchID_52'",
     "output_type": "error",
     "traceback": [
      "\u001b[0;31m---------------------------------------------------------------------------\u001b[0m",
      "\u001b[0;31mKeyError\u001b[0m                                  Traceback (most recent call last)",
      "Cell \u001b[0;32mIn[46], line 8\u001b[0m\n\u001b[1;32m      6\u001b[0m \u001b[39mfor\u001b[39;00m batch_index \u001b[39min\u001b[39;00m \u001b[39mrange\u001b[39m(\u001b[39mlen\u001b[39m(train_data_loader)):\n\u001b[1;32m      7\u001b[0m     \u001b[39mprint\u001b[39m(batch_index)\n\u001b[0;32m----> 8\u001b[0m     X_batch \u001b[39m=\u001b[39m train_data_loader[batch_index]  \u001b[39m# Get the batch input data (X) from the data_loader\u001b[39;00m\n\u001b[1;32m      9\u001b[0m     \u001b[39mprint\u001b[39m(\u001b[39mf\u001b[39m\u001b[39m\"\u001b[39m\u001b[39mBatch \u001b[39m\u001b[39m{\u001b[39;00mbatch_index\u001b[39m+\u001b[39m\u001b[39m1\u001b[39m\u001b[39m}\u001b[39;00m\u001b[39m/\u001b[39m\u001b[39m{\u001b[39;00m\u001b[39mlen\u001b[39m(train_data_loader)\u001b[39m}\u001b[39;00m\u001b[39m, X_batch shape: \u001b[39m\u001b[39m{\u001b[39;00mX_batch\u001b[39m.\u001b[39mshape\u001b[39m}\u001b[39;00m\u001b[39m\"\u001b[39m)\n",
      "File \u001b[0;32m~/Documents/JPM Capstone Code/Capstone_JPMorgan/Notebooks/../src/SequenceDataLoader.py:73\u001b[0m, in \u001b[0;36mSequenceDataLoader.__getitem__\u001b[0;34m(self, index)\u001b[0m\n\u001b[1;32m     70\u001b[0m list_IDs_temp \u001b[39m=\u001b[39m [\u001b[39mself\u001b[39m\u001b[39m.\u001b[39mlist_IDs[k] \u001b[39mfor\u001b[39;00m k \u001b[39min\u001b[39;00m indexes]\n\u001b[1;32m     72\u001b[0m \u001b[39m# Generate data\u001b[39;00m\n\u001b[0;32m---> 73\u001b[0m X \u001b[39m=\u001b[39m \u001b[39mself\u001b[39m\u001b[39m.\u001b[39m_generate_X(list_IDs_temp)\n\u001b[1;32m     75\u001b[0m \u001b[39mreturn\u001b[39;00m X\n",
      "File \u001b[0;32m~/Documents/JPM Capstone Code/Capstone_JPMorgan/Notebooks/../src/SequenceDataLoader.py:93\u001b[0m, in \u001b[0;36mSequenceDataLoader._generate_X\u001b[0;34m(self, list_IDs_temp)\u001b[0m\n\u001b[1;32m     84\u001b[0m \u001b[39m\u001b[39m\u001b[39m\"\"\"Generates data containing batch_size images\u001b[39;00m\n\u001b[1;32m     85\u001b[0m \n\u001b[1;32m     86\u001b[0m \u001b[39m:param list_IDs_temp: list of label ids to load\u001b[39;00m\n\u001b[1;32m     87\u001b[0m \u001b[39m:return: batch of images\u001b[39;00m\n\u001b[1;32m     88\u001b[0m \u001b[39m\"\"\"\u001b[39;00m\n\u001b[1;32m     89\u001b[0m \u001b[39m# Initialization\u001b[39;00m\n\u001b[1;32m     90\u001b[0m \u001b[39m# get the total number of fishnet IDS gathered from all the regions in this batch\u001b[39;00m\n\u001b[1;32m     91\u001b[0m \u001b[39m# HEADS UP: Each region can have a different number of fishnets!\u001b[39;00m\n\u001b[0;32m---> 93\u001b[0m RegionLengths \u001b[39m=\u001b[39m [\u001b[39mlen\u001b[39m(\u001b[39mself\u001b[39m\u001b[39m.\u001b[39mtile_region_dic[ID]) \u001b[39mfor\u001b[39;00m ID \u001b[39min\u001b[39;00m list_IDs_temp]\n\u001b[1;32m     94\u001b[0m X \u001b[39m=\u001b[39m np\u001b[39m.\u001b[39mempty((\u001b[39msum\u001b[39m(RegionLengths), \u001b[39mlen\u001b[39m(\u001b[39mself\u001b[39m\u001b[39m.\u001b[39mlabels), \u001b[39m*\u001b[39m\u001b[39mself\u001b[39m\u001b[39m.\u001b[39mdim, \u001b[39mself\u001b[39m\u001b[39m.\u001b[39mn_channels))\n\u001b[1;32m     96\u001b[0m \u001b[39m# Generate data\u001b[39;00m\n",
      "File \u001b[0;32m~/Documents/JPM Capstone Code/Capstone_JPMorgan/Notebooks/../src/SequenceDataLoader.py:93\u001b[0m, in \u001b[0;36m<listcomp>\u001b[0;34m(.0)\u001b[0m\n\u001b[1;32m     84\u001b[0m \u001b[39m\u001b[39m\u001b[39m\"\"\"Generates data containing batch_size images\u001b[39;00m\n\u001b[1;32m     85\u001b[0m \n\u001b[1;32m     86\u001b[0m \u001b[39m:param list_IDs_temp: list of label ids to load\u001b[39;00m\n\u001b[1;32m     87\u001b[0m \u001b[39m:return: batch of images\u001b[39;00m\n\u001b[1;32m     88\u001b[0m \u001b[39m\"\"\"\u001b[39;00m\n\u001b[1;32m     89\u001b[0m \u001b[39m# Initialization\u001b[39;00m\n\u001b[1;32m     90\u001b[0m \u001b[39m# get the total number of fishnet IDS gathered from all the regions in this batch\u001b[39;00m\n\u001b[1;32m     91\u001b[0m \u001b[39m# HEADS UP: Each region can have a different number of fishnets!\u001b[39;00m\n\u001b[0;32m---> 93\u001b[0m RegionLengths \u001b[39m=\u001b[39m [\u001b[39mlen\u001b[39m(\u001b[39mself\u001b[39m\u001b[39m.\u001b[39mtile_region_dic[ID]) \u001b[39mfor\u001b[39;00m ID \u001b[39min\u001b[39;00m list_IDs_temp]\n\u001b[1;32m     94\u001b[0m X \u001b[39m=\u001b[39m np\u001b[39m.\u001b[39mempty((\u001b[39msum\u001b[39m(RegionLengths), \u001b[39mlen\u001b[39m(\u001b[39mself\u001b[39m\u001b[39m.\u001b[39mlabels), \u001b[39m*\u001b[39m\u001b[39mself\u001b[39m\u001b[39m.\u001b[39mdim, \u001b[39mself\u001b[39m\u001b[39m.\u001b[39mn_channels))\n\u001b[1;32m     96\u001b[0m \u001b[39m# Generate data\u001b[39;00m\n",
      "\u001b[0;31mKeyError\u001b[0m: 'landcover_batchID_52'"
     ]
    }
   ],
   "source": [
    "# Test the data loader in a training loop\n",
    "num_epochs = 3\n",
    "\n",
    "for epoch in range(num_epochs):\n",
    "    print(f\"Epoch {epoch+1}/{num_epochs}\")\n",
    "    for batch_index in range(len(train_data_loader)):\n",
    "        print(batch_index)\n",
    "        X_batch = train_data_loader[batch_index]  # Get the batch input data (X) from the data_loader\n",
    "        print(f\"Batch {batch_index+1}/{len(train_data_loader)}, X_batch shape: {X_batch.shape}\")\n",
    "        # Here, you can use X_batch to train your model or perform any other processing\n"
   ]
  },
  {
   "cell_type": "code",
   "execution_count": null,
   "metadata": {},
   "outputs": [],
   "source": [
    "\n",
    "# Test the data loader in a prediction loop\n",
    "for batch_index in range(len(data_loader)):\n",
    "    X_batch = data_loader[batch_index]  # Get the batch input data (X) from the data_loader\n",
    "    print(f\"Batch {batch_index+1}/{len(data_loader)}, X_batch shape: {X_batch.shape}\")\n",
    "    # Here, you can use X_batch to make predictions using your trained model\n"
   ]
  },
  {
   "cell_type": "code",
   "execution_count": null,
   "metadata": {},
   "outputs": [],
   "source": []
  }
 ],
 "metadata": {
  "kernelspec": {
   "display_name": "capstone_2",
   "language": "python",
   "name": "python3"
  },
  "language_info": {
   "codemirror_mode": {
    "name": "ipython",
    "version": 3
   },
   "file_extension": ".py",
   "mimetype": "text/x-python",
   "name": "python",
   "nbconvert_exporter": "python",
   "pygments_lexer": "ipython3",
   "version": "3.11.4"
  },
  "orig_nbformat": 4
 },
 "nbformat": 4,
 "nbformat_minor": 2
}
