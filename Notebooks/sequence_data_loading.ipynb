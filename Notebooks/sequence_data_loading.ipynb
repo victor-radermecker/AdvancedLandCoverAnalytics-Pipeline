{
 "cells": [
  {
   "cell_type": "code",
   "execution_count": 5,
   "metadata": {},
   "outputs": [
    {
     "name": "stdout",
     "output_type": "stream",
     "text": [
      "The autoreload extension is already loaded. To reload it, use:\n",
      "  %reload_ext autoreload\n"
     ]
    }
   ],
   "source": [
    "import pandas as pd\n",
    "import sys\n",
    "import numpy as np\n",
    "from tqdm import tqdm\n",
    "\n",
    "sys.path.append('../src')\n",
    "from SequenceDataLoader import SequenceDataLoader\n",
    "from Fishnet import Fishnet\n",
    "\n",
    "# update local libraries automatically\n",
    "%load_ext autoreload\n",
    "%autoreload 2"
   ]
  },
  {
   "cell_type": "code",
   "execution_count": 6,
   "metadata": {},
   "outputs": [
    {
     "data": {
      "text/html": [
       "<div>\n",
       "<style scoped>\n",
       "    .dataframe tbody tr th:only-of-type {\n",
       "        vertical-align: middle;\n",
       "    }\n",
       "\n",
       "    .dataframe tbody tr th {\n",
       "        vertical-align: top;\n",
       "    }\n",
       "\n",
       "    .dataframe thead th {\n",
       "        text-align: right;\n",
       "    }\n",
       "</style>\n",
       "<table border=\"1\" class=\"dataframe\">\n",
       "  <thead>\n",
       "    <tr style=\"text-align: right;\">\n",
       "      <th></th>\n",
       "      <th>tile_id</th>\n",
       "      <th>batch_id</th>\n",
       "      <th>year</th>\n",
       "      <th>urbanization_rate</th>\n",
       "      <th>urbanization</th>\n",
       "      <th>Lat</th>\n",
       "      <th>Lon</th>\n",
       "    </tr>\n",
       "  </thead>\n",
       "  <tbody>\n",
       "    <tr>\n",
       "      <th>0</th>\n",
       "      <td>0</td>\n",
       "      <td>0</td>\n",
       "      <td>2017</td>\n",
       "      <td>0.0</td>\n",
       "      <td>0.0</td>\n",
       "      <td>36.869991</td>\n",
       "      <td>-80.170884</td>\n",
       "    </tr>\n",
       "    <tr>\n",
       "      <th>1</th>\n",
       "      <td>0</td>\n",
       "      <td>0</td>\n",
       "      <td>2018</td>\n",
       "      <td>0.0</td>\n",
       "      <td>0.0</td>\n",
       "      <td>36.869991</td>\n",
       "      <td>-80.170884</td>\n",
       "    </tr>\n",
       "    <tr>\n",
       "      <th>2</th>\n",
       "      <td>0</td>\n",
       "      <td>0</td>\n",
       "      <td>2019</td>\n",
       "      <td>0.0</td>\n",
       "      <td>0.0</td>\n",
       "      <td>36.869991</td>\n",
       "      <td>-80.170884</td>\n",
       "    </tr>\n",
       "    <tr>\n",
       "      <th>3</th>\n",
       "      <td>0</td>\n",
       "      <td>0</td>\n",
       "      <td>2020</td>\n",
       "      <td>0.0</td>\n",
       "      <td>0.0</td>\n",
       "      <td>36.869991</td>\n",
       "      <td>-80.170884</td>\n",
       "    </tr>\n",
       "    <tr>\n",
       "      <th>4</th>\n",
       "      <td>0</td>\n",
       "      <td>0</td>\n",
       "      <td>2021</td>\n",
       "      <td>0.0</td>\n",
       "      <td>0.0</td>\n",
       "      <td>36.869991</td>\n",
       "      <td>-80.170884</td>\n",
       "    </tr>\n",
       "  </tbody>\n",
       "</table>\n",
       "</div>"
      ],
      "text/plain": [
       "   tile_id  batch_id  year  urbanization_rate  urbanization        Lat  \\\n",
       "0        0         0  2017                0.0           0.0  36.869991   \n",
       "1        0         0  2018                0.0           0.0  36.869991   \n",
       "2        0         0  2019                0.0           0.0  36.869991   \n",
       "3        0         0  2020                0.0           0.0  36.869991   \n",
       "4        0         0  2021                0.0           0.0  36.869991   \n",
       "\n",
       "         Lon  \n",
       "0 -80.170884  \n",
       "1 -80.170884  \n",
       "2 -80.170884  \n",
       "3 -80.170884  \n",
       "4 -80.170884  "
      ]
     },
     "execution_count": 6,
     "metadata": {},
     "output_type": "execute_result"
    }
   ],
   "source": [
    "fishnet = Fishnet.load('../Outputs/Test/fishnet_test.pkl')\n",
    "df = pd.read_csv('../Outputs/Test/urbanization_test.csv')\n",
    "df.head()"
   ]
  },
  {
   "cell_type": "code",
   "execution_count": 11,
   "metadata": {},
   "outputs": [
    {
     "name": "stderr",
     "output_type": "stream",
     "text": [
      "100%|██████████| 329149/329149 [00:03<00:00, 85688.84it/s]\n"
     ]
    }
   ],
   "source": [
    "labels = [2016, 2017, 2018, 2019, 2020, 2021, 2022]\n",
    "filename = \"landcover_batchID_\"\n",
    "list_IDs = [filename + str(s) for s in df[\"batch_id\"].unique()]\n",
    "\n",
    "# Iterate over the DataFrame and group tile IDs based on batch IDs\n",
    "tile_region_dic = {}\n",
    "data = df[df.year == 2017]\n",
    "for _, row in tqdm(data.iterrows(), total=len(data)):\n",
    "    batch_id = int(row['batch_id'])\n",
    "    tile_id = int(row['tile_id'])\n",
    "    key = filename + str(batch_id)\n",
    "    if batch_id not in tile_region_dic:\n",
    "        tile_region_dic[batch_id] = []\n",
    "    tile_region_dic[batch_id].append(tile_id)\n",
    "    \n",
    "# rename the keys of the dictionary to match the list_IDs\n",
    "tile_region_dic = {filename + str(k): v for k, v in tile_region_dic.items()}\n",
    "\n",
    "# Get the coordinate of each fishnet within each region\n",
    "fishnet_coordinates = fishnet.fishnet['ImageCoordinates']\n",
    "\n",
    "# Other inputs\n",
    "train_dir = '../Images/Test'\n",
    "dim = (40, 44)"
   ]
  },
  {
   "cell_type": "code",
   "execution_count": 47,
   "metadata": {},
   "outputs": [],
   "source": [
    "# Initialize the SequenceDataLoader for training data\n",
    "train_data_loader = SequenceDataLoader(\n",
    "    labels,\n",
    "    list_IDs,\n",
    "    tile_region_dic,\n",
    "    fishnet_coordinates,\n",
    "    train_dir,\n",
    "    dim=dim,\n",
    "    batch_size=1,\n",
    "    n_channels=3,\n",
    "    shuffle=True,\n",
    ")"
   ]
  },
  {
   "cell_type": "code",
   "execution_count": 48,
   "metadata": {},
   "outputs": [],
   "source": [
    "X = train_data_loader[0]"
   ]
  },
  {
   "cell_type": "code",
   "execution_count": 49,
   "metadata": {},
   "outputs": [
    {
     "data": {
      "text/plain": [
       "(4096, 7, 40, 44, 3)"
      ]
     },
     "execution_count": 49,
     "metadata": {},
     "output_type": "execute_result"
    }
   ],
   "source": [
    "X.shape"
   ]
  },
  {
   "cell_type": "code",
   "execution_count": 78,
   "metadata": {},
   "outputs": [
    {
     "data": {
      "image/png": "[encoded data removed]",
      "text/plain": [
       "<Figure size 2000x1000 with 7 Axes>"
      ]
     },
     "metadata": {},
     "output_type": "display_data"
    }
   ],
   "source": [
    "# print 7 images for one specific year for one random sample with seaborn\n",
    "import matplotlib.pyplot as plt\n",
    "import seaborn as sns\n",
    "\n",
    "idx = np.random.randint(0, X.shape[0])\n",
    "fig, axs = plt.subplots(1, 7, figsize=(20, 10))\n",
    "plt.title('Sample ' + str(idx))\n",
    "\n",
    "for i in range(7):\n",
    "    axs[i].imshow(X[idx, i, :, :, :], cmap='gray')\n",
    "    axs[i].set_title(labels[i])\n",
    "    axs[i].axis('off')\n",
    "plt.show()"
   ]
  },
  {
   "cell_type": "code",
   "execution_count": 9,
   "metadata": {},
   "outputs": [
    {
     "name": "stdout",
     "output_type": "stream",
     "text": [
      "Epoch 1/3\n",
      "0\n"
     ]
    },
    {
     "ename": "KeyError",
     "evalue": "'landcover_batchID_55'",
     "output_type": "error",
     "traceback": [
      "\u001b[0;31m---------------------------------------------------------------------------\u001b[0m",
      "\u001b[0;31mKeyError\u001b[0m                                  Traceback (most recent call last)",
      "Cell \u001b[0;32mIn[9], line 8\u001b[0m\n\u001b[1;32m      6\u001b[0m \u001b[39mfor\u001b[39;00m batch_index \u001b[39min\u001b[39;00m \u001b[39mrange\u001b[39m(\u001b[39mlen\u001b[39m(train_data_loader)):\n\u001b[1;32m      7\u001b[0m     \u001b[39mprint\u001b[39m(batch_index)\n\u001b[0;32m----> 8\u001b[0m     X_batch \u001b[39m=\u001b[39m train_data_loader[batch_index]  \u001b[39m# Get the batch input data (X) from the data_loader\u001b[39;00m\n\u001b[1;32m      9\u001b[0m     \u001b[39mprint\u001b[39m(\u001b[39mf\u001b[39m\u001b[39m\"\u001b[39m\u001b[39mBatch \u001b[39m\u001b[39m{\u001b[39;00mbatch_index\u001b[39m+\u001b[39m\u001b[39m1\u001b[39m\u001b[39m}\u001b[39;00m\u001b[39m/\u001b[39m\u001b[39m{\u001b[39;00m\u001b[39mlen\u001b[39m(train_data_loader)\u001b[39m}\u001b[39;00m\u001b[39m, X_batch shape: \u001b[39m\u001b[39m{\u001b[39;00mX_batch\u001b[39m.\u001b[39mshape\u001b[39m}\u001b[39;00m\u001b[39m\"\u001b[39m)\n",
      "File \u001b[0;32m~/Documents/JPM Capstone Code/Capstone_JPMorgan/Notebooks/../src/SequenceDataLoader.py:72\u001b[0m, in \u001b[0;36mSequenceDataLoader.__getitem__\u001b[0;34m(self, index)\u001b[0m\n\u001b[1;32m     69\u001b[0m list_IDs_temp \u001b[39m=\u001b[39m [\u001b[39mself\u001b[39m\u001b[39m.\u001b[39mlist_IDs[k] \u001b[39mfor\u001b[39;00m k \u001b[39min\u001b[39;00m indexes]\n\u001b[1;32m     71\u001b[0m \u001b[39m# Generate data\u001b[39;00m\n\u001b[0;32m---> 72\u001b[0m X \u001b[39m=\u001b[39m \u001b[39mself\u001b[39m\u001b[39m.\u001b[39m_generate_X(list_IDs_temp)\n\u001b[1;32m     74\u001b[0m \u001b[39mreturn\u001b[39;00m X\n",
      "File \u001b[0;32m~/Documents/JPM Capstone Code/Capstone_JPMorgan/Notebooks/../src/SequenceDataLoader.py:92\u001b[0m, in \u001b[0;36mSequenceDataLoader._generate_X\u001b[0;34m(self, list_IDs_temp)\u001b[0m\n\u001b[1;32m     83\u001b[0m \u001b[39m\u001b[39m\u001b[39m\"\"\"Generates data containing batch_size images\u001b[39;00m\n\u001b[1;32m     84\u001b[0m \n\u001b[1;32m     85\u001b[0m \u001b[39m:param list_IDs_temp: list of label ids to load\u001b[39;00m\n\u001b[1;32m     86\u001b[0m \u001b[39m:return: batch of images\u001b[39;00m\n\u001b[1;32m     87\u001b[0m \u001b[39m\"\"\"\u001b[39;00m\n\u001b[1;32m     88\u001b[0m \u001b[39m# Initialization\u001b[39;00m\n\u001b[1;32m     89\u001b[0m \u001b[39m# get the total number of fishnet IDS gathered from all the regions in this batch\u001b[39;00m\n\u001b[1;32m     90\u001b[0m \u001b[39m# HEADS UP: Each region can have a different number of fishnets!\u001b[39;00m\n\u001b[0;32m---> 92\u001b[0m regionLengths \u001b[39m=\u001b[39m [\u001b[39mlen\u001b[39m(\u001b[39mself\u001b[39m\u001b[39m.\u001b[39mtile_region_dic[ID]) \u001b[39mfor\u001b[39;00m ID \u001b[39min\u001b[39;00m list_IDs_temp]\n\u001b[1;32m     93\u001b[0m X \u001b[39m=\u001b[39m np\u001b[39m.\u001b[39mempty((\u001b[39msum\u001b[39m(regionLengths), \u001b[39mlen\u001b[39m(\u001b[39mself\u001b[39m\u001b[39m.\u001b[39mlabels), \u001b[39m*\u001b[39m\u001b[39mself\u001b[39m\u001b[39m.\u001b[39mdim, \u001b[39mself\u001b[39m\u001b[39m.\u001b[39mn_channels))\n\u001b[1;32m     94\u001b[0m \u001b[39m# Generate data\u001b[39;00m\n",
      "File \u001b[0;32m~/Documents/JPM Capstone Code/Capstone_JPMorgan/Notebooks/../src/SequenceDataLoader.py:92\u001b[0m, in \u001b[0;36m<listcomp>\u001b[0;34m(.0)\u001b[0m\n\u001b[1;32m     83\u001b[0m \u001b[39m\u001b[39m\u001b[39m\"\"\"Generates data containing batch_size images\u001b[39;00m\n\u001b[1;32m     84\u001b[0m \n\u001b[1;32m     85\u001b[0m \u001b[39m:param list_IDs_temp: list of label ids to load\u001b[39;00m\n\u001b[1;32m     86\u001b[0m \u001b[39m:return: batch of images\u001b[39;00m\n\u001b[1;32m     87\u001b[0m \u001b[39m\"\"\"\u001b[39;00m\n\u001b[1;32m     88\u001b[0m \u001b[39m# Initialization\u001b[39;00m\n\u001b[1;32m     89\u001b[0m \u001b[39m# get the total number of fishnet IDS gathered from all the regions in this batch\u001b[39;00m\n\u001b[1;32m     90\u001b[0m \u001b[39m# HEADS UP: Each region can have a different number of fishnets!\u001b[39;00m\n\u001b[0;32m---> 92\u001b[0m regionLengths \u001b[39m=\u001b[39m [\u001b[39mlen\u001b[39m(\u001b[39mself\u001b[39m\u001b[39m.\u001b[39mtile_region_dic[ID]) \u001b[39mfor\u001b[39;00m ID \u001b[39min\u001b[39;00m list_IDs_temp]\n\u001b[1;32m     93\u001b[0m X \u001b[39m=\u001b[39m np\u001b[39m.\u001b[39mempty((\u001b[39msum\u001b[39m(regionLengths), \u001b[39mlen\u001b[39m(\u001b[39mself\u001b[39m\u001b[39m.\u001b[39mlabels), \u001b[39m*\u001b[39m\u001b[39mself\u001b[39m\u001b[39m.\u001b[39mdim, \u001b[39mself\u001b[39m\u001b[39m.\u001b[39mn_channels))\n\u001b[1;32m     94\u001b[0m \u001b[39m# Generate data\u001b[39;00m\n",
      "\u001b[0;31mKeyError\u001b[0m: 'landcover_batchID_55'"
     ]
    }
   ],
   "source": [
    "# Test the data loader in a training loop\n",
    "num_epochs = 3\n",
    "\n",
    "for epoch in range(num_epochs):\n",
    "    print(f\"Epoch {epoch+1}/{num_epochs}\")\n",
    "    for batch_index in range(len(train_data_loader)):\n",
    "        print(batch_index)\n",
    "        X_batch = train_data_loader[batch_index]  # Get the batch input data (X) from the data_loader\n",
    "        print(f\"Batch {batch_index+1}/{len(train_data_loader)}, X_batch shape: {X_batch.shape}\")\n",
    "        # Here, you can use X_batch to train your model or perform any other processing\n"
   ]
  },
  {
   "cell_type": "code",
   "execution_count": null,
   "metadata": {},
   "outputs": [],
   "source": [
    "\n",
    "# Test the data loader in a prediction loop\n",
    "for batch_index in range(len(data_loader)):\n",
    "    X_batch = data_loader[batch_index]  # Get the batch input data (X) from the data_loader\n",
    "    print(f\"Batch {batch_index+1}/{len(data_loader)}, X_batch shape: {X_batch.shape}\")\n",
    "    # Here, you can use X_batch to make predictions using your trained model\n"
   ]
  },
  {
   "cell_type": "code",
   "execution_count": null,
   "metadata": {},
   "outputs": [],
   "source": []
  }
 ],
 "metadata": {
  "kernelspec": {
   "display_name": "capstone_2",
   "language": "python",
   "name": "python3"
  },
  "language_info": {
   "codemirror_mode": {
    "name": "ipython",
    "version": 3
   },
   "file_extension": ".py",
   "mimetype": "text/x-python",
   "name": "python",
   "nbconvert_exporter": "python",
   "pygments_lexer": "ipython3",
   "version": "3.11.4"
  },
  "orig_nbformat": 4
 },
 "nbformat": 4,
 "nbformat_minor": 2
}
