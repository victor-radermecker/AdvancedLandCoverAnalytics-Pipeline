{
  "nbformat": 4,
  "nbformat_minor": 0,
  "metadata": {
    "colab": {
      "provenance": [],
      "machine_shape": "hm",
      "authorship_tag": "ABX9TyMiqEKutK2n+huzYEGpdh5v",
      "include_colab_link": true
    },
    "kernelspec": {
      "name": "python3",
      "display_name": "Python 3"
    },
    "language_info": {
      "name": "python"
    }
  },
  "cells": [
    {
      "cell_type": "markdown",
      "metadata": {
        "id": "view-in-github",
        "colab_type": "text"
      },
      "source": [
        "<a href=\"https://colab.research.google.com/github/victor-radermecker/Capstone_JPMorgan/blob/video-prediction/video_prediction_colab.ipynb\" target=\"_parent\"><img src=\"https://colab.research.google.com/assets/colab-badge.svg\" alt=\"Open In Colab\"/></a>"
      ]
    },
    {
      "cell_type": "markdown",
      "source": [
        "<font color = 'red'> Read, info about video prediction </font>\n",
        "\n",
        "Check this repo:\n",
        "https://github.com/edouardelasalles/srvp\n",
        "\n",
        "Check this, maybe there's more useful information:\n",
        "https://github.com/tensorflow/tensor2tensor\n",
        "\n",
        "Check papers, can ask Nonie"
      ],
      "metadata": {
        "id": "1OiqSkEq2keM"
      }
    },
    {
      "cell_type": "code",
      "source": [
        "!pip install geopandas\n",
        "!pip install geemap\n",
        "!pip install imageio\n",
        "!pip install imagecodecs"
      ],
      "metadata": {
        "id": "cNdVfTzeMSfe"
      },
      "execution_count": null,
      "outputs": []
    },
    {
      "cell_type": "code",
      "source": [
        "import ee\n",
        "import sys\n",
        "import warnings\n",
        "from tqdm import tqdm\n",
        "warnings.filterwarnings('ignore')"
      ],
      "metadata": {
        "id": "OHkubEOAMUPb"
      },
      "execution_count": 2,
      "outputs": []
    },
    {
      "cell_type": "code",
      "source": [
        "ee.Authenticate()"
      ],
      "metadata": {
        "colab": {
          "base_uri": "https://localhost:8080/"
        },
        "id": "pVftvHfFMWvl",
        "outputId": "b7f7a9a0-5143-4f9f-d28d-4bb4da7613e3"
      },
      "execution_count": 3,
      "outputs": [
        {
          "output_type": "stream",
          "name": "stdout",
          "text": [
            "To authorize access needed by Earth Engine, open the following URL in a web browser and follow the instructions. If the web browser does not start automatically, please manually browse the URL below.\n",
            "\n",
            "    https://code.earthengine.google.com/client-auth?scopes=https%3A//www.googleapis.com/auth/earthengine%20https%3A//www.googleapis.com/auth/devstorage.full_control&request_id=QR08dWBBDZhcDf0TsQuoGnYZI_GjyCqe57GqrYs7N08&tc=9gljvKth06gN1Gqrzt_MK-6vwJ5wYgLfj9y9xUkIZog&cc=iFjGQHOV8Dqyyyp4qW4-g4cj8YbA5x91rD-2mhP-6GE\n",
            "\n",
            "The authorization workflow will generate a code, which you should paste in the box below.\n",
            "Enter verification code: 4/1AbUR2VPX80Tl9dW4hTh8oLWPsCpxLzVfGgISw8pPjyw2qzg1a6VdQI_FRPI\n",
            "\n",
            "Successfully saved authorization token.\n"
          ]
        }
      ]
    },
    {
      "cell_type": "code",
      "source": [
        "from google.colab import drive\n",
        "drive.mount('/content/drive', force_remount = True)"
      ],
      "metadata": {
        "colab": {
          "base_uri": "https://localhost:8080/"
        },
        "id": "AtL6-gNZMV84",
        "outputId": "1fe27927-d7d8-469d-e38b-e705f6605cf7"
      },
      "execution_count": 4,
      "outputs": [
        {
          "output_type": "stream",
          "name": "stdout",
          "text": [
            "Mounted at /content/drive\n"
          ]
        }
      ]
    },
    {
      "cell_type": "code",
      "source": [
        "# Loading packages\n",
        "\n",
        "# import local modules\n",
        "import sys\n",
        "sys.path.append('/content/drive/MyDrive/src')\n",
        "\n",
        "from Fishnet import Fishnet\n",
        "from ImageExporter import ImageExporter\n",
        "from ImageCorrector import ImageCorrector\n",
        "from ImageProcessor import ImageProcessor\n",
        "from VideoPrediction import VideoPrediction"
      ],
      "metadata": {
        "id": "8sYlYR-YMZZb"
      },
      "execution_count": 12,
      "outputs": []
    },
    {
      "cell_type": "code",
      "source": [
        "# update files automatically\n",
        "%load_ext autoreload\n",
        "%autoreload 2\n",
        "\n",
        "# Authenticate to Earth Engine\n",
        "ee.Initialize(project=\"jpmorgancapstone\")"
      ],
      "metadata": {
        "id": "SgZbaBDdMbTq"
      },
      "execution_count": 6,
      "outputs": []
    },
    {
      "cell_type": "code",
      "source": [
        "# load fishnet\n",
        "fishnet = Fishnet.load('/content/drive/MyDrive/Code/Gis/Fishnet/fishnet_quarter_mile_completed.pkl')"
      ],
      "metadata": {
        "id": "SstoVMduMwbk"
      },
      "execution_count": 7,
      "outputs": []
    },
    {
      "cell_type": "markdown",
      "source": [
        "# Create Tensors"
      ],
      "metadata": {
        "id": "QvWRLY4eObY3"
      }
    },
    {
      "cell_type": "markdown",
      "source": [
        "3x3xT matrices\n",
        "Each slice is one year. Central element is the element itself; then its neighbors.\n",
        "Value is MeanPixel in that year."
      ],
      "metadata": {
        "id": "Z8k56WKHOe8S"
      }
    },
    {
      "cell_type": "code",
      "source": [
        "video_prediction = VideoPrediction(fishnet, filtered = True)"
      ],
      "metadata": {
        "id": "AKQF3rWXN-94"
      },
      "execution_count": 91,
      "outputs": []
    },
    {
      "cell_type": "code",
      "source": [
        "yearStart = 2016\n",
        "yearEnd = 2022\n",
        "video_prediction.define_years_range(yearStart, yearEnd)"
      ],
      "metadata": {
        "id": "kyy8cxdBQG4L"
      },
      "execution_count": 92,
      "outputs": []
    },
    {
      "cell_type": "code",
      "source": [
        "video_prediction.create_tensor()"
      ],
      "metadata": {
        "colab": {
          "base_uri": "https://localhost:8080/"
        },
        "id": "tmLPaoN7oTwu",
        "outputId": "fae2379f-35ea-4e8b-a187-698dcf443642"
      },
      "execution_count": 117,
      "outputs": [
        {
          "output_type": "stream",
          "name": "stderr",
          "text": [
            "100%|██████████| 2948/2948 [00:09<00:00, 312.30it/s]\n",
            "100%|██████████| 2948/2948 [00:09<00:00, 304.86it/s]\n",
            "100%|██████████| 2948/2948 [00:09<00:00, 308.03it/s]\n",
            "100%|██████████| 2948/2948 [00:09<00:00, 310.09it/s]\n",
            "100%|██████████| 2948/2948 [00:09<00:00, 309.56it/s]\n",
            "100%|██████████| 2948/2948 [00:09<00:00, 313.20it/s]\n",
            "100%|██████████| 2948/2948 [00:09<00:00, 310.59it/s]\n"
          ]
        }
      ]
    },
    {
      "cell_type": "code",
      "source": [
        "video_prediction.tensor_subset()"
      ],
      "metadata": {
        "id": "ZYmkNto118BH"
      },
      "execution_count": 133,
      "outputs": []
    }
  ]
}