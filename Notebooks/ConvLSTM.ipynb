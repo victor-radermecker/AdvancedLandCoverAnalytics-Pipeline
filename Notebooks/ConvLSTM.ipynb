{
 "cells": [
  {
   "cell_type": "code",
   "execution_count": 5,
   "metadata": {},
   "outputs": [
    {
     "name": "stdout",
     "output_type": "stream",
     "text": [
      "The autoreload extension is already loaded. To reload it, use:\n",
      "  %reload_ext autoreload\n"
     ]
    }
   ],
   "source": [
    "import sys\n",
    "from tqdm import tqdm\n",
    "import pandas as pd\n",
    "import warnings\n",
    "warnings.filterwarnings('ignore')\n",
    "\n",
    "# import local modules\n",
    "sys.path.append('../src')\n",
    "from Fishnet import Fishnet\n",
    "from ImageExporter import ImageExporter\n",
    "from ImageCorrector import ImageCorrector\n",
    "from ImageProcessor import ImageProcessor\n",
    "\n",
    "# update files automatically\n",
    "%load_ext autoreload\n",
    "%autoreload 2"
   ]
  },
  {
   "cell_type": "code",
   "execution_count": 2,
   "metadata": {},
   "outputs": [],
   "source": [
    "fc = Fishnet.load(\"../Gis/Fishnet/fishnet_quarter_mile_completed.pkl\")"
   ]
  },
  {
   "cell_type": "code",
   "execution_count": 3,
   "metadata": {},
   "outputs": [
    {
     "data": {
      "text/html": [
       "<div>\n",
       "<style scoped>\n",
       "    .dataframe tbody tr th:only-of-type {\n",
       "        vertical-align: middle;\n",
       "    }\n",
       "\n",
       "    .dataframe tbody tr th {\n",
       "        vertical-align: top;\n",
       "    }\n",
       "\n",
       "    .dataframe thead th {\n",
       "        text-align: right;\n",
       "    }\n",
       "</style>\n",
       "<table border=\"1\" class=\"dataframe\">\n",
       "  <thead>\n",
       "    <tr style=\"text-align: right;\">\n",
       "      <th></th>\n",
       "      <th>id</th>\n",
       "      <th>geometry</th>\n",
       "      <th>batch_id</th>\n",
       "      <th>neighbors</th>\n",
       "      <th>ImageCoordinates</th>\n",
       "      <th>Width</th>\n",
       "      <th>Height</th>\n",
       "      <th>MeanPixel_2016</th>\n",
       "      <th>Entropy_2016</th>\n",
       "      <th>MeanPixel_2017</th>\n",
       "      <th>...</th>\n",
       "      <th>MeanPixel_2021</th>\n",
       "      <th>Entropy_2021</th>\n",
       "      <th>MeanPixel_2022</th>\n",
       "      <th>Entropy_2022</th>\n",
       "      <th>UrbanizationRate2017</th>\n",
       "      <th>UrbanizationRate2018</th>\n",
       "      <th>UrbanizationRate2019</th>\n",
       "      <th>UrbanizationRate2020</th>\n",
       "      <th>UrbanizationRate2021</th>\n",
       "      <th>UrbanizationRate2022</th>\n",
       "    </tr>\n",
       "  </thead>\n",
       "  <tbody>\n",
       "    <tr>\n",
       "      <th>6060154</th>\n",
       "      <td>6060154.0</td>\n",
       "      <td>POLYGON ((-95.79985 29.79208, -95.79985 29.795...</td>\n",
       "      <td>23743.0</td>\n",
       "      <td>[6056884, 6056885, 6056886, 6060153, 6060155, ...</td>\n",
       "      <td>(403, 524, 448, 564)</td>\n",
       "      <td>45.0</td>\n",
       "      <td>40.0</td>\n",
       "      <td>181.191667</td>\n",
       "      <td>0.868003</td>\n",
       "      <td>197.341667</td>\n",
       "      <td>...</td>\n",
       "      <td>233.041667</td>\n",
       "      <td>0.423354</td>\n",
       "      <td>237.008333</td>\n",
       "      <td>0.367993</td>\n",
       "      <td>0.063333</td>\n",
       "      <td>0.097778</td>\n",
       "      <td>-0.010556</td>\n",
       "      <td>0.025000</td>\n",
       "      <td>0.027778</td>\n",
       "      <td>0.015556</td>\n",
       "    </tr>\n",
       "    <tr>\n",
       "      <th>6060155</th>\n",
       "      <td>6060155.0</td>\n",
       "      <td>POLYGON ((-95.79583 29.79208, -95.79583 29.795...</td>\n",
       "      <td>23743.0</td>\n",
       "      <td>[6056885, 6056886, 6056887, 6060154, 6060156, ...</td>\n",
       "      <td>(448, 524, 492, 564)</td>\n",
       "      <td>44.0</td>\n",
       "      <td>40.0</td>\n",
       "      <td>204.724432</td>\n",
       "      <td>0.716210</td>\n",
       "      <td>213.272727</td>\n",
       "      <td>...</td>\n",
       "      <td>237.613636</td>\n",
       "      <td>0.359102</td>\n",
       "      <td>241.815341</td>\n",
       "      <td>0.293594</td>\n",
       "      <td>0.033523</td>\n",
       "      <td>0.063068</td>\n",
       "      <td>-0.003409</td>\n",
       "      <td>0.009659</td>\n",
       "      <td>0.026136</td>\n",
       "      <td>0.016477</td>\n",
       "    </tr>\n",
       "    <tr>\n",
       "      <th>6060156</th>\n",
       "      <td>6060156.0</td>\n",
       "      <td>POLYGON ((-95.79181 29.79208, -95.79181 29.795...</td>\n",
       "      <td>23743.0</td>\n",
       "      <td>[6056886, 6056887, 6056888, 6060155, 6060157, ...</td>\n",
       "      <td>(492, 524, 537, 564)</td>\n",
       "      <td>45.0</td>\n",
       "      <td>40.0</td>\n",
       "      <td>140.250000</td>\n",
       "      <td>0.992774</td>\n",
       "      <td>133.025000</td>\n",
       "      <td>...</td>\n",
       "      <td>168.583333</td>\n",
       "      <td>0.923751</td>\n",
       "      <td>168.583333</td>\n",
       "      <td>0.923751</td>\n",
       "      <td>-0.028333</td>\n",
       "      <td>0.014444</td>\n",
       "      <td>0.041667</td>\n",
       "      <td>0.005556</td>\n",
       "      <td>0.077778</td>\n",
       "      <td>0.000000</td>\n",
       "    </tr>\n",
       "  </tbody>\n",
       "</table>\n",
       "<p>3 rows × 27 columns</p>\n",
       "</div>"
      ],
      "text/plain": [
       "                id                                           geometry  \\\n",
       "6060154  6060154.0  POLYGON ((-95.79985 29.79208, -95.79985 29.795...   \n",
       "6060155  6060155.0  POLYGON ((-95.79583 29.79208, -95.79583 29.795...   \n",
       "6060156  6060156.0  POLYGON ((-95.79181 29.79208, -95.79181 29.795...   \n",
       "\n",
       "         batch_id                                          neighbors  \\\n",
       "6060154   23743.0  [6056884, 6056885, 6056886, 6060153, 6060155, ...   \n",
       "6060155   23743.0  [6056885, 6056886, 6056887, 6060154, 6060156, ...   \n",
       "6060156   23743.0  [6056886, 6056887, 6056888, 6060155, 6060157, ...   \n",
       "\n",
       "             ImageCoordinates  Width  Height  MeanPixel_2016  Entropy_2016  \\\n",
       "6060154  (403, 524, 448, 564)   45.0    40.0      181.191667      0.868003   \n",
       "6060155  (448, 524, 492, 564)   44.0    40.0      204.724432      0.716210   \n",
       "6060156  (492, 524, 537, 564)   45.0    40.0      140.250000      0.992774   \n",
       "\n",
       "         MeanPixel_2017  ...  MeanPixel_2021  Entropy_2021  MeanPixel_2022  \\\n",
       "6060154      197.341667  ...      233.041667      0.423354      237.008333   \n",
       "6060155      213.272727  ...      237.613636      0.359102      241.815341   \n",
       "6060156      133.025000  ...      168.583333      0.923751      168.583333   \n",
       "\n",
       "         Entropy_2022  UrbanizationRate2017  UrbanizationRate2018  \\\n",
       "6060154      0.367993              0.063333              0.097778   \n",
       "6060155      0.293594              0.033523              0.063068   \n",
       "6060156      0.923751             -0.028333              0.014444   \n",
       "\n",
       "         UrbanizationRate2019  UrbanizationRate2020  UrbanizationRate2021  \\\n",
       "6060154             -0.010556              0.025000              0.027778   \n",
       "6060155             -0.003409              0.009659              0.026136   \n",
       "6060156              0.041667              0.005556              0.077778   \n",
       "\n",
       "         UrbanizationRate2022  \n",
       "6060154              0.015556  \n",
       "6060155              0.016477  \n",
       "6060156              0.000000  \n",
       "\n",
       "[3 rows x 27 columns]"
      ]
     },
     "execution_count": 3,
     "metadata": {},
     "output_type": "execute_result"
    }
   ],
   "source": [
    "# Compute Urbanization Rate\n",
    "for year in [2017, 2018, 2019, 2020, 2021, 2022]:\n",
    "    fc.compute_difference(f'MeanPixel_{year}', f'MeanPixel_{year-1}', filtered=True, normalize = True)\n",
    "\n",
    "fc.filtered_fishnet.rename(columns={'MeanPixel_2022-MeanPixel_2021': 'UrbanizationRate2022'}, inplace=True)\n",
    "fc.filtered_fishnet.rename(columns={'MeanPixel_2021-MeanPixel_2020': 'UrbanizationRate2021'}, inplace=True)\n",
    "fc.filtered_fishnet.rename(columns={'MeanPixel_2020-MeanPixel_2019': 'UrbanizationRate2020'}, inplace=True)\n",
    "fc.filtered_fishnet.rename(columns={'MeanPixel_2019-MeanPixel_2018': 'UrbanizationRate2019'}, inplace=True)\n",
    "fc.filtered_fishnet.rename(columns={'MeanPixel_2018-MeanPixel_2017': 'UrbanizationRate2018'}, inplace=True)\n",
    "fc.filtered_fishnet.rename(columns={'MeanPixel_2017-MeanPixel_2016': 'UrbanizationRate2017'}, inplace=True)\n",
    "fc.filtered_fishnet.drop(columns=['MeanPixel_2021-MeanPixel_2016'], inplace=True)\n",
    "\n",
    "fc.filtered_fishnet.head(3)"
   ]
  },
  {
   "cell_type": "code",
   "execution_count": 6,
   "metadata": {},
   "outputs": [
    {
     "data": {
      "text/html": [
       "<div>\n",
       "<style scoped>\n",
       "    .dataframe tbody tr th:only-of-type {\n",
       "        vertical-align: middle;\n",
       "    }\n",
       "\n",
       "    .dataframe tbody tr th {\n",
       "        vertical-align: top;\n",
       "    }\n",
       "\n",
       "    .dataframe thead th {\n",
       "        text-align: right;\n",
       "    }\n",
       "</style>\n",
       "<table border=\"1\" class=\"dataframe\">\n",
       "  <thead>\n",
       "    <tr style=\"text-align: right;\">\n",
       "      <th></th>\n",
       "      <th>tile_id</th>\n",
       "      <th>batch_id</th>\n",
       "      <th>year</th>\n",
       "      <th>urbanization</th>\n",
       "    </tr>\n",
       "  </thead>\n",
       "  <tbody>\n",
       "    <tr>\n",
       "      <th>0</th>\n",
       "      <td>6060154</td>\n",
       "      <td>23743</td>\n",
       "      <td>2016</td>\n",
       "      <td>181.191667</td>\n",
       "    </tr>\n",
       "    <tr>\n",
       "      <th>1</th>\n",
       "      <td>6060155</td>\n",
       "      <td>23743</td>\n",
       "      <td>2016</td>\n",
       "      <td>204.724432</td>\n",
       "    </tr>\n",
       "    <tr>\n",
       "      <th>2</th>\n",
       "      <td>6060156</td>\n",
       "      <td>23743</td>\n",
       "      <td>2016</td>\n",
       "      <td>140.250000</td>\n",
       "    </tr>\n",
       "    <tr>\n",
       "      <th>3</th>\n",
       "      <td>6060157</td>\n",
       "      <td>23743</td>\n",
       "      <td>2016</td>\n",
       "      <td>114.041667</td>\n",
       "    </tr>\n",
       "    <tr>\n",
       "      <th>4</th>\n",
       "      <td>6060158</td>\n",
       "      <td>23743</td>\n",
       "      <td>2016</td>\n",
       "      <td>197.200000</td>\n",
       "    </tr>\n",
       "  </tbody>\n",
       "</table>\n",
       "</div>"
      ],
      "text/plain": [
       "   tile_id  batch_id  year  urbanization\n",
       "0  6060154     23743  2016    181.191667\n",
       "1  6060155     23743  2016    204.724432\n",
       "2  6060156     23743  2016    140.250000\n",
       "3  6060157     23743  2016    114.041667\n",
       "4  6060158     23743  2016    197.200000"
      ]
     },
     "execution_count": 6,
     "metadata": {},
     "output_type": "execute_result"
    }
   ],
   "source": [
    "vars = [\"id\", \"batch_id\", \"MeanPixel_2016\", \"MeanPixel_2017\", \"MeanPixel_2018\", \"MeanPixel_2019\", \"MeanPixel_2020\", \"MeanPixel_2021\"]\n",
    "data = fc.filtered_fishnet[vars]\n",
    "data.rename(columns={\"id\": \"tile_id\"}, inplace=True)\n",
    "data[\"tile_id\"] = data[\"tile_id\"].astype(int)\n",
    "data[\"batch_id\"] = data[\"batch_id\"].astype(int)\n",
    "\n",
    "# Pivot wide to long\n",
    "data = data.melt(id_vars=[\"tile_id\", \"batch_id\"], var_name=\"year\", value_name=\"urbanization\")\n",
    "data[\"year\"] = data[\"year\"].str[-4:]\n",
    "data.head()"
   ]
  },
  {
   "cell_type": "code",
   "execution_count": null,
   "metadata": {},
   "outputs": [],
   "source": [
    "# I need to rebuild a large matrix for each year with the urbanization rate for each tile"
   ]
  },
  {
   "cell_type": "code",
   "execution_count": 9,
   "metadata": {},
   "outputs": [
    {
     "name": "stdout",
     "output_type": "stream",
     "text": [
      "0         6060154\n",
      "1         6060155\n",
      "2         6060156\n",
      "3         6060157\n",
      "4         6060158\n",
      "           ...   \n",
      "135481    6439546\n",
      "135482    6439547\n",
      "135483    6439548\n",
      "135484    6439549\n",
      "135485    6439550\n",
      "Name: tile_id, Length: 135486, dtype: int64\n"
     ]
    }
   ],
   "source": [
    "print(data['tile_id'])"
   ]
  },
  {
   "cell_type": "code",
   "execution_count": 16,
   "metadata": {},
   "outputs": [
    {
     "data": {
      "text/plain": [
       "(22581,)"
      ]
     },
     "execution_count": 16,
     "metadata": {},
     "output_type": "execute_result"
    }
   ],
   "source": [
    "data2016 = data[data[\"year\"]== '2016']\n"
   ]
  },
  {
   "cell_type": "code",
   "execution_count": null,
   "metadata": {},
   "outputs": [],
   "source": [
    "data2016[\"urbanization\"].to_numpy().shape "
   ]
  },
  {
   "cell_type": "code",
   "execution_count": 18,
   "metadata": {},
   "outputs": [
    {
     "data": {
      "text/plain": [
       "3269"
      ]
     },
     "execution_count": 18,
     "metadata": {},
     "output_type": "execute_result"
    }
   ],
   "source": [
    "fc.fishnet_cols"
   ]
  },
  {
   "cell_type": "code",
   "execution_count": 19,
   "metadata": {},
   "outputs": [
    {
     "data": {
      "text/plain": [
       "2948"
      ]
     },
     "execution_count": 19,
     "metadata": {},
     "output_type": "execute_result"
    }
   ],
   "source": [
    "fc.fishnet_rows"
   ]
  },
  {
   "cell_type": "code",
   "execution_count": 20,
   "metadata": {},
   "outputs": [
    {
     "data": {
      "text/plain": [
       "9637012"
      ]
     },
     "execution_count": 20,
     "metadata": {},
     "output_type": "execute_result"
    }
   ],
   "source": [
    "2948*3269"
   ]
  },
  {
   "cell_type": "code",
   "execution_count": null,
   "metadata": {},
   "outputs": [],
   "source": []
  }
 ],
 "metadata": {
  "kernelspec": {
   "display_name": "capstone",
   "language": "python",
   "name": "python3"
  },
  "language_info": {
   "codemirror_mode": {
    "name": "ipython",
    "version": 3
   },
   "file_extension": ".py",
   "mimetype": "text/x-python",
   "name": "python",
   "nbconvert_exporter": "python",
   "pygments_lexer": "ipython3",
   "version": "3.11.3"
  },
  "orig_nbformat": 4
 },
 "nbformat": 4,
 "nbformat_minor": 2
}
