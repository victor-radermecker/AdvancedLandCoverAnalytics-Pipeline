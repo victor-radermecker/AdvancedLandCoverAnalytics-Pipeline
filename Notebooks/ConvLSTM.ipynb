{
 "cells": [
  {
   "cell_type": "code",
   "execution_count": 1,
   "metadata": {},
   "outputs": [],
   "source": [
    "import sys\n",
    "from tqdm import tqdm\n",
    "import pandas as pd\n",
    "import numpy as np\n",
    "import matplotlib.pyplot as plt\n",
    "import warnings\n",
    "warnings.filterwarnings('ignore')\n",
    "\n",
    "# import local modules\n",
    "sys.path.append('../src')\n",
    "from Fishnet import Fishnet\n",
    "from ImageExporter import ImageExporter\n",
    "from ImageCorrector import ImageCorrector\n",
    "from ImageProcessor import ImageProcessor\n",
    "\n",
    "# update files automatically\n",
    "%load_ext autoreload\n",
    "%autoreload 2\n",
    "\n",
    "## Install package within conda using tensorflow\n",
    "## /opt/homebrew/Caskroom/miniconda/base/envs/capstone_2/bin/pip install tensorflow"
   ]
  },
  {
   "cell_type": "code",
   "execution_count": 2,
   "metadata": {},
   "outputs": [],
   "source": [
    "fc = Fishnet.load(\"../Gis/Fishnet/fishnet_quarter_mile_completed.pkl\")"
   ]
  },
  {
   "cell_type": "code",
   "execution_count": 3,
   "metadata": {},
   "outputs": [
    {
     "data": {
      "text/html": [
       "<div>\n",
       "<style scoped>\n",
       "    .dataframe tbody tr th:only-of-type {\n",
       "        vertical-align: middle;\n",
       "    }\n",
       "\n",
       "    .dataframe tbody tr th {\n",
       "        vertical-align: top;\n",
       "    }\n",
       "\n",
       "    .dataframe thead th {\n",
       "        text-align: right;\n",
       "    }\n",
       "</style>\n",
       "<table border=\"1\" class=\"dataframe\">\n",
       "  <thead>\n",
       "    <tr style=\"text-align: right;\">\n",
       "      <th></th>\n",
       "      <th>tile_id</th>\n",
       "      <th>batch_id</th>\n",
       "      <th>year</th>\n",
       "      <th>urbanization</th>\n",
       "    </tr>\n",
       "  </thead>\n",
       "  <tbody>\n",
       "    <tr>\n",
       "      <th>0</th>\n",
       "      <td>6060154</td>\n",
       "      <td>23743</td>\n",
       "      <td>2016</td>\n",
       "      <td>0.710556</td>\n",
       "    </tr>\n",
       "    <tr>\n",
       "      <th>1</th>\n",
       "      <td>6060155</td>\n",
       "      <td>23743</td>\n",
       "      <td>2016</td>\n",
       "      <td>0.802841</td>\n",
       "    </tr>\n",
       "    <tr>\n",
       "      <th>2</th>\n",
       "      <td>6060156</td>\n",
       "      <td>23743</td>\n",
       "      <td>2016</td>\n",
       "      <td>0.550000</td>\n",
       "    </tr>\n",
       "    <tr>\n",
       "      <th>3</th>\n",
       "      <td>6060157</td>\n",
       "      <td>23743</td>\n",
       "      <td>2016</td>\n",
       "      <td>0.447222</td>\n",
       "    </tr>\n",
       "    <tr>\n",
       "      <th>4</th>\n",
       "      <td>6060158</td>\n",
       "      <td>23743</td>\n",
       "      <td>2016</td>\n",
       "      <td>0.773333</td>\n",
       "    </tr>\n",
       "  </tbody>\n",
       "</table>\n",
       "</div>"
      ],
      "text/plain": [
       "   tile_id  batch_id  year  urbanization\n",
       "0  6060154     23743  2016      0.710556\n",
       "1  6060155     23743  2016      0.802841\n",
       "2  6060156     23743  2016      0.550000\n",
       "3  6060157     23743  2016      0.447222\n",
       "4  6060158     23743  2016      0.773333"
      ]
     },
     "execution_count": 3,
     "metadata": {},
     "output_type": "execute_result"
    }
   ],
   "source": [
    "# Compute Urbanization Rate\n",
    "for year in [2017, 2018, 2019, 2020, 2021, 2022]:\n",
    "    fc.compute_difference(f'MeanPixel_{year}', f'MeanPixel_{year-1}', filtered=True, normalize = True)\n",
    "\n",
    "vars = [\"id\", \"batch_id\", \"MeanPixel_2016\", \"MeanPixel_2017\", \"MeanPixel_2018\", \"MeanPixel_2019\", \"MeanPixel_2020\", \"MeanPixel_2021\", \"MeanPixel_2022\"]\n",
    "data = fc.filtered_fishnet[vars]\n",
    "data.rename(columns={\"id\": \"tile_id\"}, inplace=True)\n",
    "data[\"tile_id\"] = data[\"tile_id\"].astype(int)\n",
    "data[\"batch_id\"] = data[\"batch_id\"].astype(int)\n",
    "\n",
    "# Pivot wide to long\n",
    "data = data.melt(id_vars=[\"tile_id\", \"batch_id\"], var_name=\"year\", value_name=\"urbanization\")\n",
    "data[\"urbanization\"] = data[\"urbanization\"] / 255 #normalization\n",
    "data[\"year\"] = data[\"year\"].str[-4:]\n",
    "data.head()"
   ]
  },
  {
   "cell_type": "code",
   "execution_count": 4,
   "metadata": {},
   "outputs": [
    {
     "name": "stdout",
     "output_type": "stream",
     "text": [
      "Number of rows: 117, Number of columns: 193\n"
     ]
    }
   ],
   "source": [
    "#compute rows and cols in Fishnet\n",
    "dc = fc.filtered_fishnet.copy()\n",
    "L = dc[\"geometry\"].bounds[\"maxx\"].max() - dc[\"geometry\"].bounds[\"minx\"].min()\n",
    "H = dc[\"geometry\"].bounds[\"maxy\"].max() - dc[\"geometry\"].bounds[\"miny\"].min()\n",
    "\n",
    "rows = int(H / fc.tile_height_degrees)\n",
    "cols = int(L / fc.tile_width_degrees)\n",
    "print(f\"Number of rows: {rows}, Number of columns: {cols}\")"
   ]
  },
  {
   "cell_type": "code",
   "execution_count": 5,
   "metadata": {},
   "outputs": [
    {
     "name": "stderr",
     "output_type": "stream",
     "text": [
      "100%|██████████| 7/7 [00:00<00:00, 156.22it/s]\n"
     ]
    }
   ],
   "source": [
    "# Generate tensor\n",
    "years = [\"2016\", \"2017\", \"2018\", \"2019\", \"2020\", \"2021\", \"2022\"]\n",
    "tensor = np.zeros((rows, cols, len(years)))\n",
    "\n",
    "for yr in tqdm(years):\n",
    "    tensor[:, :, years.index(yr)] = data[data[\"year\"]== yr][\"urbanization\"].to_numpy().reshape(rows, cols)\n",
    "tensor = tensor.reshape(len(years), rows, cols, 1)"
   ]
  },
  {
   "cell_type": "code",
   "execution_count": 6,
   "metadata": {},
   "outputs": [
    {
     "data": {
      "text/plain": [
       "(7, 117, 193, 1)"
      ]
     },
     "execution_count": 6,
     "metadata": {},
     "output_type": "execute_result"
    }
   ],
   "source": [
    "tensor.shape"
   ]
  },
  {
   "cell_type": "code",
   "execution_count": 7,
   "metadata": {},
   "outputs": [
    {
     "data": {
      "image/png": "[encoded data removed]",
      "text/plain": [
       "<Figure size 2000x500 with 7 Axes>"
      ]
     },
     "metadata": {},
     "output_type": "display_data"
    }
   ],
   "source": [
    "# plot consecutively to see the change\n",
    "fig, ax = plt.subplots(1, 7, figsize=(20, 5))\n",
    "for i in range(7):\n",
    "    ax[i].imshow(tensor[:, :, i])\n",
    "    ax[i].set_title(f\"Year {years[i]}\")"
   ]
  },
  {
   "cell_type": "markdown",
   "metadata": {},
   "source": [
    "# Now, we need to generate the dataset.\n",
    "\n",
    "We need a data loader. We need to generate a dataset of that dimension:\n",
    "(NBR_SAMPLE, TIME_SEQ, IMG_WIDTH, IMG_HEIGHT, CHANNELS)\n",
    "\n",
    "@TODO:\n",
    "\n",
    "1. Define proper loss function for the neural network\n",
    "2. Check which frames are used for training\n",
    "3. Add TensorBoard\n",
    "4. Brainstorm the architecture\n",
    "5. ✅ Start training from a pre-trained network\n"
   ]
  },
  {
   "cell_type": "code",
   "execution_count": 8,
   "metadata": {},
   "outputs": [],
   "source": [
    "def extract_submatrix(matrix, length, step_size):\n",
    "    submatrices = []\n",
    "    rows, cols = matrix.shape\n",
    "    for i in range(0, rows - (length - 1), step_size):\n",
    "        for j in range(0, cols - (length - 1), 2):\n",
    "            submatrix = matrix[i:i+length, j:j+length]\n",
    "            submatrices.append(submatrix)\n",
    "    return np.array(submatrices)\n",
    "\n",
    "def generate_submatrices(tensor, years, length, step_size):\n",
    "    submatrices = []\n",
    "    for i, yr in enumerate(years):\n",
    "        mat = tensor[i, :, :, 0]\n",
    "        submatrices.append(extract_submatrix(mat, length, step_size))\n",
    "    return np.array(submatrices).reshape(-1, len(years), length, length, 1)"
   ]
  },
  {
   "cell_type": "code",
   "execution_count": 9,
   "metadata": {},
   "outputs": [
    {
     "data": {
      "text/plain": [
       "(5415, 7, 5, 5, 1)"
      ]
     },
     "execution_count": 9,
     "metadata": {},
     "output_type": "execute_result"
    }
   ],
   "source": [
    "TIME_SEQ = 7  # frames\n",
    "IMG_SIZE = 5  # tiles\n",
    "SLIDE_WDW = 2 # tiles\n",
    "\n",
    "sub_matrices = generate_submatrices(tensor, years, IMG_SIZE, 2)\n",
    "sub_matrices.shape"
   ]
  },
  {
   "cell_type": "code",
   "execution_count": 10,
   "metadata": {},
   "outputs": [
    {
     "data": {
      "text/plain": [
       "(5415, 7, 5, 5, 1)"
      ]
     },
     "execution_count": 10,
     "metadata": {},
     "output_type": "execute_result"
    }
   ],
   "source": [
    "sub_matrices.shape"
   ]
  },
  {
   "cell_type": "markdown",
   "metadata": {},
   "source": [
    "# Applying Keras' Tutorial Function to finish dataset generation"
   ]
  },
  {
   "cell_type": "code",
   "execution_count": 13,
   "metadata": {},
   "outputs": [
    {
     "name": "stdout",
     "output_type": "stream",
     "text": [
      "Training Dataset Shapes: (4873, 6, 5, 5, 1), (4873, 6, 5, 5, 1)\n",
      "Validation Dataset Shapes: (542, 6, 5, 5, 1), (542, 6, 5, 5, 1)\n"
     ]
    }
   ],
   "source": [
    "dataset = sub_matrices\n",
    "\n",
    "# Split into train and validation sets using indexing to optimize memory.\n",
    "indexes = np.arange(dataset.shape[0])\n",
    "np.random.shuffle(indexes)\n",
    "train_index = indexes[: int(0.9 * dataset.shape[0])]\n",
    "val_index = indexes[int(0.9 * dataset.shape[0]) :]\n",
    "train_dataset = dataset[train_index]\n",
    "val_dataset = dataset[val_index]\n",
    "\n",
    "# We'll define a helper function to shift the frames, where\n",
    "# `x` is frames 0 to n - 1, and `y` is frames 1 to n.\n",
    "def create_shifted_frames(data):\n",
    "    x = data[:, 0 : data.shape[1] - 1, :, :]\n",
    "    y = data[:, 1 : data.shape[1], :, :]\n",
    "    return x, y\n",
    "\n",
    "# Apply the processing function to the datasets.\n",
    "x_train, y_train = create_shifted_frames(train_dataset)\n",
    "x_val, y_val = create_shifted_frames(val_dataset)\n",
    "\n",
    "# Inspect the dataset.\n",
    "print(\"Training Dataset Shapes: \" + str(x_train.shape) + \", \" + str(y_train.shape))\n",
    "print(\"Validation Dataset Shapes: \" + str(x_val.shape) + \", \" + str(y_val.shape))"
   ]
  },
  {
   "cell_type": "code",
   "execution_count": 14,
   "metadata": {},
   "outputs": [
    {
     "name": "stdout",
     "output_type": "stream",
     "text": [
      "Displaying frames for example 2301.\n"
     ]
    },
    {
     "data": {
      "image/png": "[encoded data removed]",
      "text/plain": [
       "<Figure size 1000x800 with 6 Axes>"
      ]
     },
     "metadata": {},
     "output_type": "display_data"
    }
   ],
   "source": [
    "# Construct a figure on which we will visualize the images.\n",
    "fig, axes = plt.subplots(1, 6, figsize=(10, 8))\n",
    "\n",
    "# Plot each of the sequential images for one random data example.\n",
    "data_choice = np.random.choice(range(len(train_dataset)), size=1)[0]\n",
    "for idx, ax in enumerate(axes.flat):\n",
    "    ax.imshow(np.squeeze(train_dataset[data_choice][idx]), cmap=\"gray\")\n",
    "    ax.set_title(f\"Frame {idx + 1}\")\n",
    "    ax.axis(\"off\")\n",
    "\n",
    "# Print information and display the figure.\n",
    "print(f\"Displaying frames for example {data_choice}.\")\n",
    "plt.show()"
   ]
  },
  {
   "cell_type": "code",
   "execution_count": 31,
   "metadata": {},
   "outputs": [],
   "source": [
    "import tensorflow as tf\n",
    "from tensorflow import keras\n",
    "from tensorflow.keras import layers\n",
    "\n",
    "import io\n",
    "import imageio\n",
    "from IPython.display import Image, display\n",
    "from ipywidgets import widgets, Layout, HBox\n",
    "import datetime"
   ]
  },
  {
   "cell_type": "code",
   "execution_count": 42,
   "metadata": {},
   "outputs": [],
   "source": [
    "def create_model():\n",
    "\n",
    "    # Construct the input layer with no definite frame size.\n",
    "    inp = layers.Input(shape=(None, *x_train.shape[2:]))\n",
    "\n",
    "    # We will construct 3 `ConvLSTM2D` layers with batch normalization,\n",
    "    # followed by a `Conv3D` layer for the spatiotemporal outputs.\n",
    "    x = layers.ConvLSTM2D(\n",
    "        filters=64,\n",
    "        kernel_size=(5, 5),\n",
    "        padding=\"same\",\n",
    "        return_sequences=True,\n",
    "        activation=\"relu\",\n",
    "    )(inp)\n",
    "    x = layers.BatchNormalization()(x)\n",
    "    x = layers.ConvLSTM2D(\n",
    "        filters=64,\n",
    "        kernel_size=(3, 3),\n",
    "        padding=\"same\",\n",
    "        return_sequences=True,\n",
    "        activation=\"relu\",\n",
    "    )(x)\n",
    "    x = layers.BatchNormalization()(x)\n",
    "    x = layers.ConvLSTM2D(\n",
    "        filters=64,\n",
    "        kernel_size=(1, 1),\n",
    "        padding=\"same\",\n",
    "        return_sequences=True,\n",
    "        activation=\"relu\",\n",
    "    )(x)\n",
    "    x = layers.Conv3D(\n",
    "        filters=1, kernel_size=(3, 3, 3), activation=\"sigmoid\", padding=\"same\"\n",
    "    )(x)\n",
    "\n",
    "    # Next, we will build the complete model and compile it.\n",
    "    model = keras.models.Model(inp, x)\n",
    "    model.compile(\n",
    "        loss=keras.losses.binary_crossentropy, optimizer=keras.optimizers.Adam(),\n",
    "    )\n",
    "    return model\n",
    "\n",
    "# Train the model from scratch\n",
    "# model = create_model()\n",
    "\n",
    "# Use a pretrained model from HuggingFace (https://huggingface.co/keras-io/conv-lstm)\n",
    "model_path = \"./pretrained-models/\"\n",
    "# model = tf.keras.models.load_model(model_path)\n",
    "model = tf.keras.models.load_model(model_path)\n",
    "\n",
    "\n",
    "# Convert the SavedModel to a Keras model\n",
    "# model = tf.keras.models.model_from_saved_model(loaded_model)"
   ]
  },
  {
   "cell_type": "code",
   "execution_count": null,
   "metadata": {},
   "outputs": [],
   "source": []
  },
  {
   "cell_type": "markdown",
   "metadata": {},
   "source": [
    "# Training the model"
   ]
  },
  {
   "cell_type": "code",
   "execution_count": 36,
   "metadata": {},
   "outputs": [
    {
     "name": "stdout",
     "output_type": "stream",
     "text": [
      "The tensorboard extension is already loaded. To reload it, use:\n",
      "  %reload_ext tensorboard\n"
     ]
    }
   ],
   "source": [
    "# Load the TensorBoard notebook extension\n",
    "%load_ext tensorboard\n",
    "\n",
    "# Clear any logs from previous runs\n",
    "%rm -rf ./logs/"
   ]
  },
  {
   "cell_type": "code",
   "execution_count": 37,
   "metadata": {},
   "outputs": [],
   "source": [
    "\n",
    "log_dir = \"logs/fit/\" + datetime.datetime.now().strftime(\"%Y%m%d-%H%M%S\")\n",
    "tensorboard_callback = tf.keras.callbacks.TensorBoard(log_dir=log_dir, histogram_freq=1)"
   ]
  },
  {
   "cell_type": "code",
   "execution_count": 40,
   "metadata": {},
   "outputs": [
    {
     "ename": "AttributeError",
     "evalue": "'_UserObject' object has no attribute 'fit'",
     "output_type": "error",
     "traceback": [
      "\u001b[0;31m---------------------------------------------------------------------------\u001b[0m",
      "\u001b[0;31mAttributeError\u001b[0m                            Traceback (most recent call last)",
      "Cell \u001b[0;32mIn[40], line 10\u001b[0m\n\u001b[1;32m      7\u001b[0m batch_size \u001b[39m=\u001b[39m \u001b[39m5\u001b[39m\n\u001b[1;32m      9\u001b[0m \u001b[39m# Fit the model to the training data.\u001b[39;00m\n\u001b[0;32m---> 10\u001b[0m model\u001b[39m.\u001b[39mfit(\n\u001b[1;32m     11\u001b[0m     x_train,\n\u001b[1;32m     12\u001b[0m     y_train,\n\u001b[1;32m     13\u001b[0m     batch_size\u001b[39m=\u001b[39mbatch_size,\n\u001b[1;32m     14\u001b[0m     epochs\u001b[39m=\u001b[39mepochs,\n\u001b[1;32m     15\u001b[0m     validation_data\u001b[39m=\u001b[39m(x_val, y_val),\n\u001b[1;32m     16\u001b[0m     callbacks\u001b[39m=\u001b[39m[early_stopping, reduce_lr],\n\u001b[1;32m     17\u001b[0m )\n",
      "\u001b[0;31mAttributeError\u001b[0m: '_UserObject' object has no attribute 'fit'"
     ]
    }
   ],
   "source": [
    "# Define some callbacks to improve training.\n",
    "early_stopping = keras.callbacks.EarlyStopping(monitor=\"val_loss\", patience=10)\n",
    "reduce_lr = keras.callbacks.ReduceLROnPlateau(monitor=\"val_loss\", patience=5)\n",
    "\n",
    "# Define modifiable training hyperparameters.\n",
    "epochs = 20\n",
    "batch_size = 5\n",
    "\n",
    "# Fit the model to the training data.\n",
    "model.fit(\n",
    "    x_train,\n",
    "    y_train,\n",
    "    batch_size=batch_size,\n",
    "    epochs=epochs,\n",
    "    validation_data=(x_val, y_val),\n",
    "    callbacks=[early_stopping, reduce_lr],\n",
    ")"
   ]
  },
  {
   "cell_type": "code",
   "execution_count": null,
   "metadata": {},
   "outputs": [],
   "source": []
  },
  {
   "cell_type": "code",
   "execution_count": null,
   "metadata": {},
   "outputs": [],
   "source": []
  }
 ],
 "metadata": {
  "kernelspec": {
   "display_name": "capstone",
   "language": "python",
   "name": "python3"
  },
  "language_info": {
   "codemirror_mode": {
    "name": "ipython",
    "version": 3
   },
   "file_extension": ".py",
   "mimetype": "text/x-python",
   "name": "python",
   "nbconvert_exporter": "python",
   "pygments_lexer": "ipython3",
   "version": "3.11.4"
  },
  "orig_nbformat": 4
 },
 "nbformat": 4,
 "nbformat_minor": 2
}
