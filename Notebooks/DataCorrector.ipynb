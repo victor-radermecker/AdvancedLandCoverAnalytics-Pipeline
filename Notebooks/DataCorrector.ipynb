{
 "cells": [
  {
   "cell_type": "code",
   "execution_count": 5,
   "metadata": {},
   "outputs": [
    {
     "ename": "ModuleNotFoundError",
     "evalue": "No module named 'dropbox'",
     "output_type": "error",
     "traceback": [
      "\u001b[0;31m---------------------------------------------------------------------------\u001b[0m",
      "\u001b[0;31mModuleNotFoundError\u001b[0m                       Traceback (most recent call last)",
      "Cell \u001b[0;32mIn[5], line 2\u001b[0m\n\u001b[1;32m      1\u001b[0m \u001b[39mimport\u001b[39;00m \u001b[39msys\u001b[39;00m \n\u001b[0;32m----> 2\u001b[0m \u001b[39mimport\u001b[39;00m \u001b[39mdropbox\u001b[39;00m\n\u001b[1;32m      4\u001b[0m sys\u001b[39m.\u001b[39mpath\u001b[39m.\u001b[39mappend(\u001b[39m'\u001b[39m\u001b[39m../src\u001b[39m\u001b[39m'\u001b[39m)\n\u001b[1;32m      5\u001b[0m \u001b[39mfrom\u001b[39;00m \u001b[39mImageCorrector\u001b[39;00m \u001b[39mimport\u001b[39;00m ImageCorrector \n",
      "\u001b[0;31mModuleNotFoundError\u001b[0m: No module named 'dropbox'"
     ]
    }
   ],
   "source": [
    "import sys \n",
    "import dropbox\n",
    "\n",
    "sys.path.append('../src')\n",
    "from ImageCorrector import ImageCorrector "
   ]
  },
  {
   "cell_type": "code",
   "execution_count": null,
   "metadata": {},
   "outputs": [],
   "source": [
    "# Create an instance of the class\n",
    "dbx_token = \"YOUR_DROPBOX_TOKEN\"\n",
    "processor = ImageProcessor(dbx_token)\n",
    "\n",
    "# Process images for the given years\n",
    "base_path = \"/Images\"\n",
    "years = [2016, 2017, 2018, 2019, 2020, 2021, 2022, 2023]\n",
    "processor.process_images(base_path, years)"
   ]
  }
 ],
 "metadata": {
  "kernelspec": {
   "display_name": "capstone",
   "language": "python",
   "name": "python3"
  },
  "language_info": {
   "codemirror_mode": {
    "name": "ipython",
    "version": 3
   },
   "file_extension": ".py",
   "mimetype": "text/x-python",
   "name": "python",
   "nbconvert_exporter": "python",
   "pygments_lexer": "ipython3",
   "version": "3.11.2"
  },
  "orig_nbformat": 4
 },
 "nbformat": 4,
 "nbformat_minor": 2
}
