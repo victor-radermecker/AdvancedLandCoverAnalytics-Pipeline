{
 "cells": [
  {
   "cell_type": "code",
   "execution_count": 13,
   "metadata": {},
   "outputs": [
    {
     "name": "stdout",
     "output_type": "stream",
     "text": [
      "The autoreload extension is already loaded. To reload it, use:\n",
      "  %reload_ext autoreload\n"
     ]
    }
   ],
   "source": [
    "import sys\n",
    "import warnings\n",
    "warnings.filterwarnings('ignore')\n",
    "\n",
    "# import local modules\n",
    "sys.path.append('../src')\n",
    "from Fishnet import Fishnet\n",
    "\n",
    "# update files automatically\n",
    "%load_ext autoreload\n",
    "%autoreload 2\n",
    "\n",
    "## Install package within conda using tensorflow\n",
    "## /opt/homebrew/Caskroom/miniconda/base/envs/capstone_2/bin/pip install tensorflow"
   ]
  },
  {
   "cell_type": "markdown",
   "metadata": {},
   "source": [
    "# Dataset Generation"
   ]
  },
  {
   "cell_type": "code",
   "execution_count": 48,
   "metadata": {},
   "outputs": [],
   "source": [
    "FISHNET_PATH = '../Gis/Fishnet/fishnet_quarter_mile_completed_2023-07-13.pkl' #\"../Gis/Fishnet/fishnet_quarter_mile_completed.pkl\"\n",
    "SAVE_PATH = '../Results/'\n",
    "FILE_NAME = 'urbanization_data_large_texas' "
   ]
  },
  {
   "cell_type": "code",
   "execution_count": 42,
   "metadata": {},
   "outputs": [],
   "source": [
    "fc = Fishnet.load(FISHNET_PATH)\n",
    "\n",
    "# Compute Urbanization Rate\n",
    "years = list(range(2016, 2023))\n",
    "for yr in years[1:]:\n",
    "    fc.compute_difference(\n",
    "        f\"MeanPixel_{yr}\", f\"MeanPixel_{yr-1}\", filtered=True, normalize=True\n",
    "    )\n",
    "\n",
    "# rename MeanPixel_2017-MeanPixel_2016 to urbanization_rate_2016\n",
    "for yr in years[1:]:\n",
    "    fc.filtered_fishnet.rename(\n",
    "        columns={f\"MeanPixel_{yr}-MeanPixel_{yr-1}\": f\"urbanization_rate_{yr}\"},\n",
    "        inplace=True,\n",
    "    )\n",
    "\n",
    "for yr in years:\n",
    "    fc.filtered_fishnet.rename(\n",
    "        columns={f\"MeanPixel_{yr}\": f\"urbanization_{yr}\"}, inplace=True\n",
    "    )\n",
    "\n",
    "fc.filtered_fishnet.rename(columns={\"id\": \"tile_id\"}, inplace=True)\n",
    "fc.filtered_fishnet[\"tile_id\"] = fc.filtered_fishnet[\"tile_id\"].astype(int)\n",
    "fc.filtered_fishnet[\"batch_id\"] = fc.filtered_fishnet[\"batch_id\"].astype(int)\n",
    "\n",
    "# Extracting Lat Long coordinates\n",
    "fc.filtered_fishnet['centroid'] = fc.filtered_fishnet['geometry'].apply(lambda x: x.centroid)\n",
    "fc.filtered_fishnet['Lat'] = fc.filtered_fishnet['centroid'].apply(lambda x: x.y)\n",
    "fc.filtered_fishnet['Lon'] = fc.filtered_fishnet['centroid'].apply(lambda x: x.x)"
   ]
  },
  {
   "cell_type": "code",
   "execution_count": 43,
   "metadata": {},
   "outputs": [
    {
     "data": {
      "text/html": [
       "<div>\n",
       "<style scoped>\n",
       "    .dataframe tbody tr th:only-of-type {\n",
       "        vertical-align: middle;\n",
       "    }\n",
       "\n",
       "    .dataframe tbody tr th {\n",
       "        vertical-align: top;\n",
       "    }\n",
       "\n",
       "    .dataframe thead th {\n",
       "        text-align: right;\n",
       "    }\n",
       "</style>\n",
       "<table border=\"1\" class=\"dataframe\">\n",
       "  <thead>\n",
       "    <tr style=\"text-align: right;\">\n",
       "      <th></th>\n",
       "      <th>tile_id</th>\n",
       "      <th>batch_id</th>\n",
       "      <th>year</th>\n",
       "      <th>urbanization_rate</th>\n",
       "      <th>urbanization</th>\n",
       "      <th>Lat</th>\n",
       "      <th>Lon</th>\n",
       "    </tr>\n",
       "  </thead>\n",
       "  <tbody>\n",
       "    <tr>\n",
       "      <th>0</th>\n",
       "      <td>4879217</td>\n",
       "      <td>1225</td>\n",
       "      <td>2017</td>\n",
       "      <td>0.0</td>\n",
       "      <td>0.0</td>\n",
       "      <td>31.100095</td>\n",
       "      <td>-99.130546</td>\n",
       "    </tr>\n",
       "    <tr>\n",
       "      <th>1</th>\n",
       "      <td>4879217</td>\n",
       "      <td>1225</td>\n",
       "      <td>2018</td>\n",
       "      <td>0.0</td>\n",
       "      <td>0.0</td>\n",
       "      <td>31.100095</td>\n",
       "      <td>-99.130546</td>\n",
       "    </tr>\n",
       "    <tr>\n",
       "      <th>2</th>\n",
       "      <td>4879217</td>\n",
       "      <td>1225</td>\n",
       "      <td>2019</td>\n",
       "      <td>0.0</td>\n",
       "      <td>0.0</td>\n",
       "      <td>31.100095</td>\n",
       "      <td>-99.130546</td>\n",
       "    </tr>\n",
       "    <tr>\n",
       "      <th>3</th>\n",
       "      <td>4879217</td>\n",
       "      <td>1225</td>\n",
       "      <td>2020</td>\n",
       "      <td>0.0</td>\n",
       "      <td>0.0</td>\n",
       "      <td>31.100095</td>\n",
       "      <td>-99.130546</td>\n",
       "    </tr>\n",
       "    <tr>\n",
       "      <th>4</th>\n",
       "      <td>4879217</td>\n",
       "      <td>1225</td>\n",
       "      <td>2021</td>\n",
       "      <td>0.0</td>\n",
       "      <td>0.0</td>\n",
       "      <td>31.100095</td>\n",
       "      <td>-99.130546</td>\n",
       "    </tr>\n",
       "  </tbody>\n",
       "</table>\n",
       "</div>"
      ],
      "text/plain": [
       "   tile_id  batch_id  year  urbanization_rate  urbanization        Lat  \\\n",
       "0  4879217      1225  2017                0.0           0.0  31.100095   \n",
       "1  4879217      1225  2018                0.0           0.0  31.100095   \n",
       "2  4879217      1225  2019                0.0           0.0  31.100095   \n",
       "3  4879217      1225  2020                0.0           0.0  31.100095   \n",
       "4  4879217      1225  2021                0.0           0.0  31.100095   \n",
       "\n",
       "         Lon  \n",
       "0 -99.130546  \n",
       "1 -99.130546  \n",
       "2 -99.130546  \n",
       "3 -99.130546  \n",
       "4 -99.130546  "
      ]
     },
     "execution_count": 43,
     "metadata": {},
     "output_type": "execute_result"
    }
   ],
   "source": [
    "vars1 = [\"tile_id\", \"batch_id\"] + [f\"urbanization_rate_{year}\" for year in range(2017, 2023)]\n",
    "vars2 = [\"tile_id\", \"batch_id\"] + [f\"urbanization_{year}\" for year in range(2016, 2023)]\n",
    "\n",
    "data = fc.filtered_fishnet[vars1].melt(\n",
    "    id_vars=[\"tile_id\", \"batch_id\"], var_name=\"year\", value_name=\"urbanization_rate\"\n",
    ")\n",
    "data[\"year\"] = data[\"year\"].str[-4:]\n",
    "data[\"urbanization\"] = fc.filtered_fishnet[vars2].melt(\n",
    "    id_vars=[\"tile_id\", \"batch_id\"], var_name=\"year\", value_name=\"urbanization\"\n",
    ")[\"urbanization\"] / 255\n",
    "\n",
    "# data['Lat'] is the latitude of the centroid of the tile in fc.filtered_fishnet['Lat'] joint\n",
    "data = data.merge(fc.filtered_fishnet[[\"tile_id\", \"batch_id\", \"Lat\", \"Lon\"]], on=[\"tile_id\", \"batch_id\"])\n",
    "\n",
    "data.head()"
   ]
  },
  {
   "cell_type": "markdown",
   "metadata": {},
   "source": [
    "# Save dataframe and metadata"
   ]
  },
  {
   "cell_type": "code",
   "execution_count": 26,
   "metadata": {},
   "outputs": [],
   "source": [
    "# Save CSV\n",
    "data.to_csv(SAVE_PATH + FILE_NAME + \".csv\", index=False)"
   ]
  },
  {
   "cell_type": "code",
   "execution_count": 60,
   "metadata": {},
   "outputs": [
    {
     "name": "stdout",
     "output_type": "stream",
     "text": [
      "\n",
      " Fishnet Object has the following attributes: \n",
      "\n",
      "+----------------+-----------------------+-------------------+\n",
      "|     Metric     |        Degrees        |       Miles       |\n",
      "+----------------+-----------------------+-------------------+\n",
      "| Fishnet Width  |   13.138423211000031  | 817.0318617424371 |\n",
      "| Fishnet Height |   10.663161770999977  |  736.75306466581  |\n",
      "|  Tiles Width   |  0.004020157322514706 |        0.25       |\n",
      "|  Tiles Height  | 0.0036182855831725647 |        0.25       |\n",
      "+----------------+-----------------------+-------------------+\n",
      "\n",
      "Fishnet Batch has the following attributes: \n",
      "\n",
      "+---------+---------+---------+\n",
      "|  Metric |  Tiles  | Batches |\n",
      "+---------+---------+---------+\n",
      "|   Rows  |   2948  |    47   |\n",
      "| Columns |   3269  |    52   |\n",
      "|  Cells  | 9637012 |   2444  |\n",
      "+---------+---------+---------+\n"
     ]
    }
   ],
   "source": [
    "# Save Metadata\n",
    "with open(SAVE_PATH + FILE_NAME + '.txt', 'w') as f:\n",
    "    f.write(\"\\n\\nGeneral Fishnet Information:\\n\")\n",
    "    f.write(str(fc.fishnet_info(return_=True))+\"\\n\\n\")\n",
    "    f.write(\"\\n\\nGeneral Batch Information:\\n\")\n",
    "    f.write(str(fc.batch_info(return_=True)))\n",
    "    f.write(\"\\n\\n\\nGeneral Filter Information:\")\n",
    "    f.write(\"\\nFiltered region: \" + \"[-99.13,28.91,-94.29,31.1,]\") #fc.filter_region)\n",
    "    f.write(\"\\nNumber of rows: \" + str(fc.filtered_fishnet_rows))\n",
    "    f.write(\"\\nNumber of cols: \" + str(fc.filtered_fishnet_cols))"
   ]
  },
  {
   "cell_type": "code",
   "execution_count": null,
   "metadata": {},
   "outputs": [],
   "source": []
  }
 ],
 "metadata": {
  "kernelspec": {
   "display_name": "capstone_2",
   "language": "python",
   "name": "python3"
  },
  "language_info": {
   "codemirror_mode": {
    "name": "ipython",
    "version": 3
   },
   "file_extension": ".py",
   "mimetype": "text/x-python",
   "name": "python",
   "nbconvert_exporter": "python",
   "pygments_lexer": "ipython3",
   "version": "3.11.4"
  },
  "orig_nbformat": 4
 },
 "nbformat": 4,
 "nbformat_minor": 2
}
