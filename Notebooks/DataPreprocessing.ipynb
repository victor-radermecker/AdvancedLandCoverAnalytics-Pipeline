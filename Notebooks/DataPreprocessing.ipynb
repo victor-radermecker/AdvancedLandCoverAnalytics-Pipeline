{
 "cells": [
  {
   "cell_type": "code",
   "execution_count": 4,
   "metadata": {},
   "outputs": [],
   "source": [
    "import sys\n",
    "import warnings\n",
    "warnings.filterwarnings('ignore')\n",
    "\n",
    "# import local modules\n",
    "sys.path.append('../src')\n",
    "from Fishnet import Fishnet\n",
    "\n",
    "# update files automatically\n",
    "%load_ext autoreload\n",
    "%autoreload 2\n",
    "\n",
    "## Install package within conda using tensorflow\n",
    "## /opt/homebrew/Caskroom/miniconda/base/envs/capstone_2/bin/pip install tensorflow"
   ]
  },
  {
   "cell_type": "markdown",
   "metadata": {},
   "source": [
    "# Dataset Generation"
   ]
  },
  {
   "cell_type": "code",
   "execution_count": 16,
   "metadata": {},
   "outputs": [],
   "source": [
    "FISHNET_PATH = \"../Gis/Fishnet/fishnet_texas_small.pkl\" #'../Gis/Fishnet/fishnet_quarter_mile_completed_2023-07-13.pkl' #\n",
    "SAVE_PATH = '../Results/'\n",
    "FILE_NAME = 'urbanization_data_small_texas' "
   ]
  },
  {
   "cell_type": "code",
   "execution_count": 17,
   "metadata": {},
   "outputs": [],
   "source": [
    "fc = Fishnet.load(FISHNET_PATH)\n",
    "\n",
    "# Compute Urbanization Rate\n",
    "years = list(range(2016, 2023))\n",
    "for yr in years[1:]:\n",
    "    fc.compute_difference(\n",
    "        f\"MeanPixel_{yr}\", f\"MeanPixel_{yr-1}\", filtered=True, normalize=True\n",
    "    )\n",
    "\n",
    "# rename MeanPixel_2017-MeanPixel_2016 to urbanization_rate_2016\n",
    "for yr in years[1:]:\n",
    "    fc.filtered_fishnet.rename(\n",
    "        columns={f\"MeanPixel_{yr}-MeanPixel_{yr-1}\": f\"urbanization_rate_{yr}\"},\n",
    "        inplace=True,\n",
    "    )\n",
    "\n",
    "for yr in years:\n",
    "    fc.filtered_fishnet.rename(\n",
    "        columns={f\"MeanPixel_{yr}\": f\"urbanization_{yr}\"}, inplace=True\n",
    "    )\n",
    "\n",
    "fc.filtered_fishnet.rename(columns={\"id\": \"tile_id\"}, inplace=True)\n",
    "fc.filtered_fishnet[\"tile_id\"] = fc.filtered_fishnet[\"tile_id\"].astype(int)\n",
    "fc.filtered_fishnet[\"batch_id\"] = fc.filtered_fishnet[\"batch_id\"].astype(int)\n",
    "\n",
    "# Extracting Lat Long coordinates\n",
    "fc.filtered_fishnet['centroid'] = fc.filtered_fishnet['geometry'].apply(lambda x: x.centroid)\n",
    "fc.filtered_fishnet['Lat'] = fc.filtered_fishnet['centroid'].apply(lambda x: x.y)\n",
    "fc.filtered_fishnet['Lon'] = fc.filtered_fishnet['centroid'].apply(lambda x: x.x)"
   ]
  },
  {
   "cell_type": "code",
   "execution_count": 18,
   "metadata": {},
   "outputs": [
    {
     "data": {
      "text/html": [
       "<div>\n",
       "<style scoped>\n",
       "    .dataframe tbody tr th:only-of-type {\n",
       "        vertical-align: middle;\n",
       "    }\n",
       "\n",
       "    .dataframe tbody tr th {\n",
       "        vertical-align: top;\n",
       "    }\n",
       "\n",
       "    .dataframe thead th {\n",
       "        text-align: right;\n",
       "    }\n",
       "</style>\n",
       "<table border=\"1\" class=\"dataframe\">\n",
       "  <thead>\n",
       "    <tr style=\"text-align: right;\">\n",
       "      <th></th>\n",
       "      <th>tile_id</th>\n",
       "      <th>batch_id</th>\n",
       "      <th>year</th>\n",
       "      <th>urbanization_rate</th>\n",
       "      <th>urbanization</th>\n",
       "      <th>Lat</th>\n",
       "      <th>Lon</th>\n",
       "    </tr>\n",
       "  </thead>\n",
       "  <tbody>\n",
       "    <tr>\n",
       "      <th>0</th>\n",
       "      <td>6060154</td>\n",
       "      <td>23743</td>\n",
       "      <td>2017</td>\n",
       "      <td>0.063333</td>\n",
       "      <td>0.710556</td>\n",
       "      <td>29.793894</td>\n",
       "      <td>-95.801855</td>\n",
       "    </tr>\n",
       "    <tr>\n",
       "      <th>1</th>\n",
       "      <td>6060154</td>\n",
       "      <td>23743</td>\n",
       "      <td>2018</td>\n",
       "      <td>0.097778</td>\n",
       "      <td>0.773889</td>\n",
       "      <td>29.793894</td>\n",
       "      <td>-95.801855</td>\n",
       "    </tr>\n",
       "    <tr>\n",
       "      <th>2</th>\n",
       "      <td>6060154</td>\n",
       "      <td>23743</td>\n",
       "      <td>2019</td>\n",
       "      <td>-0.010556</td>\n",
       "      <td>0.871667</td>\n",
       "      <td>29.793894</td>\n",
       "      <td>-95.801855</td>\n",
       "    </tr>\n",
       "    <tr>\n",
       "      <th>3</th>\n",
       "      <td>6060154</td>\n",
       "      <td>23743</td>\n",
       "      <td>2020</td>\n",
       "      <td>0.025000</td>\n",
       "      <td>0.861111</td>\n",
       "      <td>29.793894</td>\n",
       "      <td>-95.801855</td>\n",
       "    </tr>\n",
       "    <tr>\n",
       "      <th>4</th>\n",
       "      <td>6060154</td>\n",
       "      <td>23743</td>\n",
       "      <td>2021</td>\n",
       "      <td>0.027778</td>\n",
       "      <td>0.886111</td>\n",
       "      <td>29.793894</td>\n",
       "      <td>-95.801855</td>\n",
       "    </tr>\n",
       "  </tbody>\n",
       "</table>\n",
       "</div>"
      ],
      "text/plain": [
       "   tile_id  batch_id  year  urbanization_rate  urbanization        Lat  \\\n",
       "0  6060154     23743  2017           0.063333      0.710556  29.793894   \n",
       "1  6060154     23743  2018           0.097778      0.773889  29.793894   \n",
       "2  6060154     23743  2019          -0.010556      0.871667  29.793894   \n",
       "3  6060154     23743  2020           0.025000      0.861111  29.793894   \n",
       "4  6060154     23743  2021           0.027778      0.886111  29.793894   \n",
       "\n",
       "         Lon  \n",
       "0 -95.801855  \n",
       "1 -95.801855  \n",
       "2 -95.801855  \n",
       "3 -95.801855  \n",
       "4 -95.801855  "
      ]
     },
     "execution_count": 18,
     "metadata": {},
     "output_type": "execute_result"
    }
   ],
   "source": [
    "vars1 = [\"tile_id\", \"batch_id\"] + [f\"urbanization_rate_{year}\" for year in range(2017, 2023)]\n",
    "vars2 = [\"tile_id\", \"batch_id\"] + [f\"urbanization_{year}\" for year in range(2016, 2023)]\n",
    "\n",
    "data = fc.filtered_fishnet[vars1].melt(\n",
    "    id_vars=[\"tile_id\", \"batch_id\"], var_name=\"year\", value_name=\"urbanization_rate\"\n",
    ")\n",
    "data[\"year\"] = data[\"year\"].str[-4:]\n",
    "data[\"urbanization\"] = fc.filtered_fishnet[vars2].melt(\n",
    "    id_vars=[\"tile_id\", \"batch_id\"], var_name=\"year\", value_name=\"urbanization\"\n",
    ")[\"urbanization\"] / 255\n",
    "\n",
    "# data['Lat'] is the latitude of the centroid of the tile in fc.filtered_fishnet['Lat'] joint\n",
    "data = data.merge(fc.filtered_fishnet[[\"tile_id\", \"batch_id\", \"Lat\", \"Lon\"]], on=[\"tile_id\", \"batch_id\"])\n",
    "\n",
    "data.head()"
   ]
  },
  {
   "cell_type": "markdown",
   "metadata": {},
   "source": [
    "# Save dataframe and metadata"
   ]
  },
  {
   "cell_type": "code",
   "execution_count": 19,
   "metadata": {},
   "outputs": [],
   "source": [
    "# Save CSV\n",
    "data.to_csv(SAVE_PATH + FILE_NAME + \".csv\", index=False)"
   ]
  },
  {
   "cell_type": "code",
   "execution_count": 20,
   "metadata": {},
   "outputs": [
    {
     "name": "stdout",
     "output_type": "stream",
     "text": [
      "\n",
      " Fishnet Object has the following attributes: \n",
      "\n",
      "+----------------+-----------------------+-------------------+\n",
      "|     Metric     |        Degrees        |       Miles       |\n",
      "+----------------+-----------------------+-------------------+\n",
      "| Fishnet Width  |   13.138423211000031  | 817.0318617424371 |\n",
      "| Fishnet Height |   10.663161770999977  |  736.75306466581  |\n",
      "|  Tiles Width   |  0.004020157322514706 |        0.25       |\n",
      "|  Tiles Height  | 0.0036182855831725647 |        0.25       |\n",
      "+----------------+-----------------------+-------------------+\n",
      "\n",
      "Fishnet Batch has the following attributes: \n",
      "\n",
      "+---------+---------+---------+\n",
      "|  Metric |  Tiles  | Batches |\n",
      "+---------+---------+---------+\n",
      "|   Rows  |   2948  |   185   |\n",
      "| Columns |   3269  |   205   |\n",
      "|  Cells  | 9637012 |  37925  |\n",
      "+---------+---------+---------+\n"
     ]
    }
   ],
   "source": [
    "# Save Metadata\n",
    "with open(SAVE_PATH + FILE_NAME + '.txt', 'w') as f:\n",
    "    f.write(\"\\n\\nGeneral Fishnet Information:\\n\")\n",
    "    f.write(str(fc.fishnet_info(return_=True))+\"\\n\\n\")\n",
    "    f.write(\"\\n\\nGeneral Batch Information:\\n\")\n",
    "    f.write(str(fc.batch_info(return_=True)))\n",
    "    if fc.filtered:\n",
    "        f.write(\"\\n\\n\\nGeneral Filter Information:\")\n",
    "        f.write(\"\\nFiltered region: \" + str(fc.filter_region))\n",
    "        f.write(\"\\nNumber of rows: \" + str(fc.filtered_fishnet_rows))\n",
    "        f.write(\"\\nNumber of cols: \" + str(fc.filtered_fishnet_cols))"
   ]
  }
 ],
 "metadata": {
  "kernelspec": {
   "display_name": "capstone_2",
   "language": "python",
   "name": "python3"
  },
  "language_info": {
   "codemirror_mode": {
    "name": "ipython",
    "version": 3
   },
   "file_extension": ".py",
   "mimetype": "text/x-python",
   "name": "python",
   "nbconvert_exporter": "python",
   "pygments_lexer": "ipython3",
   "version": "3.11.4"
  },
  "orig_nbformat": 4
 },
 "nbformat": 4,
 "nbformat_minor": 2
}
