{
  "nbformat": 4,
  "nbformat_minor": 0,
  "metadata": {
    "colab": {
      "provenance": [],
      "authorship_tag": "ABX9TyNpxsgf2CJUxSQtPIRRB1Cy",
      "include_colab_link": true
    },
    "kernelspec": {
      "name": "python3",
      "display_name": "Python 3"
    },
    "language_info": {
      "name": "python"
    }
  },
  "cells": [
    {
      "cell_type": "markdown",
      "metadata": {
        "id": "view-in-github",
        "colab_type": "text"
      },
      "source": [
        "<a href=\"https://colab.research.google.com/github/victor-radermecker/Capstone_JPMorgan/blob/branch-XGB/XGB_colab.ipynb\" target=\"_parent\"><img src=\"https://colab.research.google.com/assets/colab-badge.svg\" alt=\"Open In Colab\"/></a>"
      ]
    },
    {
      "cell_type": "code",
      "source": [
        "!pip install geopandas\n",
        "!pip install geemap\n",
        "!pip install imageio\n",
        "!pip install imagecodecs"
      ],
      "metadata": {
        "id": "NNHj5Inqspb5"
      },
      "execution_count": null,
      "outputs": []
    },
    {
      "cell_type": "code",
      "execution_count": 2,
      "metadata": {
        "id": "Kj_g0DB3r2wi"
      },
      "outputs": [],
      "source": [
        "import ee\n",
        "import sys\n",
        "import warnings\n",
        "from tqdm import tqdm\n",
        "warnings.filterwarnings('ignore')"
      ]
    },
    {
      "cell_type": "code",
      "source": [
        "from google.colab import drive\n",
        "drive.mount('/content/drive', force_remount = True)"
      ],
      "metadata": {
        "colab": {
          "base_uri": "https://localhost:8080/"
        },
        "id": "BvZszXKisDQt",
        "outputId": "019d97d8-b6a3-468b-9daf-cc332d8b8b2b"
      },
      "execution_count": 3,
      "outputs": [
        {
          "output_type": "stream",
          "name": "stdout",
          "text": [
            "Mounted at /content/drive\n"
          ]
        }
      ]
    },
    {
      "cell_type": "code",
      "source": [
        "ee.Authenticate()"
      ],
      "metadata": {
        "id": "Yu2e41u8tXYg"
      },
      "execution_count": null,
      "outputs": []
    },
    {
      "cell_type": "code",
      "source": [
        "# import local modules\n",
        "import sys\n",
        "sys.path.append('/content/drive/MyDrive/src')\n",
        "\n",
        "from Fishnet import Fishnet\n",
        "from ImageExporter import ImageExporter\n",
        "from ImageCorrector import ImageCorrector\n",
        "from ImageProcessor import ImageProcessor\n",
        "from XGB import XGB\n",
        "\n",
        "# update files automatically\n",
        "%load_ext autoreload\n",
        "%autoreload 2\n",
        "\n",
        "# Authenticate to Earth Engine\n",
        "ee.Initialize(project=\"jpmorgancapstone\")"
      ],
      "metadata": {
        "id": "7iOFuhuysFey"
      },
      "execution_count": 4,
      "outputs": []
    },
    {
      "cell_type": "code",
      "source": [
        "# load the object\n",
        "fishnet = Fishnet.load('/content/drive/MyDrive/Code/Gis/Fishnet/fishnet_quarter_mile_completed.pkl')"
      ],
      "metadata": {
        "id": "PAA_ygm2sR3s"
      },
      "execution_count": 5,
      "outputs": []
    },
    {
      "cell_type": "markdown",
      "source": [
        "# Predict Δ urbanization"
      ],
      "metadata": {
        "id": "jj2t6Lnd3mzx"
      }
    },
    {
      "cell_type": "code",
      "source": [
        "# instance of class XGB\n",
        "xgb = XGB(fishnet, filtered = True)"
      ],
      "metadata": {
        "id": "Q007aGcdwwwp"
      },
      "execution_count": 6,
      "outputs": []
    },
    {
      "cell_type": "code",
      "source": [
        "# drop unnecessary columns\n",
        "xgb.df.drop(columns = ['ImageCoordinates', 'geometry', 'Width', 'Height', 'Entropy_2021'], axis = 1, inplace = True)"
      ],
      "metadata": {
        "id": "tl0vKj_avibR"
      },
      "execution_count": 7,
      "outputs": []
    },
    {
      "cell_type": "code",
      "source": [
        "yearStart = 2016\n",
        "yearEnd = 2021\n",
        "\n",
        "xgb.feature_engineering(yearStart, yearEnd)"
      ],
      "metadata": {
        "id": "xcYIFyNB0Dkb"
      },
      "execution_count": 8,
      "outputs": []
    },
    {
      "cell_type": "code",
      "source": [
        "# remove original features\n",
        "xgb.remove_original_features()"
      ],
      "metadata": {
        "id": "Zr55tpdvpbXc"
      },
      "execution_count": 9,
      "outputs": []
    },
    {
      "cell_type": "code",
      "source": [
        "xgb.df"
      ],
      "metadata": {
        "colab": {
          "base_uri": "https://localhost:8080/",
          "height": 1000
        },
        "id": "YGGeQ2GRYFuI",
        "outputId": "f833fe23-62db-4484-8e5d-81088020bc78"
      },
      "execution_count": 11,
      "outputs": [
        {
          "output_type": "execute_result",
          "data": {
            "text/plain": [
              "                id  batch_id  \\\n",
              "6060154  6060154.0   23743.0   \n",
              "6060155  6060155.0   23743.0   \n",
              "6060156  6060156.0   23743.0   \n",
              "6060157  6060157.0   23743.0   \n",
              "6060158  6060158.0   23743.0   \n",
              "...            ...       ...   \n",
              "6439546  6439546.0   25395.0   \n",
              "6439547  6439547.0   25395.0   \n",
              "6439548  6439548.0   25395.0   \n",
              "6439549  6439549.0   25395.0   \n",
              "6439550  6439550.0   25395.0   \n",
              "\n",
              "                                                 neighbors  Entropy_2020  \\\n",
              "6060154  [6056884, 6056885, 6056886, 6060153, 6060155, ...      0.511536   \n",
              "6060155  [6056885, 6056886, 6056887, 6060154, 6060156, ...      0.450721   \n",
              "6060156  [6056886, 6056887, 6056888, 6060155, 6060157, ...      0.979869   \n",
              "6060157  [6056887, 6056888, 6056889, 6060156, 6060158, ...      0.535715   \n",
              "6060158  [6056888, 6056889, 6056890, 6060157, 6060159, ...      0.653878   \n",
              "...                                                    ...           ...   \n",
              "6439546  [6436276, 6436277, 6436278, 6439545, 6439547, ...      0.121176   \n",
              "6439547  [6436277, 6436278, 6436279, 6439546, 6439548, ...      0.045415   \n",
              "6439548  [6436278, 6436279, 6436280, 6439547, 6439549, ...      0.000000   \n",
              "6439549  [6436279, 6436280, 6436281, 6439548, 6439550, ...      0.247364   \n",
              "6439550  [6436280, 6436281, 6436282, 6439549, 6439551, ...      0.781865   \n",
              "\n",
              "         MeanPixel_2021  Delta1_MeanPixel_2016_2017  Delta2_mean_2016_2017  \\\n",
              "6060154      233.041667                   16.150000              -0.059074   \n",
              "6060155      237.613636                    8.548295              -0.053910   \n",
              "6060156      168.583333                   -7.225000               0.002948   \n",
              "6060157      214.200000                  -13.458333              -0.012421   \n",
              "6060158      196.066667                    1.700000              -0.007823   \n",
              "...                 ...                         ...                    ...   \n",
              "6439546        4.926136                    0.144886               1.000000   \n",
              "6439547        2.125000                    0.850000               0.283836   \n",
              "6439548        0.000000                    0.000000                    NaN   \n",
              "6439549        7.508333                    0.425000               0.149142   \n",
              "6439550      196.208333                    5.241667              -0.019755   \n",
              "\n",
              "         Delta1_Entropy_2016_2017  Delta1_MeanPixel_2017_2018  \\\n",
              "6060154                 -0.096832                   24.933333   \n",
              "6060155                 -0.073271                   16.082386   \n",
              "6060156                  0.005871                    3.683333   \n",
              "6060157                 -0.024340                   13.883333   \n",
              "6060158                 -0.011988                   -3.541667   \n",
              "...                           ...                         ...   \n",
              "6439546                  0.006945                    2.897727   \n",
              "6439547                  0.025548                    1.133333   \n",
              "6439548                  0.000000                    0.000000   \n",
              "6439549                  0.012878                    9.775000   \n",
              "6439550                 -0.032193                    4.675000   \n",
              "\n",
              "         Delta2_mean_2017_2018  Delta1_Entropy_2017_2018  \\\n",
              "6060154              -0.164892                 -0.218321   \n",
              "6060155              -0.154565                 -0.172144   \n",
              "6060156              -0.001209                 -0.002411   \n",
              "6060157               0.012674                  0.024841   \n",
              "6060158               0.015899                  0.024562   \n",
              "...                        ...                       ...   \n",
              "6439546               0.861495                  0.086399   \n",
              "6439547               0.207708                  0.030294   \n",
              "6439548                    NaN                  0.000000   \n",
              "6439549               0.679352                  0.210233   \n",
              "6439550              -0.020123                 -0.031511   \n",
              "\n",
              "         Delta1_MeanPixel_2018_2019  Delta2_mean_2018_2019  \\\n",
              "6060154                   -2.691667               0.025104   \n",
              "6060155                   -0.869318               0.011219   \n",
              "6060156                   10.625000              -0.006954   \n",
              "6060157                   91.233333              -0.167009   \n",
              "6060158                   15.583333              -0.083320   \n",
              "...                             ...                    ...   \n",
              "6439546                    1.303977               0.143075   \n",
              "6439547                   -1.416667              -0.279317   \n",
              "6439548                    0.000000                    NaN   \n",
              "6439549                   -4.533333              -0.196501   \n",
              "6439550                    0.991667              -0.004608   \n",
              "\n",
              "         Delta1_Entropy_2018_2019  Delta1_MeanPixel_2019_2020  \\\n",
              "6060154                  0.028472                    6.375000   \n",
              "6060155                  0.010684                    2.463068   \n",
              "6060156                 -0.013760                    1.416667   \n",
              "6060157                 -0.284056                   18.133333   \n",
              "6060158                 -0.120709                    1.133333   \n",
              "...                           ...                         ...   \n",
              "6439546                  0.031170                   -0.144886   \n",
              "6439547                 -0.038458                   -0.141667   \n",
              "6439548                  0.000000                    0.000000   \n",
              "6439549                 -0.085349                    3.825000   \n",
              "6439550                 -0.007038                   -3.116667   \n",
              "\n",
              "         Delta2_mean_2019_2020  Delta1_Entropy_2019_2020  \\\n",
              "6060154              -0.063856                 -0.069786   \n",
              "6060155              -0.032993                 -0.030757   \n",
              "6060156              -0.001328                 -0.002605   \n",
              "6060157              -0.138796                 -0.172678   \n",
              "6060158              -0.007696                 -0.010142   \n",
              "...                        ...                       ...   \n",
              "6439546              -0.013585                 -0.003338   \n",
              "6439547              -0.044191                 -0.004199   \n",
              "6439548                    NaN                  0.000000   \n",
              "6439549               0.172725                  0.072866   \n",
              "6439550               0.014071                  0.021698   \n",
              "\n",
              "         Delta1_MeanPixel_2020_2021  Delta2_mean_2020_2021  \n",
              "6060154                    7.083333               0.015432  \n",
              "6060155                    6.664773               0.014224  \n",
              "6060156                   19.833333               0.062500  \n",
              "6060157                   -9.633333              -0.021992  \n",
              "6060158                  -16.008333              -0.039222  \n",
              "...                             ...                    ...  \n",
              "6439546                    0.724432               0.079365  \n",
              "6439547                    0.850000               0.250000  \n",
              "6439548                    0.000000                    NaN  \n",
              "6439549                   -2.975000              -0.165354  \n",
              "6439550                    0.425000               0.001084  \n",
              "\n",
              "[22581 rows x 19 columns]"
            ],
            "text/html": [
              "\n",
              "  <div id=\"df-58a61aa6-467e-4b8d-b73b-8289c3e30a17\">\n",
              "    <div class=\"colab-df-container\">\n",
              "      <div>\n",
              "<style scoped>\n",
              "    .dataframe tbody tr th:only-of-type {\n",
              "        vertical-align: middle;\n",
              "    }\n",
              "\n",
              "    .dataframe tbody tr th {\n",
              "        vertical-align: top;\n",
              "    }\n",
              "\n",
              "    .dataframe thead th {\n",
              "        text-align: right;\n",
              "    }\n",
              "</style>\n",
              "<table border=\"1\" class=\"dataframe\">\n",
              "  <thead>\n",
              "    <tr style=\"text-align: right;\">\n",
              "      <th></th>\n",
              "      <th>id</th>\n",
              "      <th>batch_id</th>\n",
              "      <th>neighbors</th>\n",
              "      <th>Entropy_2020</th>\n",
              "      <th>MeanPixel_2021</th>\n",
              "      <th>Delta1_MeanPixel_2016_2017</th>\n",
              "      <th>Delta2_mean_2016_2017</th>\n",
              "      <th>Delta1_Entropy_2016_2017</th>\n",
              "      <th>Delta1_MeanPixel_2017_2018</th>\n",
              "      <th>Delta2_mean_2017_2018</th>\n",
              "      <th>Delta1_Entropy_2017_2018</th>\n",
              "      <th>Delta1_MeanPixel_2018_2019</th>\n",
              "      <th>Delta2_mean_2018_2019</th>\n",
              "      <th>Delta1_Entropy_2018_2019</th>\n",
              "      <th>Delta1_MeanPixel_2019_2020</th>\n",
              "      <th>Delta2_mean_2019_2020</th>\n",
              "      <th>Delta1_Entropy_2019_2020</th>\n",
              "      <th>Delta1_MeanPixel_2020_2021</th>\n",
              "      <th>Delta2_mean_2020_2021</th>\n",
              "    </tr>\n",
              "  </thead>\n",
              "  <tbody>\n",
              "    <tr>\n",
              "      <th>6060154</th>\n",
              "      <td>6060154.0</td>\n",
              "      <td>23743.0</td>\n",
              "      <td>[6056884, 6056885, 6056886, 6060153, 6060155, ...</td>\n",
              "      <td>0.511536</td>\n",
              "      <td>233.041667</td>\n",
              "      <td>16.150000</td>\n",
              "      <td>-0.059074</td>\n",
              "      <td>-0.096832</td>\n",
              "      <td>24.933333</td>\n",
              "      <td>-0.164892</td>\n",
              "      <td>-0.218321</td>\n",
              "      <td>-2.691667</td>\n",
              "      <td>0.025104</td>\n",
              "      <td>0.028472</td>\n",
              "      <td>6.375000</td>\n",
              "      <td>-0.063856</td>\n",
              "      <td>-0.069786</td>\n",
              "      <td>7.083333</td>\n",
              "      <td>0.015432</td>\n",
              "    </tr>\n",
              "    <tr>\n",
              "      <th>6060155</th>\n",
              "      <td>6060155.0</td>\n",
              "      <td>23743.0</td>\n",
              "      <td>[6056885, 6056886, 6056887, 6060154, 6060156, ...</td>\n",
              "      <td>0.450721</td>\n",
              "      <td>237.613636</td>\n",
              "      <td>8.548295</td>\n",
              "      <td>-0.053910</td>\n",
              "      <td>-0.073271</td>\n",
              "      <td>16.082386</td>\n",
              "      <td>-0.154565</td>\n",
              "      <td>-0.172144</td>\n",
              "      <td>-0.869318</td>\n",
              "      <td>0.011219</td>\n",
              "      <td>0.010684</td>\n",
              "      <td>2.463068</td>\n",
              "      <td>-0.032993</td>\n",
              "      <td>-0.030757</td>\n",
              "      <td>6.664773</td>\n",
              "      <td>0.014224</td>\n",
              "    </tr>\n",
              "    <tr>\n",
              "      <th>6060156</th>\n",
              "      <td>6060156.0</td>\n",
              "      <td>23743.0</td>\n",
              "      <td>[6056886, 6056887, 6056888, 6060155, 6060157, ...</td>\n",
              "      <td>0.979869</td>\n",
              "      <td>168.583333</td>\n",
              "      <td>-7.225000</td>\n",
              "      <td>0.002948</td>\n",
              "      <td>0.005871</td>\n",
              "      <td>3.683333</td>\n",
              "      <td>-0.001209</td>\n",
              "      <td>-0.002411</td>\n",
              "      <td>10.625000</td>\n",
              "      <td>-0.006954</td>\n",
              "      <td>-0.013760</td>\n",
              "      <td>1.416667</td>\n",
              "      <td>-0.001328</td>\n",
              "      <td>-0.002605</td>\n",
              "      <td>19.833333</td>\n",
              "      <td>0.062500</td>\n",
              "    </tr>\n",
              "    <tr>\n",
              "      <th>6060157</th>\n",
              "      <td>6060157.0</td>\n",
              "      <td>23743.0</td>\n",
              "      <td>[6056887, 6056888, 6056889, 6060156, 6060158, ...</td>\n",
              "      <td>0.535715</td>\n",
              "      <td>214.200000</td>\n",
              "      <td>-13.458333</td>\n",
              "      <td>-0.012421</td>\n",
              "      <td>-0.024340</td>\n",
              "      <td>13.883333</td>\n",
              "      <td>0.012674</td>\n",
              "      <td>0.024841</td>\n",
              "      <td>91.233333</td>\n",
              "      <td>-0.167009</td>\n",
              "      <td>-0.284056</td>\n",
              "      <td>18.133333</td>\n",
              "      <td>-0.138796</td>\n",
              "      <td>-0.172678</td>\n",
              "      <td>-9.633333</td>\n",
              "      <td>-0.021992</td>\n",
              "    </tr>\n",
              "    <tr>\n",
              "      <th>6060158</th>\n",
              "      <td>6060158.0</td>\n",
              "      <td>23743.0</td>\n",
              "      <td>[6056888, 6056889, 6056890, 6060157, 6060159, ...</td>\n",
              "      <td>0.653878</td>\n",
              "      <td>196.066667</td>\n",
              "      <td>1.700000</td>\n",
              "      <td>-0.007823</td>\n",
              "      <td>-0.011988</td>\n",
              "      <td>-3.541667</td>\n",
              "      <td>0.015899</td>\n",
              "      <td>0.024562</td>\n",
              "      <td>15.583333</td>\n",
              "      <td>-0.083320</td>\n",
              "      <td>-0.120709</td>\n",
              "      <td>1.133333</td>\n",
              "      <td>-0.007696</td>\n",
              "      <td>-0.010142</td>\n",
              "      <td>-16.008333</td>\n",
              "      <td>-0.039222</td>\n",
              "    </tr>\n",
              "    <tr>\n",
              "      <th>...</th>\n",
              "      <td>...</td>\n",
              "      <td>...</td>\n",
              "      <td>...</td>\n",
              "      <td>...</td>\n",
              "      <td>...</td>\n",
              "      <td>...</td>\n",
              "      <td>...</td>\n",
              "      <td>...</td>\n",
              "      <td>...</td>\n",
              "      <td>...</td>\n",
              "      <td>...</td>\n",
              "      <td>...</td>\n",
              "      <td>...</td>\n",
              "      <td>...</td>\n",
              "      <td>...</td>\n",
              "      <td>...</td>\n",
              "      <td>...</td>\n",
              "      <td>...</td>\n",
              "      <td>...</td>\n",
              "    </tr>\n",
              "    <tr>\n",
              "      <th>6439546</th>\n",
              "      <td>6439546.0</td>\n",
              "      <td>25395.0</td>\n",
              "      <td>[6436276, 6436277, 6436278, 6439545, 6439547, ...</td>\n",
              "      <td>0.121176</td>\n",
              "      <td>4.926136</td>\n",
              "      <td>0.144886</td>\n",
              "      <td>1.000000</td>\n",
              "      <td>0.006945</td>\n",
              "      <td>2.897727</td>\n",
              "      <td>0.861495</td>\n",
              "      <td>0.086399</td>\n",
              "      <td>1.303977</td>\n",
              "      <td>0.143075</td>\n",
              "      <td>0.031170</td>\n",
              "      <td>-0.144886</td>\n",
              "      <td>-0.013585</td>\n",
              "      <td>-0.003338</td>\n",
              "      <td>0.724432</td>\n",
              "      <td>0.079365</td>\n",
              "    </tr>\n",
              "    <tr>\n",
              "      <th>6439547</th>\n",
              "      <td>6439547.0</td>\n",
              "      <td>25395.0</td>\n",
              "      <td>[6436277, 6436278, 6436279, 6439546, 6439548, ...</td>\n",
              "      <td>0.045415</td>\n",
              "      <td>2.125000</td>\n",
              "      <td>0.850000</td>\n",
              "      <td>0.283836</td>\n",
              "      <td>0.025548</td>\n",
              "      <td>1.133333</td>\n",
              "      <td>0.207708</td>\n",
              "      <td>0.030294</td>\n",
              "      <td>-1.416667</td>\n",
              "      <td>-0.279317</td>\n",
              "      <td>-0.038458</td>\n",
              "      <td>-0.141667</td>\n",
              "      <td>-0.044191</td>\n",
              "      <td>-0.004199</td>\n",
              "      <td>0.850000</td>\n",
              "      <td>0.250000</td>\n",
              "    </tr>\n",
              "    <tr>\n",
              "      <th>6439548</th>\n",
              "      <td>6439548.0</td>\n",
              "      <td>25395.0</td>\n",
              "      <td>[6436278, 6436279, 6436280, 6439547, 6439549, ...</td>\n",
              "      <td>0.000000</td>\n",
              "      <td>0.000000</td>\n",
              "      <td>0.000000</td>\n",
              "      <td>NaN</td>\n",
              "      <td>0.000000</td>\n",
              "      <td>0.000000</td>\n",
              "      <td>NaN</td>\n",
              "      <td>0.000000</td>\n",
              "      <td>0.000000</td>\n",
              "      <td>NaN</td>\n",
              "      <td>0.000000</td>\n",
              "      <td>0.000000</td>\n",
              "      <td>NaN</td>\n",
              "      <td>0.000000</td>\n",
              "      <td>0.000000</td>\n",
              "      <td>NaN</td>\n",
              "    </tr>\n",
              "    <tr>\n",
              "      <th>6439549</th>\n",
              "      <td>6439549.0</td>\n",
              "      <td>25395.0</td>\n",
              "      <td>[6436279, 6436280, 6436281, 6439548, 6439550, ...</td>\n",
              "      <td>0.247364</td>\n",
              "      <td>7.508333</td>\n",
              "      <td>0.425000</td>\n",
              "      <td>0.149142</td>\n",
              "      <td>0.012878</td>\n",
              "      <td>9.775000</td>\n",
              "      <td>0.679352</td>\n",
              "      <td>0.210233</td>\n",
              "      <td>-4.533333</td>\n",
              "      <td>-0.196501</td>\n",
              "      <td>-0.085349</td>\n",
              "      <td>3.825000</td>\n",
              "      <td>0.172725</td>\n",
              "      <td>0.072866</td>\n",
              "      <td>-2.975000</td>\n",
              "      <td>-0.165354</td>\n",
              "    </tr>\n",
              "    <tr>\n",
              "      <th>6439550</th>\n",
              "      <td>6439550.0</td>\n",
              "      <td>25395.0</td>\n",
              "      <td>[6436280, 6436281, 6436282, 6439549, 6439551, ...</td>\n",
              "      <td>0.781865</td>\n",
              "      <td>196.208333</td>\n",
              "      <td>5.241667</td>\n",
              "      <td>-0.019755</td>\n",
              "      <td>-0.032193</td>\n",
              "      <td>4.675000</td>\n",
              "      <td>-0.020123</td>\n",
              "      <td>-0.031511</td>\n",
              "      <td>0.991667</td>\n",
              "      <td>-0.004608</td>\n",
              "      <td>-0.007038</td>\n",
              "      <td>-3.116667</td>\n",
              "      <td>0.014071</td>\n",
              "      <td>0.021698</td>\n",
              "      <td>0.425000</td>\n",
              "      <td>0.001084</td>\n",
              "    </tr>\n",
              "  </tbody>\n",
              "</table>\n",
              "<p>22581 rows × 19 columns</p>\n",
              "</div>\n",
              "      <button class=\"colab-df-convert\" onclick=\"convertToInteractive('df-58a61aa6-467e-4b8d-b73b-8289c3e30a17')\"\n",
              "              title=\"Convert this dataframe to an interactive table.\"\n",
              "              style=\"display:none;\">\n",
              "        \n",
              "  <svg xmlns=\"http://www.w3.org/2000/svg\" height=\"24px\"viewBox=\"0 0 24 24\"\n",
              "       width=\"24px\">\n",
              "    <path d=\"M0 0h24v24H0V0z\" fill=\"none\"/>\n",
              "    <path d=\"M18.56 5.44l.94 2.06.94-2.06 2.06-.94-2.06-.94-.94-2.06-.94 2.06-2.06.94zm-11 1L8.5 8.5l.94-2.06 2.06-.94-2.06-.94L8.5 2.5l-.94 2.06-2.06.94zm10 10l.94 2.06.94-2.06 2.06-.94-2.06-.94-.94-2.06-.94 2.06-2.06.94z\"/><path d=\"M17.41 7.96l-1.37-1.37c-.4-.4-.92-.59-1.43-.59-.52 0-1.04.2-1.43.59L10.3 9.45l-7.72 7.72c-.78.78-.78 2.05 0 2.83L4 21.41c.39.39.9.59 1.41.59.51 0 1.02-.2 1.41-.59l7.78-7.78 2.81-2.81c.8-.78.8-2.07 0-2.86zM5.41 20L4 18.59l7.72-7.72 1.47 1.35L5.41 20z\"/>\n",
              "  </svg>\n",
              "      </button>\n",
              "      \n",
              "  <style>\n",
              "    .colab-df-container {\n",
              "      display:flex;\n",
              "      flex-wrap:wrap;\n",
              "      gap: 12px;\n",
              "    }\n",
              "\n",
              "    .colab-df-convert {\n",
              "      background-color: #E8F0FE;\n",
              "      border: none;\n",
              "      border-radius: 50%;\n",
              "      cursor: pointer;\n",
              "      display: none;\n",
              "      fill: #1967D2;\n",
              "      height: 32px;\n",
              "      padding: 0 0 0 0;\n",
              "      width: 32px;\n",
              "    }\n",
              "\n",
              "    .colab-df-convert:hover {\n",
              "      background-color: #E2EBFA;\n",
              "      box-shadow: 0px 1px 2px rgba(60, 64, 67, 0.3), 0px 1px 3px 1px rgba(60, 64, 67, 0.15);\n",
              "      fill: #174EA6;\n",
              "    }\n",
              "\n",
              "    [theme=dark] .colab-df-convert {\n",
              "      background-color: #3B4455;\n",
              "      fill: #D2E3FC;\n",
              "    }\n",
              "\n",
              "    [theme=dark] .colab-df-convert:hover {\n",
              "      background-color: #434B5C;\n",
              "      box-shadow: 0px 1px 3px 1px rgba(0, 0, 0, 0.15);\n",
              "      filter: drop-shadow(0px 1px 2px rgba(0, 0, 0, 0.3));\n",
              "      fill: #FFFFFF;\n",
              "    }\n",
              "  </style>\n",
              "\n",
              "      <script>\n",
              "        const buttonEl =\n",
              "          document.querySelector('#df-58a61aa6-467e-4b8d-b73b-8289c3e30a17 button.colab-df-convert');\n",
              "        buttonEl.style.display =\n",
              "          google.colab.kernel.accessAllowed ? 'block' : 'none';\n",
              "\n",
              "        async function convertToInteractive(key) {\n",
              "          const element = document.querySelector('#df-58a61aa6-467e-4b8d-b73b-8289c3e30a17');\n",
              "          const dataTable =\n",
              "            await google.colab.kernel.invokeFunction('convertToInteractive',\n",
              "                                                     [key], {});\n",
              "          if (!dataTable) return;\n",
              "\n",
              "          const docLinkHtml = 'Like what you see? Visit the ' +\n",
              "            '<a target=\"_blank\" href=https://colab.research.google.com/notebooks/data_table.ipynb>data table notebook</a>'\n",
              "            + ' to learn more about interactive tables.';\n",
              "          element.innerHTML = '';\n",
              "          dataTable['output_type'] = 'display_data';\n",
              "          await google.colab.output.renderOutput(dataTable, element);\n",
              "          const docLink = document.createElement('div');\n",
              "          docLink.innerHTML = docLinkHtml;\n",
              "          element.appendChild(docLink);\n",
              "        }\n",
              "      </script>\n",
              "    </div>\n",
              "  </div>\n",
              "  "
            ]
          },
          "metadata": {},
          "execution_count": 11
        }
      ]
    },
    {
      "cell_type": "markdown",
      "source": [
        "<font color = 'red'> Still haven't done this part </font>"
      ],
      "metadata": {
        "id": "bTSdRNp9X8vT"
      }
    },
    {
      "cell_type": "code",
      "source": [
        "additional_columns = pd.DataFrame(columns = [f\"Neighbors_Delta{j}_{year}_{year+1}\" for year in range(2017, 2022) for j in [1,2,3]])\n",
        "\n",
        "for index, row in tqdm(df.iterrows()):\n",
        "\n",
        "  # filter only neighbors\n",
        "  df_filtered = df[df[\"id\"].isin(row[\"neighbors\"])]\n",
        "\n",
        "  # keep subset of Delta columns\n",
        "  df_filtered = df_filtered[[f\"Delta{j}_{year}_{year+1}\" for year in range(2017, 2022) for j in [1,2,3]]]\n",
        "\n",
        "  # compute mean\n",
        "  mean_neighbors = df_filtered.mean().tolist()\n",
        "\n",
        "  # append to dataframe\n",
        "  additional_columns.loc[len(additional_columns)] = mean_neighbors\n",
        "\n",
        "# change index to prepare for merging\n",
        "additional_columns.index = df.index\n",
        "\n",
        "# add new features to the original dataframe\n",
        "df = pd.concat([df, additional_columns], axis = 1)"
      ],
      "metadata": {
        "id": "J1nDdJ55qQxo",
        "outputId": "0f1cb81c-5f0c-44f7-d1fc-0e5a1e8d4c62",
        "colab": {
          "base_uri": "https://localhost:8080/"
        }
      },
      "execution_count": null,
      "outputs": [
        {
          "output_type": "stream",
          "name": "stderr",
          "text": [
            "21411it [04:04, 87.52it/s] \n"
          ]
        }
      ]
    },
    {
      "cell_type": "code",
      "source": [
        "# perform linear regression and assess results\n",
        "from sklearn.metrics import r2_score\n",
        "from sklearn.metrics import mean_squared_error\n",
        "from sklearn.model_selection import train_test_split\n",
        "from sklearn.linear_model import LinearRegression\n",
        "import xgboost as xgb\n",
        "from matplotlib import pyplot as plt"
      ],
      "metadata": {
        "id": "2dYKSd2V5xBo"
      },
      "execution_count": null,
      "outputs": []
    },
    {
      "cell_type": "code",
      "source": [
        "to_drop = [\"id\", \"geometry\", \"batch_id\", \"neighbors\"] + [f\"Delta{j}_2021_2022\"  for j in [1,2,3]] + [f\"Neighbors_Delta{j}_2021_2022\" for j in [1,2,3]]"
      ],
      "metadata": {
        "id": "WVHZk3wLKBPe"
      },
      "execution_count": null,
      "outputs": []
    },
    {
      "cell_type": "code",
      "source": [
        "# in df fill NaN with 0\n",
        "df.fillna(0, inplace = True) # FIND BETTER WAY TO DO THIS\n",
        "\n",
        "# drop useless columns for prediction and target variables\n",
        "X = df.drop(to_drop, axis = 1)\n",
        "y = df[\"Delta1_2021_2022\"]\n",
        "\n",
        "# split the data into training and test sets\n",
        "X_train, X_test, y_train, y_test = train_test_split(X, y, test_size=0.2, random_state=42)"
      ],
      "metadata": {
        "id": "lzw8-QobyfI0"
      },
      "execution_count": null,
      "outputs": []
    },
    {
      "cell_type": "code",
      "source": [
        "def train_model(model, X_train, X_test, y_train, y_test):\n",
        "\n",
        "  # fit the model to the training data\n",
        "  model.fit(X_train, y_train)\n",
        "\n",
        "  # make predictions on the test data\n",
        "  y_pred = model.predict(X_test)\n",
        "\n",
        "  # compute rmse\n",
        "  rmse = np.sqrt(mean_squared_error(y_test, y_pred))\n",
        "\n",
        "  # calculate the R^2 score\n",
        "  r2 = r2_score(y_test, y_pred)\n",
        "\n",
        "  # call function to plot results\n",
        "  plot_results(y_test, y_pred, r2, rmse)"
      ],
      "metadata": {
        "id": "9rLOSysL51xf"
      },
      "execution_count": null,
      "outputs": []
    },
    {
      "cell_type": "code",
      "source": [
        "def plot_results(y_test, y_pred, r2, rmse):\n",
        "\n",
        "  # plot the predicted vs true values\n",
        "  plt.scatter(y_test, y_pred)\n",
        "  plt.xlabel(\"True Values\")\n",
        "  plt.ylabel(\"Predictions\")\n",
        "  plt.title(f\"Regression\\nR^2 Score: {r2:.2f}, RMSE: {rmse:.2f}\")\n",
        "  plt.show()\n"
      ],
      "metadata": {
        "id": "vz-gy4vF6Sj4"
      },
      "execution_count": null,
      "outputs": []
    },
    {
      "cell_type": "code",
      "source": [
        "train_model(LinearRegression(), X_train, X_test, y_train, y_test)"
      ],
      "metadata": {
        "id": "I47QwIYs0d4M",
        "outputId": "861ab012-730c-4502-91c7-78109055a1e9",
        "colab": {
          "base_uri": "https://localhost:8080/",
          "height": 493
        }
      },
      "execution_count": null,
      "outputs": [
        {
          "output_type": "display_data",
          "data": {
            "text/plain": [
              "<Figure size 640x480 with 1 Axes>"
            ],
            "image/png": "[encoded data removed]"
          },
          "metadata": {}
        }
      ]
    },
    {
      "cell_type": "code",
      "source": [
        "train_model(xgb.XGBRegressor(), X_train, X_test, y_train, y_test)\n"
      ],
      "metadata": {
        "id": "6NoAxVup1Uyf",
        "outputId": "a6d3efcb-d2fb-4e14-cb3b-c82056f34d38",
        "colab": {
          "base_uri": "https://localhost:8080/",
          "height": 493
        }
      },
      "execution_count": null,
      "outputs": [
        {
          "output_type": "display_data",
          "data": {
            "text/plain": [
              "<Figure size 640x480 with 1 Axes>"
            ],
            "image/png": "[encoded data removed]"
          },
          "metadata": {}
        }
      ]
    }
  ]
}