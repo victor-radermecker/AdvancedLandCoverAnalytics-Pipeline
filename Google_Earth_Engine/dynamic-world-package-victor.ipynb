{
 "cells": [
  {
   "cell_type": "code",
   "execution_count": 34,
   "metadata": {},
   "outputs": [
    {
     "name": "stdout",
     "output_type": "stream",
     "text": [
      "The autoreload extension is already loaded. To reload it, use:\n",
      "  %reload_ext autoreload\n"
     ]
    }
   ],
   "source": [
    "import pandas as pd\n",
    "import ee\n",
    "import geemap\n",
    "import folium\n",
    "from IPython.display import Image\n",
    "import ipyleaflet # to show the map in the notebook\n",
    "import math\n",
    "\n",
    "import sys\n",
    "sys.path.append('../src')\n",
    "from fishnet import Fishnet\n",
    "\n",
    "import warnings\n",
    "warnings.filterwarnings('ignore')\n",
    "\n",
    "# update files automatically\n",
    "%load_ext autoreload\n",
    "%autoreload 2"
   ]
  },
  {
   "attachments": {},
   "cell_type": "markdown",
   "metadata": {},
   "source": [
    "## Packages required for using Dynamic World in a Jupyter Notebook\n",
    "\n",
    "### How to install the EarthEngine Python package?\n",
    "\n",
    "`EarthEngine`: \n",
    "\n",
    "Installation Tutorial: https://developers.google.com/earth-engine/guides/python_install-conda#mac_6\n",
    "\n",
    "This tutorial requires the installation of Google Cloud: using the following command:\n",
    "    \n",
    "```bash\n",
    "curl https://sdk.cloud.google.com | bash\n",
    "```\n",
    "\n",
    "To authenticate, you should: `earthengine authenticate` as the ee.Authenticate() function is not working. (it only works in Google Colab Notebooks)\n",
    "\n",
    "\n",
    "### How to authenticate? \n",
    "Instructions are here: https://developers.google.com/earth-engine/cloud/earthengine_cloud_project_setup\n",
    "\n",
    "\n",
    "### How to install the earthengine command-line tool in the Google Cloud Shell:\n",
    "        \n",
    "```bash\n",
    "curl https://bootstrap.pypa.io/get-pip.py -o get-pip.py && python get-pip.py --user\n",
    "pip install earthengine-api --upgrade --user\n",
    "echo 'export PATH=\"$HOME/.local/bin:$PATH\"' >> ~/.bashrc\n",
    "source ~/.bashrc\n",
    "```\n",
    "\n",
    "You can validate this installation by using `earthengine authenticate` in the Google Cloud Shell.\n",
    "            \n",
    "- `GeeMap`: \n"
   ]
  },
  {
   "cell_type": "code",
   "execution_count": 35,
   "metadata": {},
   "outputs": [],
   "source": [
    "ee.Initialize(project=\"jpmorgancapstone\")"
   ]
  },
  {
   "attachments": {},
   "cell_type": "markdown",
   "metadata": {},
   "source": [
    "### What are the bands?\n",
    "\n",
    "The bands in the s2VisParams variable refer to the Sentinel-2 Harmonized dataset's specific bands used for visualization. Sentinel-2 data has 13 spectral bands, but we typically use a combination of three bands to visualize the data in RGB (red, green, blue) format. In this case, the bands used are:\n",
    "\n",
    "'B4': The red band (band 4) with a central wavelength of 665 nm and a resolution of 10 meters.\n",
    "'B3': The green band (band 3) with a central wavelength of 560 nm and a resolution of 10 meters.\n",
    "'B2': The blue band (band 2) with a central wavelength of 490 nm and a resolution of 10 meters.\n",
    "These three bands are used to create a true-color composite image that closely resembles how the human eye would perceive the landscape.\n",
    "\n",
    "The min and max values in the s2VisParams are the minimum and maximum pixel values for visualization. These values are used to scale the brightness of the image. In this case, the pixel values are scaled between 0 and 3000, which is a common choice for Sentinel-2 data to enhance the contrast and improve the overall appearance of the image."
   ]
  },
  {
   "attachments": {},
   "cell_type": "markdown",
   "metadata": {},
   "source": [
    "## Test - Matrix Extraction"
   ]
  },
  {
   "attachments": {},
   "cell_type": "markdown",
   "metadata": {},
   "source": [
    "### Image extraction from the Google Earth Engine"
   ]
  },
  {
   "cell_type": "code",
   "execution_count": 36,
   "metadata": {},
   "outputs": [
    {
     "data": {
      "application/vnd.jupyter.widget-view+json": {
       "model_id": "ac968bf7c64b49d08e0635f392e1a851",
       "version_major": 2,
       "version_minor": 0
      },
      "text/plain": [
       "Map(center=[20, 0], controls=(WidgetControl(options=['position', 'transparent_bg'], widget=HBox(children=(Togg…"
      ]
     },
     "metadata": {},
     "output_type": "display_data"
    }
   ],
   "source": [
    "#Parameters\n",
    "bb_coords = [-95.799944,29.374853,-95.028636,29.795492]\n",
    "region = ee.Geometry.BBox(bb_coords[0], bb_coords[1], bb_coords[2], bb_coords[3])\n",
    "rectangle = ee.Geometry.Rectangle(bb_coords)\n",
    "\n",
    "startDate = '2019-05-01'\n",
    "endDate = '2019-09-01'\n",
    "\n",
    "#Initialize the map\n",
    "Map = geemap.Map()\n",
    "Map.add_basemap('HYBRID')\n",
    "Map.centerObject(region)\n",
    "Map"
   ]
  },
  {
   "cell_type": "code",
   "execution_count": 37,
   "metadata": {},
   "outputs": [],
   "source": [
    "#Extract a satellite image\n",
    "image = geemap.dynamic_world_s2(region, startDate, endDate)\n",
    "\n",
    "#Extract the Dynamic World Labels\n",
    "landcover = geemap.dynamic_world(region, startDate, endDate, return_type='visualize')\n",
    "\n",
    "#Add to map\n",
    "Map.addLayer(landcover, {}, 'Land Cover')\n",
    "\n",
    "# add bounding box that we extract to the map\n",
    "Map.addLayer(rectangle, {}, 'Bounding Box')"
   ]
  },
  {
   "cell_type": "code",
   "execution_count": 44,
   "metadata": {},
   "outputs": [
    {
     "name": "stdout",
     "output_type": "stream",
     "text": [
      "Bounding Box Width: 74882.54092823579 meters\n",
      "Bounding Box Height: 46626.134124752236 meters\n",
      "Image width (pixels):  7489\n",
      "Image height (pixels):  4663\n",
      "Total number of pixels:  34921207\n"
     ]
    }
   ],
   "source": [
    "# Get the coordinates of the bounding box\n",
    "coords = region.getInfo()['coordinates'][0]\n",
    "\n",
    "# resolution in meters per pixel\n",
    "res = 10\n",
    "\n",
    "# Calculate the width and height of the bounding box in meters\n",
    "width = ee.Geometry.Point(coords[0]).distance(ee.Geometry.Point(coords[1]))\n",
    "height = ee.Geometry.Point(coords[1]).distance(ee.Geometry.Point(coords[2]))\n",
    "\n",
    "# Print the width and height\n",
    "print('Bounding Box Width:', width.getInfo(), 'meters')\n",
    "print('Bounding Box Height:', height.getInfo(), 'meters')\n",
    "\n",
    "# If 10m is one pixel, total number of required pixel in the image (witdh and height):\n",
    "print('Image width (pixels): ', math.ceil(width.getInfo() / res))\n",
    "print('Image height (pixels): ', math.ceil(height.getInfo() / res))\n",
    "print(\"Total number of pixels: \", math.ceil(width.getInfo() / res) * math.ceil(height.getInfo() / res))"
   ]
  },
  {
   "cell_type": "code",
   "execution_count": 45,
   "metadata": {},
   "outputs": [],
   "source": [
    "### Save the image\n",
    "export_params = {\n",
    "    'image': landcover,\n",
    "    'description': 'land_labels_test_export2',\n",
    "    'folder': '/ge_exports/',  # Google Drive folder name\n",
    "    'scale': 10,  # Resolution in meters\n",
    "    'region': region,\n",
    "    'fileFormat': 'GeoTIFF',\n",
    "    'maxPixels': 1e10,  # Increase this value if you encounter an error due to the pixel limit\n",
    "}\n",
    "\n",
    "export_task = ee.batch.Export.image.toDrive(**export_params)\n",
    "export_task.start()"
   ]
  },
  {
   "attachments": {},
   "cell_type": "markdown",
   "metadata": {},
   "source": [
    "#### Why do we get 648 images?\n",
    "\n",
    "Yes, I understand why this query returns 648 images. The Sentinel-2 satellite system consists of two satellites (Sentinel-2A and Sentinel-2B), which together provide a revisit time of 5 days at the equator. The query you provided filters the Sentinel-2 Harmonized dataset for images within a specified date range (from January 1, 2019, to January 1, 2020) and region, and with a cloud cover percentage less than 35%.\n",
    "\n",
    "In the given region and time period, 648 images satisfy these conditions. It is important to note that Sentinel-2 images are divided into granules or tiles, each covering a specific area on the Earth's surface. The query returns all the images of the specified region, which may include overlapping or adjacent granules. The total number of images returned may vary depending on the size of the region, the time period, and the cloud cover conditions."
   ]
  },
  {
   "attachments": {},
   "cell_type": "markdown",
   "metadata": {},
   "source": [
    "# Create a fishnet"
   ]
  },
  {
   "cell_type": "code",
   "execution_count": 32,
   "metadata": {},
   "outputs": [
    {
     "name": "stderr",
     "output_type": "stream",
     "text": [
      "100%|██████████| 63/63 [00:00<00:00, 1429.93it/s]\n"
     ]
    },
    {
     "name": "stdout",
     "output_type": "stream",
     "text": [
      "Generating polygons...\n",
      "Cliping fishinet to boundaries...\n",
      "Success. Fishnet created.\n"
     ]
    },
    {
     "data": {
      "text/html": [
       "<div>\n",
       "<style scoped>\n",
       "    .dataframe tbody tr th:only-of-type {\n",
       "        vertical-align: middle;\n",
       "    }\n",
       "\n",
       "    .dataframe tbody tr th {\n",
       "        vertical-align: top;\n",
       "    }\n",
       "\n",
       "    .dataframe thead th {\n",
       "        text-align: right;\n",
       "    }\n",
       "</style>\n",
       "<table border=\"1\" class=\"dataframe\">\n",
       "  <thead>\n",
       "    <tr style=\"text-align: right;\">\n",
       "      <th></th>\n",
       "      <th>id</th>\n",
       "      <th>OBJECTID</th>\n",
       "      <th>FIPS</th>\n",
       "      <th>CREATE_USE</th>\n",
       "      <th>CMNT</th>\n",
       "      <th>SHAPE_Leng</th>\n",
       "      <th>SHAPE_Area</th>\n",
       "      <th>geometry</th>\n",
       "    </tr>\n",
       "  </thead>\n",
       "  <tbody>\n",
       "    <tr>\n",
       "      <th>0</th>\n",
       "      <td>53</td>\n",
       "      <td>1.0</td>\n",
       "      <td>48.0</td>\n",
       "      <td>TPP</td>\n",
       "      <td>NaN</td>\n",
       "      <td>56.835385</td>\n",
       "      <td>65.729229</td>\n",
       "      <td>POLYGON ((-97.50226 26.00656, -97.50226 25.894...</td>\n",
       "    </tr>\n",
       "    <tr>\n",
       "      <th>1</th>\n",
       "      <td>54</td>\n",
       "      <td>1.0</td>\n",
       "      <td>48.0</td>\n",
       "      <td>TPP</td>\n",
       "      <td>NaN</td>\n",
       "      <td>56.835385</td>\n",
       "      <td>65.729229</td>\n",
       "      <td>POLYGON ((-97.50226 26.00656, -97.33292 26.006...</td>\n",
       "    </tr>\n",
       "    <tr>\n",
       "      <th>2</th>\n",
       "      <td>55</td>\n",
       "      <td>1.0</td>\n",
       "      <td>48.0</td>\n",
       "      <td>TPP</td>\n",
       "      <td>NaN</td>\n",
       "      <td>56.835385</td>\n",
       "      <td>65.729229</td>\n",
       "      <td>POLYGON ((-97.33292 26.00656, -97.16359 26.006...</td>\n",
       "    </tr>\n",
       "    <tr>\n",
       "      <th>3</th>\n",
       "      <td>56</td>\n",
       "      <td>1.0</td>\n",
       "      <td>48.0</td>\n",
       "      <td>TPP</td>\n",
       "      <td>NaN</td>\n",
       "      <td>56.835385</td>\n",
       "      <td>65.729229</td>\n",
       "      <td>POLYGON ((-97.16359 26.00656, -97.15080 26.006...</td>\n",
       "    </tr>\n",
       "    <tr>\n",
       "      <th>4</th>\n",
       "      <td>126</td>\n",
       "      <td>1.0</td>\n",
       "      <td>48.0</td>\n",
       "      <td>TPP</td>\n",
       "      <td>NaN</td>\n",
       "      <td>56.835385</td>\n",
       "      <td>65.729229</td>\n",
       "      <td>POLYGON ((-98.34892 26.17589, -98.34892 26.153...</td>\n",
       "    </tr>\n",
       "  </tbody>\n",
       "</table>\n",
       "</div>"
      ],
      "text/plain": [
       "    id  OBJECTID  FIPS CREATE_USE  CMNT  SHAPE_Leng  SHAPE_Area  \\\n",
       "0   53       1.0  48.0        TPP   NaN   56.835385   65.729229   \n",
       "1   54       1.0  48.0        TPP   NaN   56.835385   65.729229   \n",
       "2   55       1.0  48.0        TPP   NaN   56.835385   65.729229   \n",
       "3   56       1.0  48.0        TPP   NaN   56.835385   65.729229   \n",
       "4  126       1.0  48.0        TPP   NaN   56.835385   65.729229   \n",
       "\n",
       "                                            geometry  \n",
       "0  POLYGON ((-97.50226 26.00656, -97.50226 25.894...  \n",
       "1  POLYGON ((-97.50226 26.00656, -97.33292 26.006...  \n",
       "2  POLYGON ((-97.33292 26.00656, -97.16359 26.006...  \n",
       "3  POLYGON ((-97.16359 26.00656, -97.15080 26.006...  \n",
       "4  POLYGON ((-98.34892 26.17589, -98.34892 26.153...  "
      ]
     },
     "execution_count": 32,
     "metadata": {},
     "output_type": "execute_result"
    }
   ],
   "source": [
    "fishnet_creator = Fishnet('../Gis/Texas_State_Boundary/State.shp', 10, overlay_method='union')\n",
    "fishnet = fishnet_creator.create_fishnet()\n",
    "fishnet.head()"
   ]
  },
  {
   "cell_type": "code",
   "execution_count": 33,
   "metadata": {},
   "outputs": [
    {
     "data": {
      "image/png": "[encoded data removed]",
      "text/plain": [
       "<Figure size 1000x1000 with 1 Axes>"
      ]
     },
     "metadata": {},
     "output_type": "display_data"
    }
   ],
   "source": [
    "fishnet_creator.plot_fishnet()"
   ]
  },
  {
   "attachments": {},
   "cell_type": "markdown",
   "metadata": {},
   "source": [
    "# Read a TIFF Image in Python"
   ]
  },
  {
   "cell_type": "code",
   "execution_count": 46,
   "metadata": {},
   "outputs": [
    {
     "name": "stdout",
     "output_type": "stream",
     "text": [
      "Shape: (1, 1, 3)\n",
      "Data type: uint8\n",
      "Minimum value: 27\n",
      "Maximum value: 196\n"
     ]
    },
    {
     "data": {
      "text/plain": [
       "<matplotlib.image.AxesImage at 0x15b7f1750>"
      ]
     },
     "execution_count": 46,
     "metadata": {},
     "output_type": "execute_result"
    },
    {
     "data": {
      "image/png": "[encoded data removed]",
      "text/plain": [
       "<Figure size 640x480 with 1 Axes>"
      ]
     },
     "metadata": {},
     "output_type": "display_data"
    }
   ],
   "source": [
    "import imageio\n",
    "import numpy as np\n",
    "\n",
    "# Load the image\n",
    "image = imageio.imread('../Images/land_labels_test_export2.tif')\n",
    "\n",
    "# Print some information about the image\n",
    "print('Shape:', image.shape)\n",
    "print('Data type:', image.dtype)\n",
    "print('Minimum value:', image.min())\n",
    "print('Maximum value:', image.max())\n",
    "\n",
    "#plot the image\n",
    "plt.imshow(image)"
   ]
  },
  {
   "attachments": {},
   "cell_type": "markdown",
   "metadata": {},
   "source": [
    "## `[Work in progress...]` Extract probability values"
   ]
  },
  {
   "cell_type": "code",
   "execution_count": 21,
   "metadata": {},
   "outputs": [],
   "source": [
    "probabilityBands = [\n",
    "  'water', 'trees', 'grass', 'flooded_vegetation', 'crops', 'shrub_and_scrub',\n",
    "  'built', 'bare', 'snow_and_ice'\n",
    "]\n",
    "\n",
    "probabilityImage = dwImage.select(probabilityBands)\n",
    "\n",
    "# Create the image with the highest probability value at each pixel.\n",
    "top1Probability = probabilityImage.reduce(ee.Reducer.max())"
   ]
  },
  {
   "attachments": {},
   "cell_type": "markdown",
   "metadata": {},
   "source": [
    "## Manual Label extraction from Dynamic World"
   ]
  },
  {
   "cell_type": "code",
   "execution_count": 25,
   "metadata": {},
   "outputs": [],
   "source": [
    "imageId = s2Image.get('system:index')\n",
    "# print(imageId)"
   ]
  },
  {
   "cell_type": "code",
   "execution_count": 26,
   "metadata": {},
   "outputs": [
    {
     "name": "stdout",
     "output_type": "stream",
     "text": [
      "ee.Image({\n",
      "  \"functionInvocationValue\": {\n",
      "    \"functionName\": \"Collection.first\",\n",
      "    \"arguments\": {\n",
      "      \"collection\": {\n",
      "        \"functionInvocationValue\": {\n",
      "          \"functionName\": \"Collection.filter\",\n",
      "          \"arguments\": {\n",
      "            \"collection\": {\n",
      "              \"functionInvocationValue\": {\n",
      "                \"functionName\": \"ImageCollection.load\",\n",
      "                \"arguments\": {\n",
      "                  \"id\": {\n",
      "                    \"constantValue\": \"GOOGLE/DYNAMICWORLD/V1\"\n",
      "                  }\n",
      "                }\n",
      "              }\n",
      "            },\n",
      "            \"filter\": {\n",
      "              \"functionInvocationValue\": {\n",
      "                \"functionName\": \"Filter.equals\",\n",
      "                \"arguments\": {\n",
      "                  \"leftField\": {\n",
      "                    \"constantValue\": \"system:index\"\n",
      "                  },\n",
      "                  \"rightValue\": {\n",
      "                    \"functionInvocationValue\": {\n",
      "                      \"functionName\": \"Element.get\",\n",
      "                      \"arguments\": {\n",
      "                        \"object\": {\n",
      "                          \"functionInvocationValue\": {\n",
      "                            \"functionName\": \"Collection.first\",\n",
      "                            \"arguments\": {\n",
      "                              \"collection\": {\n",
      "                                \"functionInvocationValue\": {\n",
      "                                  \"functionName\": \"Collection.filter\",\n",
      "                                  \"arguments\": {\n",
      "                                    \"collection\": {\n",
      "                                      \"functionInvocationValue\": {\n",
      "                                        \"functionName\": \"Collection.filter\",\n",
      "                                        \"arguments\": {\n",
      "                                          \"collection\": {\n",
      "                                            \"functionInvocationValue\": {\n",
      "                                              \"functionName\": \"Collection.filter\",\n",
      "                                              \"arguments\": {\n",
      "                                                \"collection\": {\n",
      "                                                  \"functionInvocationValue\": {\n",
      "                                                    \"functionName\": \"ImageCollection.load\",\n",
      "                                                    \"arguments\": {\n",
      "                                                      \"id\": {\n",
      "                                                        \"constantValue\": \"COPERNICUS/S2_HARMONIZED\"\n",
      "                                                      }\n",
      "                                                    }\n",
      "                                                  }\n",
      "                                                },\n",
      "                                                \"filter\": {\n",
      "                                                  \"functionInvocationValue\": {\n",
      "                                                    \"functionName\": \"Filter.dateRangeContains\",\n",
      "                                                    \"arguments\": {\n",
      "                                                      \"leftValue\": {\n",
      "                                                        \"functionInvocationValue\": {\n",
      "                                                          \"functionName\": \"DateRange\",\n",
      "                                                          \"arguments\": {\n",
      "                                                            \"end\": {\n",
      "                                                              \"constantValue\": \"2020-01-01\"\n",
      "                                                            },\n",
      "                                                            \"start\": {\n",
      "                                                              \"constantValue\": \"2019-01-01\"\n",
      "                                                            }\n",
      "                                                          }\n",
      "                                                        }\n",
      "                                                      },\n",
      "                                                      \"rightField\": {\n",
      "                                                        \"constantValue\": \"system:time_start\"\n",
      "                                                      }\n",
      "                                                    }\n",
      "                                                  }\n",
      "                                                }\n",
      "                                              }\n",
      "                                            }\n",
      "                                          },\n",
      "                                          \"filter\": {\n",
      "                                            \"functionInvocationValue\": {\n",
      "                                              \"functionName\": \"Filter.intersects\",\n",
      "                                              \"arguments\": {\n",
      "                                                \"leftField\": {\n",
      "                                                  \"constantValue\": \".all\"\n",
      "                                                },\n",
      "                                                \"rightValue\": {\n",
      "                                                  \"functionInvocationValue\": {\n",
      "                                                    \"functionName\": \"Feature\",\n",
      "                                                    \"arguments\": {\n",
      "                                                      \"geometry\": {\n",
      "                                                        \"functionInvocationValue\": {\n",
      "                                                          \"functionName\": \"GeometryConstructors.Polygon\",\n",
      "                                                          \"arguments\": {\n",
      "                                                            \"coordinates\": {\n",
      "                                                              \"constantValue\": [\n",
      "                                                                [\n",
      "                                                                  [\n",
      "                                                                    -95.91340000000002,\n",
      "                                                                    30.0581\n",
      "                                                                  ],\n",
      "                                                                  [\n",
      "                                                                    -95.91340000000002,\n",
      "                                                                    29.2082\n",
      "                                                                  ],\n",
      "                                                                  [\n",
      "                                                                    -94.4339,\n",
      "                                                                    29.2082\n",
      "                                                                  ],\n",
      "                                                                  [\n",
      "                                                                    -94.4339,\n",
      "                                                                    30.0581\n",
      "                                                                  ]\n",
      "                                                                ]\n",
      "                                                              ]\n",
      "                                                            },\n",
      "                                                            \"geodesic\": {\n",
      "                                                              \"constantValue\": false\n",
      "                                                            }\n",
      "                                                          }\n",
      "                                                        }\n",
      "                                                      }\n",
      "                                                    }\n",
      "                                                  }\n",
      "                                                }\n",
      "                                              }\n",
      "                                            }\n",
      "                                          }\n",
      "                                        }\n",
      "                                      }\n",
      "                                    },\n",
      "                                    \"filter\": {\n",
      "                                      \"functionInvocationValue\": {\n",
      "                                        \"functionName\": \"Filter.lessThan\",\n",
      "                                        \"arguments\": {\n",
      "                                          \"leftField\": {\n",
      "                                            \"constantValue\": \"CLOUDY_PIXEL_PERCENTAGE\"\n",
      "                                          },\n",
      "                                          \"rightValue\": {\n",
      "                                            \"constantValue\": 35\n",
      "                                          }\n",
      "                                        }\n",
      "                                      }\n",
      "                                    }\n",
      "                                  }\n",
      "                                }\n",
      "                              }\n",
      "                            }\n",
      "                          }\n",
      "                        },\n",
      "                        \"property\": {\n",
      "                          \"constantValue\": \"system:index\"\n",
      "                        }\n",
      "                      }\n",
      "                    }\n",
      "                  }\n",
      "                }\n",
      "              }\n",
      "            }\n",
      "          }\n",
      "        }\n",
      "      }\n",
      "    }\n",
      "  }\n",
      "})\n"
     ]
    }
   ],
   "source": [
    "dw = ee.ImageCollection('GOOGLE/DYNAMICWORLD/V1') \\\n",
    "             .filter(ee.Filter.eq('system:index', imageId))\n",
    "\n",
    "dwImage = ee.Image(dw.first())\n",
    "# print(dwImage)"
   ]
  },
  {
   "cell_type": "code",
   "execution_count": 27,
   "metadata": {},
   "outputs": [
    {
     "data": {
      "text/html": [
       "<div><style>:root {\n",
       "  --font-color-primary: var(--jp-content-font-color0, rgba(0, 0, 0, 1));\n",
       "  --font-color-secondary: var(--jp-content-font-color2, rgba(0, 0, 0, 0.6));\n",
       "  --font-color-accent: rgba(123, 31, 162, 1);\n",
       "  --border-color: var(--jp-border-color2, #e0e0e0);\n",
       "  --background-color: var(--jp-layout-color0, white);\n",
       "  --background-color-row-even: var(--jp-layout-color1, white);\n",
       "  --background-color-row-odd: var(--jp-layout-color2, #eeeeee);\n",
       "}\n",
       "\n",
       "html[theme=\"dark\"],\n",
       "body[data-theme=\"dark\"],\n",
       "body.vscode-dark {\n",
       "  --font-color-primary: rgba(255, 255, 255, 1);\n",
       "  --font-color-secondary: rgba(255, 255, 255, 0.6);\n",
       "  --font-color-accent: rgb(173, 132, 190);\n",
       "  --border-color: #2e2e2e;\n",
       "  --background-color: #111111;\n",
       "  --background-color-row-even: #111111;\n",
       "  --background-color-row-odd: #313131;\n",
       "}\n",
       "\n",
       ".ee {\n",
       "  padding: 1em;\n",
       "  line-height: 1.5em;\n",
       "  min-width: 300px;\n",
       "  max-width: 1200px;\n",
       "  overflow-y: scroll;\n",
       "  max-height: 600px;\n",
       "  border: 1px solid var(--border-color);\n",
       "  font-family: monospace;\n",
       "}\n",
       "\n",
       ".ee li {\n",
       "  list-style-type: none;\n",
       "}\n",
       "\n",
       ".ee ul {\n",
       "  padding-left: 1.5em !important;\n",
       "  margin: 0;\n",
       "}\n",
       "\n",
       ".ee > ul {\n",
       "  padding-left: 0 !important;\n",
       "}\n",
       "\n",
       ".ee-open,\n",
       ".ee-shut {\n",
       "  color: var(--font-color-secondary);\n",
       "  cursor: pointer;\n",
       "  margin: 0;\n",
       "}\n",
       "\n",
       ".ee-open:hover,\n",
       ".ee-shut:hover {\n",
       "  color: var(--font-color-primary);\n",
       "}\n",
       "\n",
       ".ee-k {\n",
       "  color: var(--font-color-accent);\n",
       "  margin-right: 6px;\n",
       "}\n",
       "\n",
       ".ee-v {\n",
       "  color: var(--font-color-primary);\n",
       "}\n",
       "\n",
       ".ee-toggle {\n",
       "  display: none;\n",
       "}\n",
       "\n",
       ".ee-shut + ul {\n",
       "  display: none;\n",
       "}\n",
       "\n",
       ".ee-open + ul {\n",
       "  display: block;\n",
       "}\n",
       "\n",
       ".ee-shut::before {\n",
       "  display: inline-block;\n",
       "  content: \"▼\";\n",
       "  margin-right: 6px;\n",
       "  transform: rotate(-90deg);\n",
       "  transition: transform 0.2s;\n",
       "}\n",
       "\n",
       ".ee-open::before {\n",
       "  transform: rotate(0deg);\n",
       "  display: inline-block;\n",
       "  content: \"▼\";\n",
       "  margin-right: 6px;\n",
       "  transition: transform 0.2s;\n",
       "}\n",
       "</style><div class='ee'><ul><li><label class='ee-shut'>Image GOOGLE/DYNAMICWORLD/V1/20190104T165701_20190104T170315_T15RTN (1 band)<input type='checkbox' class='ee-toggle'></label><ul><li><span class='ee-k'>type:</span><span class='ee-v'>Image</span></li><li><span class='ee-k'>id:</span><span class='ee-v'>GOOGLE/DYNAMICWORLD/V1/20190104T165701_20190104T170315_T15RTN</span></li><li><span class='ee-k'>version:</span><span class='ee-v'>1680794856060624</span></li><li><label class='ee-shut'>bands: List (1 element)<input type='checkbox' class='ee-toggle'></label><ul><li><label class='ee-shut'>0: \"label\", unsigned int8, EPSG:32615, 7605x10942 px<input type='checkbox' class='ee-toggle'></label><ul><li><span class='ee-k'>id:</span><span class='ee-v'>label</span></li><li><span class='ee-k'>crs:</span><span class='ee-v'>EPSG:32615</span></li><li><label class='ee-shut'>crs_transform: [10, 0, 233520, 0, 10, 3190400]<input type='checkbox' class='ee-toggle'></label><ul><li><span class='ee-k'>0:</span><span class='ee-v'>10</span></li><li><span class='ee-k'>1:</span><span class='ee-v'>0</span></li><li><span class='ee-k'>2:</span><span class='ee-v'>233520</span></li><li><span class='ee-k'>3:</span><span class='ee-v'>0</span></li><li><span class='ee-k'>4:</span><span class='ee-v'>10</span></li><li><span class='ee-k'>5:</span><span class='ee-v'>3190400</span></li></ul></li><li><label class='ee-shut'>data_type: unsigned int8<input type='checkbox' class='ee-toggle'></label><ul><li><span class='ee-k'>type:</span><span class='ee-v'>PixelType</span></li><li><span class='ee-k'>max:</span><span class='ee-v'>255</span></li><li><span class='ee-k'>min:</span><span class='ee-v'>0</span></li><li><span class='ee-k'>precision:</span><span class='ee-v'>int</span></li></ul></li><li><label class='ee-shut'>dimensions: [7605, 10942]<input type='checkbox' class='ee-toggle'></label><ul><li><span class='ee-k'>0:</span><span class='ee-v'>7605</span></li><li><span class='ee-k'>1:</span><span class='ee-v'>10942</span></li></ul></li></ul></li></ul></li><li><label class='ee-shut'>properties: Object (6 properties)<input type='checkbox' class='ee-toggle'></label><ul><li><span class='ee-k'>dynamicworld_algorithm_version:</span><span class='ee-v'>3.5</span></li><li><span class='ee-k'>qa_algorithm_version:</span><span class='ee-v'>1</span></li><li><span class='ee-k'>system:asset_size:</span><span class='ee-v'>1433972259</span></li><li><label class='ee-shut'>system:footprint: LinearRing (20 vertices)<input type='checkbox' class='ee-toggle'></label><ul><li><span class='ee-k'>type:</span><span class='ee-v'>LinearRing</span></li><li><label class='ee-shut'>coordinates: List (20 elements)<input type='checkbox' class='ee-toggle'></label><ul><li><label class='ee-shut'>0: [-94.97061803757674, 29.81418883941405]<input type='checkbox' class='ee-toggle'></label><ul><li><span class='ee-k'>0:</span><span class='ee-v'>-94.97061803757674</span></li><li><span class='ee-k'>1:</span><span class='ee-v'>29.81418883941405</span></li></ul></li><li><label class='ee-shut'>1: [-94.97063104154066, 29.814189408634366]<input type='checkbox' class='ee-toggle'></label><ul><li><span class='ee-k'>0:</span><span class='ee-v'>-94.97063104154066</span></li><li><span class='ee-k'>1:</span><span class='ee-v'>29.814189408634366</span></li></ul></li><li><label class='ee-shut'>2: [-95.7568455268529, 29.800120156407957]<input type='checkbox' class='ee-toggle'></label><ul><li><span class='ee-k'>0:</span><span class='ee-v'>-95.7568455268529</span></li><li><span class='ee-k'>1:</span><span class='ee-v'>29.800120156407957</span></li></ul></li><li><label class='ee-shut'>3: [-95.75689222782478, 29.800082564465892]<input type='checkbox' class='ee-toggle'></label><ul><li><span class='ee-k'>0:</span><span class='ee-v'>-95.75689222782478</span></li><li><span class='ee-k'>1:</span><span class='ee-v'>29.800082564465892</span></li></ul></li><li><label class='ee-shut'>4: [-95.75694407318068, 29.80005038233916]<input type='checkbox' class='ee-toggle'></label><ul><li><span class='ee-k'>0:</span><span class='ee-v'>-95.75694407318068</span></li><li><span class='ee-k'>1:</span><span class='ee-v'>29.80005038233916</span></li></ul></li><li><label class='ee-shut'>5: [-95.75694688649587, 29.800035560091324]<input type='checkbox' class='ee-toggle'></label><ul><li><span class='ee-k'>0:</span><span class='ee-v'>-95.75694688649587</span></li><li><span class='ee-k'>1:</span><span class='ee-v'>29.800035560091324</span></li></ul></li><li><label class='ee-shut'>6: [-95.74358216476051, 29.30687420444128]<input type='checkbox' class='ee-toggle'></label><ul><li><span class='ee-k'>0:</span><span class='ee-v'>-95.74358216476051</span></li><li><span class='ee-k'>1:</span><span class='ee-v'>29.30687420444128</span></li></ul></li><li><label class='ee-shut'>7: [-95.73054704445327, 28.813678525339103]<input type='checkbox' class='ee-toggle'></label><ul><li><span class='ee-k'>0:</span><span class='ee-v'>-95.73054704445327</span></li><li><span class='ee-k'>1:</span><span class='ee-v'>28.813678525339103</span></li></ul></li><li><label class='ee-shut'>8: [-95.73050422069805, 28.813637894124707]<input type='checkbox' class='ee-toggle'></label><ul><li><span class='ee-k'>0:</span><span class='ee-v'>-95.73050422069805</span></li><li><span class='ee-k'>1:</span><span class='ee-v'>28.813637894124707</span></li></ul></li><li><label class='ee-shut'>9: [-95.73046750316888, 28.81359292788435]<input type='checkbox' class='ee-toggle'></label><ul><li><span class='ee-k'>0:</span><span class='ee-v'>-95.73046750316888</span></li><li><span class='ee-k'>1:</span><span class='ee-v'>28.81359292788435</span></li></ul></li><li><label class='ee-shut'>10: [-95.73045055044426, 28.813590456193662]<input type='checkbox' class='ee-toggle'></label><ul><li><span class='ee-k'>0:</span><span class='ee-v'>-95.73045055044426</span></li><li><span class='ee-k'>1:</span><span class='ee-v'>28.813590456193662</span></li></ul></li><li><label class='ee-shut'>11: [-94.95174335703524, 28.827106234289303]<input type='checkbox' class='ee-toggle'></label><ul><li><span class='ee-k'>0:</span><span class='ee-v'>-94.95174335703524</span></li><li><span class='ee-k'>1:</span><span class='ee-v'>28.827106234289303</span></li></ul></li><li><label class='ee-shut'>12: [-94.95169674883908, 28.827143502230385]<input type='checkbox' class='ee-toggle'></label><ul><li><span class='ee-k'>0:</span><span class='ee-v'>-94.95169674883908</span></li><li><span class='ee-k'>1:</span><span class='ee-v'>28.827143502230385</span></li></ul></li><li><label class='ee-shut'>13: [-94.95164514695298, 28.827175365834492]<input type='checkbox' class='ee-toggle'></label><ul><li><span class='ee-k'>0:</span><span class='ee-v'>-94.95164514695298</span></li><li><span class='ee-k'>1:</span><span class='ee-v'>28.827175365834492</span></li></ul></li><li><label class='ee-shut'>14: [-94.95164221412833, 28.82719019466134]<input type='checkbox' class='ee-toggle'></label><ul><li><span class='ee-k'>0:</span><span class='ee-v'>-94.95164221412833</span></li><li><span class='ee-k'>1:</span><span class='ee-v'>28.82719019466134</span></li></ul></li><li><label class='ee-shut'>15: [-94.96096612471837, 29.320668930181366]<input type='checkbox' class='ee-toggle'></label><ul><li><span class='ee-k'>0:</span><span class='ee-v'>-94.96096612471837</span></li><li><span class='ee-k'>1:</span><span class='ee-v'>29.320668930181366</span></li></ul></li><li><label class='ee-shut'>16: [-94.97052558265217, 29.81410095654586]<input type='checkbox' class='ee-toggle'></label><ul><li><span class='ee-k'>0:</span><span class='ee-v'>-94.97052558265217</span></li><li><span class='ee-k'>1:</span><span class='ee-v'>29.81410095654586</span></li></ul></li><li><label class='ee-shut'>17: [-94.97056847981514, 29.8141418075786]<input type='checkbox' class='ee-toggle'></label><ul><li><span class='ee-k'>0:</span><span class='ee-v'>-94.97056847981514</span></li><li><span class='ee-k'>1:</span><span class='ee-v'>29.8141418075786</span></li></ul></li><li><label class='ee-shut'>18: [-94.97060527149316, 29.814186939885687]<input type='checkbox' class='ee-toggle'></label><ul><li><span class='ee-k'>0:</span><span class='ee-v'>-94.97060527149316</span></li><li><span class='ee-k'>1:</span><span class='ee-v'>29.814186939885687</span></li></ul></li><li><label class='ee-shut'>19: [-94.97061803757674, 29.81418883941405]<input type='checkbox' class='ee-toggle'></label><ul><li><span class='ee-k'>0:</span><span class='ee-v'>-94.97061803757674</span></li><li><span class='ee-k'>1:</span><span class='ee-v'>29.81418883941405</span></li></ul></li></ul></li></ul></li><li><span class='ee-k'>system:index:</span><span class='ee-v'>20190104T165701_20190104T170315_T15RTN</span></li><li><span class='ee-k'>system:time_start:</span><span class='ee-v'>1546621534940</span></li></ul></li></ul></li></ul></div><script>function toggleHeader() {\n",
       "    const parent = this.parentElement;\n",
       "    parent.className = parent.className === \"ee-open\" ? \"ee-shut\" : \"ee-open\";\n",
       "}\n",
       "\n",
       "for (let c of document.getElementsByClassName(\"ee-toggle\")) {\n",
       "    c.onclick = toggleHeader;\n",
       "}</script></div>"
      ],
      "text/plain": [
       "<ee.image.Image at 0x16885ca10>"
      ]
     },
     "execution_count": 27,
     "metadata": {},
     "output_type": "execute_result"
    }
   ],
   "source": [
    "classification = dwImage.select('label')\n",
    "classification"
   ]
  },
  {
   "attachments": {},
   "cell_type": "markdown",
   "metadata": {},
   "source": [
    "#### Export this image"
   ]
  },
  {
   "cell_type": "code",
   "execution_count": 19,
   "metadata": {},
   "outputs": [],
   "source": [
    "# import time\n",
    "\n",
    "# export_params = {\n",
    "#     'image': classification,\n",
    "#     'description': 'example_image_export',\n",
    "#     'folder': '/ge_exports/',  # Google Drive folder name\n",
    "#     'scale': 10,  # Resolution in meters\n",
    "#     'region': region,\n",
    "#     'fileFormat': 'GeoTIFF',\n",
    "#     'maxPixels': 1e9,  # Increase this value if you encounter an error due to the pixel limit\n",
    "# }\n",
    "\n",
    "# export_task = ee.batch.Export.image.toDrive(**export_params)\n",
    "# export_task.start()"
   ]
  },
  {
   "cell_type": "code",
   "execution_count": 28,
   "metadata": {},
   "outputs": [
    {
     "data": {
      "application/vnd.jupyter.widget-view+json": {
       "model_id": "3ab938e27ded42419a04ecb41a002a03",
       "version_major": 2,
       "version_minor": 0
      },
      "text/plain": [
       "Map(bottom=54531.0, center=[29.6331500009872, -95.17365000000001], controls=(WidgetControl(options=['position'…"
      ]
     },
     "metadata": {},
     "output_type": "display_data"
    }
   ],
   "source": [
    "classification = dwImage.select('label')\n",
    "dwVisParams = {\n",
    "  'min': 0,\n",
    "  'max': 8,\n",
    "  'palette': [\n",
    "    '#419BDF', '#397D49', '#88B053', '#7A87C6', '#E49635', '#DFC35A',\n",
    "    '#C4281B', '#A59B8F', '#B39FE1'\n",
    "  ]\n",
    "}\n",
    "\n",
    "Map.addLayer(classification, dwVisParams, 'Classified Image')\n",
    "Map"
   ]
  }
 ],
 "metadata": {
  "kernelspec": {
   "display_name": "capstone",
   "language": "python",
   "name": "python3"
  },
  "language_info": {
   "codemirror_mode": {
    "name": "ipython",
    "version": 3
   },
   "file_extension": ".py",
   "mimetype": "text/x-python",
   "name": "python",
   "nbconvert_exporter": "python",
   "pygments_lexer": "ipython3",
   "version": "3.11.2"
  },
  "orig_nbformat": 4
 },
 "nbformat": 4,
 "nbformat_minor": 2
}
