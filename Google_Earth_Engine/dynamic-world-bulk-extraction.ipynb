{
 "cells": [
  {
   "cell_type": "code",
   "execution_count": 1,
   "metadata": {},
   "outputs": [],
   "source": [
    "import pandas as pd\n",
    "import ee\n",
    "import geemap\n",
    "import imageio\n",
    "from matplotlib import pyplot as plt\n",
    "import sys\n",
    "import warnings\n",
    "import cv2\n",
    "warnings.filterwarnings('ignore')"
   ]
  },
  {
   "cell_type": "code",
   "execution_count": 4,
   "metadata": {},
   "outputs": [
    {
     "name": "stdout",
     "output_type": "stream",
     "text": [
      "The autoreload extension is already loaded. To reload it, use:\n",
      "  %reload_ext autoreload\n"
     ]
    }
   ],
   "source": [
    "# import local modules\n",
    "sys.path.append('../src')\n",
    "from Fishnet import Fishnet\n",
    "from ImageProcessor import ImageProcessor\n",
    "\n",
    "# update files automatically\n",
    "%load_ext autoreload\n",
    "%autoreload 2\n",
    "\n",
    "ee.Initialize(project=\"jpmorgancapstone\")"
   ]
  },
  {
   "cell_type": "markdown",
   "metadata": {},
   "source": [
    "# Generating FishNet"
   ]
  },
  {
   "cell_type": "code",
   "execution_count": 17,
   "metadata": {},
   "outputs": [
    {
     "name": "stderr",
     "output_type": "stream",
     "text": [
      "100%|██████████| 2519/2519 [01:07<00:00, 37.27it/s]\n"
     ]
    },
    {
     "name": "stdout",
     "output_type": "stream",
     "text": [
      "Generating polygons...\n",
      "Success. Fishnet created.\n"
     ]
    },
    {
     "data": {
      "text/html": [
       "<div>\n",
       "<style scoped>\n",
       "    .dataframe tbody tr th:only-of-type {\n",
       "        vertical-align: middle;\n",
       "    }\n",
       "\n",
       "    .dataframe tbody tr th {\n",
       "        vertical-align: top;\n",
       "    }\n",
       "\n",
       "    .dataframe thead th {\n",
       "        text-align: right;\n",
       "    }\n",
       "</style>\n",
       "<table border=\"1\" class=\"dataframe\">\n",
       "  <thead>\n",
       "    <tr style=\"text-align: right;\">\n",
       "      <th></th>\n",
       "      <th>id</th>\n",
       "      <th>geometry</th>\n",
       "    </tr>\n",
       "  </thead>\n",
       "  <tbody>\n",
       "    <tr>\n",
       "      <th>0</th>\n",
       "      <td>0</td>\n",
       "      <td>POLYGON ((-106.64200 36.49615, -106.64200 36.5...</td>\n",
       "    </tr>\n",
       "    <tr>\n",
       "      <th>1</th>\n",
       "      <td>1</td>\n",
       "      <td>POLYGON ((-106.63776 36.49615, -106.63776 36.5...</td>\n",
       "    </tr>\n",
       "    <tr>\n",
       "      <th>2</th>\n",
       "      <td>2</td>\n",
       "      <td>POLYGON ((-106.63353 36.49615, -106.63353 36.5...</td>\n",
       "    </tr>\n",
       "    <tr>\n",
       "      <th>3</th>\n",
       "      <td>3</td>\n",
       "      <td>POLYGON ((-106.62930 36.49615, -106.62930 36.5...</td>\n",
       "    </tr>\n",
       "    <tr>\n",
       "      <th>4</th>\n",
       "      <td>4</td>\n",
       "      <td>POLYGON ((-106.62506 36.49615, -106.62506 36.5...</td>\n",
       "    </tr>\n",
       "    <tr>\n",
       "      <th>...</th>\n",
       "      <td>...</td>\n",
       "      <td>...</td>\n",
       "    </tr>\n",
       "    <tr>\n",
       "      <th>7818971</th>\n",
       "      <td>7818971</td>\n",
       "      <td>POLYGON ((-93.52292 25.83664, -93.52292 25.840...</td>\n",
       "    </tr>\n",
       "    <tr>\n",
       "      <th>7818972</th>\n",
       "      <td>7818972</td>\n",
       "      <td>POLYGON ((-93.51869 25.83664, -93.51869 25.840...</td>\n",
       "    </tr>\n",
       "    <tr>\n",
       "      <th>7818973</th>\n",
       "      <td>7818973</td>\n",
       "      <td>POLYGON ((-93.51446 25.83664, -93.51446 25.840...</td>\n",
       "    </tr>\n",
       "    <tr>\n",
       "      <th>7818974</th>\n",
       "      <td>7818974</td>\n",
       "      <td>POLYGON ((-93.51022 25.83664, -93.51022 25.840...</td>\n",
       "    </tr>\n",
       "    <tr>\n",
       "      <th>7818975</th>\n",
       "      <td>7818975</td>\n",
       "      <td>POLYGON ((-93.50599 25.83664, -93.50599 25.840...</td>\n",
       "    </tr>\n",
       "  </tbody>\n",
       "</table>\n",
       "<p>7818976 rows × 2 columns</p>\n",
       "</div>"
      ],
      "text/plain": [
       "              id                                           geometry\n",
       "0              0  POLYGON ((-106.64200 36.49615, -106.64200 36.5...\n",
       "1              1  POLYGON ((-106.63776 36.49615, -106.63776 36.5...\n",
       "2              2  POLYGON ((-106.63353 36.49615, -106.63353 36.5...\n",
       "3              3  POLYGON ((-106.62930 36.49615, -106.62930 36.5...\n",
       "4              4  POLYGON ((-106.62506 36.49615, -106.62506 36.5...\n",
       "...          ...                                                ...\n",
       "7818971  7818971  POLYGON ((-93.52292 25.83664, -93.52292 25.840...\n",
       "7818972  7818972  POLYGON ((-93.51869 25.83664, -93.51869 25.840...\n",
       "7818973  7818973  POLYGON ((-93.51446 25.83664, -93.51446 25.840...\n",
       "7818974  7818974  POLYGON ((-93.51022 25.83664, -93.51022 25.840...\n",
       "7818975  7818975  POLYGON ((-93.50599 25.83664, -93.50599 25.840...\n",
       "\n",
       "[7818976 rows x 2 columns]"
      ]
     },
     "execution_count": 17,
     "metadata": {},
     "output_type": "execute_result"
    }
   ],
   "source": [
    "# Create an instance of the Fishnet class\n",
    "fishnet_creator_example = Fishnet('../Gis/Texas_State_Boundary/State.shp', 0.25, overlay_method='union', clip=False) # Victor\n",
    "\n",
    "# Create the fishnet\n",
    "fishnet_creator_example.create_fishnet()"
   ]
  },
  {
   "cell_type": "code",
   "execution_count": 18,
   "metadata": {},
   "outputs": [
    {
     "name": "stderr",
     "output_type": "stream",
     "text": [
      "100%|██████████| 7818976/7818976 [01:35<00:00, 81784.97it/s]\n",
      "100%|██████████| 158/158 [00:00<00:00, 411.28it/s]\n"
     ]
    }
   ],
   "source": [
    "fishnet_creator_example.batch(4)  # creates batches of 4miles x 4miles"
   ]
  },
  {
   "cell_type": "code",
   "execution_count": 15,
   "metadata": {},
   "outputs": [
    {
     "data": {
      "image/png": "[encoded data removed]",
      "text/plain": [
       "<Figure size 1000x1000 with 1 Axes>"
      ]
     },
     "metadata": {},
     "output_type": "display_data"
    }
   ],
   "source": [
    "fishnet_creator_example.plot_fishnet()"
   ]
  },
  {
   "attachments": {},
   "cell_type": "markdown",
   "metadata": {},
   "source": [
    "## Save and Load the fishnet"
   ]
  },
  {
   "cell_type": "code",
   "execution_count": 20,
   "metadata": {},
   "outputs": [
    {
     "ename": "PicklingError",
     "evalue": "Can't pickle <class 'Fishnet.Fishnet'>: it's not the same object as Fishnet.Fishnet",
     "output_type": "error",
     "traceback": [
      "\u001b[0;31m---------------------------------------------------------------------------\u001b[0m",
      "\u001b[0;31mPicklingError\u001b[0m                             Traceback (most recent call last)",
      "Cell \u001b[0;32mIn[20], line 2\u001b[0m\n\u001b[1;32m      1\u001b[0m \u001b[39m# this specific fishnet was 0.25miles granular and 4miles edge of each batch.\u001b[39;00m\n\u001b[0;32m----> 2\u001b[0m fishnet_creator_example\u001b[39m.\u001b[39;49msave(\u001b[39m'\u001b[39;49m\u001b[39m../Gis/Fishnet/fishnet_quarter_mile.pkl\u001b[39;49m\u001b[39m'\u001b[39;49m) \u001b[39m# saves the fishnet to a pickle file\u001b[39;00m\n",
      "File \u001b[0;32m~/Documents/JPM Capstone Code/Capstone_JPMorgan/Google_Earth_Engine/../src/Fishnet.py:174\u001b[0m, in \u001b[0;36mFishnet.save\u001b[0;34m(self, file_path)\u001b[0m\n\u001b[1;32m    167\u001b[0m \u001b[39m\u001b[39m\u001b[39m\"\"\"\u001b[39;00m\n\u001b[1;32m    168\u001b[0m \u001b[39mSave the Fishnet object to a file using pickle.\u001b[39;00m\n\u001b[1;32m    169\u001b[0m \n\u001b[1;32m    170\u001b[0m \u001b[39mParameters:\u001b[39;00m\n\u001b[1;32m    171\u001b[0m \u001b[39mfile_path (str): The file path to save the Fishnet object.\u001b[39;00m\n\u001b[1;32m    172\u001b[0m \u001b[39m\"\"\"\u001b[39;00m\n\u001b[1;32m    173\u001b[0m \u001b[39mwith\u001b[39;00m \u001b[39mopen\u001b[39m(file_path, \u001b[39m\"\u001b[39m\u001b[39mwb\u001b[39m\u001b[39m\"\u001b[39m) \u001b[39mas\u001b[39;00m file:\n\u001b[0;32m--> 174\u001b[0m     pickle\u001b[39m.\u001b[39;49mdump(\u001b[39mself\u001b[39;49m, file)\n",
      "\u001b[0;31mPicklingError\u001b[0m: Can't pickle <class 'Fishnet.Fishnet'>: it's not the same object as Fishnet.Fishnet"
     ]
    }
   ],
   "source": [
    "# this specific fishnet was 0.25miles granular and 4miles edge of each batch.\n",
    "fishnet_creator_example.save('../Gis/Fishnet/fishnet_quarter_mile.pkl') # saves the fishnet to a pickle file"
   ]
  },
  {
   "cell_type": "code",
   "execution_count": 16,
   "metadata": {},
   "outputs": [
    {
     "ename": "ModuleNotFoundError",
     "evalue": "No module named 'fishnet'",
     "output_type": "error",
     "traceback": [
      "\u001b[0;31m---------------------------------------------------------------------------\u001b[0m",
      "\u001b[0;31mModuleNotFoundError\u001b[0m                       Traceback (most recent call last)",
      "Cell \u001b[0;32mIn[16], line 2\u001b[0m\n\u001b[1;32m      1\u001b[0m \u001b[39m# load the object\u001b[39;00m\n\u001b[0;32m----> 2\u001b[0m fishnet_creator \u001b[39m=\u001b[39m Fishnet\u001b[39m.\u001b[39;49mload(\u001b[39m'\u001b[39;49m\u001b[39m../Gis/Fishnet/fishnet_quarter_mile.pkl\u001b[39;49m\u001b[39m'\u001b[39;49m)\n",
      "File \u001b[0;32m~/Documents/JPM Capstone Code/Capstone_JPMorgan/Google_Earth_Engine/../src/Fishnet.py:188\u001b[0m, in \u001b[0;36mFishnet.load\u001b[0;34m(cls, file_path)\u001b[0m\n\u001b[1;32m    178\u001b[0m \u001b[39m\u001b[39m\u001b[39m\"\"\"\u001b[39;00m\n\u001b[1;32m    179\u001b[0m \u001b[39mLoad a Fishnet object from a file using pickle.\u001b[39;00m\n\u001b[1;32m    180\u001b[0m \n\u001b[0;32m   (...)\u001b[0m\n\u001b[1;32m    185\u001b[0m \u001b[39mFishnet: The loaded Fishnet object.\u001b[39;00m\n\u001b[1;32m    186\u001b[0m \u001b[39m\"\"\"\u001b[39;00m\n\u001b[1;32m    187\u001b[0m \u001b[39mwith\u001b[39;00m \u001b[39mopen\u001b[39m(file_path, \u001b[39m\"\u001b[39m\u001b[39mrb\u001b[39m\u001b[39m\"\u001b[39m) \u001b[39mas\u001b[39;00m file:\n\u001b[0;32m--> 188\u001b[0m     \u001b[39mreturn\u001b[39;00m pickle\u001b[39m.\u001b[39;49mload(file)\n",
      "\u001b[0;31mModuleNotFoundError\u001b[0m: No module named 'fishnet'"
     ]
    }
   ],
   "source": [
    "# load the object\n",
    "fishnet_creator = Fishnet.load('../Gis/Fishnet/fishnet_quarter_mile.pkl')"
   ]
  },
  {
   "attachments": {},
   "cell_type": "markdown",
   "metadata": {},
   "source": [
    "## Filtering\n",
    "\n",
    "If we only want to focus on specific area of the map (to make the computation quicker), we can use the filtering method below."
   ]
  },
  {
   "cell_type": "code",
   "execution_count": null,
   "metadata": {},
   "outputs": [],
   "source": [
    "region = [-95.799944,29.374853,-95.028636,29.795492]\n",
    "\n",
    "# Filter the fishnet by the larger bounding box\n",
    "fishnet_creator.filter_fishnet_by_bbox(region)\n",
    "fishnet_creator.filtered_fishnet.head(10)"
   ]
  },
  {
   "cell_type": "code",
   "execution_count": null,
   "metadata": {},
   "outputs": [],
   "source": [
    "fishnet_creator.fishnet.head().loc[0, \"geometry\"].bounds"
   ]
  },
  {
   "cell_type": "code",
   "execution_count": null,
   "metadata": {},
   "outputs": [],
   "source": [
    "fishnet_creator.filtered_batches"
   ]
  },
  {
   "cell_type": "code",
   "execution_count": null,
   "metadata": {},
   "outputs": [],
   "source": [
    "fishnet_creator.plot_filtered_fishnet(zoom=True)"
   ]
  },
  {
   "attachments": {},
   "cell_type": "markdown",
   "metadata": {},
   "source": [
    "# Now, we need to export the image for each batch. "
   ]
  },
  {
   "cell_type": "code",
   "execution_count": null,
   "metadata": {},
   "outputs": [],
   "source": [
    "from tqdm import tqdm\n",
    "\n",
    "#Parameters\n",
    "YEAR = 2016\n",
    "startDate = f'{YEAR}-05-01'\n",
    "endDate = f'{YEAR}-09-01'\n",
    "\n",
    "for i in tqdm(range(len(fishnet_creator.filtered_batches))):\n",
    "    batch = fishnet_creator.filtered_batches.iloc[i]\n",
    "    region = ee.Geometry.Rectangle(batch['geometry'].bounds)\n",
    "    landcover = geemap.dynamic_world(region, startDate, endDate, return_type='visualize')\n",
    "\n",
    "    ### Save the image\n",
    "    export_params = {\n",
    "        'image': landcover,\n",
    "        'description': f'landcover_batchID_{i}',\n",
    "        'folder': '/ge_exports/sub_region_export/',  # Google Drive folder name\n",
    "        'scale': 10,  # Resolution in meters\n",
    "        'region': region,\n",
    "        'fileFormat': 'GeoTIFF',\n",
    "        'maxPixels': 1e10,  # Increase this value if you encounter an error due to the pixel limit\n",
    "    }\n",
    "\n",
    "    export_task = ee.batch.Export.image.toDrive(**export_params)\n",
    "    export_task.start()"
   ]
  },
  {
   "attachments": {},
   "cell_type": "markdown",
   "metadata": {},
   "source": [
    "# `@TODO: Label Aggregation and Extraction - After Image Extraction`\n",
    "\n",
    "## Extract images in bulk for the fishnet"
   ]
  },
  {
   "cell_type": "code",
   "execution_count": null,
   "metadata": {},
   "outputs": [],
   "source": [
    "import imageio\n",
    "\n",
    "image = imageio.imread('../Images/sub-region-exports/landcover_batchID_0.tif') # for Victor\n",
    "\n",
    "# Print some information about the image\n",
    "print('Shape:', image.shape)\n",
    "print('Data type:', image.dtype)\n",
    "print('Minimum value:', image.min())\n",
    "print('Maximum value:', image.max())\n",
    "\n",
    "#plot the image\n",
    "plt.imshow(image)"
   ]
  },
  {
   "cell_type": "code",
   "execution_count": null,
   "metadata": {},
   "outputs": [],
   "source": [
    "built_pixel = [196, 40, 27] # red\n",
    "built_image = extract_label(image, built_pixel)\n",
    "plt.imshow(built_image)"
   ]
  },
  {
   "cell_type": "code",
   "execution_count": null,
   "metadata": {},
   "outputs": [],
   "source": [
    "import cv2\n",
    "import numpy as np\n",
    "import matplotlib.pyplot as plt\n",
    "from shapely.geometry import box\n",
    "\n",
    "def latlong_to_pixel(bbox, region, img_shape):\n",
    "    \"\"\"\n",
    "    Convert lat/long coordinates to pixel coordinates.\n",
    "\n",
    "    Parameters:\n",
    "    bbox (tuple): A tuple of (xmin, ymin, xmax, ymax) representing the bounding box.\n",
    "    region (list): A list of [x1, x2, x3, x4] representing the lat/long coordinates of the 4 image corners.\n",
    "    img_shape (tuple): A tuple of (height, width) representing the image shape.\n",
    "\n",
    "    Returns:\n",
    "    tuple: A tuple of (xmin, ymin, xmax, ymax) representing the pixel coordinates of the bounding box.\n",
    "    \"\"\"\n",
    "    img_height, img_width = img_shape\n",
    "    # x1, x2, x3, x4 = region\n",
    "\n",
    "    min_lon, min_lat, max_lon, max_lat = region.bounds\n",
    "\n",
    "    # min_lon, max_lon = min(x1, x3), max(x1, x3)\n",
    "    # min_lat, max_lat = min(x2, x4), max(x2, x4)\n",
    "    xmin, ymin, xmax, ymax = bbox\n",
    "\n",
    "    # Normalize the bounding box coordinates\n",
    "    x_min_pixel = int((xmin - min_lon) / (max_lon - min_lon) * img_width)\n",
    "    x_max_pixel = int((xmax - min_lon) / (max_lon - min_lon) * img_width)\n",
    "    y_min_pixel = int((1 - (ymax - min_lat) / (max_lat - min_lat)) * img_height)\n",
    "    y_max_pixel = int((1 - (ymin - min_lat) / (max_lat - min_lat)) * img_height)\n",
    "\n",
    "    return x_min_pixel, y_min_pixel, x_max_pixel, y_max_pixel\n",
    "\n",
    "\n",
    "def get_pixel_coordinates(geodataframe):\n",
    "    \"\"\"\n",
    "    Convert lat/long coordinates to pixel coordinates.\n",
    "\n",
    "    Parameters:\n",
    "    geodataframe (geopandas.geodataframe.GeoDataFrame): A geodataframe containing the bounding boxes.\n",
    "\n",
    "    Returns:\n",
    "    pandas.Series: A pandas series containing the pixel coordinates of the bounding boxes.\n",
    "    \"\"\"\n",
    "    pixel_coordinates = geodataframe['geometry'].apply(lambda x: latlong_to_pixel(x.bounds, region, (img_height, img_width)))\n",
    "    return pixel_coordinates\n",
    "\n",
    "from PIL import Image\n",
    "import numpy as np\n",
    "import cv2\n",
    "from tqdm import tqdm\n",
    "\n",
    "def mean_pixel_values(img_arr, bounding_boxes_gdf):\n",
    "    \"\"\"\n",
    "    Compute the mean pixel value within each bounding box in a geodataframe, for a given image.\n",
    "\n",
    "    Parameters:\n",
    "    -----------\n",
    "    img_arr: numpy.ndarray\n",
    "        NumPy array of the image.\n",
    "    bounding_boxes_gdf: geopandas.GeoDataFrame\n",
    "        Geodataframe of bounding boxes with IDs.\n",
    "\n",
    "    Returns:\n",
    "    --------\n",
    "    list:\n",
    "        A list of mean pixel values for each bounding box in the geodataframe.\n",
    "    \"\"\"\n",
    "    print(\"Converting image to PIL object...\")\n",
    "    # Convert the NumPy array to a PIL Image object\n",
    "    img = Image.fromarray(cv2.cvtColor(img_arr, cv2.COLOR_BGR2RGB))\n",
    "\n",
    "    print(\"Converting bounding box coordinates to pixel coordinates...\")\n",
    "    # Convert the bounding box coordinates to pixel coordinates\n",
    "    bounding_boxes_gdf[\"PixelCoordinates\"] = bounding_boxes_gdf[\"ImageCoordinates\"].apply(lambda x: (int(x[0]), int(x[1]), int(x[2]), int(x[3])))\n",
    "\n",
    "    print(\"Extracting pixels from each bounding box and computing mean pixel value...\")\n",
    "    # Compute the mean pixel value within each bounding box\n",
    "    mean_pixel_values = []\n",
    "    with tqdm(total=len(bounding_boxes_gdf)) as pbar:\n",
    "        for idx, row in bounding_boxes_gdf.iterrows():\n",
    "            pixel_box = img.crop(row[\"PixelCoordinates\"])\n",
    "            mean_pixel_value = np.mean(pixel_box) #int(pd.DataFrame(np.array(pixel_box.getdata()).reshape((-1, 3))).mean().mean())\n",
    "            mean_pixel_values.append(mean_pixel_value)\n",
    "            pbar.update(1)\n",
    "\n",
    "    return mean_pixel_values\n",
    "\n",
    "def get_unique_colors(image):\n",
    "    # Reshape the image array into a 2D array of shape (num_pixels, 3)\n",
    "    reshaped_image = image.reshape(-1, image.shape[-1])\n",
    "\n",
    "    # Find unique color triples using numpy\n",
    "    unique_colors = np.unique(reshaped_image, axis=0)\n",
    "\n",
    "    return unique_colors\n",
    "\n",
    "unique_colors = get_unique_colors(image)\n",
    "print(unique_colors)\n",
    "\n",
    "def extract_label(image, color):\n",
    "    red_pixels = np.all([\n",
    "        image[:, :, 0] == color[0],      # Red channel \n",
    "        image[:, :, 1] == color[1],      # Green channel\n",
    "        image[:, :, 2] == color[2]       # Blue channel\n",
    "    ], axis=0)\n",
    "    \n",
    "    extracted_image = np.zeros_like(image)\n",
    "    extracted_image[red_pixels] = [255,255,255] # Extracted image is black & white\n",
    "    \n",
    "    return extracted_image\n"
   ]
  },
  {
   "attachments": {},
   "cell_type": "markdown",
   "metadata": {},
   "source": [
    "# `@TODO`\n",
    "\n",
    "Create a new class:\n",
    "- takes a batched fishnet as input (of Texas)\n",
    "- takes a list of images as input (batch_id)\n",
    "- fishnet geodataframe: add a column \"pixel_geometry\" with NaNs.\n",
    " - for each batch:\n",
    "    - filters the fishnet on the batch (using the region)\n",
    "    - convert lat/long geometry into pixel: fill NaNs for that batch in pixel_geometry\n",
    "    - For each fishnet tile within the batch:\n",
    "        - extracts the \"built\" label from the tile\n",
    "        - compute the mean of the label \n",
    "        - stores the mean \"built\" of that fishnet tile in a new dataframe or in the fishnet dataframe as \"UrbanizationRate\"\n",
    "            - batch_id\n",
    "            - fishnet_id\n",
    "            - mean_built"
   ]
  },
  {
   "cell_type": "code",
   "execution_count": 155,
   "metadata": {},
   "outputs": [],
   "source": [
    "img_process = ImageProcessor(fishnet_creator, \"../Images/sub-region-exports/\", \"landcover_batchID\")"
   ]
  },
  {
   "cell_type": "code",
   "execution_count": 156,
   "metadata": {},
   "outputs": [
    {
     "name": "stderr",
     "output_type": "stream",
     "text": [
      "Applying latlong_to_pixel to each row: 100%|██████████| 256/256 [00:00<00:00, 74199.56it/s]\n",
      "Applying latlong_to_pixel to each row: 100%|██████████| 256/256 [00:00<00:00, 56488.94it/s]\n",
      "Applying latlong_to_pixel to each row: 100%|██████████| 256/256 [00:00<00:00, 81319.44it/s]\n",
      "Applying latlong_to_pixel to each row: 100%|██████████| 256/256 [00:00<00:00, 54432.82it/s]\n",
      "Applying latlong_to_pixel to each row: 100%|██████████| 256/256 [00:00<00:00, 76597.36it/s]\n",
      "Applying latlong_to_pixel to each row: 100%|██████████| 256/256 [00:00<00:00, 52019.85it/s]\n"
     ]
    }
   ],
   "source": [
    "img_process.process_images()"
   ]
  },
  {
   "cell_type": "code",
   "execution_count": 142,
   "metadata": {},
   "outputs": [
    {
     "data": {
      "text/plain": [
       "(-106.64622979299997, 36.49615276651688, -106.6419964685168, 36.50038609100005)"
      ]
     },
     "execution_count": 142,
     "metadata": {},
     "output_type": "execute_result"
    }
   ],
   "source": [
    "fishnet_creator.fishnet.iloc[0][\"geometry\"].bounds"
   ]
  },
  {
   "cell_type": "code",
   "execution_count": 114,
   "metadata": {},
   "outputs": [
    {
     "data": {
      "text/html": [
       "<div>\n",
       "<style scoped>\n",
       "    .dataframe tbody tr th:only-of-type {\n",
       "        vertical-align: middle;\n",
       "    }\n",
       "\n",
       "    .dataframe tbody tr th {\n",
       "        vertical-align: top;\n",
       "    }\n",
       "\n",
       "    .dataframe thead th {\n",
       "        text-align: right;\n",
       "    }\n",
       "</style>\n",
       "<table border=\"1\" class=\"dataframe\">\n",
       "  <thead>\n",
       "    <tr style=\"text-align: right;\">\n",
       "      <th></th>\n",
       "      <th>id</th>\n",
       "      <th>geometry</th>\n",
       "      <th>batch_id</th>\n",
       "      <th>ImageCoordinates</th>\n",
       "      <th>MeanPixel</th>\n",
       "    </tr>\n",
       "  </thead>\n",
       "  <tbody>\n",
       "    <tr>\n",
       "      <th>0</th>\n",
       "      <td>0.0</td>\n",
       "      <td>POLYGON ((-106.64200 36.49615, -106.64200 36.5...</td>\n",
       "      <td>0.0</td>\n",
       "      <td>(0, 0, 47, 47)</td>\n",
       "      <td>0.0</td>\n",
       "    </tr>\n",
       "    <tr>\n",
       "      <th>1</th>\n",
       "      <td>1.0</td>\n",
       "      <td>POLYGON ((-106.63776 36.49615, -106.63776 36.5...</td>\n",
       "      <td>0.0</td>\n",
       "      <td>(47, 0, 94, 47)</td>\n",
       "      <td>0.0</td>\n",
       "    </tr>\n",
       "    <tr>\n",
       "      <th>2</th>\n",
       "      <td>2.0</td>\n",
       "      <td>POLYGON ((-106.63353 36.49615, -106.63353 36.5...</td>\n",
       "      <td>0.0</td>\n",
       "      <td>(94, 0, 141, 47)</td>\n",
       "      <td>0.0</td>\n",
       "    </tr>\n",
       "    <tr>\n",
       "      <th>3</th>\n",
       "      <td>3.0</td>\n",
       "      <td>POLYGON ((-106.62930 36.49615, -106.62930 36.5...</td>\n",
       "      <td>0.0</td>\n",
       "      <td>(141, 0, 188, 47)</td>\n",
       "      <td>0.0</td>\n",
       "    </tr>\n",
       "    <tr>\n",
       "      <th>4</th>\n",
       "      <td>4.0</td>\n",
       "      <td>POLYGON ((-106.62506 36.49615, -106.62506 36.5...</td>\n",
       "      <td>0.0</td>\n",
       "      <td>(188, 0, 235, 47)</td>\n",
       "      <td>0.0</td>\n",
       "    </tr>\n",
       "  </tbody>\n",
       "</table>\n",
       "</div>"
      ],
      "text/plain": [
       "    id                                           geometry  batch_id  \\\n",
       "0  0.0  POLYGON ((-106.64200 36.49615, -106.64200 36.5...       0.0   \n",
       "1  1.0  POLYGON ((-106.63776 36.49615, -106.63776 36.5...       0.0   \n",
       "2  2.0  POLYGON ((-106.63353 36.49615, -106.63353 36.5...       0.0   \n",
       "3  3.0  POLYGON ((-106.62930 36.49615, -106.62930 36.5...       0.0   \n",
       "4  4.0  POLYGON ((-106.62506 36.49615, -106.62506 36.5...       0.0   \n",
       "\n",
       "    ImageCoordinates  MeanPixel  \n",
       "0     (0, 0, 47, 47)        0.0  \n",
       "1    (47, 0, 94, 47)        0.0  \n",
       "2   (94, 0, 141, 47)        0.0  \n",
       "3  (141, 0, 188, 47)        0.0  \n",
       "4  (188, 0, 235, 47)        0.0  "
      ]
     },
     "execution_count": 114,
     "metadata": {},
     "output_type": "execute_result"
    }
   ],
   "source": [
    "fishnet_creator.fishnet.head()"
   ]
  },
  {
   "cell_type": "code",
   "execution_count": null,
   "metadata": {},
   "outputs": [],
   "source": [
    "fishnet_creator.filtered_fishnet[\"ImageCoordinates\"] = get_pixel_coordinates(fishnet_creator.filtered_fishnet)\n",
    "fishnet_creator.filtered_fishnet[\"MeanPixels\"] = mean_pixel_values(image, fishnet_creator.filtered_fishnet)"
   ]
  },
  {
   "cell_type": "code",
   "execution_count": null,
   "metadata": {},
   "outputs": [],
   "source": [
    "filtered_fishnet[\"MeanPixels\"] = mean_pixel_values(image, filtered_fishnet)"
   ]
  },
  {
   "cell_type": "code",
   "execution_count": null,
   "metadata": {},
   "outputs": [],
   "source": [
    "# plot the MeanPixels on the fishnet and map\n",
    "filtered_fishnet.plot(column='MeanPixels', cmap='viridis', legend=True)"
   ]
  },
  {
   "cell_type": "code",
   "execution_count": null,
   "metadata": {},
   "outputs": [],
   "source": [
    "filtered_fishnet"
   ]
  },
  {
   "cell_type": "code",
   "execution_count": null,
   "metadata": {},
   "outputs": [],
   "source": [
    "filtered_fishnet.head(100)"
   ]
  },
  {
   "cell_type": "code",
   "execution_count": null,
   "metadata": {},
   "outputs": [],
   "source": [
    "\n",
    "# Load your image\n",
    "image = cv2.imread('../Images/built_image.png')\n",
    "image = cv2.cvtColor(image, cv2.COLOR_BGR2RGB)  # Convert BGR to RGB\n",
    "img_height, img_width, _ = image.shape\n",
    "\n",
    "# Define the lat/long coordinates of the 4 image corners\n",
    "region = [-95.799944,29.374853,-95.028636,29.795492]\n",
    "\n",
    "# Iterate through the bounding boxes in the filtered fishnet\n",
    "for _, row in filtered_fishnet.iterrows():\n",
    "    bbox = row['geometry'].bounds\n",
    "    pixel_bbox = latlong_to_pixel(bbox, region, (img_height, img_width))\n",
    "    cv2.rectangle(image, (pixel_bbox[0], pixel_bbox[1]), (pixel_bbox[2], pixel_bbox[3]), (255, 0, 0), 20)\n",
    "\n",
    "# Plot the image with the bounding boxes\n",
    "plt.figure(figsize=(10, 10))\n",
    "plt.imshow(image)\n",
    "plt.show()"
   ]
  },
  {
   "cell_type": "code",
   "execution_count": null,
   "metadata": {},
   "outputs": [],
   "source": [
    "fishnet_creator = Fishnet('../Gis/Texas_State_Boundary/State.shp', 0.25, overlay_method='union', clip=False) # Victor\n",
    "fishnet = fishnet_creator.create_fishnet()\n",
    "fishnet.head()"
   ]
  },
  {
   "cell_type": "code",
   "execution_count": null,
   "metadata": {},
   "outputs": [],
   "source": [
    "# SAVE FISHNET"
   ]
  },
  {
   "cell_type": "markdown",
   "metadata": {},
   "source": [
    "# Large image"
   ]
  },
  {
   "cell_type": "code",
   "execution_count": null,
   "metadata": {},
   "outputs": [],
   "source": [
    "img_pth1 = '../Images/export2/land_labels_test_export2-0000000000-0000000000.tif'\n",
    "img_pth2 = '../Images/export2/land_labels_test_export2-0000000000-0000037888.tif'\n",
    "img_pth3 = '../Images/export2/land_labels_test_export2-0000000000-0000075776.tif'\n",
    "img_pth4 = '../Images/export2/land_labels_test_export2-0000000000-0000151552.tif'\n",
    "img_pth5 = '../Images/export2/land_labels_test_export2-0000000000-0000151552.tif'\n",
    "img_pth6 = '../Images/export2/land_labels_test_export2-0000037888-0000000000.tif'\n",
    "img_pth7 = '../Images/export2/land_labels_test_export2-0000037888-0000037888.tif'\n",
    "img_pth8 = '../Images/export2/land_labels_test_export2-0000037888-0000075776.tif'\n",
    "img_pth9 = '../Images/export2/land_labels_test_export2-0000037888-0000113664.tif'\n",
    "img_pth10 = '../Images/export2/land_labels_test_export2-0000037888-0000151552.tif'\n",
    "\n",
    "image = imageio.imread(img_pth2)\n",
    "# keep only the first band\n",
    "image = cv2.cvtColor(image, cv2.COLOR_BGR2GRAY)\n",
    "print(image.shape)"
   ]
  },
  {
   "cell_type": "code",
   "execution_count": null,
   "metadata": {},
   "outputs": [],
   "source": []
  }
 ],
 "metadata": {
  "kernelspec": {
   "display_name": "capstone",
   "language": "python",
   "name": "python3"
  },
  "language_info": {
   "codemirror_mode": {
    "name": "ipython",
    "version": 3
   },
   "file_extension": ".py",
   "mimetype": "text/x-python",
   "name": "python",
   "nbconvert_exporter": "python",
   "pygments_lexer": "ipython3",
   "version": "3.11.2"
  },
  "orig_nbformat": 4
 },
 "nbformat": 4,
 "nbformat_minor": 2
}
