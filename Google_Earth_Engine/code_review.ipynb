{
 "cells": [
  {
   "cell_type": "code",
   "execution_count": 2,
   "metadata": {},
   "outputs": [],
   "source": [
    "import pandas as pd\n",
    "import ee\n",
    "import geemap\n",
    "import imageio\n",
    "from matplotlib import pyplot as plt\n",
    "import sys\n",
    "import warnings\n",
    "import cv2\n",
    "warnings.filterwarnings('ignore')\n"
   ]
  },
  {
   "attachments": {},
   "cell_type": "markdown",
   "metadata": {},
   "source": [
    "\n",
    "\n",
    "\n",
    "## Create a conda environment\n",
    "\n",
    "Use the following command to create the conda environment:\n",
    "\n",
    "```bash\n",
    "conda create --name <env> --file requirements.txt\n",
    "```\n",
    "\n",
    "\n"
   ]
  },
  {
   "cell_type": "code",
   "execution_count": 3,
   "metadata": {},
   "outputs": [],
   "source": [
    "# import local modules\n",
    "sys.path.append('../src')\n",
    "from Fishnet import Fishnet\n",
    "from ImageProcessor import ImageProcessor\n",
    "\n",
    "# update files automatically\n",
    "%load_ext autoreload\n",
    "%autoreload 2\n",
    "\n",
    "# Authenticate to Earth Engine\n",
    "ee.Initialize(project=\"jpmorgancapstone\")"
   ]
  },
  {
   "attachments": {},
   "cell_type": "markdown",
   "metadata": {},
   "source": [
    "# Fishnet\n",
    "\n",
    "First, we can generate the fishnet using the following code. \n",
    "\n",
    "- We instantiate a `Fishnet` object \n",
    "- We generate the fishnet\n",
    "- We aggregated the fishnet into batches corresponding to the images to extract froom the GoogleEarth Engine"
   ]
  },
  {
   "cell_type": "code",
   "execution_count": null,
   "metadata": {},
   "outputs": [],
   "source": [
    "# Create an instance of the Fishnet class\n",
    "fishnet_creator_example = Fishnet('../Gis/Texas_State_Boundary/State.shp', 0.25, overlay_method='union', clip=False) \n",
    "\n",
    "# Create the fishnet\n",
    "fishnet_creator_example.create_fishnet()\n",
    "\n",
    "# creates batches of 4miles x 4miles\n",
    "fishnet_creator_example.batch(4)  "
   ]
  },
  {
   "cell_type": "code",
   "execution_count": null,
   "metadata": {},
   "outputs": [],
   "source": [
    "fishnet_creator_example.plot_fishnet()"
   ]
  },
  {
   "attachments": {},
   "cell_type": "markdown",
   "metadata": {},
   "source": [
    "## Filtering\n",
    "\n",
    "We can filter the `Fishnet` to one specific region to avoid working on the whole area, simply to increase computational speed."
   ]
  },
  {
   "cell_type": "code",
   "execution_count": null,
   "metadata": {},
   "outputs": [],
   "source": [
    "region = [-95.799944,29.374853,-95.028636,29.795492]\n",
    "\n",
    "# Filter the fishnet by the larger bounding box\n",
    "fishnet_creator_example.filter_fishnet_by_bbox(region)\n",
    "fishnet_creator_example.filtered_fishnet.head(10)"
   ]
  },
  {
   "attachments": {},
   "cell_type": "markdown",
   "metadata": {},
   "source": [
    "## Save and load the fishnet object"
   ]
  },
  {
   "cell_type": "code",
   "execution_count": null,
   "metadata": {},
   "outputs": [],
   "source": [
    "# this specific fishnet was 0.25miles granular and 4miles edge of each batch.\n",
    "fishnet_creator_example.save('../Gis/Fishnet/fishnet_quarter_mile.pkl') \n",
    "\n",
    "# load the object\n",
    "fishnet_creator_example = Fishnet.load('../Gis/Fishnet/fishnet_quarter_mile.pkl')"
   ]
  },
  {
   "cell_type": "code",
   "execution_count": null,
   "metadata": {},
   "outputs": [],
   "source": [
    "# "
   ]
  }
 ],
 "metadata": {
  "kernelspec": {
   "display_name": "capstone",
   "language": "python",
   "name": "python3"
  },
  "language_info": {
   "codemirror_mode": {
    "name": "ipython",
    "version": 3
   },
   "file_extension": ".py",
   "mimetype": "text/x-python",
   "name": "python",
   "nbconvert_exporter": "python",
   "pygments_lexer": "ipython3",
   "version": "3.11.2"
  },
  "orig_nbformat": 4
 },
 "nbformat": 4,
 "nbformat_minor": 2
}
