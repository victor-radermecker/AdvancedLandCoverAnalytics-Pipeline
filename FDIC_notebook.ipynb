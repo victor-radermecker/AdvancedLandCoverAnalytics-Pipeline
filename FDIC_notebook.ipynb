{
  "nbformat": 4,
  "nbformat_minor": 0,
  "metadata": {
    "colab": {
      "provenance": [],
      "machine_shape": "hm",
      "mount_file_id": "1Jn9_SaVYn1bGmPbVWVPpjJ91ZHtoxrjB",
      "authorship_tag": "ABX9TyPOl1GVHnajBVOf2Z6OL/R8",
      "include_colab_link": true
    },
    "kernelspec": {
      "name": "python3",
      "display_name": "Python 3"
    },
    "language_info": {
      "name": "python"
    }
  },
  "cells": [
    {
      "cell_type": "markdown",
      "metadata": {
        "id": "view-in-github",
        "colab_type": "text"
      },
      "source": [
        "<a href=\"https://colab.research.google.com/github/victor-radermecker/Capstone_JPMorgan/blob/branch-FDIC/FDIC_notebook.ipynb\" target=\"_parent\"><img src=\"https://colab.research.google.com/assets/colab-badge.svg\" alt=\"Open In Colab\"/></a>"
      ]
    },
    {
      "cell_type": "code",
      "source": [
        "# https://github.com/dpguthrie/bankfind\n",
        "!pip install bankfind"
      ],
      "metadata": {
        "id": "7duvvMfTm1hu"
      },
      "execution_count": null,
      "outputs": []
    },
    {
      "cell_type": "code",
      "execution_count": 1,
      "metadata": {
        "colab": {
          "base_uri": "https://localhost:8080/"
        },
        "id": "YrhFnK6mh6FZ",
        "outputId": "f5319644-5ef7-408d-de9b-0f1d027cbbab"
      },
      "outputs": [
        {
          "output_type": "stream",
          "name": "stdout",
          "text": [
            "Mounted at /content/drive\n"
          ]
        }
      ],
      "source": [
        "from google.colab import drive\n",
        "drive.mount('/content/drive', force_remount = True)"
      ]
    },
    {
      "cell_type": "code",
      "source": [
        "import bankfind as bf\n",
        "import pandas as pd\n"
      ],
      "metadata": {
        "id": "PIMmCfGhm4s4"
      },
      "execution_count": 16,
      "outputs": []
    },
    {
      "cell_type": "code",
      "source": [
        "institutions = bf.get_institutions()"
      ],
      "metadata": {
        "id": "856S058gqfRR"
      },
      "execution_count": 28,
      "outputs": []
    },
    {
      "cell_type": "code",
      "source": [
        "institution_names = {}\n",
        "for element in institutions['data']:\n",
        "  if element['NAME'] not in institution_names:\n",
        "    institution_names[element['NAME']] = 1\n",
        "  else:\n",
        "    institution_names[element['NAME']] += 1"
      ],
      "metadata": {
        "id": "HAAaNwHtqjqn"
      },
      "execution_count": 36,
      "outputs": []
    },
    {
      "cell_type": "code",
      "source": [
        "res = list(filter(lambda x: 'JPMorgan Chase' in x, institution_names.keys()))"
      ],
      "metadata": {
        "id": "860lBEKpq5zf"
      },
      "execution_count": 42,
      "outputs": []
    },
    {
      "cell_type": "code",
      "source": [
        "res"
      ],
      "metadata": {
        "colab": {
          "base_uri": "https://localhost:8080/"
        },
        "id": "_87Ti1pRr8kr",
        "outputId": "4982add1-073c-4c31-e412-ae3cdd1d8055"
      },
      "execution_count": 43,
      "outputs": [
        {
          "output_type": "execute_result",
          "data": {
            "text/plain": [
              "['JPMorgan Chase Bank, Dearborn', 'JPMorgan Chase Bank, National Association']"
            ]
          },
          "metadata": {},
          "execution_count": 43
        }
      ]
    },
    {
      "cell_type": "code",
      "source": [
        "locations = bf.get_locations()"
      ],
      "metadata": {
        "id": "QIeJDnlJm-E6"
      },
      "execution_count": 4,
      "outputs": []
    },
    {
      "cell_type": "code",
      "source": [
        "locations['data'][0]"
      ],
      "metadata": {
        "colab": {
          "base_uri": "https://localhost:8080/"
        },
        "id": "1JEvMEKbojPj",
        "outputId": "58030257-0f7e-400a-84fb-a96e824d8994"
      },
      "execution_count": 19,
      "outputs": [
        {
          "output_type": "execute_result",
          "data": {
            "text/plain": [
              "{'ZIP': '63376',\n",
              " 'CBSA_NO': '41180',\n",
              " 'CBSA_METRO_NAME': 'St. Louis, MO-IL',\n",
              " 'BKCLASS': 'NM',\n",
              " 'FI_UNINUM': 429739,\n",
              " 'STNAME': 'Missouri',\n",
              " 'CSA': 'St. Louis-St. Charles-Farmington, MO-IL',\n",
              " 'COUNTY': 'St. Charles',\n",
              " 'MAINOFF': 1,\n",
              " 'OFFNAME': '1st Advantage Bank',\n",
              " 'CBSA_METRO_FLG': '1',\n",
              " 'CBSA_MICRO_FLG': '0',\n",
              " 'CSA_NO': '476',\n",
              " 'CBSA_METRO': '41180',\n",
              " 'CBSA_DIV_NO': '',\n",
              " 'RUNDATE': '06/23/2023',\n",
              " 'NAME': '1st Advantage Bank',\n",
              " 'UNINUM': 429739,\n",
              " 'SERVTYPE': 11,\n",
              " 'CSA_FLG': '1',\n",
              " 'STCNTY': '29183',\n",
              " 'CBSA': 'St. Louis, MO-IL',\n",
              " 'CBSA_DIV': '',\n",
              " 'CBSA_DIV_FLG': '0',\n",
              " 'CITY': 'Saint Peters',\n",
              " 'ADDRESS': '240 Salt Lick Rd',\n",
              " 'CERT': '57899',\n",
              " 'STALP': 'MO',\n",
              " 'OFFNUM': 0,\n",
              " 'ESTYMD': '01/31/2005',\n",
              " 'ID': '429739'}"
            ]
          },
          "metadata": {},
          "execution_count": 19
        }
      ]
    },
    {
      "cell_type": "code",
      "source": [
        "df = pd.DataFrame(columns = ['zip', 'bank', 'address'])\n",
        "\n",
        "for i, element in enumerate(locations['data']):\n",
        "  df.loc[i] = [element['ZIP'], element['NAME'], element['ADDRESS']]"
      ],
      "metadata": {
        "id": "0kgdv10pnQOW"
      },
      "execution_count": 20,
      "outputs": []
    },
    {
      "cell_type": "code",
      "source": [
        "df.head()"
      ],
      "metadata": {
        "colab": {
          "base_uri": "https://localhost:8080/",
          "height": 204
        },
        "id": "laig1aQ0pM6Q",
        "outputId": "694bb7ef-6d11-4e93-a8cc-e9f1cb3ca40d"
      },
      "execution_count": 21,
      "outputs": [
        {
          "output_type": "execute_result",
          "data": {
            "text/plain": [
              "     zip                bank                   address\n",
              "0  63376  1st Advantage Bank          240 Salt Lick Rd\n",
              "1  85336       1st Bank Yuma  645 N William Brooks Ave\n",
              "2  85364       1st Bank Yuma            2799 S 4th Ave\n",
              "3  85364       1st Bank Yuma            1800 S 4th Ave\n",
              "4  85621       1st Bank Yuma           825 N Grand Ave"
            ],
            "text/html": [
              "\n",
              "  <div id=\"df-204c1fc7-85d9-4901-b55c-9220cc029b9b\">\n",
              "    <div class=\"colab-df-container\">\n",
              "      <div>\n",
              "<style scoped>\n",
              "    .dataframe tbody tr th:only-of-type {\n",
              "        vertical-align: middle;\n",
              "    }\n",
              "\n",
              "    .dataframe tbody tr th {\n",
              "        vertical-align: top;\n",
              "    }\n",
              "\n",
              "    .dataframe thead th {\n",
              "        text-align: right;\n",
              "    }\n",
              "</style>\n",
              "<table border=\"1\" class=\"dataframe\">\n",
              "  <thead>\n",
              "    <tr style=\"text-align: right;\">\n",
              "      <th></th>\n",
              "      <th>zip</th>\n",
              "      <th>bank</th>\n",
              "      <th>address</th>\n",
              "    </tr>\n",
              "  </thead>\n",
              "  <tbody>\n",
              "    <tr>\n",
              "      <th>0</th>\n",
              "      <td>63376</td>\n",
              "      <td>1st Advantage Bank</td>\n",
              "      <td>240 Salt Lick Rd</td>\n",
              "    </tr>\n",
              "    <tr>\n",
              "      <th>1</th>\n",
              "      <td>85336</td>\n",
              "      <td>1st Bank Yuma</td>\n",
              "      <td>645 N William Brooks Ave</td>\n",
              "    </tr>\n",
              "    <tr>\n",
              "      <th>2</th>\n",
              "      <td>85364</td>\n",
              "      <td>1st Bank Yuma</td>\n",
              "      <td>2799 S 4th Ave</td>\n",
              "    </tr>\n",
              "    <tr>\n",
              "      <th>3</th>\n",
              "      <td>85364</td>\n",
              "      <td>1st Bank Yuma</td>\n",
              "      <td>1800 S 4th Ave</td>\n",
              "    </tr>\n",
              "    <tr>\n",
              "      <th>4</th>\n",
              "      <td>85621</td>\n",
              "      <td>1st Bank Yuma</td>\n",
              "      <td>825 N Grand Ave</td>\n",
              "    </tr>\n",
              "  </tbody>\n",
              "</table>\n",
              "</div>\n",
              "      <button class=\"colab-df-convert\" onclick=\"convertToInteractive('df-204c1fc7-85d9-4901-b55c-9220cc029b9b')\"\n",
              "              title=\"Convert this dataframe to an interactive table.\"\n",
              "              style=\"display:none;\">\n",
              "        \n",
              "  <svg xmlns=\"http://www.w3.org/2000/svg\" height=\"24px\"viewBox=\"0 0 24 24\"\n",
              "       width=\"24px\">\n",
              "    <path d=\"M0 0h24v24H0V0z\" fill=\"none\"/>\n",
              "    <path d=\"M18.56 5.44l.94 2.06.94-2.06 2.06-.94-2.06-.94-.94-2.06-.94 2.06-2.06.94zm-11 1L8.5 8.5l.94-2.06 2.06-.94-2.06-.94L8.5 2.5l-.94 2.06-2.06.94zm10 10l.94 2.06.94-2.06 2.06-.94-2.06-.94-.94-2.06-.94 2.06-2.06.94z\"/><path d=\"M17.41 7.96l-1.37-1.37c-.4-.4-.92-.59-1.43-.59-.52 0-1.04.2-1.43.59L10.3 9.45l-7.72 7.72c-.78.78-.78 2.05 0 2.83L4 21.41c.39.39.9.59 1.41.59.51 0 1.02-.2 1.41-.59l7.78-7.78 2.81-2.81c.8-.78.8-2.07 0-2.86zM5.41 20L4 18.59l7.72-7.72 1.47 1.35L5.41 20z\"/>\n",
              "  </svg>\n",
              "      </button>\n",
              "      \n",
              "  <style>\n",
              "    .colab-df-container {\n",
              "      display:flex;\n",
              "      flex-wrap:wrap;\n",
              "      gap: 12px;\n",
              "    }\n",
              "\n",
              "    .colab-df-convert {\n",
              "      background-color: #E8F0FE;\n",
              "      border: none;\n",
              "      border-radius: 50%;\n",
              "      cursor: pointer;\n",
              "      display: none;\n",
              "      fill: #1967D2;\n",
              "      height: 32px;\n",
              "      padding: 0 0 0 0;\n",
              "      width: 32px;\n",
              "    }\n",
              "\n",
              "    .colab-df-convert:hover {\n",
              "      background-color: #E2EBFA;\n",
              "      box-shadow: 0px 1px 2px rgba(60, 64, 67, 0.3), 0px 1px 3px 1px rgba(60, 64, 67, 0.15);\n",
              "      fill: #174EA6;\n",
              "    }\n",
              "\n",
              "    [theme=dark] .colab-df-convert {\n",
              "      background-color: #3B4455;\n",
              "      fill: #D2E3FC;\n",
              "    }\n",
              "\n",
              "    [theme=dark] .colab-df-convert:hover {\n",
              "      background-color: #434B5C;\n",
              "      box-shadow: 0px 1px 3px 1px rgba(0, 0, 0, 0.15);\n",
              "      filter: drop-shadow(0px 1px 2px rgba(0, 0, 0, 0.3));\n",
              "      fill: #FFFFFF;\n",
              "    }\n",
              "  </style>\n",
              "\n",
              "      <script>\n",
              "        const buttonEl =\n",
              "          document.querySelector('#df-204c1fc7-85d9-4901-b55c-9220cc029b9b button.colab-df-convert');\n",
              "        buttonEl.style.display =\n",
              "          google.colab.kernel.accessAllowed ? 'block' : 'none';\n",
              "\n",
              "        async function convertToInteractive(key) {\n",
              "          const element = document.querySelector('#df-204c1fc7-85d9-4901-b55c-9220cc029b9b');\n",
              "          const dataTable =\n",
              "            await google.colab.kernel.invokeFunction('convertToInteractive',\n",
              "                                                     [key], {});\n",
              "          if (!dataTable) return;\n",
              "\n",
              "          const docLinkHtml = 'Like what you see? Visit the ' +\n",
              "            '<a target=\"_blank\" href=https://colab.research.google.com/notebooks/data_table.ipynb>data table notebook</a>'\n",
              "            + ' to learn more about interactive tables.';\n",
              "          element.innerHTML = '';\n",
              "          dataTable['output_type'] = 'display_data';\n",
              "          await google.colab.output.renderOutput(dataTable, element);\n",
              "          const docLink = document.createElement('div');\n",
              "          docLink.innerHTML = docLinkHtml;\n",
              "          element.appendChild(docLink);\n",
              "        }\n",
              "      </script>\n",
              "    </div>\n",
              "  </div>\n",
              "  "
            ]
          },
          "metadata": {},
          "execution_count": 21
        }
      ]
    },
    {
      "cell_type": "code",
      "source": [
        "from collections import Counter"
      ],
      "metadata": {
        "id": "SLFONGwmpQWY"
      },
      "execution_count": 22,
      "outputs": []
    },
    {
      "cell_type": "code",
      "source": [
        "Counter(df.bank).most_common()[:5]"
      ],
      "metadata": {
        "colab": {
          "base_uri": "https://localhost:8080/"
        },
        "id": "rHc6wSMFpSos",
        "outputId": "c7526bd3-75cd-4c22-cf26-27ec6ccc5a93"
      },
      "execution_count": 27,
      "outputs": [
        {
          "output_type": "execute_result",
          "data": {
            "text/plain": [
              "[('Bank of America, National Association', 4040),\n",
              " ('BMO Harris Bank National Association', 1056),\n",
              " ('Bank OZK', 247),\n",
              " ('Arvest Bank', 225),\n",
              " ('Associated Bank, National Association', 206)]"
            ]
          },
          "metadata": {},
          "execution_count": 27
        }
      ]
    },
    {
      "cell_type": "markdown",
      "source": [
        "<font color='red'> weird that Chase not there, they actually have the most branches <font>"
      ],
      "metadata": {
        "id": "bwpo5zwip1_Y"
      }
    }
  ]
}