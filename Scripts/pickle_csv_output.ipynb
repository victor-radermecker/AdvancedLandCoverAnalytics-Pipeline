{
 "cells": [
  {
   "cell_type": "code",
   "execution_count": 1,
   "metadata": {},
   "outputs": [],
   "source": [
    "import pandas as pd\n",
    "import os"
   ]
  },
  {
   "cell_type": "code",
   "execution_count": 4,
   "metadata": {},
   "outputs": [],
   "source": [
    "years = [2019]\n",
    "kind = {'dfw': range(3), 'desert': range(3), 'sah': range(5)}\n",
    "kind = {'dfw': range(3), 'desert': [1,2], 'sah': range(5)}\n"
   ]
  },
  {
   "cell_type": "code",
   "execution_count": 5,
   "metadata": {},
   "outputs": [],
   "source": [
    "for k, v in kind.items():\n",
    "    # if k == 'dfw' or k == 'desert':\n",
    "    for y in years:\n",
    "        for slice in v:\n",
    "            if y == years[0] and slice == 0:\n",
    "                df = pd.DataFrame()\n",
    "            elif slice == 0:\n",
    "                df_sub = pd.DataFrame()\n",
    "\n",
    "            try:\n",
    "                df_sub2 = pd.read_csv(os.path.join('../Data/Exports', '{}_{}_year_export_{}_raw_value_counts.csv'.format(k, slice, y)), index_col=0)\n",
    "                fishnet = pd.read_pickle(os.path.join('../Data', 'fishnet_filtered_{}_{}.pkl'.format(k, slice)))\n",
    "                df_sub2['geometry'] = fishnet['geometry']\n",
    "                df_sub2.rename(columns={'perc_built': '{}_perc_built'.format(y)}, inplace=True)\n",
    "            except:\n",
    "                pass\n",
    "\n",
    "            if y == years[0]:\n",
    "                df = pd.concat([df, df_sub2])\n",
    "            else:\n",
    "                df_sub = pd.concat([df_sub, df_sub2])\n",
    "\n",
    "        if y != years[0]:\n",
    "            df['{}_perc_built'.format(y)] = df_sub['{}_perc_built'.format(y)]\n",
    "    \n",
    "    # dataframes[k] = df\n",
    "    df.to_pickle('/home/ubuntu/avapsi/conv-lstm/Capstone_JPMorgan/Data/Exports/{}_year_export_2019.pkl'.format(k))"
   ]
  },
  {
   "cell_type": "code",
   "execution_count": 7,
   "metadata": {},
   "outputs": [],
   "source": [
    "desert1 = pd.read_csv('/home/ubuntu/avapsi/conv-lstm/Capstone_JPMorgan/Data/Exports/desert_1_year_export_2019_raw_value_counts.csv')\n",
    "desert2 = pd.read_csv('/home/ubuntu/avapsi/conv-lstm/Capstone_JPMorgan/Data/Exports/desert_2_year_export_2019_raw_value_counts.csv')"
   ]
  },
  {
   "cell_type": "code",
   "execution_count": 13,
   "metadata": {},
   "outputs": [],
   "source": [
    "desert_year_export_2019 = pd.concat([desert1, desert2])"
   ]
  },
  {
   "cell_type": "code",
   "execution_count": 12,
   "metadata": {},
   "outputs": [],
   "source": [
    "desert_year_export_2019.to_pickle('/home/ubuntu/avapsi/conv-lstm/Capstone_JPMorgan/Data/Exports/desert_year_export_2019.pkl')"
   ]
  },
  {
   "cell_type": "code",
   "execution_count": 14,
   "metadata": {},
   "outputs": [
    {
     "data": {
      "text/html": [
       "<div>\n",
       "<style scoped>\n",
       "    .dataframe tbody tr th:only-of-type {\n",
       "        vertical-align: middle;\n",
       "    }\n",
       "\n",
       "    .dataframe tbody tr th {\n",
       "        vertical-align: top;\n",
       "    }\n",
       "\n",
       "    .dataframe thead th {\n",
       "        text-align: right;\n",
       "    }\n",
       "</style>\n",
       "<table border=\"1\" class=\"dataframe\">\n",
       "  <thead>\n",
       "    <tr style=\"text-align: right;\">\n",
       "      <th></th>\n",
       "      <th>Unnamed: 0</th>\n",
       "      <th>tile_no</th>\n",
       "      <th>perc_built</th>\n",
       "    </tr>\n",
       "  </thead>\n",
       "  <tbody>\n",
       "    <tr>\n",
       "      <th>0</th>\n",
       "      <td>0</td>\n",
       "      <td>0</td>\n",
       "      <td>0.000000</td>\n",
       "    </tr>\n",
       "    <tr>\n",
       "      <th>1</th>\n",
       "      <td>1</td>\n",
       "      <td>1</td>\n",
       "      <td>0.000000</td>\n",
       "    </tr>\n",
       "    <tr>\n",
       "      <th>2</th>\n",
       "      <td>2</td>\n",
       "      <td>2</td>\n",
       "      <td>0.000000</td>\n",
       "    </tr>\n",
       "    <tr>\n",
       "      <th>3</th>\n",
       "      <td>3</td>\n",
       "      <td>3</td>\n",
       "      <td>0.000000</td>\n",
       "    </tr>\n",
       "    <tr>\n",
       "      <th>4</th>\n",
       "      <td>4</td>\n",
       "      <td>4</td>\n",
       "      <td>0.000000</td>\n",
       "    </tr>\n",
       "    <tr>\n",
       "      <th>...</th>\n",
       "      <td>...</td>\n",
       "      <td>...</td>\n",
       "      <td>...</td>\n",
       "    </tr>\n",
       "    <tr>\n",
       "      <th>198336</th>\n",
       "      <td>198336</td>\n",
       "      <td>198336</td>\n",
       "      <td>7.021277</td>\n",
       "    </tr>\n",
       "    <tr>\n",
       "      <th>198337</th>\n",
       "      <td>198337</td>\n",
       "      <td>198337</td>\n",
       "      <td>0.155682</td>\n",
       "    </tr>\n",
       "    <tr>\n",
       "      <th>198338</th>\n",
       "      <td>198338</td>\n",
       "      <td>198338</td>\n",
       "      <td>0.000000</td>\n",
       "    </tr>\n",
       "    <tr>\n",
       "      <th>198339</th>\n",
       "      <td>198339</td>\n",
       "      <td>198339</td>\n",
       "      <td>0.000000</td>\n",
       "    </tr>\n",
       "    <tr>\n",
       "      <th>198340</th>\n",
       "      <td>198340</td>\n",
       "      <td>198340</td>\n",
       "      <td>9.734043</td>\n",
       "    </tr>\n",
       "  </tbody>\n",
       "</table>\n",
       "<p>398341 rows × 3 columns</p>\n",
       "</div>"
      ],
      "text/plain": [
       "        Unnamed: 0  tile_no  perc_built\n",
       "0                0        0    0.000000\n",
       "1                1        1    0.000000\n",
       "2                2        2    0.000000\n",
       "3                3        3    0.000000\n",
       "4                4        4    0.000000\n",
       "...            ...      ...         ...\n",
       "198336      198336   198336    7.021277\n",
       "198337      198337   198337    0.155682\n",
       "198338      198338   198338    0.000000\n",
       "198339      198339   198339    0.000000\n",
       "198340      198340   198340    9.734043\n",
       "\n",
       "[398341 rows x 3 columns]"
      ]
     },
     "execution_count": 14,
     "metadata": {},
     "output_type": "execute_result"
    }
   ],
   "source": [
    "desert_year_export_2019"
   ]
  },
  {
   "cell_type": "code",
   "execution_count": null,
   "metadata": {},
   "outputs": [],
   "source": []
  }
 ],
 "metadata": {
  "kernelspec": {
   "display_name": "ee",
   "language": "python",
   "name": "ee"
  },
  "language_info": {
   "codemirror_mode": {
    "name": "ipython",
    "version": 3
   },
   "file_extension": ".py",
   "mimetype": "text/x-python",
   "name": "python",
   "nbconvert_exporter": "python",
   "pygments_lexer": "ipython3",
   "version": "3.8.17"
  },
  "orig_nbformat": 4
 },
 "nbformat": 4,
 "nbformat_minor": 2
}
