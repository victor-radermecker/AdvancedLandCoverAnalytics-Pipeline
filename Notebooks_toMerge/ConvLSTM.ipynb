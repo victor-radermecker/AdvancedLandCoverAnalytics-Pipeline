{
  "nbformat": 4,
  "nbformat_minor": 0,
  "metadata": {
    "colab": {
      "provenance": [],
      "authorship_tag": "ABX9TyMo0+G2okz8d8NJtWFqHU74",
      "include_colab_link": true
    },
    "kernelspec": {
      "name": "python3",
      "display_name": "Python 3"
    },
    "language_info": {
      "name": "python"
    }
  },
  "cells": [
    {
      "cell_type": "markdown",
      "metadata": {
        "id": "view-in-github",
        "colab_type": "text"
      },
      "source": [
        "<a href=\"https://colab.research.google.com/github/victor-radermecker/Capstone_JPMorgan/blob/conv-lstm/Notebooks_toMerge/ConvLSTM.ipynb\" target=\"_parent\"><img src=\"https://colab.research.google.com/assets/colab-badge.svg\" alt=\"Open In Colab\"/></a>"
      ]
    },
    {
      "cell_type": "markdown",
      "source": [
        "# ConvLSTM Training on Dynamic World Dataset\n",
        "\n",
        "`Author`: Andrea Zanon, Victor Radermecker\n",
        "\n",
        "`Date`: July, 31st, 2023"
      ],
      "metadata": {
        "id": "H5BxuSIhhPBj"
      }
    },
    {
      "cell_type": "markdown",
      "source": [
        "# Package Imports"
      ],
      "metadata": {
        "id": "sVhVlN_WScLH"
      }
    },
    {
      "cell_type": "code",
      "source": [
        "from google.colab import drive\n",
        "drive.mount('/content/drive', force_remount = True)"
      ],
      "metadata": {
        "colab": {
          "base_uri": "https://localhost:8080/"
        },
        "id": "kCUtsE8XWGtY",
        "outputId": "6860de9b-5dcd-4f53-b44c-8a6428b866d9"
      },
      "execution_count": 1,
      "outputs": [
        {
          "output_type": "stream",
          "name": "stdout",
          "text": [
            "Mounted at /content/drive\n"
          ]
        }
      ]
    },
    {
      "cell_type": "code",
      "execution_count": 2,
      "metadata": {
        "id": "d2oe32zbzJ11"
      },
      "outputs": [],
      "source": [
        "# Import packages\n",
        "import sys\n",
        "import pandas as pd\n",
        "import seaborn as sns\n",
        "from tqdm import tqdm\n",
        "import numpy as np\n",
        "import matplotlib.pyplot as plt\n",
        "import seaborn as sns\n",
        "import matplotlib.pyplot as plt\n",
        "import warnings\n",
        "import datetime\n",
        "import tensorflow as tf\n",
        "from tensorflow import keras\n",
        "from tensorflow.keras import layers\n",
        "import xgboost as xgb\n",
        "from sklearn.model_selection import train_test_split\n",
        "from sklearn.metrics import accuracy_score, confusion_matrix, classification_report\n",
        "\n",
        "# Set preferences\n",
        "tf.random.set_seed(42)\n",
        "sns.set_style('darkgrid')\n",
        "warnings.filterwarnings('ignore')\n",
        "\n",
        "# update local libraries automatically\n",
        "%load_ext autoreload\n",
        "%autoreload 2\n",
        "\n",
        "sys.path.append('/content/drive/MyDrive/Code/')\n",
        "import SequenceDataLoader\n",
        "from get_data_loader import get_data_loader\n",
        "\n",
        "sys.path.append('/content/drive/MyDrive/Google Earth Exports/')"
      ]
    },
    {
      "cell_type": "markdown",
      "metadata": {
        "id": "YCtFmzO8zJ15"
      },
      "source": [
        "# Predicting Urbanization *Rate* Using Convolutional LSTMs\n",
        "\n",
        "`Author:` Andrea Zanon, Victor Radermecker\n",
        "\n",
        "`Date:` Tuesday, July 18th\n",
        "\n",
        "In this Jupyter Notebook, we predict urbanization rate using a Convolution Long Short Term Memory model. The training data consists of Dynamic World labels, extracted using the Fishnet Class.\n",
        "\n",
        "_Data Loading_:\n",
        "\n",
        "A CSV of the following structure should be loaded to run the following model. This dataframe can be obtained using the `DataPreprocessing.ipynb` file from the package. Each .CSV dataset comes with a metadata .txt file, that contains useful information such as the number of rows and columns in the fishnet. These values are necessary to run this Notebook. The second cell below prints the information contains in the metadata file."
      ]
    },
    {
      "cell_type": "markdown",
      "metadata": {
        "id": "11kLd4auzJ17"
      },
      "source": [
        "<table>\n",
        "  <thead>\n",
        "    <tr>\n",
        "      <th>idx</th>\n",
        "      <th>tile_id</th>\n",
        "      <th>batch_id</th>\n",
        "      <th>year</th>\n",
        "      <th>urbanization_rate</th>\n",
        "      <th>urbanization</th>\n",
        "      <th>Lat</th>\n",
        "      <th>Lon</th>\n",
        "    </tr>\n",
        "  </thead>\n",
        "  <tbody>\n",
        "    <tr>\n",
        "      <td>0</td>\n",
        "      <td>6060154</td>\n",
        "      <td>23743</td>\n",
        "      <td>2017</td>\n",
        "      <td>0.063333</td>\n",
        "      <td>0.710556</td>\n",
        "      <td>29.793894</td>\n",
        "      <td>-95.801855</td>\n",
        "    </tr>\n",
        "    <tr>\n",
        "      <td>1</td>\n",
        "      <td>6060154</td>\n",
        "      <td>23743</td>\n",
        "      <td>2018</td>\n",
        "      <td>0.097778</td>\n",
        "      <td>0.773889</td>\n",
        "      <td>29.793894</td>\n",
        "      <td>-95.801855</td>\n",
        "    </tr>\n",
        "    <tr>\n",
        "      <td>2</td>\n",
        "      <td>6060154</td>\n",
        "      <td>23743</td>\n",
        "      <td>2019</td>\n",
        "      <td>-0.010556</td>\n",
        "      <td>0.871667</td>\n",
        "      <td>29.793894</td>\n",
        "      <td>-95.801855</td>\n",
        "    </tr>\n",
        "    <tr>\n",
        "      <td>3</td>\n",
        "      <td>6060154</td>\n",
        "      <td>23743</td>\n",
        "      <td>2020</td>\n",
        "      <td>0.025000</td>\n",
        "      <td>0.861111</td>\n",
        "      <td>29.793894</td>\n",
        "      <td>-95.801855</td>\n",
        "    </tr>\n",
        "    <tr>\n",
        "      <td>4</td>\n",
        "      <td>6060154</td>\n",
        "      <td>23743</td>\n",
        "      <td>2021</td>\n",
        "      <td>0.027778</td>\n",
        "      <td>0.886111</td>\n",
        "      <td>29.793894</td>\n",
        "      <td>-95.801855</td>\n",
        "    </tr>\n",
        "  </tbody>\n",
        "</table>\n"
      ]
    },
    {
      "cell_type": "code",
      "source": [
        "TRAIN_PATH = '/content/drive/MyDrive/Code/Datasets/Train/urbanization_train.csv'\n",
        "VAL_PATH = '/content/drive/MyDrive/Code/Datasets/Valid/urbanization_valid.csv'\n",
        "TEST_PATH = '/content/drive/MyDrive/Code/Datasets/Test/urbanization_test.csv'"
      ],
      "metadata": {
        "id": "21smnIuLbStf"
      },
      "execution_count": 3,
      "outputs": []
    },
    {
      "cell_type": "code",
      "source": [
        "# train data, Texas region\n",
        "train_data = pd.read_csv(TRAIN_PATH)\n",
        "\n",
        "# validation data, Georgia region\n",
        "val_data = pd.read_csv(VAL_PATH)\n",
        "\n",
        "# test data, Ohio region\n",
        "test_data = pd.read_csv(TEST_PATH)"
      ],
      "metadata": {
        "id": "aikUYfR1hZAQ"
      },
      "execution_count": 4,
      "outputs": []
    },
    {
      "cell_type": "markdown",
      "source": [
        "# Filtering"
      ],
      "metadata": {
        "id": "7ZIDKLEumdQ2"
      }
    },
    {
      "cell_type": "code",
      "source": [
        "def filter_data(data, threshold = 0):\n",
        "\n",
        "  mean_urbanization_by_tile = data.groupby('tile_id')['urbanization'].mean()\n",
        "  mask = data['tile_id'].map(mean_urbanization_by_tile) > threshold\n",
        "\n",
        "  return data[mask], data[~mask]"
      ],
      "metadata": {
        "id": "iGFOzJ98slhU"
      },
      "execution_count": 6,
      "outputs": []
    },
    {
      "cell_type": "code",
      "source": [
        "# train\n",
        "train_data_f, train_data_s = filter_data(train_data)\n",
        "\n",
        "# validation\n",
        "val_data_f, val_data_s = filter_data(val_data)\n",
        "\n",
        "# test\n",
        "test_data_f, test_data_s = filter_data(test_data)"
      ],
      "metadata": {
        "id": "ZBf6HkRVtFZ8"
      },
      "execution_count": 8,
      "outputs": []
    },
    {
      "cell_type": "markdown",
      "source": [
        "# Generate the data loader"
      ],
      "metadata": {
        "id": "cyHNgT1M2Mkr"
      }
    },
    {
      "cell_type": "markdown",
      "source": [
        "Only five filtered data as input (train_data_f, val_data_f, test_data_f)"
      ],
      "metadata": {
        "id": "qcSHpRWEtnUU"
      }
    },
    {
      "cell_type": "code",
      "source": [
        "IMG_DIR_TRAIN = '/content/drive/MyDrive/Google Earth Exports/Train/'\n",
        "IMG_DIR_VALID = '/content/drive/MyDrive/Google Earth Exports/Valid/'\n",
        "IMG_DIR_TEST = '/content/drive/MyDrive/Google Earth Exports/Test/'\n",
        "\n",
        "IMG_SIZE = (40, 44)\n",
        "BATCH_SIZE = 128\n",
        "N_CHANNELS = 1\n",
        "LABELS = [2016, 2017, 2018, 2019, 2020, 2021]"
      ],
      "metadata": {
        "id": "cEGG171T2JrB"
      },
      "execution_count": 11,
      "outputs": []
    },
    {
      "cell_type": "code",
      "source": [
        "def generate_tab_data(data):\n",
        "\n",
        "  data_wide = data.pivot_table(index='tile_id', columns='year', values='urbanization', aggfunc='first')\n",
        "  data_wide = data_wide.merge(right=data[['tile_id', 'Lat', 'Lon']], on='tile_id')\n",
        "  data_wide.drop_duplicates(inplace = True, ignore_index = True)\n",
        "  tab_data = data_wide.drop(columns = [\"tile_id\", 2022]).to_dict(orient='index')\n",
        "\n",
        "  return tab_data\n"
      ],
      "metadata": {
        "id": "7mHHj2mWtY5s"
      },
      "execution_count": 10,
      "outputs": []
    },
    {
      "cell_type": "markdown",
      "source": [
        "## `Training`"
      ],
      "metadata": {
        "id": "o6wRMWCZQg6L"
      }
    },
    {
      "cell_type": "code",
      "source": [
        "train_tab_data = generate_tab_data(train_data)\n",
        "train_data_loader = get_data_loader(train_data_f, IMG_DIR_TRAIN, IMG_SIZE, BATCH_SIZE, LABELS, N_CHANNELS, SHUFFLE = False) # keep order"
      ],
      "metadata": {
        "id": "kp_XEeZJQj7m"
      },
      "execution_count": null,
      "outputs": []
    },
    {
      "cell_type": "markdown",
      "source": [
        "## `Validation`"
      ],
      "metadata": {
        "id": "mouiJvzYQl6a"
      }
    },
    {
      "cell_type": "code",
      "source": [
        "val_tab_data = generate_tab_data(val_data)\n",
        "val_data_loader = get_data_loader(val_data_f, IMG_DIR_VALID, IMG_SIZE, BATCH_SIZE, LABELS, N_CHANNELS, SHUFFLE = False)"
      ],
      "metadata": {
        "id": "6o9jJdkFhYT9",
        "colab": {
          "base_uri": "https://localhost:8080/"
        },
        "outputId": "faad8abc-f60c-47b3-ad9a-7f53bb227afc"
      },
      "execution_count": 14,
      "outputs": [
        {
          "output_type": "stream",
          "name": "stderr",
          "text": [
            "100%|██████████| 180984/180984 [00:17<00:00, 10461.04it/s]\n",
            "100%|██████████| 180984/180984 [00:12<00:00, 14246.81it/s]\n",
            "100%|██████████| 180984/180984 [00:16<00:00, 10666.58it/s]\n"
          ]
        },
        {
          "output_type": "stream",
          "name": "stdout",
          "text": [
            "Success. Completed creating batches.\n"
          ]
        }
      ]
    },
    {
      "cell_type": "markdown",
      "source": [
        "## `Test`"
      ],
      "metadata": {
        "id": "WqIQz8YkRobd"
      }
    },
    {
      "cell_type": "code",
      "source": [
        "test_tab_data = generate_tab_data(test_data)\n",
        "test_data_loader = get_data_loader(test_data_f, IMG_DIR_TEST, IMG_SIZE, BATCH_SIZE, LABELS, N_CHANNELS, SHUFFLE = False)"
      ],
      "metadata": {
        "id": "mXONOBThhdzB",
        "colab": {
          "base_uri": "https://localhost:8080/"
        },
        "outputId": "7c692e73-cff9-4743-f684-7a219c337279"
      },
      "execution_count": 15,
      "outputs": [
        {
          "output_type": "stream",
          "name": "stderr",
          "text": [
            "100%|██████████| 159133/159133 [00:08<00:00, 18725.04it/s]\n",
            "100%|██████████| 159133/159133 [00:10<00:00, 14708.69it/s]\n",
            "100%|██████████| 159133/159133 [00:08<00:00, 17834.24it/s]\n"
          ]
        },
        {
          "output_type": "stream",
          "name": "stdout",
          "text": [
            "Success. Completed creating batches.\n"
          ]
        }
      ]
    },
    {
      "cell_type": "markdown",
      "source": [
        "# Visualize the dataset"
      ],
      "metadata": {
        "id": "ZkfRZpYvRvap"
      }
    },
    {
      "cell_type": "code",
      "source": [
        "X, y = test_data_loader[-1]\n",
        "print(X[0].shape)\n",
        "print(X[1].shape)\n",
        "print(y.shape)"
      ],
      "metadata": {
        "colab": {
          "base_uri": "https://localhost:8080/"
        },
        "id": "0okhbEkiRwY4",
        "outputId": "2313c877-97cf-4ab6-af2f-9a39f49be0ba"
      },
      "execution_count": 16,
      "outputs": [
        {
          "output_type": "stream",
          "name": "stdout",
          "text": [
            "(6, 40, 44, 1)\n",
            "(6, 40, 44, 1)\n",
            "(29,)\n"
          ]
        }
      ]
    },
    {
      "cell_type": "code",
      "source": [
        "idx = np.random.randint(0, X.shape[0])\n",
        "fig, axs = plt.subplots(1, len(LABELS), figsize=(20, 3))\n",
        "fig.suptitle('Sample ' + str(idx) + f\" - Target Urbanization in 2022: {y[idx]}\", fontsize=16)\n",
        "\n",
        "for i in range(len(LABELS)):\n",
        "    axs[i].imshow(X[idx, i, :, :, :], cmap='gray')\n",
        "    axs[i].set_title(LABELS[i])\n",
        "    axs[i].axis('off')\n",
        "plt.show()"
      ],
      "metadata": {
        "id": "5K560oOH6N2M",
        "outputId": "ffb42d93-84e8-4fed-a739-0dcc4f17361d",
        "colab": {
          "base_uri": "https://localhost:8080/",
          "height": 283
        }
      },
      "execution_count": 27,
      "outputs": [
        {
          "output_type": "display_data",
          "data": {
            "text/plain": [
              "<Figure size 2000x300 with 6 Axes>"
            ],
            "image/png": "[encoded data removed]"
          },
          "metadata": {}
        }
      ]
    }
  ]
}